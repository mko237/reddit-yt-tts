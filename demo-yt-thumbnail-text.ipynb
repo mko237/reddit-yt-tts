{
 "cells": [
  {
   "cell_type": "code",
   "execution_count": 5,
   "id": "5dcf7d53-a277-4276-a49e-e9c00dc7bcdc",
   "metadata": {},
   "outputs": [],
   "source": [
    "#!python3 -m spacy download en_core_web_sm"
   ]
  },
  {
   "cell_type": "code",
   "execution_count": 154,
   "id": "15d84505-dd3d-407e-976d-27ae505708bb",
   "metadata": {},
   "outputs": [],
   "source": [
    "reddit_txt = \"Men of Reddit, what are some less obvious red flags about men you would want to caution women against?\""
   ]
  },
  {
   "cell_type": "code",
   "execution_count": 11,
   "id": "7c94e41c-eece-41bd-aa63-6b9f79f54fd5",
   "metadata": {},
   "outputs": [
    {
     "name": "stdout",
     "output_type": "stream",
     "text": [
      "Men NOUN\n",
      "of ADP\n",
      "Reddit PROPN\n",
      ", PUNCT\n",
      "what PRON\n",
      "are AUX\n",
      "some DET\n",
      "less ADV\n",
      "obvious ADJ\n",
      "red ADJ\n",
      "flags NOUN\n",
      "about ADP\n",
      "men NOUN\n",
      "you PRON\n",
      "would AUX\n",
      "want VERB\n",
      "to PART\n",
      "caution VERB\n",
      "women NOUN\n",
      "against ADP\n",
      "? PUNCT\n"
     ]
    }
   ],
   "source": [
    "import spacy\n",
    "\n",
    "nlp = spacy.load(\"en_core_web_sm\")\n",
    "doc = nlp(\"Men of Reddit , what are some less obvious red flags about men you would want to caution women against?\")\n",
    "\n",
    "for token in doc:\n",
    "    #print(token.text, token.lemma_, token.pos_, token.tag_, token.dep_,\n",
    "    #        token.shape_, token.is_alpha, token.is_stop)\n",
    "    print(token.text,token.pos_)"
   ]
  },
  {
   "cell_type": "code",
   "execution_count": 9,
   "id": "5355f873-8553-4873-bf45-34d2aa513e00",
   "metadata": {},
   "outputs": [],
   "source": [
    "# https://github.com/clear-code-projects/Pillow/blob/main/pillow8_shapes.py\n",
    "# https://www.youtube.com/watch?v=5QR-dG68eNE&t=7786s\n",
    "\n",
    "from PIL import Image, ImageDraw, ImageFont\n",
    "from image_utils import ImageText\n",
    "\n",
    "# image import\n",
    "#image = Image.open('picture.jpg')\n",
    "#draw = ImageDraw.Draw(image) # creates a draw object \n",
    "yt_thumbnail_res = (1280,720) #https://support.google.com/youtube/answer/72431?hl=en\n",
    "image = Image.new('RGB', yt_thumbnail_res)\n",
    "draw = ImageDraw.Draw(image) \n",
    "# # draw shapes \n",
    "# draw.rectangle((200,400,700,600), fill = (255,0,0), outline = 'yellow', width = 5)\n",
    "# draw.ellipse((200,400,700,600), fill = (255,0,255), outline = 'purple', width = 5)\n",
    "# draw.polygon(((0,0),(100,0),(100,100),(50,200)),fill = 'blue',outline = 'pink')\n",
    "# draw.line(((800,1000),(1000,1100),(1200,1000)),fill = 'black', width = 10, joint = 'curve')\n",
    "\n",
    "# # draw circle thingies\n",
    "# # draw.arc((800,100,1000,300),start = 10, end = 40, width = 10, fill = 'red')\n",
    "# # draw.chord((800,100,1000,300),start = 10, end = 180, width = 10, fill = 'red')\n",
    "#draw.pieslice((800,100,1000,300),start = 10, end = 180, width = 10, fill = 'red')\n",
    "\n",
    "# draw text \n",
    "font = ImageFont.truetype('assets/Halogen.ttf', size = 80)\n",
    "draw.text((1300,300),reddit_txt, font = font, fill = (0,255,255), align = 'center', anchor = 'rt')\n",
    "\n",
    "\n",
    "image.save('assets/18.png')"
   ]
  },
  {
   "cell_type": "code",
   "execution_count": 10,
   "id": "63abe7d0-fa28-4066-befb-245d27b62228",
   "metadata": {},
   "outputs": [
    {
     "data": {
      "text/plain": [
       "\u001b[0;31mSignature:\u001b[0m\n",
       "\u001b[0mdraw\u001b[0m\u001b[0;34m.\u001b[0m\u001b[0mtext\u001b[0m\u001b[0;34m(\u001b[0m\u001b[0;34m\u001b[0m\n",
       "\u001b[0;34m\u001b[0m    \u001b[0mxy\u001b[0m\u001b[0;34m,\u001b[0m\u001b[0;34m\u001b[0m\n",
       "\u001b[0;34m\u001b[0m    \u001b[0mtext\u001b[0m\u001b[0;34m,\u001b[0m\u001b[0;34m\u001b[0m\n",
       "\u001b[0;34m\u001b[0m    \u001b[0mfill\u001b[0m\u001b[0;34m=\u001b[0m\u001b[0;32mNone\u001b[0m\u001b[0;34m,\u001b[0m\u001b[0;34m\u001b[0m\n",
       "\u001b[0;34m\u001b[0m    \u001b[0mfont\u001b[0m\u001b[0;34m=\u001b[0m\u001b[0;32mNone\u001b[0m\u001b[0;34m,\u001b[0m\u001b[0;34m\u001b[0m\n",
       "\u001b[0;34m\u001b[0m    \u001b[0manchor\u001b[0m\u001b[0;34m=\u001b[0m\u001b[0;32mNone\u001b[0m\u001b[0;34m,\u001b[0m\u001b[0;34m\u001b[0m\n",
       "\u001b[0;34m\u001b[0m    \u001b[0mspacing\u001b[0m\u001b[0;34m=\u001b[0m\u001b[0;36m4\u001b[0m\u001b[0;34m,\u001b[0m\u001b[0;34m\u001b[0m\n",
       "\u001b[0;34m\u001b[0m    \u001b[0malign\u001b[0m\u001b[0;34m=\u001b[0m\u001b[0;34m'left'\u001b[0m\u001b[0;34m,\u001b[0m\u001b[0;34m\u001b[0m\n",
       "\u001b[0;34m\u001b[0m    \u001b[0mdirection\u001b[0m\u001b[0;34m=\u001b[0m\u001b[0;32mNone\u001b[0m\u001b[0;34m,\u001b[0m\u001b[0;34m\u001b[0m\n",
       "\u001b[0;34m\u001b[0m    \u001b[0mfeatures\u001b[0m\u001b[0;34m=\u001b[0m\u001b[0;32mNone\u001b[0m\u001b[0;34m,\u001b[0m\u001b[0;34m\u001b[0m\n",
       "\u001b[0;34m\u001b[0m    \u001b[0mlanguage\u001b[0m\u001b[0;34m=\u001b[0m\u001b[0;32mNone\u001b[0m\u001b[0;34m,\u001b[0m\u001b[0;34m\u001b[0m\n",
       "\u001b[0;34m\u001b[0m    \u001b[0mstroke_width\u001b[0m\u001b[0;34m=\u001b[0m\u001b[0;36m0\u001b[0m\u001b[0;34m,\u001b[0m\u001b[0;34m\u001b[0m\n",
       "\u001b[0;34m\u001b[0m    \u001b[0mstroke_fill\u001b[0m\u001b[0;34m=\u001b[0m\u001b[0;32mNone\u001b[0m\u001b[0;34m,\u001b[0m\u001b[0;34m\u001b[0m\n",
       "\u001b[0;34m\u001b[0m    \u001b[0membedded_color\u001b[0m\u001b[0;34m=\u001b[0m\u001b[0;32mFalse\u001b[0m\u001b[0;34m,\u001b[0m\u001b[0;34m\u001b[0m\n",
       "\u001b[0;34m\u001b[0m    \u001b[0;34m*\u001b[0m\u001b[0margs\u001b[0m\u001b[0;34m,\u001b[0m\u001b[0;34m\u001b[0m\n",
       "\u001b[0;34m\u001b[0m    \u001b[0;34m**\u001b[0m\u001b[0mkwargs\u001b[0m\u001b[0;34m,\u001b[0m\u001b[0;34m\u001b[0m\n",
       "\u001b[0;34m\u001b[0m\u001b[0;34m)\u001b[0m\u001b[0;34m\u001b[0m\u001b[0;34m\u001b[0m\u001b[0m\n",
       "\u001b[0;31mDocstring:\u001b[0m <no docstring>\n",
       "\u001b[0;31mFile:\u001b[0m      ~/.local/share/virtualenvs/reddit-yt-tts-Dm6P-A76/lib/python3.8/site-packages/PIL/ImageDraw.py\n",
       "\u001b[0;31mType:\u001b[0m      method\n"
      ]
     },
     "metadata": {},
     "output_type": "display_data"
    }
   ],
   "source": [
    "draw.text?"
   ]
  },
  {
   "cell_type": "code",
   "execution_count": 14,
   "id": "ded416e9-d8e5-49f4-9236-93b48dc0f5c4",
   "metadata": {},
   "outputs": [
    {
     "name": "stdout",
     "output_type": "stream",
     "text": [
      "assets/Halogen.ttf 15\n",
      "assets/Halogen.ttf 15\n",
      "assets/Halogen.ttf 15\n",
      "assets/Halogen.ttf 15\n",
      "assets/Halogen.ttf 15\n",
      "assets/Halogen.ttf 15\n",
      "assets/Halogen.ttf 15\n",
      "assets/Halogen.ttf 15\n",
      "assets/Halogen.ttf 15\n",
      "assets/Halogen.ttf 15\n",
      "assets/Halogen.ttf 15\n",
      "assets/Halogen.ttf 15\n",
      "assets/Halogen.ttf 15\n",
      "assets/Halogen.ttf 15\n",
      "assets/Halogen.ttf 15\n",
      "assets/Halogen.ttf 15\n",
      "assets/Halogen.ttf 15\n",
      "assets/Halogen.ttf 15\n",
      "assets/Halogen.ttf 15\n",
      "assets/Halogen.ttf 15\n",
      "assets/Halogen.ttf 15\n",
      "assets/Halogen.ttf 15\n",
      "assets/Halogen.ttf 15\n",
      "assets/Halogen.ttf 15\n"
     ]
    }
   ],
   "source": [
    "#!/usr/bin/env python\n",
    "# coding: utf-8\n",
    "\n",
    "# You need PIL <http://www.pythonware.com/products/pil/> to run this script\n",
    "# Download unifont.ttf from <http://unifoundry.com/unifont.html> (or use\n",
    "# any TTF you have)\n",
    "# Copyright 2011 Álvaro Justen [alvarojusten at gmail dot com]\n",
    "# License: GPL <http://www.gnu.org/copyleft/gpl.html>\n",
    "\n",
    "from image_utils import ImageText\n",
    "\n",
    "color = (50, 50, 50)\n",
    "text = 'Python is a cool programming language. You should learn it!'\n",
    "text = reddit_txt\n",
    "font = 'assets/Halogen.ttf'\n",
    "img = ImageText((800, 600), background=(255, 255, 255, 200)) # 200 = alpha\n",
    "\n",
    "#write_text_box will split the text in many lines, based on box_width\n",
    "#`place` can be 'left' (default), 'right', 'center' or 'justify'\n",
    "#write_text_box will return (box_width, box_calculed_height) so you can\n",
    "#know the size of the wrote text\n",
    "img.write_text_box(300, 50, text, box_width=200, font_filename=font,\n",
    "                   font_size=15, color=color)\n",
    "#img.write_text_box(300, 125, text, box_width=200, font_filename=font,\n",
    "#                   font_size=15, color=color, place='right')\n",
    "#img.write_text_box(300, 200, text, box_width=200, font_filename=font,\n",
    "#                   font_size=15, color=color, place='center')\n",
    "#img.write_text_box(300, 275, text, box_width=200, font_filename=font,\n",
    "#                   font_size=15, color=color, place='justify')\n",
    "\n",
    "#You don't need to specify text size: can specify max_width or max_height\n",
    "# and tell write_text to fill the text in this space, so it'll compute font\n",
    "# size automatically\n",
    "#write_text will return (width, height) of the wrote text\n",
    "#img.write_text(100, 350, 'test fill', font_filename=font,\n",
    "#               font_size='fill', max_height=150, color=color)\n",
    "\n",
    "img.save('assets/sample-imagetext.png')"
   ]
  },
  {
   "cell_type": "code",
   "execution_count": 15,
   "id": "70e3cea0-89ae-4f44-9acb-9c0f2be2f285",
   "metadata": {},
   "outputs": [],
   "source": [
    "img.image.show()"
   ]
  },
  {
   "cell_type": "code",
   "execution_count": 3,
   "id": "95d22078-16a0-4196-b9c7-76016e78bb5e",
   "metadata": {},
   "outputs": [],
   "source": [
    "from PIL import ImageFont"
   ]
  },
  {
   "cell_type": "code",
   "execution_count": 5,
   "id": "5bf1edf3-579e-47a1-a05f-c9b1dc97551a",
   "metadata": {},
   "outputs": [
    {
     "data": {
      "text/plain": [
       "<PIL.ImageFont.FreeTypeFont at 0x7f957481a3a0>"
      ]
     },
     "execution_count": 5,
     "metadata": {},
     "output_type": "execute_result"
    }
   ],
   "source": [
    "ImageFont.truetype(\"assets/Halogen.ttf\")"
   ]
  },
  {
   "cell_type": "code",
   "execution_count": 3,
   "id": "57d745f4-790a-4bf4-bb22-1903edd36c9e",
   "metadata": {},
   "outputs": [
    {
     "data": {
      "text/plain": [
       "\u001b[0;31mSignature:\u001b[0m\n",
       "\u001b[0mimg\u001b[0m\u001b[0;34m.\u001b[0m\u001b[0mwrite_text_box\u001b[0m\u001b[0;34m(\u001b[0m\u001b[0;34m\u001b[0m\n",
       "\u001b[0;34m\u001b[0m    \u001b[0mx\u001b[0m\u001b[0;34m,\u001b[0m\u001b[0;34m\u001b[0m\n",
       "\u001b[0;34m\u001b[0m    \u001b[0my\u001b[0m\u001b[0;34m,\u001b[0m\u001b[0;34m\u001b[0m\n",
       "\u001b[0;34m\u001b[0m    \u001b[0mtext\u001b[0m\u001b[0;34m,\u001b[0m\u001b[0;34m\u001b[0m\n",
       "\u001b[0;34m\u001b[0m    \u001b[0mbox_width\u001b[0m\u001b[0;34m,\u001b[0m\u001b[0;34m\u001b[0m\n",
       "\u001b[0;34m\u001b[0m    \u001b[0mfont_filename\u001b[0m\u001b[0;34m,\u001b[0m\u001b[0;34m\u001b[0m\n",
       "\u001b[0;34m\u001b[0m    \u001b[0mfont_size\u001b[0m\u001b[0;34m=\u001b[0m\u001b[0;36m11\u001b[0m\u001b[0;34m,\u001b[0m\u001b[0;34m\u001b[0m\n",
       "\u001b[0;34m\u001b[0m    \u001b[0mcolor\u001b[0m\u001b[0;34m=\u001b[0m\u001b[0;34m(\u001b[0m\u001b[0;36m0\u001b[0m\u001b[0;34m,\u001b[0m \u001b[0;36m0\u001b[0m\u001b[0;34m,\u001b[0m \u001b[0;36m0\u001b[0m\u001b[0;34m)\u001b[0m\u001b[0;34m,\u001b[0m\u001b[0;34m\u001b[0m\n",
       "\u001b[0;34m\u001b[0m    \u001b[0mplace\u001b[0m\u001b[0;34m=\u001b[0m\u001b[0;34m'left'\u001b[0m\u001b[0;34m,\u001b[0m\u001b[0;34m\u001b[0m\n",
       "\u001b[0;34m\u001b[0m    \u001b[0mjustify_last_line\u001b[0m\u001b[0;34m=\u001b[0m\u001b[0;32mFalse\u001b[0m\u001b[0;34m,\u001b[0m\u001b[0;34m\u001b[0m\n",
       "\u001b[0;34m\u001b[0m\u001b[0;34m)\u001b[0m\u001b[0;34m\u001b[0m\u001b[0;34m\u001b[0m\u001b[0m\n",
       "\u001b[0;31mDocstring:\u001b[0m <no docstring>\n",
       "\u001b[0;31mFile:\u001b[0m      ~/Documents/reddit-yt-tts/image_utils.py\n",
       "\u001b[0;31mType:\u001b[0m      method\n"
      ]
     },
     "metadata": {},
     "output_type": "display_data"
    }
   ],
   "source": [
    "img.write_text_box("
   ]
  },
  {
   "cell_type": "code",
   "execution_count": 11,
   "id": "e5146ce1-06df-4761-a589-4e087bfb8aee",
   "metadata": {},
   "outputs": [
    {
     "name": "stdout",
     "output_type": "stream",
     "text": [
      "Help on method text in module PIL.ImageDraw:\n",
      "\n",
      "text(xy, text, fill=None, font=None, anchor=None, spacing=4, align='left', direction=None, features=None, language=None, stroke_width=0, stroke_fill=None, embedded_color=False, *args, **kwargs) method of PIL.ImageDraw.ImageDraw instance\n",
      "\n"
     ]
    }
   ],
   "source": [
    "hel"
   ]
  },
  {
   "cell_type": "code",
   "execution_count": 215,
   "id": "4b9ee230-ab5c-4ef2-8579-71b9d2cbb599",
   "metadata": {},
   "outputs": [
    {
     "data": {
      "text/plain": [
       "(1275, 156.0)"
      ]
     },
     "execution_count": 215,
     "metadata": {},
     "output_type": "execute_result"
    }
   ],
   "source": [
    "# MAIN CELL (RUN THIS)\n",
    "from PIL import Image, ImageDraw, ImageFont\n",
    "from image_utils import ImageText\n",
    "\n",
    "# image import\n",
    "#image = Image.open('picture.jpg')\n",
    "#draw = ImageDraw.Draw(image) # creates a draw object \n",
    "yt_thumbnail_res = (1280,720) #https://support.google.com/youtube/answer/72431?hl=en\n",
    "image = Image.new('RGB', yt_thumbnail_res)\n",
    "draw = ImageDraw.Draw(image) \n",
    "\n",
    "# draw boarder\n",
    "draw.rectangle((200,400,700,700), fill = (255,0,0), outline = 'yellow', width = 5)\n",
    "\n",
    "reddit_txt = \"What is the stupidest thing a large amount of people believe in?\"\n",
    "\n",
    "# draw text \n",
    "color = (255, 255, 255)\n",
    "yt_thumbnail_res = (1280,720) #https://support.google.com/youtube/answer/72431?hl=en\n",
    "text = reddit_txt\n",
    "font = 'assets/Halogen.ttf'\n",
    "fnt_size = 80 # may need to update this depending on title length\n",
    "w_pad= 5\n",
    "img = ImageText(yt_thumbnail_res, background=(0, 0, 0, 255))\n",
    "img.draw.rectangle((0,0,1280,720),fill= (0,0,0), outline = 'white', width = 18)\n",
    "# img.write_text(50, 50, \"(/r/AskReddit)\", font_filename=font,\n",
    "#               font_size='fill', max_height=60, color=color)\n",
    "\n",
    "sub_text_size = img.write_text_box(0, 0,\"(/r/AskReddit)\", box_width=yt_thumbnail_res[0]-w_pad, font_filename=font,\n",
    "                   font_size=int(fnt_size*1.1), color=color, place='center',justify_last_line=True)\n",
    "               \n",
    "\n",
    "main_text_size = img.write_text_box(0, 182, text, box_width=yt_thumbnail_res[0]-w_pad, font_filename=font,\n",
    "                   font_size=fnt_size, color=color, place='center',justify_last_line=True)\n",
    "main_text_y_pos = (yt_thumbnail_res[-1]/2) - main_text_size[-1]/2\n",
    "sub_text_y_pos = main_text_y_pos - (w_pad*30)\n",
    "\n",
    "#recreating image with text centered\n",
    "img = ImageText(yt_thumbnail_res, background=(0, 0, 0, 255))\n",
    "img.draw.rectangle((0,0,1280,720),fill= (0,0,0), outline = 'white', width = 18)\n",
    "# img.write_text(50, 50, \"(/r/AskReddit)\", font_filename=font,\n",
    "#               font_size='fill', max_height=60, color=color)\n",
    "\n",
    "\n",
    "img.write_text_box(0, sub_text_y_pos,\"(r/AskReddit)\", box_width=yt_thumbnail_res[0]-w_pad, font_filename=font,\n",
    "                   font_size=int(fnt_size*1.1), color=color, place='center',justify_last_line=True)\n",
    "\n",
    "img.write_text_box(0, main_text_y_pos, text, box_width=yt_thumbnail_res[0]-w_pad, font_filename=font,\n",
    "                   font_size=fnt_size, color=color, place='center',justify_last_line=True)\n",
    "image.save('assets/thumbnails18.png')\n"
   ]
  },
  {
   "cell_type": "code",
   "execution_count": 216,
   "id": "48f9bdc3-c6b4-4203-ab4f-0712c79e5731",
   "metadata": {},
   "outputs": [],
   "source": [
    "img.image.show()"
   ]
  },
  {
   "cell_type": "code",
   "execution_count": null,
   "id": "9bd5db7a-ffb8-4a10-b792-76070b06712d",
   "metadata": {},
   "outputs": [],
   "source": []
  }
 ],
 "metadata": {
  "kernelspec": {
   "display_name": "Python 3 (ipykernel)",
   "language": "python",
   "name": "python3"
  },
  "language_info": {
   "codemirror_mode": {
    "name": "ipython",
    "version": 3
   },
   "file_extension": ".py",
   "mimetype": "text/x-python",
   "name": "python",
   "nbconvert_exporter": "python",
   "pygments_lexer": "ipython3",
   "version": "3.8.10"
  }
 },
 "nbformat": 4,
 "nbformat_minor": 5
}
