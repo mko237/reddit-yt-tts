{
 "cells": [
  {
   "cell_type": "code",
   "execution_count": 1,
   "id": "57d3cb5b-03d0-427b-86f9-a44296fed5b2",
   "metadata": {},
   "outputs": [
    {
     "name": "stdout",
     "output_type": "stream",
     "text": [
      "\u001b[32m\u001b[1mInstalling praw...\u001b[0m\n",
      "\u001b[K\u001b[1mAdding\u001b[0m \u001b[32m\u001b[1mpraw\u001b[0m \u001b[1mto Pipfile's\u001b[0m \u001b[33m\u001b[1m[packages]\u001b[0m\u001b[1m...\u001b[0m\n",
      "\u001b[K\u001b[?25h✔ Installation Succeeded\u001b[0m \n",
      "\u001b[33m\u001b[1mPipfile.lock (cda3a9) out of date, updating to (7e51c1)...\u001b[0m\n",
      "Locking\u001b[0m \u001b[33m[dev-packages]\u001b[0m dependencies...\u001b[0m\n",
      "Locking\u001b[0m \u001b[33m[packages]\u001b[0m dependencies...\u001b[0m\n",
      "\u001b[KBuilding requirements...\n",
      "\u001b[KResolving dependencies...\n",
      "\u001b[K\u001b[?25h\u001b[32m\u001b[22m✔ Success!\u001b[39m\u001b[22m\u001b[0m \n",
      "\u001b[1mUpdated Pipfile.lock (7e51c1)!\u001b[0m\n",
      "\u001b[1mInstalling dependencies from Pipfile.lock (7e51c1)...\u001b[0m\n",
      "  🐍   \u001b[1m▉\u001b[0m\u001b[1m▉\u001b[0m\u001b[1m▉\u001b[0m\u001b[1m▉\u001b[0m\u001b[1m▉\u001b[0m\u001b[1m▉\u001b[0m\u001b[1m▉\u001b[0m\u001b[1m▉\u001b[0m\u001b[1m▉\u001b[0m\u001b[1m▉\u001b[0m\u001b[1m▉\u001b[0m\u001b[1m▉\u001b[0m\u001b[1m▉\u001b[0m\u001b[1m▉\u001b[0m\u001b[1m▉\u001b[0m\u001b[1m▉\u001b[0m\u001b[1m▉\u001b[0m\u001b[1m▉\u001b[0m\u001b[1m▉\u001b[0m\u001b[1m▉\u001b[0m\u001b[1m▉\u001b[0m\u001b[1m▉\u001b[0m\u001b[1m▉\u001b[0m\u001b[1m▉\u001b[0m\u001b[1m▉\u001b[0m\u001b[1m▉\u001b[0m\u001b[1m▉\u001b[0m\u001b[1m▉\u001b[0m\u001b[1m▉\u001b[0m\u001b[1m▉\u001b[0m\u001b[1m▉\u001b[0m\u001b[1m▉\u001b[0m 7/7 — \u001b[30m00:00:00\u001b[0mm 6/7 — \u001b[30m00:00:00\u001b[0mm 5/7 — \u001b[30m00:00:00\u001b[0m — \u001b[30m00:00:00\u001b[0mm 3/7 — \u001b[30m00:00:00\u001b[0m — \u001b[30m00:00:00\u001b[0mm 1/7 — \u001b[30m00:00:00\u001b[0m — \u001b[30m00:00:00\u001b[0m\n",
      "\u001b[0m"
     ]
    }
   ],
   "source": [
    "!pipenv install praw"
   ]
  },
  {
   "cell_type": "code",
   "execution_count": 2,
   "id": "e23dbb2b-adc5-4670-9c02-86e2b79fa9ba",
   "metadata": {},
   "outputs": [],
   "source": [
    "import praw\n",
    "\n",
    "reddit = praw.Reddit(\n",
    "    client_id=\"e3bMmnnBii0SDQ\",\n",
    "    client_secret=\"2MxkOXzd6tn8bitS7C9CwV8ULqQ\",\n",
    "    password=\"f4f5\",\n",
    "    user_agent=\"ask-reddit-yt\",\n",
    "    username=\"f4f5\",\n",
    ")"
   ]
  },
  {
   "cell_type": "code",
   "execution_count": 3,
   "id": "826d8305-2a4e-442a-b8a1-b146472fff0b",
   "metadata": {},
   "outputs": [],
   "source": [
    "ask_reddit = reddit.subreddit(\"askReddit\")"
   ]
  },
  {
   "cell_type": "code",
   "execution_count": 5,
   "id": "1263a1e8-b6fd-4c8b-ac13-986cb87fd544",
   "metadata": {},
   "outputs": [
    {
     "data": {
      "text/plain": [
       "\u001b[0;31mSignature:\u001b[0m\n",
       "\u001b[0mask_reddit\u001b[0m\u001b[0;34m.\u001b[0m\u001b[0mtop\u001b[0m\u001b[0;34m(\u001b[0m\u001b[0;34m\u001b[0m\n",
       "\u001b[0;34m\u001b[0m    \u001b[0;34m*\u001b[0m\u001b[0;34m,\u001b[0m\u001b[0;34m\u001b[0m\n",
       "\u001b[0;34m\u001b[0m    \u001b[0mtime_filter\u001b[0m\u001b[0;34m:\u001b[0m \u001b[0mstr\u001b[0m \u001b[0;34m=\u001b[0m \u001b[0;34m'all'\u001b[0m\u001b[0;34m,\u001b[0m\u001b[0;34m\u001b[0m\n",
       "\u001b[0;34m\u001b[0m    \u001b[0;34m**\u001b[0m\u001b[0mgenerator_kwargs\u001b[0m\u001b[0;34m:\u001b[0m \u001b[0mUnion\u001b[0m\u001b[0;34m[\u001b[0m\u001b[0mstr\u001b[0m\u001b[0;34m,\u001b[0m \u001b[0mint\u001b[0m\u001b[0;34m,\u001b[0m \u001b[0mDict\u001b[0m\u001b[0;34m[\u001b[0m\u001b[0mstr\u001b[0m\u001b[0;34m,\u001b[0m \u001b[0mstr\u001b[0m\u001b[0;34m]\u001b[0m\u001b[0;34m]\u001b[0m\u001b[0;34m,\u001b[0m\u001b[0;34m\u001b[0m\n",
       "\u001b[0;34m\u001b[0m\u001b[0;34m)\u001b[0m \u001b[0;34m->\u001b[0m \u001b[0mIterator\u001b[0m\u001b[0;34m[\u001b[0m\u001b[0mAny\u001b[0m\u001b[0;34m]\u001b[0m\u001b[0;34m\u001b[0m\u001b[0;34m\u001b[0m\u001b[0m\n",
       "\u001b[0;31mDocstring:\u001b[0m\n",
       "Return a :class:`.ListingGenerator` for top items.\n",
       "\n",
       ":param time_filter: Can be one of: ``\"all\"``, ``\"day\"``, ``\"hour\"``,\n",
       "    ``\"month\"``, ``\"week\"``, or ``\"year\"`` (default: ``\"all\"``).\n",
       "\n",
       ":raises: :py:class:`ValueError` if ``time_filter`` is invalid.\n",
       "\n",
       "Additional keyword arguments are passed in the initialization of\n",
       ":class:`.ListingGenerator`.\n",
       "\n",
       "This method can be used like:\n",
       "\n",
       ".. code-block:: python\n",
       "\n",
       "    reddit.domain(\"imgur.com\").top(time_filter=\"week\")\n",
       "    reddit.multireddit(redditor=\"samuraisam\", name=\"programming\").top(time_filter=\"day\")\n",
       "    reddit.redditor(\"spez\").top(time_filter=\"month\")\n",
       "    reddit.redditor(\"spez\").comments.top(time_filter=\"year\")\n",
       "    reddit.redditor(\"spez\").submissions.top(time_filter=\"all\")\n",
       "    reddit.subreddit(\"all\").top(time_filter=\"hour\")\n",
       "\u001b[0;31mFile:\u001b[0m      ~/.local/share/virtualenvs/reddit-yt-tts-Dm6P-A76/lib/python3.8/site-packages/praw/models/listing/mixins/base.py\n",
       "\u001b[0;31mType:\u001b[0m      method\n"
      ]
     },
     "metadata": {},
     "output_type": "display_data"
    }
   ],
   "source": [
    "ask_reddit.top?"
   ]
  },
  {
   "cell_type": "code",
   "execution_count": 7,
   "id": "183b4761-d6bd-4a6a-8165-c14497ec7de8",
   "metadata": {},
   "outputs": [],
   "source": [
    "top_week = ask_reddit.top(time_filter=\"week\")"
   ]
  },
  {
   "cell_type": "code",
   "execution_count": 8,
   "id": "2551ef74-85d9-4db1-a170-0b06bde8a18c",
   "metadata": {},
   "outputs": [],
   "source": [
    "for post in top_week:\n",
    "        break"
   ]
  },
  {
   "cell_type": "code",
   "execution_count": 13,
   "id": "ed7af777-71e4-45b0-ae44-9066e450513d",
   "metadata": {},
   "outputs": [
    {
     "data": {
      "text/plain": [
       "'https://www.reddit.com/r/AskReddit/comments/yiazab/would_you_support_a_mandatory_retirement_age_of/'"
      ]
     },
     "execution_count": 13,
     "metadata": {},
     "output_type": "execute_result"
    }
   ],
   "source": [
    "post.url"
   ]
  },
  {
   "cell_type": "code",
   "execution_count": null,
   "id": "d8fe1fb2-53b0-484c-a613-0018b81999e0",
   "metadata": {},
   "outputs": [],
   "source": []
  }
 ],
 "metadata": {
  "kernelspec": {
   "display_name": "Python 3 (ipykernel)",
   "language": "python",
   "name": "python3"
  },
  "language_info": {
   "codemirror_mode": {
    "name": "ipython",
    "version": 3
   },
   "file_extension": ".py",
   "mimetype": "text/x-python",
   "name": "python",
   "nbconvert_exporter": "python",
   "pygments_lexer": "ipython3",
   "version": "3.12.3"
  }
 },
 "nbformat": 4,
 "nbformat_minor": 5
}
