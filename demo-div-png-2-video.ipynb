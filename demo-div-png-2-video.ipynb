{
 "cells": [
  {
   "cell_type": "code",
   "execution_count": 1,
   "id": "8c1d4ed9-9753-4e04-ad08-4ce390e544bd",
   "metadata": {},
   "outputs": [],
   "source": [
    "from proxy_chrome_browser import get_chromedriver, build_proxy_extension\n",
    "import moviepy.editor as mpy\n",
    "import glob\n",
    "import os\n",
    "from time import sleep\n",
    "from tqdm import tqdm"
   ]
  },
  {
   "cell_type": "code",
   "execution_count": 2,
   "id": "40247161-0fbe-47f0-80fe-fddbc865037a",
   "metadata": {},
   "outputs": [],
   "source": [
    "br = get_chromedriver(headless=True,path='/home/miko/Downloads/chromedriver-v-110')"
   ]
  },
  {
   "cell_type": "code",
   "execution_count": 4,
   "id": "9ff6673d-20e9-4abb-b05c-2c8e3d840c92",
   "metadata": {},
   "outputs": [],
   "source": [
    "def find_elm(tag,driver=br,_all=False,_by=\"css\"):\n",
    "    from selenium.webdriver.common.by import By\n",
    "    if _by==\"css\":\n",
    "        _by=By.CSS_SELECTOR\n",
    "    elif _by==\"link_text\":\n",
    "        _by=By.PARTIAL_LINK_TEXT\n",
    "    elif _by==\"link_text_exact\":\n",
    "        _by=By.LINK_TEXT\n",
    "        \n",
    "    try:\n",
    "        if _all:\n",
    "            out = driver.find_elements(by=_by,value=tag)\n",
    "        else:\n",
    "            out = driver.find_element(by=_by,value=tag)\n",
    "    except:\n",
    "        #print('None')\n",
    "        out = None\n",
    "    return out"
   ]
  },
  {
   "cell_type": "code",
   "execution_count": 5,
   "id": "01614665-e18d-468d-ae6a-211c09dec794",
   "metadata": {},
   "outputs": [],
   "source": [
    "def save_screenshot(elm,filename,scrollY=None):\n",
    "    assert filename[-3:] == \"png\", \"filename should end with png\"\n",
    "    scroll_into_view(elm,scrollY)\n",
    "    with open(filename,\"wb\") as f:\n",
    "        f.write(elm.screenshot_as_png)"
   ]
  },
  {
   "cell_type": "code",
   "execution_count": 6,
   "id": "7ef434d9-f05d-4c0f-8e7b-d600badbd720",
   "metadata": {},
   "outputs": [],
   "source": [
    "def scroll_into_view(elm,scrollY=None):\n",
    "     #source: -https://stackoverflow.com/questions/25733877/selenium-how-do-you-check-scroll-position\n",
    "     #loc = elm.location\n",
    "     #current_view_script = \"\"\" var doc = document.documentElement;\n",
    "     #var left = (window.pageXOffset || doc.scrollLeft) - (doc.clientLeft || 0);\n",
    "     #var top = (window.pageYOffset || doc.scrollTop)  - (doc.clientTop || 0);\n",
    "        \n",
    "     #taking screenshot will scroll into view. IF this stops working can use javascript above\n",
    "     elm.screenshot_as_png\n",
    "     sleep(.2)\n",
    "     # scroll a bit to add margin (prevent floating login bar from obscuring elm);\n",
    "     if scrollY:\n",
    "         br.execute_script(f\"window.scrollBy(0,{scrollY})\", \"\")\n",
    "         sleep(.5)\n"
   ]
  },
  {
   "cell_type": "code",
   "execution_count": 7,
   "id": "3e52bfde-3a80-4bde-8e0e-001e9af67ee6",
   "metadata": {},
   "outputs": [],
   "source": [
    "#set to dark theme\n",
    "br.get(\"https://www.reddit.com\")"
   ]
  },
  {
   "cell_type": "code",
   "execution_count": 8,
   "id": "597b18c5-8f0a-47e0-97d3-864bb6af7f87",
   "metadata": {},
   "outputs": [
    {
     "ename": "ElementClickInterceptedException",
     "evalue": "Message: element click intercepted: Element <button aria-expanded=\"false\" aria-haspopup=\"true\" id=\"USER_DROPDOWN_ID\" class=\"_10K5i7NW6qcm-UoCtpB3aK _1pA8z73SZ1olP5KMKFN4_Z _18X7KoiaLuKbuLqg4zE8BH _22SL37yETIW414yUiZj27w\">...</button> is not clickable at point (1821, 23). Other element would receive the click: <div class=\"_1DK52RbaamLOWw5UPaht_S _3Ig_EsWWVLquWs2yBBQjec _1acwN_tUhJ8w-n7oCp-Aw3\">...</div>\n  (Session info: chrome=113.0.5672.92)\nStacktrace:\n#0 0x55701f7a9133 <unknown>\n#1 0x55701f4dd966 <unknown>\n#2 0x55701f5203f2 <unknown>\n#3 0x55701f51e5ac <unknown>\n#4 0x55701f51c3be <unknown>\n#5 0x55701f51b696 <unknown>\n#6 0x55701f5103ea <unknown>\n#7 0x55701f539bd2 <unknown>\n#8 0x55701f50fd13 <unknown>\n#9 0x55701f539d9e <unknown>\n#10 0x55701f5521c7 <unknown>\n#11 0x55701f5399a3 <unknown>\n#12 0x55701f50e46a <unknown>\n#13 0x55701f50f55e <unknown>\n#14 0x55701f768cae <unknown>\n#15 0x55701f76c8fe <unknown>\n#16 0x55701f775f20 <unknown>\n#17 0x55701f76d923 <unknown>\n#18 0x55701f740c0e <unknown>\n#19 0x55701f790b08 <unknown>\n#20 0x55701f790c97 <unknown>\n#21 0x55701f7a1113 <unknown>\n#22 0x7fd99568f609 start_thread\n",
     "output_type": "error",
     "traceback": [
      "\u001b[0;31m---------------------------------------------------------------------------\u001b[0m",
      "\u001b[0;31mElementClickInterceptedException\u001b[0m          Traceback (most recent call last)",
      "Cell \u001b[0;32mIn [8], line 2\u001b[0m\n\u001b[1;32m      1\u001b[0m icon \u001b[38;5;241m=\u001b[39m find_elm(\u001b[38;5;124m\"\u001b[39m\u001b[38;5;124mbutton[id=\u001b[39m\u001b[38;5;124m'\u001b[39m\u001b[38;5;124mUSER_DROPDOWN_ID\u001b[39m\u001b[38;5;124m'\u001b[39m\u001b[38;5;124m]\u001b[39m\u001b[38;5;124m\"\u001b[39m)\n\u001b[0;32m----> 2\u001b[0m \u001b[43micon\u001b[49m\u001b[38;5;241;43m.\u001b[39;49m\u001b[43mclick\u001b[49m\u001b[43m(\u001b[49m\u001b[43m)\u001b[49m\n\u001b[1;32m      3\u001b[0m sleep(\u001b[38;5;241m.5\u001b[39m)\n\u001b[1;32m      4\u001b[0m dark_btn \u001b[38;5;241m=\u001b[39m find_elm(\u001b[38;5;124m\"\u001b[39m\u001b[38;5;124mbutton[data-redditstyle=\u001b[39m\u001b[38;5;124m'\u001b[39m\u001b[38;5;124mtrue\u001b[39m\u001b[38;5;124m'\u001b[39m\u001b[38;5;124m]\u001b[39m\u001b[38;5;124m\"\u001b[39m)\n",
      "File \u001b[0;32m~/.local/share/virtualenvs/reddit-yt-tts-Dm6P-A76/lib/python3.8/site-packages/selenium/webdriver/remote/webelement.py:93\u001b[0m, in \u001b[0;36mWebElement.click\u001b[0;34m(self)\u001b[0m\n\u001b[1;32m     91\u001b[0m \u001b[38;5;28;01mdef\u001b[39;00m \u001b[38;5;21mclick\u001b[39m(\u001b[38;5;28mself\u001b[39m) \u001b[38;5;241m-\u001b[39m\u001b[38;5;241m>\u001b[39m \u001b[38;5;28;01mNone\u001b[39;00m:\n\u001b[1;32m     92\u001b[0m     \u001b[38;5;124;03m\"\"\"Clicks the element.\"\"\"\u001b[39;00m\n\u001b[0;32m---> 93\u001b[0m     \u001b[38;5;28;43mself\u001b[39;49m\u001b[38;5;241;43m.\u001b[39;49m\u001b[43m_execute\u001b[49m\u001b[43m(\u001b[49m\u001b[43mCommand\u001b[49m\u001b[38;5;241;43m.\u001b[39;49m\u001b[43mCLICK_ELEMENT\u001b[49m\u001b[43m)\u001b[49m\n",
      "File \u001b[0;32m~/.local/share/virtualenvs/reddit-yt-tts-Dm6P-A76/lib/python3.8/site-packages/selenium/webdriver/remote/webelement.py:410\u001b[0m, in \u001b[0;36mWebElement._execute\u001b[0;34m(self, command, params)\u001b[0m\n\u001b[1;32m    408\u001b[0m     params \u001b[38;5;241m=\u001b[39m {}\n\u001b[1;32m    409\u001b[0m params[\u001b[38;5;124m\"\u001b[39m\u001b[38;5;124mid\u001b[39m\u001b[38;5;124m\"\u001b[39m] \u001b[38;5;241m=\u001b[39m \u001b[38;5;28mself\u001b[39m\u001b[38;5;241m.\u001b[39m_id\n\u001b[0;32m--> 410\u001b[0m \u001b[38;5;28;01mreturn\u001b[39;00m \u001b[38;5;28;43mself\u001b[39;49m\u001b[38;5;241;43m.\u001b[39;49m\u001b[43m_parent\u001b[49m\u001b[38;5;241;43m.\u001b[39;49m\u001b[43mexecute\u001b[49m\u001b[43m(\u001b[49m\u001b[43mcommand\u001b[49m\u001b[43m,\u001b[49m\u001b[43m \u001b[49m\u001b[43mparams\u001b[49m\u001b[43m)\u001b[49m\n",
      "File \u001b[0;32m~/.local/share/virtualenvs/reddit-yt-tts-Dm6P-A76/lib/python3.8/site-packages/selenium/webdriver/remote/webdriver.py:444\u001b[0m, in \u001b[0;36mWebDriver.execute\u001b[0;34m(self, driver_command, params)\u001b[0m\n\u001b[1;32m    442\u001b[0m response \u001b[38;5;241m=\u001b[39m \u001b[38;5;28mself\u001b[39m\u001b[38;5;241m.\u001b[39mcommand_executor\u001b[38;5;241m.\u001b[39mexecute(driver_command, params)\n\u001b[1;32m    443\u001b[0m \u001b[38;5;28;01mif\u001b[39;00m response:\n\u001b[0;32m--> 444\u001b[0m     \u001b[38;5;28;43mself\u001b[39;49m\u001b[38;5;241;43m.\u001b[39;49m\u001b[43merror_handler\u001b[49m\u001b[38;5;241;43m.\u001b[39;49m\u001b[43mcheck_response\u001b[49m\u001b[43m(\u001b[49m\u001b[43mresponse\u001b[49m\u001b[43m)\u001b[49m\n\u001b[1;32m    445\u001b[0m     response[\u001b[38;5;124m\"\u001b[39m\u001b[38;5;124mvalue\u001b[39m\u001b[38;5;124m\"\u001b[39m] \u001b[38;5;241m=\u001b[39m \u001b[38;5;28mself\u001b[39m\u001b[38;5;241m.\u001b[39m_unwrap_value(response\u001b[38;5;241m.\u001b[39mget(\u001b[38;5;124m\"\u001b[39m\u001b[38;5;124mvalue\u001b[39m\u001b[38;5;124m\"\u001b[39m, \u001b[38;5;28;01mNone\u001b[39;00m))\n\u001b[1;32m    446\u001b[0m     \u001b[38;5;28;01mreturn\u001b[39;00m response\n",
      "File \u001b[0;32m~/.local/share/virtualenvs/reddit-yt-tts-Dm6P-A76/lib/python3.8/site-packages/selenium/webdriver/remote/errorhandler.py:249\u001b[0m, in \u001b[0;36mErrorHandler.check_response\u001b[0;34m(self, response)\u001b[0m\n\u001b[1;32m    247\u001b[0m         alert_text \u001b[38;5;241m=\u001b[39m value[\u001b[38;5;124m\"\u001b[39m\u001b[38;5;124malert\u001b[39m\u001b[38;5;124m\"\u001b[39m]\u001b[38;5;241m.\u001b[39mget(\u001b[38;5;124m\"\u001b[39m\u001b[38;5;124mtext\u001b[39m\u001b[38;5;124m\"\u001b[39m)\n\u001b[1;32m    248\u001b[0m     \u001b[38;5;28;01mraise\u001b[39;00m exception_class(message, screen, stacktrace, alert_text)  \u001b[38;5;66;03m# type: ignore[call-arg]  # mypy is not smart enough here\u001b[39;00m\n\u001b[0;32m--> 249\u001b[0m \u001b[38;5;28;01mraise\u001b[39;00m exception_class(message, screen, stacktrace)\n",
      "\u001b[0;31mElementClickInterceptedException\u001b[0m: Message: element click intercepted: Element <button aria-expanded=\"false\" aria-haspopup=\"true\" id=\"USER_DROPDOWN_ID\" class=\"_10K5i7NW6qcm-UoCtpB3aK _1pA8z73SZ1olP5KMKFN4_Z _18X7KoiaLuKbuLqg4zE8BH _22SL37yETIW414yUiZj27w\">...</button> is not clickable at point (1821, 23). Other element would receive the click: <div class=\"_1DK52RbaamLOWw5UPaht_S _3Ig_EsWWVLquWs2yBBQjec _1acwN_tUhJ8w-n7oCp-Aw3\">...</div>\n  (Session info: chrome=113.0.5672.92)\nStacktrace:\n#0 0x55701f7a9133 <unknown>\n#1 0x55701f4dd966 <unknown>\n#2 0x55701f5203f2 <unknown>\n#3 0x55701f51e5ac <unknown>\n#4 0x55701f51c3be <unknown>\n#5 0x55701f51b696 <unknown>\n#6 0x55701f5103ea <unknown>\n#7 0x55701f539bd2 <unknown>\n#8 0x55701f50fd13 <unknown>\n#9 0x55701f539d9e <unknown>\n#10 0x55701f5521c7 <unknown>\n#11 0x55701f5399a3 <unknown>\n#12 0x55701f50e46a <unknown>\n#13 0x55701f50f55e <unknown>\n#14 0x55701f768cae <unknown>\n#15 0x55701f76c8fe <unknown>\n#16 0x55701f775f20 <unknown>\n#17 0x55701f76d923 <unknown>\n#18 0x55701f740c0e <unknown>\n#19 0x55701f790b08 <unknown>\n#20 0x55701f790c97 <unknown>\n#21 0x55701f7a1113 <unknown>\n#22 0x7fd99568f609 start_thread\n"
     ]
    }
   ],
   "source": [
    "icon = find_elm(\"button[id='USER_DROPDOWN_ID']\")\n",
    "icon.click()\n",
    "sleep(.5)\n",
    "dark_btn = find_elm(\"button[data-redditstyle='true']\")\n",
    "dark_btn.click()\n",
    "sleep(.5)\n",
    "# if for some reason click isnt working. set it manually\n",
    "#input(\"Confirm darkmode has been set (press enter)\")"
   ]
  },
  {
   "cell_type": "code",
   "execution_count": 9,
   "id": "8415ab86-ed6b-4b38-9b7d-7409e2b9ee58",
   "metadata": {},
   "outputs": [],
   "source": [
    "#post_url = \"https://www.reddit.com/r/AskReddit/comments/ypzsqh/men_of_reddit_what_are_some_less_obvious_red/\"\n",
    "#post_url = \"https://www.reddit.com/r/AskReddit/comments/ycb6hp/whats_a_harsh_reality_that_everybody_needs_to_hear/\"\n",
    "#post_url = \"https://www.reddit.com/r/AskReddit/comments/y5bcsl/nonamericans_what_do_you_think_every_american/\"\n",
    "#post_url =\"https://www.reddit.com/r/AskReddit/comments/ydz1j5/what_is_25_years_too_old_for/\"\n",
    "#post_url = \"https://www.reddit.com/r/AskReddit/comments/y5wxnn/what_is_the_stupidest_thing_a_large_amount_of/?sort=confidence\"\n",
    "#post_url = \"https://www.reddit.com/r/AskReddit/comments/ynpnd5/serious_what_stole_your_joy_why_do_you_not_have/?sort=confid?ence\"\n",
    "#post_url = \"https://www.reddit.com/r/AskReddit/comments/yabrxc/whats_a_subtle_sign_of_low_intelligence/?sort=confidence\"\n",
    "#post_url = \"https://www.reddit.com/r/AskReddit/comments/yuibit/what_job_contributes_nothing_to_society/?sort=confidence\"\n",
    "#post_url = \"https://www.reddit.com/r/AskReddit/comments/yxxs30/who_had_the_biggest_fall_from_grace_in_history/?sort=confidence\"\n",
    "#post_url = \"https://www.reddit.com/r/AskReddit/comments/ym1lxv/reddit_whats_your_most_im_with_the_boomers_on/?sort=confidence\"\n",
    "#post_url = \"https://www.reddit.com/r/AskReddit/comments/ylvk5f/what_was_great_advice_20_years_ago_but_definitely/?sort=confidence\"\n",
    "#post_url = \"https://www.reddit.com/r/AskReddit/comments/ypu67r/whats_a_hill_youre_willing_to_die_on_every_time/?sort=confidence\"\n",
    "#post_url = \"https://www.reddit.com/r/AskReddit/comments/ywemuo/americans_of_reddit_what_is_the_worst_big_city_in/?sort=confidence\"\n",
    "#post_url = \"https://www.reddit.com/r/AskReddit/comments/ym1lxv/reddit_whats_your_most_im_with_the_boomers_on/?sort=confidence\"\n",
    "#post_url = \"https://www.reddit.com/r/AskReddit/comments/z40utz/what_did_the_pandemic_ruin_more_than_we_realise/?sort=confidence\"\n",
    "#post_url = \"https://www.reddit.com/r/AskReddit/comments/z5neg5/what_tv_show_never_had_a_decline_in_quality/?sort=confidence\"\n",
    "#post_url = \"https://www.reddit.com/r/AskReddit/comments/z1l0m4/what_was_the_saddest_fictional_character_death/?sort=confidence\"\n",
    "#post_url = \"https://www.reddit.com/r/AskReddit/comments/z6l6xn/how_much_do_someones_political_views_matter_when/?sort=confidence\"\n",
    "#post_url = \"https://www.reddit.com/r/AskReddit/comments/ykxnob/what_started_as_a_joke_but_people_take_it_way_to/?sort=confidence\"\n",
    "#post_url = \"https://www.reddit.com/r/AskReddit/comments/yvxhc3/whats_the_one_thing_you_would_never_buy_second/?sort=confidence\"\n",
    "#post_url = \"https://www.reddit.com/r/AskReddit/comments/xfcbr4/what_villain_was_terrifying_because_they_were/?sort=confidence\"\n",
    "#post_url = \"https://www.reddit.com/r/AskReddit/comments/vfq7z9/whats_a_modern_day_scam_thats_become_normalized/?sort=confidence\"\n",
    "#post_url = \"https://www.reddit.com/r/AskReddit/comments/vhki66/what_improved_your_life_so_much_you_wished_you/?sort=confidence\"\n",
    "#post_url = \"https://www.reddit.com/r/AskReddit/comments/vjpkye/the_supreme_court_has_overturned_roe_v_wade_how/?sort=confidence\"\n",
    "#post_url = \"https://www.reddit.com/r/AskReddit/comments/z3uzhi/what_ruined_your_thanksgiving_this_year/?sort=confidence\"\n",
    "#post_url = \"https://www.reddit.com/r/AskReddit/comments/z4wbcb/whats_the_best_cartoon_show_of_all_time/?sort=confidence\"\n",
    "#post_url = \"https://www.reddit.com/r/AskReddit/comments/z8ecob/who_is_the_female_vocal_equivalent_of_morgan/?sort=confidence\"\n",
    "#post_url = \"https://www.reddit.com/r/AskReddit/comments/z4pq24/what_celebrity_death_was_the_most_unexpected/?sort=confidence\"\n",
    "#post_url = \"https://www.reddit.com/r/AskReddit/comments/z78r84/if_you_invented_a_car_that_ran_on_stupidity_where/?sort=confidence\"\n",
    "#post_url = \"https://www.reddit.com/r/AskReddit/comments/zfew2z/whats_a_hobby_someone_can_have_that_is_an/?sort=confidence\"\n",
    "#post_url = \"https://www.reddit.com/r/AskReddit/comments/zhp9r1/whats_a_womens_thing_men_should_absolutely_start/?sort=confidence\"\n",
    "#post_url = \"https://www.reddit.com/r/AskReddit/comments/zeuksw/what_should_you_never_do_in_the_united_states/?sort=confidence\"\n",
    "#post_url = \"https://www.reddit.com/r/AskReddit/comments/ze76ah/whats_the_worst_mistake_youve_seen_someone_do_in/?sort=confidence\"\n",
    "#post_url =  \"https://www.reddit.com/r/AskReddit/comments/ziqmsh/what_dark_secret_are_you_hiding_from_everyone/?sort=confidence\"\n",
    "#post_url = \"https://www.reddit.com/r/AskReddit/comments/ziqmsh/what_screams_insecurity_but_most_people_dont/?sort=confidence\"\n",
    "#post_url = \"https://www.reddit.com/r/AskReddit/comments/zk8wn9/not_using_110_how_attractive_are_you/?sort=confidence\"\n",
    "#post_url = \"https://www.reddit.com/r/AskReddit/comments/zlq3aa/those_who_havent_caught_covid_yet_how_have_you/?sort=confidence\"\n",
    "#post_url = \"https://www.reddit.com/r/AskReddit/comments/zo6zuv/if_you_had_the_ability_to_bring_back_a_canceled/?sort=confidence\"\n",
    "#post_url = \"https://www.reddit.com/r/AskReddit/comments/zm4u9z/us_wants_to_ban_tiktok_what_are_your_thoughts/?sort=confidence\"\n",
    "#post_url = \"https://www.reddit.com/r/AskReddit/comments/zd6pxv/whats_something_we_all_just_pretend_no_one_does/?sort=confidence\"\n",
    "#post_url = \"https://www.reddit.com/r/AskReddit/comments/zuzhgo/what_screams_im_a_bad_parent/?sort=confidence\"\n",
    "#post_url = \"https://www.reddit.com/r/AskReddit/comments/zsqivw/what_is_an_american_thing_but_americans_think/?sort=confidence\"\n",
    "#post_url = \"https://www.reddit.com/r/AskReddit/comments/zquyhv/what_was_ruined_by_rich_people/?sort=confidence\"\n",
    "#post_url = \"https://www.reddit.com/r/AskReddit/comments/zpo3so/what_is_so_ridiculously_overpriced_yet_you_still/?sort=confidence\"\n",
    "#post_url = \"https://www.reddit.com/r/AskReddit/comments/zoynqc/what_was_ruined_because_too_many_people_did_it/?sort=confidence\"\n",
    "\n",
    "#post_url = \"https://www.reddit.com/r/AskReddit/comments/zy5kmq/what_fact_are_you_just_tired_of_explaining_to/?sort=confidence\"\n",
    "#post_url = \"https://www.reddit.com/r/AskReddit/comments/zzui88/what_do_we_need_to_stop_teaching_the_children/?sort=confidence\"\n",
    "#post_url = \"https://www.reddit.com/r/AskReddit/comments/103a4x5/whats_a_sound_you_heard_when_you_were_young_that/?sort=confidence\"\n",
    "#post_url = \"https://www.reddit.com/r/AskReddit/comments/1025m0g/people_of_reddit_what_do_you_mis_about_the_covid/?sort=confidence\"\n",
    "#post_url = \"https://www.reddit.com/r/AskReddit/comments/10034fk/what_company_would_you_like_to_go_bankrupt/?sort=confidence\"\n",
    "#post_url = \"https://www.reddit.com/r/AskReddit/comments/zwv8pq/youve_just_won_250_million_and_its_been_deposited/?sort=confidence\"\n",
    "#post_url = \"https://www.reddit.com/r/AskReddit/comments/zuckzx/what_does_europe_have_that_north_america_does_not/?sort=confidence\"\n",
    "#post_url = \"https://www.reddit.com/r/AskReddit/comments/zsl0mj/what_made_you_not_want_to_have_kids/?sort=confidence\"\n",
    "#post_url = \"https://www.reddit.com/r/AskReddit/comments/ztsagt/what_is_something_acceptable_in_women_but_frowned/?sort=confidence\"\n",
    "#post_url = \"https://www.reddit.com/r/AskReddit/comments/zi7edc/whats_one_of_lifes_biggest_traps_that_people_fall/?sort=confidence\"\n",
    "#post_url = \"https://www.reddit.com/r/AskReddit/comments/zppkqv/what_joke_is_starting_to_get_old_now/?sort=confidence\"\n",
    "\n",
    "#post_url = \"https://www.reddit.com/r/AskReddit/comments/zshbwg/if_you_had_the_power_to_shut_down_a_company_for/?sort=confidence\"\n",
    "\n",
    "#2023-01-23\n",
    "#post_url = \"https://www.reddit.com/r/AskReddit/comments/10dm92h/whats_a_company_secret_you_can_share_now_that_you/?sort=confidence\"\n",
    "#post_url = \"https://www.reddit.com/r/AskReddit/comments/10axb50/what_quietly_went_away_without_anyone_noticing/?sort=confidence\"\n",
    "#post_url = \"https://www.reddit.com/r/AskReddit/comments/10h0r47/what_was_once_highly_respected_that_is_now_a/?sort=confidence\"\n",
    "#post_url = \"https://www.reddit.com/r/AskReddit/comments/10g9cjg/whats_something_you_learned_embarrassingly_late/?sort=confidence\"\n",
    "#post_url = \"https://www.reddit.com/r/AskReddit/comments/103o62o/you_just_won_a_billion_dollars_what_are_you_still/?sort=confidence\"\n",
    "#post_url = \"https://www.reddit.com/r/AskReddit/comments/1061sre/people_who_dont_exercise_or_workout_why_dont_you/?sort=confidence\"\n",
    "#post_url = \"https://www.reddit.com/r/AskReddit/comments/10ej6ap/people_of_reddit_who_are_anti_weed_why/?sort=confidence\"\n",
    "#post_url = \"https://www.reddit.com/r/AskReddit/comments/106uxfp/what_is_a_part_of_history_that_we_consider_to_be/?sort=confidence\"\n",
    "#post_url = \"https://www.reddit.com/r/AskReddit/comments/10anf4u/what_gets_more_hate_than_it_should/?sort=confidence\"\n",
    "#post_url = \"https://www.reddit.com/r/AskReddit/comments/105jfmx/whats_a_serious_event_in_the_world_that_few/?sort=confidence\"\n",
    "\n",
    "# post_urls = [\n",
    "#    \"https://www.reddit.com/r/AskReddit/comments/10qif8x/have_you_ever_listened_to_a_person_talk_for_less/\",\n",
    "#    \"https://www.reddit.com/r/AskReddit/comments/10njbup/what_was_your_it_cant_be_that_easy_it_was_that/\",\n",
    "#     \"https://www.reddit.com/r/AskReddit/comments/10iqvtp/whats_the_worst_part_of_having_a_child/\",\n",
    "#     \"https://www.reddit.com/r/AskReddit/comments/10ypyd0/whos_the_worst_main_character_were_supposed_to/\",\n",
    "#     \"https://www.reddit.com/r/AskReddit/comments/10p4k1c/what_screams_this_person_peaked_in_high_school_to/\",\n",
    "#     \"https://www.reddit.com/r/AskReddit/comments/10je7cc/what_widelyaccepted_reddit_tropes_are_just_not/\",\n",
    "#     \"https://www.reddit.com/r/AskReddit/comments/10kv4yc/what_hobby_is_an_immediate_red_flag/\",\n",
    "#     \"https://www.reddit.com/r/AskReddit/comments/10wtgtt/what_industry_do_you_hope_wont_exist_in_10_years/\",\n",
    "#     \"https://www.reddit.com/r/AskReddit/comments/10udqhv/what_film_made_you_say_holy_shit_there_is_still/\",\n",
    "#     \"https://www.reddit.com/r/AskReddit/comments/10rsog2/what_ingredient_ruins_a_sandwich_for_you/\",\n",
    "#     \"https://www.reddit.com/r/AskReddit/comments/10lr2nb/what_could_be_done_to_prevent_mass_shootings/\",\n",
    "#     \"https://www.reddit.com/r/AskReddit/comments/10bp478/whats_the_most_boring_sport_to_watch/\",\n",
    "#     \"https://www.reddit.com/r/AskReddit/comments/10tu4jz/what_is_a_dead_giveaway_that_youre_being_cheated/\"\n",
    "# ]\n",
    "\n",
    "\n",
    "# post_urls = [\n",
    "#   \"https://www.reddit.com/r/AskReddit/comments/1128hq1/what_actor_or_actress_stupidly_left_a_movie/\"\n",
    "#   ,\"https://www.reddit.com/r/AskReddit/comments/116aaro/whats_a_story_where_the_bad_guys_are_actually/\"\n",
    "#   ,\"https://www.reddit.com/r/AskReddit/comments/113uw7u/what_job_position_is_100_overvalued_and_overpaid/\"\n",
    "#   ,\"https://www.reddit.com/r/AskReddit/comments/11ck2oh/whats_the_dumbest_myth_people_today_believe/\"\n",
    "#   ,\"https://www.reddit.com/r/AskReddit/comments/110kh3j/what_industry_do_you_consider_to_be_legal/\"\n",
    "#   ,\"https://www.reddit.com/r/AskReddit/comments/11h681p/whats_an_unwritten_rule_about_the_road_that_new/\"\n",
    "#   ,\"https://www.reddit.com/r/AskReddit/comments/11gal39/americans_who_are_against_the_biden_student_loan/\"\n",
    "#   ,\"https://www.reddit.com/r/AskReddit/comments/11btq7y/what_is_the_most_bullshit_profession_that/\"\n",
    "#   ,\"https://www.reddit.com/r/AskReddit/comments/11artla/what_do_you_think_of_the_parents_that_kick_their/\"\n",
    "#   ,\"https://www.reddit.com/r/AskReddit/comments/11a6s9b/which_hobbies_that_people_do_screams_rich_people/\"\n",
    "#   ,\"https://www.reddit.com/r/AskReddit/comments/11hy6y8/what_is_your_first_thought_about_someone_when/\"\n",
    "#   ,\"https://www.reddit.com/r/AskReddit/comments/10zt10t/pro_gun_supporters_why_do_you_support_gun_rights/\"\n",
    "    \n",
    "# ]\n",
    "\n",
    "# post_urls = [\n",
    "# \"https://www.reddit.com/r/AskReddit/comments/11zmpjf/if_you_could_place_any_object_on_the_surface_of/\",\n",
    "# \"https://www.reddit.com/r/AskReddit/comments/11jhj8o/how_old_are_you_and_whats_your_biggest_problem/\",\n",
    "# \"https://www.reddit.com/r/AskReddit/comments/11wo9g4/if_trump_is_arrested_how_do_you_think_his/\",\n",
    "# \"https://www.reddit.com/r/AskReddit/comments/11onl9l/which_profession_attracts_the_worst_kinds_of/\",\n",
    "# \"https://www.reddit.com/r/AskReddit/comments/11m0jsp/what_instantly_ruins_a_burger_for_you/\",\n",
    "# \"https://www.reddit.com/r/AskReddit/comments/120j3i5/which_cancelled_tv_show_deserved_another_season/\",\n",
    "# \"https://www.reddit.com/r/AskReddit/comments/120j3i5/which_cancelled_tv_show_deserved_another_season/\",\n",
    "# \"https://www.reddit.com/r/AskReddit/comments/11ujqfu/americans_what_is_something_us_europeans_arent/\",\n",
    "# \"https://www.reddit.com/r/AskReddit/comments/120ucjy/you_wake_up_its_january_1st_1999_what_do_you_do/\",\n",
    "    \n",
    "# ]\n",
    "\n",
    "# post_urls = [\n",
    "# \"https://www.reddit.com/r/AskReddit/comments/124wb2n/what_instantly_kills_the_vibe_at_a_party/\",\n",
    "# \"https://www.reddit.com/r/AskReddit/comments/12acoep/what_is_a_tell_tale_sign_that_someone_is_a/\",\n",
    "# \"https://www.reddit.com/r/AskReddit/comments/129k7ok/whats_the_first_sign_that_a_movie_is_going_to_be/\",\n",
    "# \"https://www.reddit.com/r/AskReddit/comments/125r99g/what_scientific_fact_scares_the_absolute_shit_out/\",\n",
    "# \"https://www.reddit.com/r/AskReddit/comments/124oh82/what_movie_did_you_expect_to_be_bad_but_was/\",\n",
    "# \"https://www.reddit.com/r/AskReddit/comments/11qbywk/whats_the_hardest_thing_for_you_to_comprehend/\",\n",
    "# \"https://www.reddit.com/r/AskReddit/comments/120j3i5/which_cancelled_tv_show_deserved_another_season/\",\n",
    "# \"https://www.reddit.com/r/AskReddit/comments/11vmkfc/americans_what_do_eurpoeans_have_everyday_that/\",\n",
    "# \"https://www.reddit.com/r/AskReddit/comments/121joyd/people_who_dont_reply_until_days_later_why/\",\n",
    "    \n",
    "# ]\n",
    "\n",
    "# post_urls = [\n",
    "# \"https://www.reddit.com/r/AskReddit/comments/12br1id/how_is_everyone_feeling_about_donald_trump/\",\n",
    "# \"https://www.reddit.com/r/AskReddit/comments/12j384c/whats_a_podcast_actually_worth_listening_to/\",\n",
    "# \"https://www.reddit.com/r/AskReddit/comments/12cmf8s/what_was_discontinued_but_you_miss_like_hell_and/\",\n",
    "# \"https://www.reddit.com/r/AskReddit/comments/11vd3w7/what_famous_person_didnt_deserve_all_the_hate/\",\n",
    "# \"https://www.reddit.com/r/AskReddit/comments/122a253/how_do_you_tell_your_gf_she_has_a_mustache/\",\n",
    "# \"https://www.reddit.com/r/AskReddit/comments/12emr13/what_show_stayed_good_from_start_to_finish/\",\n",
    "# \"https://www.reddit.com/r/AskReddit/comments/12jnimp/what_made_you_realize_youre_old/\",\n",
    "# \"https://www.reddit.com/r/AskReddit/comments/12oskxc/what_was_the_weirdest_part_of_the_pandemic/\",\n",
    "# \"https://www.reddit.com/r/AskReddit/comments/12bv3w8/anime_is_insanely_popular_in_america_whats_an/\",\n",
    "# \"https://www.reddit.com/r/AskReddit/comments/11zmpjf/if_you_could_place_any_object_on_the_surface_of/\"\n",
    "    \n",
    "# ]\n",
    "\n",
    "##2023-05-05\n",
    "# post_urls = [\n",
    "#     \"https://www.reddit.com/r/AskReddit/comments/136jqkc/bernie_sanders_says_us_should_confiscate_100_of/\",\n",
    "#     \"https://www.reddit.com/r/AskReddit/comments/134qerl/richard_feynman_said_never_confuse_education_with/\",\n",
    "#     \"https://www.reddit.com/r/AskReddit/comments/12rt24x/redditors_who_have_actually_won_a_lifetime_supply/\",\n",
    "#     \"https://www.reddit.com/r/AskReddit/comments/12rk46t/there_is_a_greek_proverb_a_society_grows_great/\",\n",
    "#     \"https://www.reddit.com/r/AskReddit/comments/12hmbug/what_are_some_really_dangerous_things_most_people/\",\n",
    "#     \"https://www.reddit.com/r/AskReddit/comments/131qb3k/whats_the_weirdest_thing_youve_been_told_not_to/\",\n",
    "#     \"https://www.reddit.com/r/AskReddit/comments/12jt9df/whats_the_hardest_would_u_rather_question_youve/\",\n",
    "#     \"https://www.reddit.com/r/AskReddit/comments/12xrtrd/surgeonsdoctors_of_redditwhats_the_dumbest_thing/\",\n",
    "#     \"https://www.reddit.com/r/AskReddit/comments/12viv4v/what_is_the_prettiest_song_you_ever_heard_in_your/\",\n",
    "#     \"https://www.reddit.com/r/AskReddit/comments/132dbsu/whats_something_that_changeddisappeared_because/\",\n",
    "#     \"https://www.reddit.com/r/AskReddit/comments/135h5ah/whats_the_dumbest_thing_youve_done_in_your_20s/\",\n",
    "#     \"https://www.reddit.com/r/AskReddit/comments/12j4cxi/what_is_your_one_piece_of_street_advice/\", \n",
    "# ]\n",
    "\n",
    "# #2023-05-22\n",
    "# post_urls = [\n",
    "#     \"https://www.reddit.com/r/AskReddit/comments/13ec6op/has_anyone_ever_been_to_a_wedding_where_someone/\",\n",
    "#     \"https://www.reddit.com/r/AskReddit/comments/13i9ark/what_television_series_had_the_biggest_bullshit/\",\n",
    "#     \"https://www.reddit.com/r/AskReddit/comments/13lvmly/what_was_normal_2030_years_ago_but_is_considered/\",\n",
    "#     \"https://www.reddit.com/r/AskReddit/comments/13kuo93/to_you_redditors_aged_50_whats_something_you/\",\n",
    "#     \"https://www.reddit.com/r/AskReddit/comments/13angrv/whats_something_popular_that_you_refuse_to_get/\",\n",
    "#     \"https://www.reddit.com/r/AskReddit/comments/13nps5d/people_who_wake_up_at_5am_daily_why/\",\n",
    "#     \"https://www.reddit.com/r/AskReddit/comments/13bt91m/what_is_just_not_the_flex_that_people_think_it_is/\",\n",
    "#     \"https://www.reddit.com/r/AskReddit/comments/13hyxco/people_who_get_in_their_cars_but_then_take_ages/\"\n",
    "# ]\n",
    "\n",
    "#2023-06-14\n",
    "post_urls = [\n",
    "    \"https://www.reddit.com/r/AskReddit/comments/13x9sy7/now_that_reddit_are_killing_3rd_party_apps_on/\",\n",
    "    \"https://www.reddit.com/r/AskReddit/comments/13vwcge/whats_the_most_disturbing_secret_youve_discovered/\",\n",
    "    \"https://www.reddit.com/r/AskReddit/comments/140xj5s/adults_who_carry_around_a_backpack_whatcha_got_in/\",\n",
    "    \"https://www.reddit.com/r/AskReddit/comments/147rws8/wedding_photographers_of_reddit_what_was_your/\",\n",
    "   \"https://www.reddit.com/r/AskReddit/comments/141dfp5/what_is_a_weird_flex_you_are_proud_of/\",\n",
    "    \"https://www.reddit.com/r/AskReddit/comments/13yu76f/what_are_the_cons_of_not_having_kids/\",\n",
    "    \"https://www.reddit.com/r/AskReddit/comments/13vo174/what_is_something_that_old_people_love_that_you/\",\n",
    "    \"https://www.reddit.com/r/AskReddit/comments/13s9y0x/would_you_feel_safer_in_a_gunfree_state_why_or/\",\n",
    "    \"https://www.reddit.com/r/AskReddit/comments/13rcodf/what_is_your_favourite_insult_that_doesnt_sound/\",\n",
    "   \"https://www.reddit.com/r/AskReddit/comments/13qk9vl/what_movie_blew_your_mind_when_you_first_saw_it/\",\n",
    "    \"https://www.reddit.com/r/AskReddit/comments/141tabx/what_type_of_human_behavior_will_you_never/\",\n",
    "    \"https://www.reddit.com/r/AskReddit/comments/141tdwu/what_urban_legend_needs_to_die/\",\n",
    "    \"https://www.reddit.com/r/AskReddit/comments/13u2sgh/what_is_something_that_young_people_love_that_you/\",\n",
    "   \"https://www.reddit.com/r/AskReddit/comments/145zqnb/whats_an_important_lesson_you_learnt_the_hard_way/\",\n",
    "   \"https://www.reddit.com/r/AskReddit/comments/13re7ii/what_youtube_channel_is_a_goldmine_of/\",\n",
    "    \"https://www.reddit.com/r/AskReddit/comments/142kyjh/what_is_your_opinion_on_the_reddit_blackout_and/\",\n",
    "    \n",
    "   \n",
    "]\n",
    "\n",
    "\n",
    "\n"
   ]
  },
  {
   "cell_type": "code",
   "execution_count": 10,
   "id": "9701fd88-445d-4dbe-bb49-d1ab4801c3ed",
   "metadata": {},
   "outputs": [
    {
     "name": "stdout",
     "output_type": "stream",
     "text": [
      "getting more replies\n",
      "getting more replies\n",
      "getting more replies\n",
      "getting more replies\n",
      "getting more replies\n",
      "getting more replies\n"
     ]
    },
    {
     "name": "stderr",
     "output_type": "stream",
     "text": [
      "100%|█████████████████████████████████████████| 366/366 [03:43<00:00,  1.64it/s]\n"
     ]
    },
    {
     "name": "stdout",
     "output_type": "stream",
     "text": [
      "getting more replies\n",
      "getting more replies\n",
      "getting more replies\n",
      "getting more replies\n",
      "getting more replies\n",
      "getting more replies\n"
     ]
    },
    {
     "name": "stderr",
     "output_type": "stream",
     "text": [
      "100%|█████████████████████████████████████████| 501/501 [07:17<00:00,  1.15it/s]\n"
     ]
    },
    {
     "name": "stdout",
     "output_type": "stream",
     "text": [
      "getting more replies\n",
      "getting more replies\n",
      "getting more replies\n",
      "getting more replies\n",
      "getting more replies\n",
      "getting more replies\n"
     ]
    },
    {
     "name": "stderr",
     "output_type": "stream",
     "text": [
      "100%|█████████████████████████████████████████| 284/284 [02:25<00:00,  1.95it/s]\n"
     ]
    },
    {
     "name": "stdout",
     "output_type": "stream",
     "text": [
      "getting more replies\n",
      "getting more replies\n",
      "getting more replies\n",
      "getting more replies\n",
      "getting more replies\n",
      "getting more replies\n"
     ]
    },
    {
     "name": "stderr",
     "output_type": "stream",
     "text": [
      "100%|█████████████████████████████████████████| 488/488 [06:10<00:00,  1.32it/s]\n"
     ]
    },
    {
     "name": "stdout",
     "output_type": "stream",
     "text": [
      "getting more replies\n",
      "getting more replies\n",
      "getting more replies\n",
      "getting more replies\n",
      "getting more replies\n",
      "getting more replies\n"
     ]
    },
    {
     "name": "stderr",
     "output_type": "stream",
     "text": [
      "100%|█████████████████████████████████████████| 495/495 [05:51<00:00,  1.41it/s]\n"
     ]
    },
    {
     "name": "stdout",
     "output_type": "stream",
     "text": [
      "getting more replies\n",
      "getting more replies\n",
      "getting more replies\n",
      "getting more replies\n",
      "getting more replies\n",
      "getting more replies\n"
     ]
    },
    {
     "name": "stderr",
     "output_type": "stream",
     "text": [
      "100%|█████████████████████████████████████████| 488/488 [04:21<00:00,  1.86it/s]\n"
     ]
    },
    {
     "name": "stdout",
     "output_type": "stream",
     "text": [
      "getting more replies\n",
      "getting more replies\n",
      "getting more replies\n",
      "getting more replies\n",
      "getting more replies\n",
      "getting more replies\n"
     ]
    },
    {
     "name": "stderr",
     "output_type": "stream",
     "text": [
      "100%|█████████████████████████████████████████| 498/498 [05:34<00:00,  1.49it/s]\n"
     ]
    },
    {
     "name": "stdout",
     "output_type": "stream",
     "text": [
      "getting more replies\n",
      "getting more replies\n",
      "getting more replies\n",
      "getting more replies\n",
      "getting more replies\n",
      "getting more replies\n"
     ]
    },
    {
     "name": "stderr",
     "output_type": "stream",
     "text": [
      "100%|█████████████████████████████████████████| 459/459 [02:51<00:00,  2.68it/s]\n"
     ]
    },
    {
     "name": "stdout",
     "output_type": "stream",
     "text": [
      "getting more replies\n",
      "getting more replies\n",
      "getting more replies\n",
      "getting more replies\n",
      "getting more replies\n",
      "getting more replies\n"
     ]
    },
    {
     "name": "stderr",
     "output_type": "stream",
     "text": [
      "100%|█████████████████████████████████████████| 435/435 [03:31<00:00,  2.05it/s]\n"
     ]
    },
    {
     "name": "stdout",
     "output_type": "stream",
     "text": [
      "getting more replies\n",
      "getting more replies\n",
      "getting more replies\n",
      "getting more replies\n",
      "getting more replies\n",
      "getting more replies\n"
     ]
    },
    {
     "name": "stderr",
     "output_type": "stream",
     "text": [
      "100%|█████████████████████████████████████████| 497/497 [04:28<00:00,  1.85it/s]\n"
     ]
    },
    {
     "name": "stdout",
     "output_type": "stream",
     "text": [
      "getting more replies\n",
      "getting more replies\n",
      "getting more replies\n",
      "getting more replies\n",
      "getting more replies\n",
      "getting more replies\n"
     ]
    },
    {
     "name": "stderr",
     "output_type": "stream",
     "text": [
      "100%|█████████████████████████████████████████| 489/489 [03:16<00:00,  2.48it/s]\n"
     ]
    },
    {
     "name": "stdout",
     "output_type": "stream",
     "text": [
      "getting more replies\n",
      "getting more replies\n",
      "getting more replies\n",
      "getting more replies\n",
      "getting more replies\n",
      "getting more replies\n"
     ]
    },
    {
     "name": "stderr",
     "output_type": "stream",
     "text": [
      "100%|█████████████████████████████████████████| 497/497 [05:23<00:00,  1.53it/s]\n"
     ]
    },
    {
     "name": "stdout",
     "output_type": "stream",
     "text": [
      "getting more replies\n",
      "getting more replies\n",
      "getting more replies\n",
      "getting more replies\n",
      "getting more replies\n",
      "getting more replies\n"
     ]
    },
    {
     "name": "stderr",
     "output_type": "stream",
     "text": [
      "100%|█████████████████████████████████████████| 384/384 [02:56<00:00,  2.18it/s]\n"
     ]
    },
    {
     "name": "stdout",
     "output_type": "stream",
     "text": [
      "getting more replies\n",
      "getting more replies\n",
      "getting more replies\n",
      "getting more replies\n",
      "getting more replies\n",
      "getting more replies\n"
     ]
    },
    {
     "name": "stderr",
     "output_type": "stream",
     "text": [
      "100%|█████████████████████████████████████████| 498/498 [03:57<00:00,  2.09it/s]\n"
     ]
    },
    {
     "name": "stdout",
     "output_type": "stream",
     "text": [
      "getting more replies\n",
      "getting more replies\n",
      "getting more replies\n",
      "getting more replies\n",
      "getting more replies\n",
      "getting more replies\n"
     ]
    },
    {
     "name": "stderr",
     "output_type": "stream",
     "text": [
      "100%|█████████████████████████████████████████| 406/406 [01:59<00:00,  3.39it/s]\n"
     ]
    },
    {
     "name": "stdout",
     "output_type": "stream",
     "text": [
      "getting more replies\n",
      "getting more replies\n",
      "getting more replies\n",
      "getting more replies\n",
      "getting more replies\n",
      "getting more replies\n"
     ]
    },
    {
     "name": "stderr",
     "output_type": "stream",
     "text": [
      "100%|█████████████████████████████████████████| 450/450 [01:37<00:00,  4.61it/s]\n"
     ]
    }
   ],
   "source": [
    "skip=[\n",
    "]\n",
    "for post_url in post_urls:\n",
    "    if post_url in skip:\n",
    "        continue\n",
    "        \n",
    "    post_url+=\"?sort=confidence\"\n",
    "    br.get(post_url)\n",
    "\n",
    "    #br.switch_to.active_element.text\n",
    "\n",
    "    sleep(10)\n",
    "\n",
    "    # expand replies\n",
    "    num_replies_threshold = 90\n",
    "    get_replies = True\n",
    "    num_total_loops = 5\n",
    "    current_loop_num = 0\n",
    "    clicked_links = []\n",
    "    while get_replies:\n",
    "        more_replies_divs = find_elm(\"div[id^='moreComments']\",_all=True)\n",
    "        expandable_divs = []\n",
    "        for div in more_replies_divs:\n",
    "            more_replies_link = find_elm(\"p\",driver=div)\n",
    "            #p = br.execute_script(\"return arguments[0].parentNode;\",more_replies_link)\n",
    "            if not more_replies_link:\n",
    "                continue\n",
    "            if more_replies_link.text == '' or 'loading..' in more_replies_link.text:\n",
    "                continue\n",
    "            num_replies = int(more_replies_link.text.split()[0].replace(\",\",\"\"))\n",
    "            if num_replies >= num_replies_threshold:\n",
    "                if more_replies_link not in clicked_links:\n",
    "                    expandable_divs.append(more_replies_link)\n",
    "                else:\n",
    "                    continue\n",
    "        for div in expandable_divs:\n",
    "            #link_elm = find_elm(\"div[data-testid^='search-scope-pill-text']\")\n",
    "            try:\n",
    "                scroll_into_view(more_replies_link)\n",
    "                div.click()\n",
    "                sleep(1)\n",
    "            except:\n",
    "                continue  \n",
    "        if len(expandable_divs) == 0:\n",
    "            get_replies = False\n",
    "        if current_loop_num >= num_total_loops:\n",
    "            get_replies = False\n",
    "        else:\n",
    "            current_loop_num += 1\n",
    "        print(\"getting more replies\")\n",
    "        #todo: find a better stopping condition\n",
    "\n",
    "    # get comments\n",
    "    comments = find_elm(\"div[class*='Comment']\",_all=True)\n",
    "\n",
    "    #prepend original post to comments\n",
    "    post = [find_elm(\"div[data-test-id='post-content']\"),]\n",
    "    post.extend(comments)\n",
    "    comments = post\n",
    "\n",
    "    len(comments)\n",
    "\n",
    "    submission_title = post_url.split(\"/\")[-2]\n",
    "\n",
    "    #asset_dir=\"assets/demo_png_2_vid\"\n",
    "    asset_dir=\"/mnt/n/data/reddit-yt-tts/queued\"\n",
    "    completed_dir=\"/mnt/n/data/reddit-yt-tts/completed\"\n",
    "    #thread_ids = []\n",
    "\n",
    "    submission_title\n",
    "\n",
    "    def save_comment_text(filename,comment,selector='p'):\n",
    "        comment_text = \" \".join([x.text for x in find_elm(selector,driver=comment,_all=True)])\n",
    "        with open(filename,\"w\") as f:\n",
    "            f.write(comment_text)\n",
    "\n",
    "    #save threaded comment screenshot as png to directory\n",
    "    vote_count_threshold = 450\n",
    "    thread_count = 0\n",
    "    parent_comment_stack = [dict(comment=comments[0],saved=True)]\n",
    "    prev_comment_lvl = 1\n",
    "    prev_comment = comments[0]\n",
    "    prev_comment_id = -1\n",
    "    i = 0\n",
    "    for comment in tqdm(comments):\n",
    "        # filter deleted comments\n",
    "        if \"Comment deleted by user\" in comment.text:\n",
    "            continue\n",
    "\n",
    "        # some comments arnt expanded, skipping\n",
    "        if len(comment.text.split(\"\\n\")) <= 4:\n",
    "               continue\n",
    "\n",
    "        #filter highly voted comments\n",
    "        vote_div = find_elm(\"div[id^='vote-arrows']\",driver=comment)\n",
    "        if not vote_div or vote_div.text == '' or vote_div.text == \"Vote\":\n",
    "            continue\n",
    "\n",
    "        multiply_1k = 'k' in vote_div.text\n",
    "        if multiply_1k:\n",
    "            vote_count = float(vote_div.text.replace(\"k\",\"\")) * 1000\n",
    "        else:\n",
    "            vote_count = int(vote_div.text)\n",
    "\n",
    "        if i == 0:\n",
    "            comment_lvl = 1\n",
    "        else:\n",
    "            comment_lvl = find_elm(\"span\",comment).text\n",
    "            \n",
    "            # sometimes 'level' not in span, catching that case below\n",
    "            if len(comment_lvl.strip()) == 0:\n",
    "                for text in comment.text.split(\"\\n\"):\n",
    "                    li = text.find(\"level\")\n",
    "                    if li != -1:\n",
    "                        comment_lvl = text\n",
    "                        break\n",
    "                        \n",
    "            comment_lvl = int(comment_lvl.lower().replace(\"level\",\"\").strip())\n",
    "\n",
    "        #if \"1\" in comment_lvl:\n",
    "        if comment_lvl == 1:\n",
    "            thread_count += 1\n",
    "            user = comment.text.split(\"\\n\")[1]\n",
    "            vote_count_txt = vote_div.text.replace(\".\",\"_\")\n",
    "            thread_id = f\"{thread_count:04}-{user}-{vote_count_txt}\"\n",
    "\n",
    "            comment_id=0\n",
    "        else:\n",
    "            comment_id+=1\n",
    "\n",
    "        # Save parent comments even if threshold is not met\n",
    "        if comment_lvl > prev_comment_lvl:\n",
    "            # entering a nested thread, mark new parent...\n",
    "            parent_comment_stack.append(dict(comment=prev_comment,comment_id=prev_comment_id,saved=False))\n",
    "        elif comment_lvl < prev_comment_lvl:\n",
    "            # leaving a nested thread, remove previous parent\n",
    "            parent_comment_stack = parent_comment_stack[:-1]\n",
    "\n",
    "\n",
    "        # Check whether comment should be saved\n",
    "        save_comment = False\n",
    "        if vote_count >= vote_count_threshold:\n",
    "            save_comment = True\n",
    "\n",
    "        #save parent comment\n",
    "        parent_comment = parent_comment_stack[-1]\n",
    "        if save_comment and not parent_comment[\"saved\"]:\n",
    "            #todo refactor to fn\n",
    "            folder = f\"{asset_dir}/{submission_title}/{thread_id}\"\n",
    "            if not os.path.exists(folder):\n",
    "                os.makedirs(folder)\n",
    "            save_screenshot(parent_comment['comment'],f\"{folder}/{parent_comment['comment_id']:04}.png\")\n",
    "            save_comment_text(filename=f\"{folder}/{parent_comment['comment_id']:04}.txt\",comment=parent_comment['comment'])\n",
    "            parent_comment[\"saved\"] = True\n",
    "\n",
    "        #Save comment\n",
    "        if save_comment:\n",
    "            #thread_ids.append(thread_id)\n",
    "            folder = f\"{asset_dir}/{submission_title}/{thread_id}\"\n",
    "            if not os.path.exists(folder):\n",
    "                os.makedirs(folder)\n",
    "            save_screenshot(comment,f\"{folder}/{comment_id:04}.png\")\n",
    "            if i == 0:\n",
    "                save_screenshot(comment,f\"{folder}/{comment_id:04}.png\",scrollY=-55)\n",
    "                save_comment_text(filename=f\"{folder}/{comment_id:04}.txt\",comment=comment,selector='h1')\n",
    "            else:\n",
    "                save_screenshot(comment,f\"{folder}/{comment_id:04}.png\")\n",
    "                save_comment_text(filename=f\"{folder}/{comment_id:04}.txt\",comment=comment)\n",
    "\n",
    "        # init vars for next iteration\n",
    "        prev_comment_lvl = comment_lvl\n",
    "        prev_comment = comment\n",
    "        prev_comment_id = comment_id\n",
    "        i+=1"
   ]
  },
  {
   "cell_type": "code",
   "execution_count": null,
   "id": "da7f0383-8605-4a22-9580-ef061f735e62",
   "metadata": {},
   "outputs": [],
   "source": [
    "#save_screenshot(commeants[1],f\"{asset_dir}/test.png\")"
   ]
  },
  {
   "cell_type": "code",
   "execution_count": null,
   "id": "5043fd53-fe5a-4179-9189-fa2e0a3e61ae",
   "metadata": {},
   "outputs": [],
   "source": []
  },
  {
   "cell_type": "code",
   "execution_count": null,
   "id": "7a80580f-ca5f-42af-8ba3-2860be5acea1",
   "metadata": {},
   "outputs": [],
   "source": []
  },
  {
   "cell_type": "markdown",
   "id": "b70127d3-87c0-4abb-a65e-d8604a6e5712",
   "metadata": {},
   "source": []
  },
  {
   "cell_type": "markdown",
   "id": "d942aa6d-c89c-4596-86a6-46acfed9ed1e",
   "metadata": {},
   "source": [
    "# Execute TTS at this point (on windows GPU) then run below\n",
    "input(\"Execute TTS at this point (on windows GPU) then run below...(press enter)\")"
   ]
  },
  {
   "cell_type": "code",
   "execution_count": 4,
   "id": "310194a0-ce98-45ec-aff7-9f004cd41ab2",
   "metadata": {},
   "outputs": [],
   "source": [
    "asset_dir = \"/mnt/n/data/reddit-yt-tts/queued\"\n",
    "completed_dir=\"/mnt/n/data/reddit-yt-tts/completed\""
   ]
  },
  {
   "cell_type": "code",
   "execution_count": 5,
   "id": "a0418da4-d593-41ce-9467-82bb59827b89",
   "metadata": {},
   "outputs": [
    {
     "data": {
      "text/plain": [
       "['has_anyone_ever_been_to_a_wedding_where_someone',\n",
       " 'what_was_normal_2030_years_ago_but_is_considered',\n",
       " 'people_who_get_in_their_cars_but_then_take_ages',\n",
       " 'to_you_redditors_aged_50_whats_something_you',\n",
       " 'whats_something_popular_that_you_refuse_to_get',\n",
       " 'what_is_just_not_the_flex_that_people_think_it_is',\n",
       " 'people_who_wake_up_at_5am_daily_why',\n",
       " 'what_television_series_had_the_biggest_bullshit']"
      ]
     },
     "execution_count": 5,
     "metadata": {},
     "output_type": "execute_result"
    }
   ],
   "source": [
    "submission_titles = [x.split(\"/\")[-1] for x in glob.glob(f\"{asset_dir}/*\")]\n",
    "submission_titles"
   ]
  },
  {
   "cell_type": "code",
   "execution_count": 3,
   "id": "ef6348d0-0ade-4067-95e3-3efb51c28800",
   "metadata": {
    "tags": []
   },
   "outputs": [],
   "source": [
    "#2023-05-22\n",
    "post_urls = [\n",
    "    \"https://www.reddit.com/r/AskReddit/comments/13ec6op/has_anyone_ever_been_to_a_wedding_where_someone/\",\n",
    "    \"https://www.reddit.com/r/AskReddit/comments/13i9ark/what_television_series_had_the_biggest_bullshit/\",\n",
    "    \"https://www.reddit.com/r/AskReddit/comments/13lvmly/what_was_normal_2030_years_ago_but_is_considered/\",\n",
    "    \"https://www.reddit.com/r/AskReddit/comments/13kuo93/to_you_redditors_aged_50_whats_something_you/\",\n",
    "    \"https://www.reddit.com/r/AskReddit/comments/13angrv/whats_something_popular_that_you_refuse_to_get/\",\n",
    "    \"https://www.reddit.com/r/AskReddit/comments/13nps5d/people_who_wake_up_at_5am_daily_why/\",\n",
    "    \"https://www.reddit.com/r/AskReddit/comments/13bt91m/what_is_just_not_the_flex_that_people_think_it_is/\",\n",
    "    \"https://www.reddit.com/r/AskReddit/comments/13hyxco/people_who_get_in_their_cars_but_then_take_ages/\"\n",
    "]\n"
   ]
  },
  {
   "cell_type": "code",
   "execution_count": 6,
   "id": "ca525c64-4b3c-4c90-87a2-08a4389e52ad",
   "metadata": {},
   "outputs": [],
   "source": [
    "completed_metadata_files = [x.split(\"/\")[-1] for x in glob.glob(f\"{asset_dir}/../assets/*metadata*/*\")]"
   ]
  },
  {
   "cell_type": "code",
   "execution_count": 7,
   "id": "ee8cd3d9-dcf1-4313-b4a3-1623e5b9cdc9",
   "metadata": {},
   "outputs": [],
   "source": [
    "skipped_threads = [\"bernie_sanders_says_us_should_confiscate_100_of\"]"
   ]
  },
  {
   "cell_type": "code",
   "execution_count": 8,
   "id": "75afba58-5426-454f-84dd-7f13859482b0",
   "metadata": {},
   "outputs": [
    {
     "name": "stdout",
     "output_type": "stream",
     "text": [
      "Processing has_anyone_ever_been_to_a_wedding_where_someone ...\n"
     ]
    },
    {
     "name": "stderr",
     "output_type": "stream",
     "text": [
      "  0%|                                                    | 0/56 [00:00<?, ?it/s]"
     ]
    },
    {
     "name": "stdout",
     "output_type": "stream",
     "text": [
      "0001-Posted by-30_5k\n"
     ]
    },
    {
     "name": "stderr",
     "output_type": "stream",
     "text": [
      "  2%|▊                                           | 1/56 [00:04<03:50,  4.19s/it]"
     ]
    },
    {
     "name": "stdout",
     "output_type": "stream",
     "text": [
      "0002-mynameizgary-10_4k\n"
     ]
    },
    {
     "name": "stderr",
     "output_type": "stream",
     "text": [
      "  4%|█▌                                          | 2/56 [01:26<45:22, 50.43s/it]"
     ]
    },
    {
     "name": "stdout",
     "output_type": "stream",
     "text": [
      "0003-Amaevise-2_6k\n"
     ]
    },
    {
     "name": "stderr",
     "output_type": "stream",
     "text": [
      "  5%|██▎                                         | 3/56 [01:43<31:01, 35.11s/it]"
     ]
    },
    {
     "name": "stdout",
     "output_type": "stream",
     "text": [
      "0004-Chiquita4eyes-14_9k\n"
     ]
    },
    {
     "name": "stderr",
     "output_type": "stream",
     "text": [
      "  7%|███▏                                        | 4/56 [01:56<22:34, 26.05s/it]"
     ]
    },
    {
     "name": "stdout",
     "output_type": "stream",
     "text": [
      "0005-peeweekiwis-1_8k\n"
     ]
    },
    {
     "name": "stderr",
     "output_type": "stream",
     "text": [
      "  9%|███▉                                        | 5/56 [02:07<17:47, 20.92s/it]"
     ]
    },
    {
     "name": "stdout",
     "output_type": "stream",
     "text": [
      "0006-HughSteele-9_5k\n"
     ]
    },
    {
     "name": "stderr",
     "output_type": "stream",
     "text": [
      " 11%|████▋                                       | 6/56 [02:41<21:00, 25.22s/it]"
     ]
    },
    {
     "name": "stdout",
     "output_type": "stream",
     "text": [
      "0007-Bayou_Mama-12_1k\n"
     ]
    },
    {
     "name": "stderr",
     "output_type": "stream",
     "text": [
      " 12%|█████▌                                      | 7/56 [03:47<31:33, 38.65s/it]"
     ]
    },
    {
     "name": "stdout",
     "output_type": "stream",
     "text": [
      "0008-Rabies182-11_4k\n"
     ]
    },
    {
     "name": "stderr",
     "output_type": "stream",
     "text": [
      " 14%|██████▎                                     | 8/56 [04:02<24:43, 30.91s/it]"
     ]
    },
    {
     "name": "stdout",
     "output_type": "stream",
     "text": [
      "0009-Tobias---Funke-12_8k\n"
     ]
    },
    {
     "name": "stderr",
     "output_type": "stream",
     "text": [
      " 16%|███████                                     | 9/56 [05:19<35:33, 45.39s/it]"
     ]
    },
    {
     "name": "stdout",
     "output_type": "stream",
     "text": [
      "0010-Jinjoz-801\n"
     ]
    },
    {
     "name": "stderr",
     "output_type": "stream",
     "text": [
      " 18%|███████▋                                   | 10/56 [05:24<25:10, 32.84s/it]"
     ]
    },
    {
     "name": "stdout",
     "output_type": "stream",
     "text": [
      "0011-dookieshoes88-4_7k\n"
     ]
    },
    {
     "name": "stderr",
     "output_type": "stream",
     "text": [
      " 20%|████████▍                                  | 11/56 [05:30<18:31, 24.71s/it]"
     ]
    },
    {
     "name": "stdout",
     "output_type": "stream",
     "text": [
      "0012-hundreddollar-7_7k\n"
     ]
    },
    {
     "name": "stderr",
     "output_type": "stream",
     "text": [
      " 21%|█████████▏                                 | 12/56 [05:46<16:12, 22.11s/it]"
     ]
    },
    {
     "name": "stdout",
     "output_type": "stream",
     "text": [
      "0013-Lsd365-17_5k\n"
     ]
    },
    {
     "name": "stderr",
     "output_type": "stream",
     "text": [
      " 23%|█████████▉                                 | 13/56 [06:22<18:54, 26.39s/it]"
     ]
    },
    {
     "name": "stdout",
     "output_type": "stream",
     "text": [
      "0014-SuvenPan-2_1k\n"
     ]
    },
    {
     "name": "stderr",
     "output_type": "stream",
     "text": [
      " 25%|██████████▊                                | 14/56 [06:33<15:07, 21.62s/it]"
     ]
    },
    {
     "name": "stdout",
     "output_type": "stream",
     "text": [
      "0015-ibiacmbyww-13_4k\n"
     ]
    },
    {
     "name": "stderr",
     "output_type": "stream",
     "text": [
      " 27%|███████████▌                               | 15/56 [06:55<14:53, 21.80s/it]"
     ]
    },
    {
     "name": "stdout",
     "output_type": "stream",
     "text": [
      "0016-FDS_MTG-24_7k\n"
     ]
    },
    {
     "name": "stderr",
     "output_type": "stream",
     "text": [
      " 29%|████████████▎                              | 16/56 [08:18<26:50, 40.27s/it]"
     ]
    },
    {
     "name": "stdout",
     "output_type": "stream",
     "text": [
      "0017-efloresmty-1_7k\n"
     ]
    },
    {
     "name": "stderr",
     "output_type": "stream",
     "text": [
      " 30%|█████████████                              | 17/56 [08:27<20:05, 30.90s/it]"
     ]
    },
    {
     "name": "stdout",
     "output_type": "stream",
     "text": [
      "0018-nebelhund-11_1k\n"
     ]
    },
    {
     "name": "stderr",
     "output_type": "stream",
     "text": [
      " 32%|█████████████▊                             | 18/56 [09:01<20:04, 31.70s/it]"
     ]
    },
    {
     "name": "stdout",
     "output_type": "stream",
     "text": [
      "0019-DannySpud2-10_7k\n"
     ]
    },
    {
     "name": "stderr",
     "output_type": "stream",
     "text": [
      " 34%|██████████████▌                            | 19/56 [09:38<20:33, 33.34s/it]"
     ]
    },
    {
     "name": "stdout",
     "output_type": "stream",
     "text": [
      "0020-curtludwig-1_3k\n"
     ]
    },
    {
     "name": "stderr",
     "output_type": "stream",
     "text": [
      " 36%|███████████████▎                           | 20/56 [10:11<19:57, 33.27s/it]"
     ]
    },
    {
     "name": "stdout",
     "output_type": "stream",
     "text": [
      "0021-nathcrowley-6_0k\n"
     ]
    },
    {
     "name": "stderr",
     "output_type": "stream",
     "text": [
      " 38%|████████████████▏                          | 21/56 [10:54<21:10, 36.29s/it]"
     ]
    },
    {
     "name": "stdout",
     "output_type": "stream",
     "text": [
      "0023-linux1970-2_6k\n"
     ]
    },
    {
     "name": "stderr",
     "output_type": "stream",
     "text": [
      " 39%|████████████████▉                          | 22/56 [11:13<17:37, 31.10s/it]"
     ]
    },
    {
     "name": "stdout",
     "output_type": "stream",
     "text": [
      "0024-ohdearitsrichardiii-15_5k\n"
     ]
    },
    {
     "name": "stderr",
     "output_type": "stream",
     "text": [
      " 41%|█████████████████▋                         | 23/56 [11:25<13:54, 25.29s/it]"
     ]
    },
    {
     "name": "stdout",
     "output_type": "stream",
     "text": [
      "0025-jamesshine-25_6k\n"
     ]
    },
    {
     "name": "stderr",
     "output_type": "stream",
     "text": [
      " 43%|██████████████████▍                        | 24/56 [11:59<14:53, 27.92s/it]"
     ]
    },
    {
     "name": "stdout",
     "output_type": "stream",
     "text": [
      "0026-AutumnGway-1_9k\n"
     ]
    },
    {
     "name": "stderr",
     "output_type": "stream",
     "text": [
      " 45%|███████████████████▏                       | 25/56 [12:12<12:02, 23.31s/it]"
     ]
    },
    {
     "name": "stdout",
     "output_type": "stream",
     "text": [
      "0027-peewinkle-8_5k\n"
     ]
    },
    {
     "name": "stderr",
     "output_type": "stream",
     "text": [
      " 46%|███████████████████▉                       | 26/56 [12:31<10:59, 22.00s/it]"
     ]
    },
    {
     "name": "stdout",
     "output_type": "stream",
     "text": [
      "0028-StuntCockofGilead-31_4k\n"
     ]
    },
    {
     "name": "stderr",
     "output_type": "stream",
     "text": [
      " 48%|████████████████████▋                      | 27/56 [12:54<10:50, 22.43s/it]"
     ]
    },
    {
     "name": "stdout",
     "output_type": "stream",
     "text": [
      "0029-msmame-590\n"
     ]
    },
    {
     "name": "stderr",
     "output_type": "stream",
     "text": [
      " 50%|█████████████████████▌                     | 28/56 [13:55<15:50, 33.94s/it]"
     ]
    },
    {
     "name": "stdout",
     "output_type": "stream",
     "text": [
      "0030-Jecmenn-2_0k\n"
     ]
    },
    {
     "name": "stderr",
     "output_type": "stream",
     "text": [
      " 52%|██████████████████████▎                    | 29/56 [14:19<14:00, 31.12s/it]"
     ]
    },
    {
     "name": "stdout",
     "output_type": "stream",
     "text": [
      "0031-Iamclavicusvile-4_5k\n"
     ]
    },
    {
     "name": "stderr",
     "output_type": "stream",
     "text": [
      " 54%|███████████████████████                    | 30/56 [15:20<17:21, 40.07s/it]"
     ]
    },
    {
     "name": "stdout",
     "output_type": "stream",
     "text": [
      "0032-Husbandaru-4_6k\n"
     ]
    },
    {
     "name": "stderr",
     "output_type": "stream",
     "text": [
      " 55%|███████████████████████▊                   | 31/56 [15:40<14:06, 33.85s/it]"
     ]
    },
    {
     "name": "stdout",
     "output_type": "stream",
     "text": [
      "0033-DragonSurferEGO-1_2k\n"
     ]
    },
    {
     "name": "stderr",
     "output_type": "stream",
     "text": [
      " 57%|████████████████████████▌                  | 32/56 [16:51<17:59, 44.98s/it]"
     ]
    },
    {
     "name": "stdout",
     "output_type": "stream",
     "text": [
      "0035-cmerry-1_9k\n"
     ]
    },
    {
     "name": "stderr",
     "output_type": "stream",
     "text": [
      " 59%|█████████████████████████▎                 | 33/56 [17:29<16:26, 42.90s/it]"
     ]
    },
    {
     "name": "stdout",
     "output_type": "stream",
     "text": [
      "0036-StrategyKindly4024-503\n"
     ]
    },
    {
     "name": "stderr",
     "output_type": "stream",
     "text": [
      " 61%|██████████████████████████                 | 34/56 [19:11<22:12, 60.56s/it]"
     ]
    },
    {
     "name": "stdout",
     "output_type": "stream",
     "text": [
      "0037-Lord_Banana_14-11_2k\n"
     ]
    },
    {
     "name": "stderr",
     "output_type": "stream",
     "text": [
      " 66%|████████████████████████████▍              | 37/56 [19:41<08:46, 27.70s/it]"
     ]
    },
    {
     "name": "stdout",
     "output_type": "stream",
     "text": [
      "0038-beefwich-1_0k\n",
      "audio file /mnt/n/data/reddit-yt-tts/completed/has_anyone_ever_been_to_a_wedding_where_someone/0038-beefwich-1_0k/0000.wav not found\n",
      "0039-Saffer13-2_3k\n",
      "audio file /mnt/n/data/reddit-yt-tts/completed/has_anyone_ever_been_to_a_wedding_where_someone/0039-Saffer13-2_3k/0000.wav not found\n",
      "audio file /mnt/n/data/reddit-yt-tts/completed/has_anyone_ever_been_to_a_wedding_where_someone/0039-Saffer13-2_3k/0001.wav not found\n",
      "0040-MidwestBulldog-1_8k\n",
      "audio file /mnt/n/data/reddit-yt-tts/completed/has_anyone_ever_been_to_a_wedding_where_someone/0040-MidwestBulldog-1_8k/0000.wav not found\n",
      "0041-Granpafunk-583\n",
      "audio file /mnt/n/data/reddit-yt-tts/completed/has_anyone_ever_been_to_a_wedding_where_someone/0041-Granpafunk-583/0000.wav not found\n",
      "0042-acorngirl-1_5k\n",
      "audio file /mnt/n/data/reddit-yt-tts/completed/has_anyone_ever_been_to_a_wedding_where_someone/0042-acorngirl-1_5k/0000.wav not found\n"
     ]
    },
    {
     "name": "stderr",
     "output_type": "stream",
     "text": [
      " 73%|███████████████████████████████▍           | 41/56 [19:41<02:59, 11.97s/it]"
     ]
    },
    {
     "name": "stdout",
     "output_type": "stream",
     "text": [
      "audio file /mnt/n/data/reddit-yt-tts/completed/has_anyone_ever_been_to_a_wedding_where_someone/0042-acorngirl-1_5k/0001.wav not found\n",
      "0043-TwistedTransistor55-4_7k\n",
      "audio file /mnt/n/data/reddit-yt-tts/completed/has_anyone_ever_been_to_a_wedding_where_someone/0043-TwistedTransistor55-4_7k/0000.wav not found\n",
      "audio file /mnt/n/data/reddit-yt-tts/completed/has_anyone_ever_been_to_a_wedding_where_someone/0043-TwistedTransistor55-4_7k/0001.wav not found\n",
      "audio file /mnt/n/data/reddit-yt-tts/completed/has_anyone_ever_been_to_a_wedding_where_someone/0043-TwistedTransistor55-4_7k/0002.wav not found\n",
      "audio file /mnt/n/data/reddit-yt-tts/completed/has_anyone_ever_been_to_a_wedding_where_someone/0043-TwistedTransistor55-4_7k/0003.wav not found\n",
      "audio file /mnt/n/data/reddit-yt-tts/completed/has_anyone_ever_been_to_a_wedding_where_someone/0043-TwistedTransistor55-4_7k/0004.wav not found\n",
      "0044-BteamBomber21-1_3k\n",
      "audio file /mnt/n/data/reddit-yt-tts/completed/has_anyone_ever_been_to_a_wedding_where_someone/0044-BteamBomber21-1_3k/0000.wav not found\n",
      "0049-Tink2013-5_4k\n",
      "audio file /mnt/n/data/reddit-yt-tts/completed/has_anyone_ever_been_to_a_wedding_where_someone/0049-Tink2013-5_4k/0000.wav not found\n",
      "audio file /mnt/n/data/reddit-yt-tts/completed/has_anyone_ever_been_to_a_wedding_where_someone/0049-Tink2013-5_4k/0001.wav not found\n",
      "audio file /mnt/n/data/reddit-yt-tts/completed/has_anyone_ever_been_to_a_wedding_where_someone/0049-Tink2013-5_4k/0002.wav not found\n",
      "0050-Express_Survey7390-2_0k\n"
     ]
    },
    {
     "name": "stderr",
     "output_type": "stream",
     "text": [
      " 82%|███████████████████████████████████▎       | 46/56 [19:41<00:54,  5.49s/it]"
     ]
    },
    {
     "name": "stdout",
     "output_type": "stream",
     "text": [
      "audio file /mnt/n/data/reddit-yt-tts/completed/has_anyone_ever_been_to_a_wedding_where_someone/0050-Express_Survey7390-2_0k/0000.wav not found\n",
      "0054-REDDITprime1212-668\n",
      "audio file /mnt/n/data/reddit-yt-tts/completed/has_anyone_ever_been_to_a_wedding_where_someone/0054-REDDITprime1212-668/0000.wav not found\n",
      "0055-Gbuphallow-7_0k\n",
      "audio file /mnt/n/data/reddit-yt-tts/completed/has_anyone_ever_been_to_a_wedding_where_someone/0055-Gbuphallow-7_0k/0000.wav not found\n",
      "audio file /mnt/n/data/reddit-yt-tts/completed/has_anyone_ever_been_to_a_wedding_where_someone/0055-Gbuphallow-7_0k/0001.wav not found\n",
      "audio file /mnt/n/data/reddit-yt-tts/completed/has_anyone_ever_been_to_a_wedding_where_someone/0055-Gbuphallow-7_0k/0002.wav not found\n",
      "0056-theoisthegame-1_2k\n",
      "audio file /mnt/n/data/reddit-yt-tts/completed/has_anyone_ever_been_to_a_wedding_where_someone/0056-theoisthegame-1_2k/0000.wav not found\n",
      "0060-RepeatDTD-466\n"
     ]
    },
    {
     "name": "stderr",
     "output_type": "stream",
     "text": [
      " 91%|███████████████████████████████████████▏   | 51/56 [19:41<00:13,  2.63s/it]"
     ]
    },
    {
     "name": "stdout",
     "output_type": "stream",
     "text": [
      "audio file /mnt/n/data/reddit-yt-tts/completed/has_anyone_ever_been_to_a_wedding_where_someone/0060-RepeatDTD-466/0000.wav not found\n",
      "0062-genawesome-649\n",
      "audio file /mnt/n/data/reddit-yt-tts/completed/has_anyone_ever_been_to_a_wedding_where_someone/0062-genawesome-649/0000.wav not found\n",
      "0065-Iamyous3f-387\n",
      "audio file /mnt/n/data/reddit-yt-tts/completed/has_anyone_ever_been_to_a_wedding_where_someone/0065-Iamyous3f-387/0000.wav not found\n",
      "audio file /mnt/n/data/reddit-yt-tts/completed/has_anyone_ever_been_to_a_wedding_where_someone/0065-Iamyous3f-387/0001.wav not found\n",
      "0070-cypherpuzzle-1_2k\n",
      "audio file /mnt/n/data/reddit-yt-tts/completed/has_anyone_ever_been_to_a_wedding_where_someone/0070-cypherpuzzle-1_2k/0000.wav not found\n",
      "audio file /mnt/n/data/reddit-yt-tts/completed/has_anyone_ever_been_to_a_wedding_where_someone/0070-cypherpuzzle-1_2k/0001.wav not found\n",
      "audio file /mnt/n/data/reddit-yt-tts/completed/has_anyone_ever_been_to_a_wedding_where_someone/0070-cypherpuzzle-1_2k/0005.wav not found\n",
      "0079-Variety43-659\n",
      "audio file /mnt/n/data/reddit-yt-tts/completed/has_anyone_ever_been_to_a_wedding_where_someone/0079-Variety43-659/0000.wav not found\n"
     ]
    },
    {
     "name": "stderr",
     "output_type": "stream",
     "text": [
      " 98%|██████████████████████████████████████████▏| 55/56 [19:42<00:01,  1.42s/it]"
     ]
    },
    {
     "name": "stdout",
     "output_type": "stream",
     "text": [
      "audio file /mnt/n/data/reddit-yt-tts/completed/has_anyone_ever_been_to_a_wedding_where_someone/0079-Variety43-659/0001.wav not found\n",
      "0081-QueenHelloKitty-574\n",
      "audio file /mnt/n/data/reddit-yt-tts/completed/has_anyone_ever_been_to_a_wedding_where_someone/0081-QueenHelloKitty-574/0000.wav not found\n",
      "audio file /mnt/n/data/reddit-yt-tts/completed/has_anyone_ever_been_to_a_wedding_where_someone/0081-QueenHelloKitty-574/0001.wav not found\n",
      "0083-ElDoggy-461\n",
      "audio file /mnt/n/data/reddit-yt-tts/completed/has_anyone_ever_been_to_a_wedding_where_someone/0083-ElDoggy-461/0000.wav not found\n",
      "audio file /mnt/n/data/reddit-yt-tts/completed/has_anyone_ever_been_to_a_wedding_where_someone/0083-ElDoggy-461/0001.wav not found\n",
      "0099-redditslayer95-513\n",
      "audio file /mnt/n/data/reddit-yt-tts/completed/has_anyone_ever_been_to_a_wedding_where_someone/0099-redditslayer95-513/0000.wav not found\n",
      "0113-Storyteller678-536\n"
     ]
    },
    {
     "name": "stderr",
     "output_type": "stream",
     "text": [
      "100%|███████████████████████████████████████████| 56/56 [19:42<00:00, 21.11s/it]\n"
     ]
    },
    {
     "name": "stdout",
     "output_type": "stream",
     "text": [
      "audio file /mnt/n/data/reddit-yt-tts/completed/has_anyone_ever_been_to_a_wedding_where_someone/0113-Storyteller678-536/0000.wav not found\n",
      "done!...info:\n",
      " prompt_text: Has anyone ever been to a wedding where someone actually objected, and if so, how did that go?\n",
      " submission_title: has_anyone_ever_been_to_a_wedding_where_someone \n",
      " video_file: assets/final_videos/has_anyone_ever_been_to_a_wedding_where_someone.mp4 \n",
      " credits_file: assets/final_video_credits/has_anyone_ever_been_to_a_wedding_where_someone.txt\n",
      " thumbnail: assets/final_video_thumbnails/has_anyone_ever_been_to_a_wedding_where_someone.png \n",
      " post: https://www.reddit.com/r/AskReddit/comments/13ec6op/has_anyone_ever_been_to_a_wedding_where_someone/\n",
      "Processing what_was_normal_2030_years_ago_but_is_considered ...\n"
     ]
    },
    {
     "name": "stderr",
     "output_type": "stream",
     "text": [
      "  0%|                                                    | 0/44 [00:00<?, ?it/s]"
     ]
    },
    {
     "name": "stdout",
     "output_type": "stream",
     "text": [
      "0001-Posted by-28_4k\n"
     ]
    },
    {
     "name": "stderr",
     "output_type": "stream",
     "text": [
      "  2%|█                                           | 1/44 [00:02<01:51,  2.60s/it]"
     ]
    },
    {
     "name": "stdout",
     "output_type": "stream",
     "text": [
      "0002-Juls7243-17_8k\n"
     ]
    },
    {
     "name": "stderr",
     "output_type": "stream",
     "text": [
      "  5%|██                                          | 2/44 [00:27<11:02, 15.78s/it]"
     ]
    },
    {
     "name": "stdout",
     "output_type": "stream",
     "text": [
      "0003-FinnofLocke-8_4k\n"
     ]
    },
    {
     "name": "stderr",
     "output_type": "stream",
     "text": [
      "  7%|███                                         | 3/44 [00:29<06:21,  9.32s/it]"
     ]
    },
    {
     "name": "stdout",
     "output_type": "stream",
     "text": [
      "0004-Siukslinis_acc-20_8k\n"
     ]
    },
    {
     "name": "stderr",
     "output_type": "stream",
     "text": [
      "  9%|████                                        | 4/44 [01:00<12:01, 18.03s/it]"
     ]
    },
    {
     "name": "stdout",
     "output_type": "stream",
     "text": [
      "0005-newsaggregateftw-2_7k\n"
     ]
    },
    {
     "name": "stderr",
     "output_type": "stream",
     "text": [
      " 11%|█████                                       | 5/44 [01:02<07:57, 12.24s/it]"
     ]
    },
    {
     "name": "stdout",
     "output_type": "stream",
     "text": [
      "0006-Quality_Street_1-1_7k\n"
     ]
    },
    {
     "name": "stderr",
     "output_type": "stream",
     "text": [
      " 14%|██████                                      | 6/44 [01:03<05:23,  8.51s/it]"
     ]
    },
    {
     "name": "stdout",
     "output_type": "stream",
     "text": [
      "0007-homie93-6_7k\n"
     ]
    },
    {
     "name": "stderr",
     "output_type": "stream",
     "text": [
      " 16%|███████                                     | 7/44 [01:24<07:46, 12.60s/it]"
     ]
    },
    {
     "name": "stdout",
     "output_type": "stream",
     "text": [
      "0008-SuvenPan-6_5k\n"
     ]
    },
    {
     "name": "stderr",
     "output_type": "stream",
     "text": [
      " 18%|████████                                    | 8/44 [01:27<05:44,  9.56s/it]"
     ]
    },
    {
     "name": "stdout",
     "output_type": "stream",
     "text": [
      "0009-jrhawk42-21_3k\n"
     ]
    },
    {
     "name": "stderr",
     "output_type": "stream",
     "text": [
      " 20%|█████████                                   | 9/44 [02:44<17:45, 30.46s/it]"
     ]
    },
    {
     "name": "stdout",
     "output_type": "stream",
     "text": [
      "0010-einRoboter-30_0k\n"
     ]
    },
    {
     "name": "stderr",
     "output_type": "stream",
     "text": [
      " 23%|█████████▊                                 | 10/44 [04:05<26:05, 46.04s/it]"
     ]
    },
    {
     "name": "stdout",
     "output_type": "stream",
     "text": [
      "0011-mazokuz-25_4k\n"
     ]
    },
    {
     "name": "stderr",
     "output_type": "stream",
     "text": [
      " 25%|██████████▊                                | 11/44 [05:05<27:38, 50.25s/it]"
     ]
    },
    {
     "name": "stdout",
     "output_type": "stream",
     "text": [
      "0012-El_Mariachi_Vive-16_3k\n"
     ]
    },
    {
     "name": "stderr",
     "output_type": "stream",
     "text": [
      " 27%|███████████▋                               | 12/44 [06:28<32:13, 60.43s/it]"
     ]
    },
    {
     "name": "stdout",
     "output_type": "stream",
     "text": [
      "0013-THESSIS-18_1k\n"
     ]
    },
    {
     "name": "stderr",
     "output_type": "stream",
     "text": [
      " 30%|████████████▋                              | 13/44 [06:43<24:00, 46.45s/it]"
     ]
    },
    {
     "name": "stdout",
     "output_type": "stream",
     "text": [
      "0015-TheMadLaboratorian-30_5k\n"
     ]
    },
    {
     "name": "stderr",
     "output_type": "stream",
     "text": [
      " 32%|█████████████▋                             | 14/44 [09:12<38:49, 77.64s/it]"
     ]
    },
    {
     "name": "stdout",
     "output_type": "stream",
     "text": [
      "0016-audiofankk-968\n"
     ]
    },
    {
     "name": "stderr",
     "output_type": "stream",
     "text": [
      " 34%|██████████████▋                            | 15/44 [09:16<26:42, 55.26s/it]"
     ]
    },
    {
     "name": "stdout",
     "output_type": "stream",
     "text": [
      "0017-few29er-33_3k\n"
     ]
    },
    {
     "name": "stderr",
     "output_type": "stream",
     "text": [
      " 36%|███████████████▋                           | 16/44 [10:09<25:28, 54.59s/it]"
     ]
    },
    {
     "name": "stdout",
     "output_type": "stream",
     "text": [
      "0018-M-the-music-guy-1_8k\n"
     ]
    },
    {
     "name": "stderr",
     "output_type": "stream",
     "text": [
      " 39%|████████████████▌                          | 17/44 [10:16<18:08, 40.30s/it]"
     ]
    },
    {
     "name": "stdout",
     "output_type": "stream",
     "text": [
      "0019-anachronistika-5_7k\n"
     ]
    },
    {
     "name": "stderr",
     "output_type": "stream",
     "text": [
      " 41%|█████████████████▌                         | 18/44 [10:18<12:33, 28.98s/it]"
     ]
    },
    {
     "name": "stdout",
     "output_type": "stream",
     "text": [
      "0020-riphitter-6_4k\n"
     ]
    },
    {
     "name": "stderr",
     "output_type": "stream",
     "text": [
      " 43%|██████████████████▌                        | 19/44 [10:23<09:04, 21.79s/it]"
     ]
    },
    {
     "name": "stdout",
     "output_type": "stream",
     "text": [
      "0021-subtleAssiduity-821\n"
     ]
    },
    {
     "name": "stderr",
     "output_type": "stream",
     "text": [
      " 45%|███████████████████▌                       | 20/44 [10:26<06:24, 16.01s/it]"
     ]
    },
    {
     "name": "stdout",
     "output_type": "stream",
     "text": [
      "0022-shaoting-2_6k\n"
     ]
    },
    {
     "name": "stderr",
     "output_type": "stream",
     "text": [
      " 48%|████████████████████▌                      | 21/44 [10:47<06:39, 17.38s/it]"
     ]
    },
    {
     "name": "stdout",
     "output_type": "stream",
     "text": [
      "0023-depressedhousewifee-11_7k\n"
     ]
    },
    {
     "name": "stderr",
     "output_type": "stream",
     "text": [
      " 50%|█████████████████████▌                     | 22/44 [11:03<06:15, 17.09s/it]"
     ]
    },
    {
     "name": "stdout",
     "output_type": "stream",
     "text": [
      "0024-Ramen_Beef_Baby-10_8k\n"
     ]
    },
    {
     "name": "stderr",
     "output_type": "stream",
     "text": [
      " 52%|██████████████████████▍                    | 23/44 [12:29<13:12, 37.74s/it]"
     ]
    },
    {
     "name": "stdout",
     "output_type": "stream",
     "text": [
      "0025-M5606-5_0k\n"
     ]
    },
    {
     "name": "stderr",
     "output_type": "stream",
     "text": [
      " 55%|███████████████████████▍                   | 24/44 [13:07<12:38, 37.93s/it]"
     ]
    },
    {
     "name": "stdout",
     "output_type": "stream",
     "text": [
      "0026-PhreedomPhighter-4_8k\n"
     ]
    },
    {
     "name": "stderr",
     "output_type": "stream",
     "text": [
      " 57%|████████████████████████▍                  | 25/44 [13:35<11:01, 34.79s/it]"
     ]
    },
    {
     "name": "stdout",
     "output_type": "stream",
     "text": [
      "0027-AnnieAcely199-11_2k\n"
     ]
    },
    {
     "name": "stderr",
     "output_type": "stream",
     "text": [
      " 59%|█████████████████████████▍                 | 26/44 [14:25<11:48, 39.38s/it]"
     ]
    },
    {
     "name": "stdout",
     "output_type": "stream",
     "text": [
      "0029-CommercialSkirt2311-487\n"
     ]
    },
    {
     "name": "stderr",
     "output_type": "stream",
     "text": [
      " 61%|██████████████████████████▍                | 27/44 [14:52<10:09, 35.85s/it]"
     ]
    },
    {
     "name": "stdout",
     "output_type": "stream",
     "text": [
      "0031-LucyVialli-3_7k\n"
     ]
    },
    {
     "name": "stderr",
     "output_type": "stream",
     "text": [
      " 64%|███████████████████████████▎               | 28/44 [15:07<07:51, 29.48s/it]"
     ]
    },
    {
     "name": "stdout",
     "output_type": "stream",
     "text": [
      "0032-Yourname942-2_1k\n"
     ]
    },
    {
     "name": "stderr",
     "output_type": "stream",
     "text": [
      " 66%|████████████████████████████▎              | 29/44 [15:20<06:07, 24.49s/it]"
     ]
    },
    {
     "name": "stdout",
     "output_type": "stream",
     "text": [
      "0033-Battery6512-2_0k\n"
     ]
    },
    {
     "name": "stderr",
     "output_type": "stream",
     "text": [
      " 68%|█████████████████████████████▎             | 30/44 [15:32<04:51, 20.79s/it]"
     ]
    },
    {
     "name": "stdout",
     "output_type": "stream",
     "text": [
      "0034-Irrationate-950\n"
     ]
    },
    {
     "name": "stderr",
     "output_type": "stream",
     "text": [
      " 70%|██████████████████████████████▎            | 31/44 [15:37<03:28, 16.01s/it]"
     ]
    },
    {
     "name": "stdout",
     "output_type": "stream",
     "text": [
      "0037-Touche5963-795\n"
     ]
    },
    {
     "name": "stderr",
     "output_type": "stream",
     "text": [
      " 73%|███████████████████████████████▎           | 32/44 [15:41<02:28, 12.37s/it]"
     ]
    },
    {
     "name": "stdout",
     "output_type": "stream",
     "text": [
      "0038-thisninjaoverhere-10_3k\n"
     ]
    },
    {
     "name": "stderr",
     "output_type": "stream",
     "text": [
      " 75%|████████████████████████████████▎          | 33/44 [15:44<01:45,  9.58s/it]"
     ]
    },
    {
     "name": "stdout",
     "output_type": "stream",
     "text": [
      "0039-OrganizationRare587-2_3k\n"
     ]
    },
    {
     "name": "stderr",
     "output_type": "stream",
     "text": [
      " 77%|█████████████████████████████████▏         | 34/44 [15:47<01:16,  7.69s/it]"
     ]
    },
    {
     "name": "stdout",
     "output_type": "stream",
     "text": [
      "0040-Lking4goodargs-2_8k\n"
     ]
    },
    {
     "name": "stderr",
     "output_type": "stream",
     "text": [
      " 84%|████████████████████████████████████▏      | 37/44 [15:56<00:30,  4.43s/it]"
     ]
    },
    {
     "name": "stdout",
     "output_type": "stream",
     "text": [
      "0042-two_fish-718\n",
      "audio file /mnt/n/data/reddit-yt-tts/completed/what_was_normal_2030_years_ago_but_is_considered/0042-two_fish-718/0000.wav not found\n",
      "audio file /mnt/n/data/reddit-yt-tts/completed/what_was_normal_2030_years_ago_but_is_considered/0042-two_fish-718/0001.wav not found\n",
      "0049-RNGezzus-1_3k\n",
      "audio file /mnt/n/data/reddit-yt-tts/completed/what_was_normal_2030_years_ago_but_is_considered/0049-RNGezzus-1_3k/0000.wav not found\n",
      "0052-jrsinhbca-507\n",
      "audio file /mnt/n/data/reddit-yt-tts/completed/what_was_normal_2030_years_ago_but_is_considered/0052-jrsinhbca-507/0000.wav not found\n"
     ]
    },
    {
     "name": "stderr",
     "output_type": "stream",
     "text": [
      " 93%|████████████████████████████████████████   | 41/44 [15:57<00:05,  1.74s/it]"
     ]
    },
    {
     "name": "stdout",
     "output_type": "stream",
     "text": [
      "audio file /mnt/n/data/reddit-yt-tts/completed/what_was_normal_2030_years_ago_but_is_considered/0052-jrsinhbca-507/0004.wav not found\n",
      "0055-Iarwain_ben_Adar-571\n",
      "audio file /mnt/n/data/reddit-yt-tts/completed/what_was_normal_2030_years_ago_but_is_considered/0055-Iarwain_ben_Adar-571/0000.wav not found\n",
      "0061-2xfun-555\n",
      "audio file /mnt/n/data/reddit-yt-tts/completed/what_was_normal_2030_years_ago_but_is_considered/0061-2xfun-555/0000.wav not found\n",
      "0062-Froticlias-508\n",
      "audio file /mnt/n/data/reddit-yt-tts/completed/what_was_normal_2030_years_ago_but_is_considered/0062-Froticlias-508/0000.wav not found\n",
      "audio file /mnt/n/data/reddit-yt-tts/completed/what_was_normal_2030_years_ago_but_is_considered/0062-Froticlias-508/0003.wav not found\n",
      "0065-TrailerParkPrepper-479\n"
     ]
    },
    {
     "name": "stderr",
     "output_type": "stream",
     "text": [
      " 98%|██████████████████████████████████████████ | 43/44 [15:57<00:01,  1.19s/it]"
     ]
    },
    {
     "name": "stdout",
     "output_type": "stream",
     "text": [
      "audio file /mnt/n/data/reddit-yt-tts/completed/what_was_normal_2030_years_ago_but_is_considered/0065-TrailerParkPrepper-479/0000.wav not found\n",
      "audio file /mnt/n/data/reddit-yt-tts/completed/what_was_normal_2030_years_ago_but_is_considered/0065-TrailerParkPrepper-479/0001.wav not found\n",
      "0093-gerginborisov-588\n",
      "audio file /mnt/n/data/reddit-yt-tts/completed/what_was_normal_2030_years_ago_but_is_considered/0093-gerginborisov-588/0000.wav not found\n",
      "audio file /mnt/n/data/reddit-yt-tts/completed/what_was_normal_2030_years_ago_but_is_considered/0093-gerginborisov-588/0001.wav not found\n",
      "audio file /mnt/n/data/reddit-yt-tts/completed/what_was_normal_2030_years_ago_but_is_considered/0093-gerginborisov-588/0002.wav not found\n",
      "0095-queuedUp-739\n"
     ]
    },
    {
     "name": "stderr",
     "output_type": "stream",
     "text": [
      "100%|███████████████████████████████████████████| 44/44 [15:57<00:00, 21.76s/it]\n"
     ]
    },
    {
     "name": "stdout",
     "output_type": "stream",
     "text": [
      "audio file /mnt/n/data/reddit-yt-tts/completed/what_was_normal_2030_years_ago_but_is_considered/0095-queuedUp-739/0000.wav not found\n",
      "done!...info:\n",
      " prompt_text: What was normal 20-30 years ago, but is considered a luxury now?\n",
      " submission_title: what_was_normal_2030_years_ago_but_is_considered \n",
      " video_file: assets/final_videos/what_was_normal_2030_years_ago_but_is_considered.mp4 \n",
      " credits_file: assets/final_video_credits/what_was_normal_2030_years_ago_but_is_considered.txt\n",
      " thumbnail: assets/final_video_thumbnails/what_was_normal_2030_years_ago_but_is_considered.png \n",
      " post: https://www.reddit.com/r/AskReddit/comments/13lvmly/what_was_normal_2030_years_ago_but_is_considered/\n",
      "Processing people_who_get_in_their_cars_but_then_take_ages ...\n"
     ]
    },
    {
     "name": "stderr",
     "output_type": "stream",
     "text": [
      "  0%|                                                    | 0/17 [00:00<?, ?it/s]"
     ]
    },
    {
     "name": "stdout",
     "output_type": "stream",
     "text": [
      "0001-Posted by-18_0k\n"
     ]
    },
    {
     "name": "stderr",
     "output_type": "stream",
     "text": [
      "  6%|██▌                                         | 1/17 [00:03<00:48,  3.02s/it]"
     ]
    },
    {
     "name": "stdout",
     "output_type": "stream",
     "text": [
      "0002-JBOYCE35239-8_5k\n"
     ]
    },
    {
     "name": "stderr",
     "output_type": "stream",
     "text": [
      " 12%|█████▏                                      | 2/17 [00:17<02:28,  9.89s/it]"
     ]
    },
    {
     "name": "stdout",
     "output_type": "stream",
     "text": [
      "0003-xINFLAMES325x-3_5k\n"
     ]
    },
    {
     "name": "stderr",
     "output_type": "stream",
     "text": [
      " 18%|███████▊                                    | 3/17 [00:28<02:24, 10.34s/it]"
     ]
    },
    {
     "name": "stdout",
     "output_type": "stream",
     "text": [
      "0004-Cobrawarrior567-20_9k\n"
     ]
    },
    {
     "name": "stderr",
     "output_type": "stream",
     "text": [
      " 24%|██████████▎                                 | 4/17 [02:06<09:43, 44.86s/it]"
     ]
    },
    {
     "name": "stdout",
     "output_type": "stream",
     "text": [
      "0005-Brandon48236-10_7k\n"
     ]
    },
    {
     "name": "stderr",
     "output_type": "stream",
     "text": [
      " 29%|████████████▉                               | 5/17 [02:34<07:46, 38.89s/it]"
     ]
    },
    {
     "name": "stdout",
     "output_type": "stream",
     "text": [
      "0006-MyWifeDontKnowItsMe-21_6k\n"
     ]
    },
    {
     "name": "stderr",
     "output_type": "stream",
     "text": [
      " 35%|███████████████▌                            | 6/17 [03:12<07:01, 38.36s/it]"
     ]
    },
    {
     "name": "stdout",
     "output_type": "stream",
     "text": [
      "0007-Katelinaholt-4_4k\n"
     ]
    },
    {
     "name": "stderr",
     "output_type": "stream",
     "text": [
      " 41%|██████████████████                          | 7/17 [03:54<06:38, 39.82s/it]"
     ]
    },
    {
     "name": "stdout",
     "output_type": "stream",
     "text": [
      "0008-Dicklickamic-1_0k\n"
     ]
    },
    {
     "name": "stderr",
     "output_type": "stream",
     "text": [
      " 47%|████████████████████▋                       | 8/17 [03:59<04:16, 28.48s/it]"
     ]
    },
    {
     "name": "stdout",
     "output_type": "stream",
     "text": [
      "0009-GerbilFeces-7_2k\n"
     ]
    },
    {
     "name": "stderr",
     "output_type": "stream",
     "text": [
      " 53%|███████████████████████▎                    | 9/17 [04:56<04:59, 37.44s/it]"
     ]
    },
    {
     "name": "stdout",
     "output_type": "stream",
     "text": [
      "0010-Marble-Boy-1_3k\n"
     ]
    },
    {
     "name": "stderr",
     "output_type": "stream",
     "text": [
      " 59%|█████████████████████████▎                 | 10/17 [05:12<03:35, 30.78s/it]"
     ]
    },
    {
     "name": "stdout",
     "output_type": "stream",
     "text": [
      "0011-Financial_Rub9877-555\n"
     ]
    },
    {
     "name": "stderr",
     "output_type": "stream",
     "text": [
      " 65%|███████████████████████████▊               | 11/17 [05:24<02:31, 25.23s/it]"
     ]
    },
    {
     "name": "stdout",
     "output_type": "stream",
     "text": [
      "0012-WooWooInsaneCatPosse-616\n"
     ]
    },
    {
     "name": "stderr",
     "output_type": "stream",
     "text": [
      " 71%|██████████████████████████████▎            | 12/17 [05:25<01:29, 17.89s/it]"
     ]
    },
    {
     "name": "stdout",
     "output_type": "stream",
     "text": [
      "0013-ohigetit2-2_0k\n"
     ]
    },
    {
     "name": "stderr",
     "output_type": "stream",
     "text": [
      " 76%|████████████████████████████████▉          | 13/17 [05:27<00:52, 13.12s/it]"
     ]
    },
    {
     "name": "stdout",
     "output_type": "stream",
     "text": [
      "0014-dfreinc-1_3k\n"
     ]
    },
    {
     "name": "stderr",
     "output_type": "stream",
     "text": [
      " 82%|███████████████████████████████████▍       | 14/17 [05:37<00:36, 12.18s/it]"
     ]
    },
    {
     "name": "stdout",
     "output_type": "stream",
     "text": [
      "0018-kryppla-569\n"
     ]
    },
    {
     "name": "stderr",
     "output_type": "stream",
     "text": [
      " 88%|█████████████████████████████████████▉     | 15/17 [05:41<00:18,  9.45s/it]"
     ]
    },
    {
     "name": "stdout",
     "output_type": "stream",
     "text": [
      "0020-That80sguyspimp-1_3k\n"
     ]
    },
    {
     "name": "stderr",
     "output_type": "stream",
     "text": [
      " 94%|████████████████████████████████████████▍  | 16/17 [05:42<00:07,  7.10s/it]"
     ]
    },
    {
     "name": "stdout",
     "output_type": "stream",
     "text": [
      "0021-parkrat92-2_3k\n"
     ]
    },
    {
     "name": "stderr",
     "output_type": "stream",
     "text": [
      "100%|███████████████████████████████████████████| 17/17 [05:53<00:00, 20.80s/it]\n"
     ]
    },
    {
     "name": "stdout",
     "output_type": "stream",
     "text": [
      "done!...info:\n",
      " prompt_text: People who get in their cars but then take ages to drive away, what are you doing in there?\n",
      " submission_title: people_who_get_in_their_cars_but_then_take_ages \n",
      " video_file: assets/final_videos/people_who_get_in_their_cars_but_then_take_ages.mp4 \n",
      " credits_file: assets/final_video_credits/people_who_get_in_their_cars_but_then_take_ages.txt\n",
      " thumbnail: assets/final_video_thumbnails/people_who_get_in_their_cars_but_then_take_ages.png \n",
      " post: https://www.reddit.com/r/AskReddit/comments/13hyxco/people_who_get_in_their_cars_but_then_take_ages/\n",
      "Processing to_you_redditors_aged_50_whats_something_you ...\n"
     ]
    },
    {
     "name": "stderr",
     "output_type": "stream",
     "text": [
      "  0%|                                                    | 0/34 [00:00<?, ?it/s]"
     ]
    },
    {
     "name": "stdout",
     "output_type": "stream",
     "text": [
      "0001-Posted by-28_4k\n"
     ]
    },
    {
     "name": "stderr",
     "output_type": "stream",
     "text": [
      "  3%|█▎                                          | 1/34 [00:05<03:07,  5.68s/it]"
     ]
    },
    {
     "name": "stdout",
     "output_type": "stream",
     "text": [
      "0002-Inevitable-Mine6466-11_2k\n"
     ]
    },
    {
     "name": "stderr",
     "output_type": "stream",
     "text": [
      "  6%|██▌                                         | 2/34 [00:34<10:18, 19.34s/it]"
     ]
    },
    {
     "name": "stdout",
     "output_type": "stream",
     "text": [
      "0003-hail2theKingbabee-3_9k\n"
     ]
    },
    {
     "name": "stderr",
     "output_type": "stream",
     "text": [
      "  9%|███▉                                        | 3/34 [00:45<07:53, 15.28s/it]"
     ]
    },
    {
     "name": "stdout",
     "output_type": "stream",
     "text": [
      "0004-revnhoj-25_8k\n"
     ]
    },
    {
     "name": "stderr",
     "output_type": "stream",
     "text": [
      " 12%|█████▏                                      | 4/34 [02:35<26:20, 52.70s/it]"
     ]
    },
    {
     "name": "stdout",
     "output_type": "stream",
     "text": [
      "0005-Justin9314-6_2k\n"
     ]
    },
    {
     "name": "stderr",
     "output_type": "stream",
     "text": [
      " 15%|██████▍                                     | 5/34 [03:05<21:37, 44.74s/it]"
     ]
    },
    {
     "name": "stdout",
     "output_type": "stream",
     "text": [
      "0006-SwampAss_Man-30_8k\n"
     ]
    },
    {
     "name": "stderr",
     "output_type": "stream",
     "text": [
      " 18%|███████▊                                    | 6/34 [04:55<31:15, 66.97s/it]"
     ]
    },
    {
     "name": "stdout",
     "output_type": "stream",
     "text": [
      "0007-nilecrane-9_9k\n"
     ]
    },
    {
     "name": "stderr",
     "output_type": "stream",
     "text": [
      " 21%|█████████                                   | 7/34 [05:54<28:50, 64.09s/it]"
     ]
    },
    {
     "name": "stdout",
     "output_type": "stream",
     "text": [
      "0008-MayIServeYouWell-795\n"
     ]
    },
    {
     "name": "stderr",
     "output_type": "stream",
     "text": [
      " 24%|██████████▎                                 | 8/34 [06:05<20:29, 47.31s/it]"
     ]
    },
    {
     "name": "stdout",
     "output_type": "stream",
     "text": [
      "0009-EarhornJones-3_8k\n"
     ]
    },
    {
     "name": "stderr",
     "output_type": "stream",
     "text": [
      " 26%|███████████▋                                | 9/34 [06:17<15:04, 36.16s/it]"
     ]
    },
    {
     "name": "stdout",
     "output_type": "stream",
     "text": [
      "0010-lanky_planky-6_1k\n"
     ]
    },
    {
     "name": "stderr",
     "output_type": "stream",
     "text": [
      " 29%|████████████▋                              | 10/34 [08:29<26:18, 65.78s/it]"
     ]
    },
    {
     "name": "stdout",
     "output_type": "stream",
     "text": [
      "0011-quarterinchseams-19_8k\n"
     ]
    },
    {
     "name": "stderr",
     "output_type": "stream",
     "text": [
      " 32%|█████████████▉                             | 11/34 [09:40<25:52, 67.52s/it]"
     ]
    },
    {
     "name": "stdout",
     "output_type": "stream",
     "text": [
      "0012-vanityklaw-1_3k\n"
     ]
    },
    {
     "name": "stderr",
     "output_type": "stream",
     "text": [
      " 35%|███████████████▏                           | 12/34 [09:45<17:44, 48.40s/it]"
     ]
    },
    {
     "name": "stdout",
     "output_type": "stream",
     "text": [
      "0013-Lingering_Dorkness-804\n"
     ]
    },
    {
     "name": "stderr",
     "output_type": "stream",
     "text": [
      " 38%|████████████████▍                          | 13/34 [10:36<17:15, 49.30s/it]"
     ]
    },
    {
     "name": "stdout",
     "output_type": "stream",
     "text": [
      "0014-Timely_Egg_6827-3_9k\n"
     ]
    },
    {
     "name": "stderr",
     "output_type": "stream",
     "text": [
      " 41%|█████████████████▋                         | 14/34 [11:12<15:02, 45.13s/it]"
     ]
    },
    {
     "name": "stdout",
     "output_type": "stream",
     "text": [
      "0015-scrubjays-1_0k\n"
     ]
    },
    {
     "name": "stderr",
     "output_type": "stream",
     "text": [
      " 44%|██████████████████▉                        | 15/34 [11:22<10:56, 34.56s/it]"
     ]
    },
    {
     "name": "stdout",
     "output_type": "stream",
     "text": [
      "0016-96tearsand96eyes-1_0k\n"
     ]
    },
    {
     "name": "stderr",
     "output_type": "stream",
     "text": [
      " 47%|████████████████████▏                      | 16/34 [11:32<08:10, 27.27s/it]"
     ]
    },
    {
     "name": "stdout",
     "output_type": "stream",
     "text": [
      "0017-invalidpassword-6_7k\n"
     ]
    },
    {
     "name": "stderr",
     "output_type": "stream",
     "text": [
      " 50%|█████████████████████▌                     | 17/34 [12:06<08:20, 29.43s/it]"
     ]
    },
    {
     "name": "stdout",
     "output_type": "stream",
     "text": [
      "0018-JonesinforJonesey-8_1k\n"
     ]
    },
    {
     "name": "stderr",
     "output_type": "stream",
     "text": [
      " 53%|██████████████████████▊                    | 18/34 [12:36<07:52, 29.56s/it]"
     ]
    },
    {
     "name": "stdout",
     "output_type": "stream",
     "text": [
      "0019-Boxing_day_maddness-11_2k\n"
     ]
    },
    {
     "name": "stderr",
     "output_type": "stream",
     "text": [
      " 56%|████████████████████████                   | 19/34 [13:32<09:22, 37.47s/it]"
     ]
    },
    {
     "name": "stdout",
     "output_type": "stream",
     "text": [
      "0020-CafeTerraceAtNoon-8_8k\n"
     ]
    },
    {
     "name": "stderr",
     "output_type": "stream",
     "text": [
      " 59%|█████████████████████████▎                 | 20/34 [14:03<08:17, 35.50s/it]"
     ]
    },
    {
     "name": "stdout",
     "output_type": "stream",
     "text": [
      "0022-arkofjoy-1_2k\n"
     ]
    },
    {
     "name": "stderr",
     "output_type": "stream",
     "text": [
      " 62%|██████████████████████████▌                | 21/34 [14:24<06:42, 30.99s/it]"
     ]
    },
    {
     "name": "stdout",
     "output_type": "stream",
     "text": [
      "0023-Rune_Council-19_4k\n"
     ]
    },
    {
     "name": "stderr",
     "output_type": "stream",
     "text": [
      " 65%|███████████████████████████▊               | 22/34 [15:23<07:54, 39.53s/it]"
     ]
    },
    {
     "name": "stdout",
     "output_type": "stream",
     "text": [
      "0024-PlantationCane-658\n"
     ]
    },
    {
     "name": "stderr",
     "output_type": "stream",
     "text": [
      " 68%|█████████████████████████████              | 23/34 [15:29<05:25, 29.59s/it]"
     ]
    },
    {
     "name": "stdout",
     "output_type": "stream",
     "text": [
      "0028-gefmayhem-2_5k\n"
     ]
    },
    {
     "name": "stderr",
     "output_type": "stream",
     "text": [
      " 71%|██████████████████████████████▎            | 24/34 [15:33<03:37, 21.71s/it]"
     ]
    },
    {
     "name": "stdout",
     "output_type": "stream",
     "text": [
      "0030-anonymousmetoo-3_1k\n"
     ]
    },
    {
     "name": "stderr",
     "output_type": "stream",
     "text": [
      " 74%|███████████████████████████████▌           | 25/34 [15:57<03:22, 22.54s/it]"
     ]
    },
    {
     "name": "stdout",
     "output_type": "stream",
     "text": [
      "0032-notoriousbsr-1_0k\n"
     ]
    },
    {
     "name": "stderr",
     "output_type": "stream",
     "text": [
      " 76%|████████████████████████████████▉          | 26/34 [16:02<02:17, 17.13s/it]"
     ]
    },
    {
     "name": "stdout",
     "output_type": "stream",
     "text": [
      "0034-IGPO-overlords-1_0k\n"
     ]
    },
    {
     "name": "stderr",
     "output_type": "stream",
     "text": [
      " 79%|██████████████████████████████████▏        | 27/34 [16:07<01:35, 13.58s/it]"
     ]
    },
    {
     "name": "stdout",
     "output_type": "stream",
     "text": [
      "0039-janr34-825\n"
     ]
    },
    {
     "name": "stderr",
     "output_type": "stream",
     "text": [
      " 82%|███████████████████████████████████▍       | 28/34 [16:19<01:18, 13.15s/it]"
     ]
    },
    {
     "name": "stdout",
     "output_type": "stream",
     "text": [
      "0041-AmigoDelDiabla-3_1k\n"
     ]
    },
    {
     "name": "stderr",
     "output_type": "stream",
     "text": [
      " 85%|████████████████████████████████████▋      | 29/34 [17:15<02:09, 25.92s/it]"
     ]
    },
    {
     "name": "stdout",
     "output_type": "stream",
     "text": [
      "0049-PublicEnemaNumberOne-646\n"
     ]
    },
    {
     "name": "stderr",
     "output_type": "stream",
     "text": [
      " 88%|█████████████████████████████████████▉     | 30/34 [17:26<01:25, 21.38s/it]"
     ]
    },
    {
     "name": "stdout",
     "output_type": "stream",
     "text": [
      "0050-AuroKT-451\n"
     ]
    },
    {
     "name": "stderr",
     "output_type": "stream",
     "text": [
      " 91%|███████████████████████████████████████▏   | 31/34 [17:38<00:55, 18.60s/it]"
     ]
    },
    {
     "name": "stdout",
     "output_type": "stream",
     "text": [
      "0051-kalysti-1_4k\n"
     ]
    },
    {
     "name": "stderr",
     "output_type": "stream",
     "text": [
      " 94%|████████████████████████████████████████▍  | 32/34 [17:53<00:35, 17.61s/it]"
     ]
    },
    {
     "name": "stdout",
     "output_type": "stream",
     "text": [
      "0055-pinniped1-577\n"
     ]
    },
    {
     "name": "stderr",
     "output_type": "stream",
     "text": [
      " 97%|█████████████████████████████████████████▋ | 33/34 [18:09<00:17, 17.03s/it]"
     ]
    },
    {
     "name": "stdout",
     "output_type": "stream",
     "text": [
      "0059-nurseofdeath-739\n"
     ]
    },
    {
     "name": "stderr",
     "output_type": "stream",
     "text": [
      "100%|███████████████████████████████████████████| 34/34 [18:12<00:00, 32.14s/it]\n"
     ]
    },
    {
     "name": "stdout",
     "output_type": "stream",
     "text": [
      "done!...info:\n",
      " prompt_text: To you redditors aged 50+, what's something you genuinely believe young people haven't realized yet, but could enrich their lives or positively impact their outlook on life?\n",
      " submission_title: to_you_redditors_aged_50_whats_something_you \n",
      " video_file: assets/final_videos/to_you_redditors_aged_50_whats_something_you.mp4 \n",
      " credits_file: assets/final_video_credits/to_you_redditors_aged_50_whats_something_you.txt\n",
      " thumbnail: assets/final_video_thumbnails/to_you_redditors_aged_50_whats_something_you.png \n",
      " post: https://www.reddit.com/r/AskReddit/comments/13kuo93/to_you_redditors_aged_50_whats_something_you/\n",
      "Processing whats_something_popular_that_you_refuse_to_get ...\n"
     ]
    },
    {
     "name": "stderr",
     "output_type": "stream",
     "text": [
      "  0%|                                                    | 0/41 [00:00<?, ?it/s]"
     ]
    },
    {
     "name": "stdout",
     "output_type": "stream",
     "text": [
      "0001-Posted by-23_0k\n"
     ]
    },
    {
     "name": "stderr",
     "output_type": "stream",
     "text": [
      "  2%|█                                           | 1/41 [00:02<01:21,  2.03s/it]"
     ]
    },
    {
     "name": "stdout",
     "output_type": "stream",
     "text": [
      "0002-Any_Scholar2441-6_9k\n"
     ]
    },
    {
     "name": "stderr",
     "output_type": "stream",
     "text": [
      "  5%|██▏                                         | 2/41 [00:33<12:34, 19.34s/it]"
     ]
    },
    {
     "name": "stdout",
     "output_type": "stream",
     "text": [
      "0003-ProfessionalMusic679-8_5k\n"
     ]
    },
    {
     "name": "stderr",
     "output_type": "stream",
     "text": [
      "  7%|███▏                                        | 3/41 [01:10<17:24, 27.50s/it]"
     ]
    },
    {
     "name": "stdout",
     "output_type": "stream",
     "text": [
      "0004-MartianBeerPig-2_4k\n"
     ]
    },
    {
     "name": "stderr",
     "output_type": "stream",
     "text": [
      " 10%|████▎                                       | 4/41 [01:12<10:35, 17.19s/it]"
     ]
    },
    {
     "name": "stdout",
     "output_type": "stream",
     "text": [
      "0005-Altruistic_Lead6799-10_6k\n"
     ]
    },
    {
     "name": "stderr",
     "output_type": "stream",
     "text": [
      " 12%|█████▎                                      | 5/41 [01:13<06:52, 11.45s/it]"
     ]
    },
    {
     "name": "stdout",
     "output_type": "stream",
     "text": [
      "0006-shmatty29-8_1k\n"
     ]
    },
    {
     "name": "stderr",
     "output_type": "stream",
     "text": [
      " 15%|██████▍                                     | 6/41 [01:27<07:08, 12.26s/it]"
     ]
    },
    {
     "name": "stdout",
     "output_type": "stream",
     "text": [
      "0007-garlicroastedpotato-27_4k\n"
     ]
    },
    {
     "name": "stderr",
     "output_type": "stream",
     "text": [
      " 17%|███████▌                                    | 7/41 [02:24<15:19, 27.06s/it]"
     ]
    },
    {
     "name": "stdout",
     "output_type": "stream",
     "text": [
      "0008-grasshopper716-21_3k\n"
     ]
    },
    {
     "name": "stderr",
     "output_type": "stream",
     "text": [
      " 20%|████████▌                                   | 8/41 [05:15<40:07, 72.94s/it]"
     ]
    },
    {
     "name": "stdout",
     "output_type": "stream",
     "text": [
      "0009-devolverf91-6_1k\n"
     ]
    },
    {
     "name": "stderr",
     "output_type": "stream",
     "text": [
      " 22%|█████████▋                                  | 9/41 [06:01<34:20, 64.38s/it]"
     ]
    },
    {
     "name": "stdout",
     "output_type": "stream",
     "text": [
      "0010-Away_Description_687-10_8k\n"
     ]
    },
    {
     "name": "stderr",
     "output_type": "stream",
     "text": [
      " 24%|██████████▍                                | 10/41 [06:44<29:52, 57.82s/it]"
     ]
    },
    {
     "name": "stdout",
     "output_type": "stream",
     "text": [
      "0011-thebishtable-12_0k\n"
     ]
    },
    {
     "name": "stderr",
     "output_type": "stream",
     "text": [
      " 27%|███████████▌                               | 11/41 [07:17<25:09, 50.31s/it]"
     ]
    },
    {
     "name": "stdout",
     "output_type": "stream",
     "text": [
      "0012-sweatsinA-4_0k\n"
     ]
    },
    {
     "name": "stderr",
     "output_type": "stream",
     "text": [
      " 29%|████████████▌                              | 12/41 [07:37<19:44, 40.84s/it]"
     ]
    },
    {
     "name": "stdout",
     "output_type": "stream",
     "text": [
      "0013-JimmyMcapplenut-7_5k\n"
     ]
    },
    {
     "name": "stderr",
     "output_type": "stream",
     "text": [
      " 32%|█████████████▋                             | 13/41 [07:42<14:03, 30.13s/it]"
     ]
    },
    {
     "name": "stdout",
     "output_type": "stream",
     "text": [
      "0014-Genius_woods-2_9k\n"
     ]
    },
    {
     "name": "stderr",
     "output_type": "stream",
     "text": [
      " 34%|██████████████▋                            | 14/41 [07:55<11:12, 24.92s/it]"
     ]
    },
    {
     "name": "stdout",
     "output_type": "stream",
     "text": [
      "0015-nesqu1k0d-7_6k\n"
     ]
    },
    {
     "name": "stderr",
     "output_type": "stream",
     "text": [
      " 37%|███████████████▋                           | 15/41 [09:40<21:18, 49.17s/it]"
     ]
    },
    {
     "name": "stdout",
     "output_type": "stream",
     "text": [
      "0016-offshoremercury-1_0k\n"
     ]
    },
    {
     "name": "stderr",
     "output_type": "stream",
     "text": [
      " 39%|████████████████▊                          | 16/41 [09:42<14:28, 34.75s/it]"
     ]
    },
    {
     "name": "stdout",
     "output_type": "stream",
     "text": [
      "0017-Prestigious_Vast8778-5_3k\n"
     ]
    },
    {
     "name": "stderr",
     "output_type": "stream",
     "text": [
      " 41%|█████████████████▊                         | 17/41 [09:51<10:49, 27.05s/it]"
     ]
    },
    {
     "name": "stdout",
     "output_type": "stream",
     "text": [
      "0018-Karlobo-723\n"
     ]
    },
    {
     "name": "stderr",
     "output_type": "stream",
     "text": [
      " 44%|██████████████████▉                        | 18/41 [09:53<07:30, 19.57s/it]"
     ]
    },
    {
     "name": "stdout",
     "output_type": "stream",
     "text": [
      "0019-Swimming-Barracuda65-10_6k\n"
     ]
    },
    {
     "name": "stderr",
     "output_type": "stream",
     "text": [
      " 46%|███████████████████▉                       | 19/41 [09:57<05:26, 14.82s/it]"
     ]
    },
    {
     "name": "stdout",
     "output_type": "stream",
     "text": [
      "0020-srankvs-2_1k\n"
     ]
    },
    {
     "name": "stderr",
     "output_type": "stream",
     "text": [
      " 49%|████████████████████▉                      | 20/41 [09:58<03:48, 10.90s/it]"
     ]
    },
    {
     "name": "stdout",
     "output_type": "stream",
     "text": [
      "0021-NotSparklingWater-3_5k\n"
     ]
    },
    {
     "name": "stderr",
     "output_type": "stream",
     "text": [
      " 51%|██████████████████████                     | 21/41 [10:20<04:42, 14.15s/it]"
     ]
    },
    {
     "name": "stdout",
     "output_type": "stream",
     "text": [
      "0022-PeriodDramaDoggoMama-1_7k\n"
     ]
    },
    {
     "name": "stderr",
     "output_type": "stream",
     "text": [
      " 54%|███████████████████████                    | 22/41 [10:46<05:34, 17.63s/it]"
     ]
    },
    {
     "name": "stdout",
     "output_type": "stream",
     "text": [
      "0023-sunbearimon-9_9k\n"
     ]
    },
    {
     "name": "stderr",
     "output_type": "stream",
     "text": [
      " 56%|████████████████████████                   | 23/41 [10:48<03:51, 12.85s/it]"
     ]
    },
    {
     "name": "stdout",
     "output_type": "stream",
     "text": [
      "0024-duhidunno-717\n"
     ]
    },
    {
     "name": "stderr",
     "output_type": "stream",
     "text": [
      " 59%|█████████████████████████▏                 | 24/41 [10:49<02:39,  9.39s/it]"
     ]
    },
    {
     "name": "stdout",
     "output_type": "stream",
     "text": [
      "0025-Generalfeelingof-2_1k\n"
     ]
    },
    {
     "name": "stderr",
     "output_type": "stream",
     "text": [
      " 61%|██████████████████████████▏                | 25/41 [10:50<01:51,  6.98s/it]"
     ]
    },
    {
     "name": "stdout",
     "output_type": "stream",
     "text": [
      "0027-Minimum_Most8038-2_8k\n"
     ]
    },
    {
     "name": "stderr",
     "output_type": "stream",
     "text": [
      " 63%|███████████████████████████▎               | 26/41 [10:56<01:38,  6.55s/it]"
     ]
    },
    {
     "name": "stdout",
     "output_type": "stream",
     "text": [
      "0028-Away_Description_687-3_7k\n"
     ]
    },
    {
     "name": "stderr",
     "output_type": "stream",
     "text": [
      " 66%|████████████████████████████▎              | 27/41 [11:05<01:44,  7.49s/it]"
     ]
    },
    {
     "name": "stdout",
     "output_type": "stream",
     "text": [
      "0029-Same_Difficulty6727-1_9k\n"
     ]
    },
    {
     "name": "stderr",
     "output_type": "stream",
     "text": [
      " 68%|█████████████████████████████▎             | 28/41 [11:07<01:14,  5.74s/it]"
     ]
    },
    {
     "name": "stdout",
     "output_type": "stream",
     "text": [
      "0030-apurpleglittergalaxy-2_8k\n"
     ]
    },
    {
     "name": "stderr",
     "output_type": "stream",
     "text": [
      " 71%|██████████████████████████████▍            | 29/41 [11:09<00:55,  4.59s/it]"
     ]
    },
    {
     "name": "stdout",
     "output_type": "stream",
     "text": [
      "0031-Chiggen_wimgs-1_2k\n"
     ]
    },
    {
     "name": "stderr",
     "output_type": "stream",
     "text": [
      " 73%|███████████████████████████████▍           | 30/41 [11:18<01:03,  5.80s/it]"
     ]
    },
    {
     "name": "stdout",
     "output_type": "stream",
     "text": [
      "0032-I_have_no_idea_why_I-1_3k\n"
     ]
    },
    {
     "name": "stderr",
     "output_type": "stream",
     "text": [
      " 76%|████████████████████████████████▌          | 31/41 [11:26<01:05,  6.59s/it]"
     ]
    },
    {
     "name": "stdout",
     "output_type": "stream",
     "text": [
      "0035-[deleted]-228\n",
      "0036-buttoneyes17-3_6k\n"
     ]
    },
    {
     "name": "stderr",
     "output_type": "stream",
     "text": [
      " 80%|██████████████████████████████████▌        | 33/41 [11:32<00:39,  4.88s/it]"
     ]
    },
    {
     "name": "stdout",
     "output_type": "stream",
     "text": [
      "0037-KB9103-31_2k\n"
     ]
    },
    {
     "name": "stderr",
     "output_type": "stream",
     "text": [
      " 83%|███████████████████████████████████▋       | 34/41 [12:53<02:45, 23.68s/it]"
     ]
    },
    {
     "name": "stdout",
     "output_type": "stream",
     "text": [
      "0040-Old_Cyrus-864\n"
     ]
    },
    {
     "name": "stderr",
     "output_type": "stream",
     "text": [
      " 85%|████████████████████████████████████▋      | 35/41 [12:58<01:52, 18.82s/it]"
     ]
    },
    {
     "name": "stdout",
     "output_type": "stream",
     "text": [
      "0042-sexydeadbitch-884\n",
      "audio file /mnt/n/data/reddit-yt-tts/completed/whats_something_popular_that_you_refuse_to_get/0042-sexydeadbitch-884/0000.wav not found\n",
      "0044-Frontline989-629\n",
      "audio file /mnt/n/data/reddit-yt-tts/completed/whats_something_popular_that_you_refuse_to_get/0044-Frontline989-629/0000.wav not found\n"
     ]
    },
    {
     "name": "stderr",
     "output_type": "stream",
     "text": [
      " 95%|████████████████████████████████████████▉  | 39/41 [12:58<00:13,  6.75s/it]"
     ]
    },
    {
     "name": "stdout",
     "output_type": "stream",
     "text": [
      "audio file /mnt/n/data/reddit-yt-tts/completed/whats_something_popular_that_you_refuse_to_get/0044-Frontline989-629/0001.wav not found\n",
      "0047-legoman_86-1_7k\n",
      "audio file /mnt/n/data/reddit-yt-tts/completed/whats_something_popular_that_you_refuse_to_get/0047-legoman_86-1_7k/0000.wav not found\n",
      "0053-Educational-Winner34-772\n",
      "audio file /mnt/n/data/reddit-yt-tts/completed/whats_something_popular_that_you_refuse_to_get/0053-Educational-Winner34-772/0000.wav not found\n",
      "0063-InquiringFinds-527\n"
     ]
    },
    {
     "name": "stderr",
     "output_type": "stream",
     "text": [
      "100%|███████████████████████████████████████████| 41/41 [12:58<00:00, 18.99s/it]\n"
     ]
    },
    {
     "name": "stdout",
     "output_type": "stream",
     "text": [
      "audio file /mnt/n/data/reddit-yt-tts/completed/whats_something_popular_that_you_refuse_to_get/0063-InquiringFinds-527/0000.wav not found\n",
      "0078-ArtemisSpeak-452\n",
      "audio file /mnt/n/data/reddit-yt-tts/completed/whats_something_popular_that_you_refuse_to_get/0078-ArtemisSpeak-452/0000.wav not found\n",
      "done!...info:\n",
      " prompt_text: What's something popular that you refuse to get into?\n",
      " submission_title: whats_something_popular_that_you_refuse_to_get \n",
      " video_file: assets/final_videos/whats_something_popular_that_you_refuse_to_get.mp4 \n",
      " credits_file: assets/final_video_credits/whats_something_popular_that_you_refuse_to_get.txt\n",
      " thumbnail: assets/final_video_thumbnails/whats_something_popular_that_you_refuse_to_get.png \n",
      " post: https://www.reddit.com/r/AskReddit/comments/13angrv/whats_something_popular_that_you_refuse_to_get/\n",
      "Processing what_is_just_not_the_flex_that_people_think_it_is ...\n"
     ]
    },
    {
     "name": "stderr",
     "output_type": "stream",
     "text": [
      "  0%|                                                    | 0/42 [00:00<?, ?it/s]"
     ]
    },
    {
     "name": "stdout",
     "output_type": "stream",
     "text": [
      "0001-Posted by-18_7k\n"
     ]
    },
    {
     "name": "stderr",
     "output_type": "stream",
     "text": [
      "  2%|█                                           | 1/42 [00:02<01:23,  2.05s/it]"
     ]
    },
    {
     "name": "stdout",
     "output_type": "stream",
     "text": [
      "0002-10_Virtues-7_5k\n"
     ]
    },
    {
     "name": "stderr",
     "output_type": "stream",
     "text": [
      "  5%|██                                          | 2/42 [00:06<02:20,  3.51s/it]"
     ]
    },
    {
     "name": "stdout",
     "output_type": "stream",
     "text": [
      "0003-minirose9-4_6k\n"
     ]
    },
    {
     "name": "stderr",
     "output_type": "stream",
     "text": [
      "  7%|███▏                                        | 3/42 [01:00<17:21, 26.71s/it]"
     ]
    },
    {
     "name": "stdout",
     "output_type": "stream",
     "text": [
      "0004-Canijustgetawaffle-15_4k\n"
     ]
    },
    {
     "name": "stderr",
     "output_type": "stream",
     "text": [
      " 10%|████▏                                       | 4/42 [01:13<13:21, 21.10s/it]"
     ]
    },
    {
     "name": "stdout",
     "output_type": "stream",
     "text": [
      "0005-bakerzdosen-10_1k\n"
     ]
    },
    {
     "name": "stderr",
     "output_type": "stream",
     "text": [
      " 12%|█████▏                                      | 5/42 [02:47<29:19, 47.57s/it]"
     ]
    },
    {
     "name": "stdout",
     "output_type": "stream",
     "text": [
      "0006-intrinsic_gray-913\n"
     ]
    },
    {
     "name": "stderr",
     "output_type": "stream",
     "text": [
      " 14%|██████▎                                     | 6/42 [03:06<22:40, 37.78s/it]"
     ]
    },
    {
     "name": "stdout",
     "output_type": "stream",
     "text": [
      "0007-Skwerilleee-23_1k\n"
     ]
    },
    {
     "name": "stderr",
     "output_type": "stream",
     "text": [
      " 17%|███████▎                                    | 7/42 [04:36<32:02, 54.92s/it]"
     ]
    },
    {
     "name": "stdout",
     "output_type": "stream",
     "text": [
      "0008-sirZofSwagger-30_5k\n"
     ]
    },
    {
     "name": "stderr",
     "output_type": "stream",
     "text": [
      " 19%|████████▍                                   | 8/42 [06:47<44:43, 78.93s/it]"
     ]
    },
    {
     "name": "stdout",
     "output_type": "stream",
     "text": [
      "0009-Yaseuk-2_7k\n"
     ]
    },
    {
     "name": "stderr",
     "output_type": "stream",
     "text": [
      " 21%|█████████▍                                  | 9/42 [06:51<30:30, 55.47s/it]"
     ]
    },
    {
     "name": "stdout",
     "output_type": "stream",
     "text": [
      "0010-Melodic_Bear4259-3_1k\n"
     ]
    },
    {
     "name": "stderr",
     "output_type": "stream",
     "text": [
      " 24%|██████████▏                                | 10/42 [07:14<24:22, 45.69s/it]"
     ]
    },
    {
     "name": "stdout",
     "output_type": "stream",
     "text": [
      "0011-rurouni318-15_5k\n"
     ]
    },
    {
     "name": "stderr",
     "output_type": "stream",
     "text": [
      " 26%|███████████▎                               | 11/42 [07:27<18:22, 35.58s/it]"
     ]
    },
    {
     "name": "stdout",
     "output_type": "stream",
     "text": [
      "0012-omega_194-1_0k\n"
     ]
    },
    {
     "name": "stderr",
     "output_type": "stream",
     "text": [
      " 29%|████████████▎                              | 12/42 [07:31<12:58, 25.93s/it]"
     ]
    },
    {
     "name": "stdout",
     "output_type": "stream",
     "text": [
      "0013-Forsaken_Ambition_83-6_5k\n"
     ]
    },
    {
     "name": "stderr",
     "output_type": "stream",
     "text": [
      " 31%|█████████████▎                             | 13/42 [07:47<11:07, 23.00s/it]"
     ]
    },
    {
     "name": "stdout",
     "output_type": "stream",
     "text": [
      "0014-Willing_Impression_5-7_2k\n"
     ]
    },
    {
     "name": "stderr",
     "output_type": "stream",
     "text": [
      " 33%|██████████████▎                            | 14/42 [07:56<08:41, 18.62s/it]"
     ]
    },
    {
     "name": "stdout",
     "output_type": "stream",
     "text": [
      "0015-poweredbyford87-626\n"
     ]
    },
    {
     "name": "stderr",
     "output_type": "stream",
     "text": [
      " 36%|███████████████▎                           | 15/42 [07:59<06:17, 14.00s/it]"
     ]
    },
    {
     "name": "stdout",
     "output_type": "stream",
     "text": [
      "0016-RonPolyp-1_3k\n"
     ]
    },
    {
     "name": "stderr",
     "output_type": "stream",
     "text": [
      " 38%|████████████████▍                          | 16/42 [08:00<04:24, 10.19s/it]"
     ]
    },
    {
     "name": "stdout",
     "output_type": "stream",
     "text": [
      "0017-jonsbryhill-11_9k\n"
     ]
    },
    {
     "name": "stderr",
     "output_type": "stream",
     "text": [
      " 40%|█████████████████▍                         | 17/42 [08:38<07:39, 18.38s/it]"
     ]
    },
    {
     "name": "stdout",
     "output_type": "stream",
     "text": [
      "0018-TheSchoeMaker-6_7k\n"
     ]
    },
    {
     "name": "stderr",
     "output_type": "stream",
     "text": [
      " 43%|██████████████████▍                        | 18/42 [08:57<07:29, 18.72s/it]"
     ]
    },
    {
     "name": "stdout",
     "output_type": "stream",
     "text": [
      "0019-kbyyru-25_5k\n"
     ]
    },
    {
     "name": "stderr",
     "output_type": "stream",
     "text": [
      " 45%|███████████████████▍                       | 19/42 [09:27<08:23, 21.90s/it]"
     ]
    },
    {
     "name": "stdout",
     "output_type": "stream",
     "text": [
      "0020-Shadow948-9_8k\n"
     ]
    },
    {
     "name": "stderr",
     "output_type": "stream",
     "text": [
      " 48%|████████████████████▍                      | 20/42 [10:22<11:43, 31.98s/it]"
     ]
    },
    {
     "name": "stdout",
     "output_type": "stream",
     "text": [
      "0021-lazyluxe11-2_4k\n"
     ]
    },
    {
     "name": "stderr",
     "output_type": "stream",
     "text": [
      " 50%|█████████████████████▌                     | 21/42 [10:36<09:15, 26.46s/it]"
     ]
    },
    {
     "name": "stdout",
     "output_type": "stream",
     "text": [
      "0022-TonyClifton323-2_5k\n"
     ]
    },
    {
     "name": "stderr",
     "output_type": "stream",
     "text": [
      " 52%|██████████████████████▌                    | 22/42 [10:37<06:19, 18.95s/it]"
     ]
    },
    {
     "name": "stdout",
     "output_type": "stream",
     "text": [
      "0023-No-Independence-6842-5_3k\n"
     ]
    },
    {
     "name": "stderr",
     "output_type": "stream",
     "text": [
      " 55%|███████████████████████▌                   | 23/42 [11:08<07:08, 22.57s/it]"
     ]
    },
    {
     "name": "stdout",
     "output_type": "stream",
     "text": [
      "0024-Quinnjamin19-5_9k\n"
     ]
    },
    {
     "name": "stderr",
     "output_type": "stream",
     "text": [
      " 57%|████████████████████████▌                  | 24/42 [11:47<08:15, 27.51s/it]"
     ]
    },
    {
     "name": "stdout",
     "output_type": "stream",
     "text": [
      "0025-AlexCook123-820\n"
     ]
    },
    {
     "name": "stderr",
     "output_type": "stream",
     "text": [
      " 60%|█████████████████████████▌                 | 25/42 [11:51<05:48, 20.48s/it]"
     ]
    },
    {
     "name": "stdout",
     "output_type": "stream",
     "text": [
      "0026-lilly_Litox-2_1k\n"
     ]
    },
    {
     "name": "stderr",
     "output_type": "stream",
     "text": [
      " 62%|██████████████████████████▌                | 26/42 [12:00<04:33, 17.09s/it]"
     ]
    },
    {
     "name": "stdout",
     "output_type": "stream",
     "text": [
      "0028-ZenoSalts-1_9k\n"
     ]
    },
    {
     "name": "stderr",
     "output_type": "stream",
     "text": [
      " 64%|███████████████████████████▋               | 27/42 [12:12<03:53, 15.56s/it]"
     ]
    },
    {
     "name": "stdout",
     "output_type": "stream",
     "text": [
      "0029-sev45day-10_8k\n"
     ]
    },
    {
     "name": "stderr",
     "output_type": "stream",
     "text": [
      " 67%|████████████████████████████▋              | 28/42 [12:18<02:55, 12.52s/it]"
     ]
    },
    {
     "name": "stdout",
     "output_type": "stream",
     "text": [
      "0030-riphitter-5_5k\n"
     ]
    },
    {
     "name": "stderr",
     "output_type": "stream",
     "text": [
      " 69%|█████████████████████████████▋             | 29/42 [12:29<02:37, 12.15s/it]"
     ]
    },
    {
     "name": "stdout",
     "output_type": "stream",
     "text": [
      "0031-Chicken_Alphredo-3_7k\n"
     ]
    },
    {
     "name": "stderr",
     "output_type": "stream",
     "text": [
      " 71%|██████████████████████████████▋            | 30/42 [12:54<03:13, 16.12s/it]"
     ]
    },
    {
     "name": "stdout",
     "output_type": "stream",
     "text": [
      "0032-Kissowa-2_4k\n"
     ]
    },
    {
     "name": "stderr",
     "output_type": "stream",
     "text": [
      " 74%|███████████████████████████████▋           | 31/42 [13:03<02:33, 13.98s/it]"
     ]
    },
    {
     "name": "stdout",
     "output_type": "stream",
     "text": [
      "0033-altosuwulugares-1_6k\n"
     ]
    },
    {
     "name": "stderr",
     "output_type": "stream",
     "text": [
      " 76%|████████████████████████████████▊          | 32/42 [13:08<01:50, 11.08s/it]"
     ]
    },
    {
     "name": "stdout",
     "output_type": "stream",
     "text": [
      "0034-yodas4skin-490\n"
     ]
    },
    {
     "name": "stderr",
     "output_type": "stream",
     "text": [
      " 79%|█████████████████████████████████▊         | 33/42 [13:10<01:15,  8.37s/it]"
     ]
    },
    {
     "name": "stdout",
     "output_type": "stream",
     "text": [
      "0036-iriepuff-1_0k\n"
     ]
    },
    {
     "name": "stderr",
     "output_type": "stream",
     "text": [
      " 81%|██████████████████████████████████▊        | 34/42 [13:23<01:17,  9.69s/it]"
     ]
    },
    {
     "name": "stdout",
     "output_type": "stream",
     "text": [
      "0037-MisterD90x-557\n"
     ]
    },
    {
     "name": "stderr",
     "output_type": "stream",
     "text": [
      " 88%|█████████████████████████████████████▉     | 37/42 [13:24<00:19,  3.94s/it]"
     ]
    },
    {
     "name": "stdout",
     "output_type": "stream",
     "text": [
      "0040-vidvicious-702\n",
      "audio file /mnt/n/data/reddit-yt-tts/completed/what_is_just_not_the_flex_that_people_think_it_is/0040-vidvicious-702/0000.wav not found\n",
      "0042-Maleficent-Winter187-993\n",
      "audio file /mnt/n/data/reddit-yt-tts/completed/what_is_just_not_the_flex_that_people_think_it_is/0042-Maleficent-Winter187-993/0000.wav not found\n",
      "0044-KyleColby-510\n"
     ]
    },
    {
     "name": "stderr",
     "output_type": "stream",
     "text": [
      " 93%|███████████████████████████████████████▉   | 39/42 [13:24<00:07,  2.41s/it]"
     ]
    },
    {
     "name": "stdout",
     "output_type": "stream",
     "text": [
      "audio file /mnt/n/data/reddit-yt-tts/completed/what_is_just_not_the_flex_that_people_think_it_is/0044-KyleColby-510/0000.wav not found\n",
      "0045-Gluurbuur-516\n",
      "audio file /mnt/n/data/reddit-yt-tts/completed/what_is_just_not_the_flex_that_people_think_it_is/0045-Gluurbuur-516/0000.wav not found\n",
      "0046-Own-Firefighter-2728-837\n",
      "audio file /mnt/n/data/reddit-yt-tts/completed/what_is_just_not_the_flex_that_people_think_it_is/0046-Own-Firefighter-2728-837/0000.wav not found\n",
      "0050-wassup__22-501\n"
     ]
    },
    {
     "name": "stderr",
     "output_type": "stream",
     "text": [
      "100%|███████████████████████████████████████████| 42/42 [13:25<00:00, 19.17s/it]"
     ]
    },
    {
     "name": "stdout",
     "output_type": "stream",
     "text": [
      "audio file /mnt/n/data/reddit-yt-tts/completed/what_is_just_not_the_flex_that_people_think_it_is/0050-wassup__22-501/0000.wav not found\n",
      "0071-mox44ah-536\n",
      "audio file /mnt/n/data/reddit-yt-tts/completed/what_is_just_not_the_flex_that_people_think_it_is/0071-mox44ah-536/0000.wav not found\n",
      "audio file /mnt/n/data/reddit-yt-tts/completed/what_is_just_not_the_flex_that_people_think_it_is/0071-mox44ah-536/0001.wav not found\n"
     ]
    },
    {
     "name": "stderr",
     "output_type": "stream",
     "text": [
      "\n"
     ]
    },
    {
     "name": "stdout",
     "output_type": "stream",
     "text": [
      "done!...info:\n",
      " prompt_text: What is just not the flex that people think it is?\n",
      " submission_title: what_is_just_not_the_flex_that_people_think_it_is \n",
      " video_file: assets/final_videos/what_is_just_not_the_flex_that_people_think_it_is.mp4 \n",
      " credits_file: assets/final_video_credits/what_is_just_not_the_flex_that_people_think_it_is.txt\n",
      " thumbnail: assets/final_video_thumbnails/what_is_just_not_the_flex_that_people_think_it_is.png \n",
      " post: https://www.reddit.com/r/AskReddit/comments/13bt91m/what_is_just_not_the_flex_that_people_think_it_is/\n",
      "Processing people_who_wake_up_at_5am_daily_why ...\n"
     ]
    },
    {
     "name": "stderr",
     "output_type": "stream",
     "text": [
      "  0%|                                                    | 0/18 [00:00<?, ?it/s]"
     ]
    },
    {
     "name": "stdout",
     "output_type": "stream",
     "text": [
      "0001-Posted by-23_4k\n"
     ]
    },
    {
     "name": "stderr",
     "output_type": "stream",
     "text": [
      "  6%|██▍                                         | 1/18 [00:02<00:34,  2.02s/it]"
     ]
    },
    {
     "name": "stdout",
     "output_type": "stream",
     "text": [
      "0002-Zoraji-3_9k\n"
     ]
    },
    {
     "name": "stderr",
     "output_type": "stream",
     "text": [
      " 11%|████▉                                       | 2/18 [00:31<04:48, 18.06s/it]"
     ]
    },
    {
     "name": "stdout",
     "output_type": "stream",
     "text": [
      "0003-Maddogtannenisbiff-5_8k\n"
     ]
    },
    {
     "name": "stderr",
     "output_type": "stream",
     "text": [
      " 17%|███████▎                                    | 3/18 [00:43<03:48, 15.22s/it]"
     ]
    },
    {
     "name": "stdout",
     "output_type": "stream",
     "text": [
      "0004-ClubMyPenguin-26_3k\n"
     ]
    },
    {
     "name": "stderr",
     "output_type": "stream",
     "text": [
      " 22%|█████████▊                                  | 4/18 [01:04<04:06, 17.61s/it]"
     ]
    },
    {
     "name": "stdout",
     "output_type": "stream",
     "text": [
      "0005-irrelevant1-23_5k\n"
     ]
    },
    {
     "name": "stderr",
     "output_type": "stream",
     "text": [
      " 28%|████████████▏                               | 5/18 [02:44<10:14, 47.25s/it]"
     ]
    },
    {
     "name": "stdout",
     "output_type": "stream",
     "text": [
      "0006-acres_at_ruin-34_0k\n"
     ]
    },
    {
     "name": "stderr",
     "output_type": "stream",
     "text": [
      " 33%|██████████████▋                             | 6/18 [03:27<09:11, 45.96s/it]"
     ]
    },
    {
     "name": "stdout",
     "output_type": "stream",
     "text": [
      "0007-BlueCitizen97-33_7k\n"
     ]
    },
    {
     "name": "stderr",
     "output_type": "stream",
     "text": [
      " 39%|█████████████████                           | 7/18 [03:47<06:51, 37.37s/it]"
     ]
    },
    {
     "name": "stdout",
     "output_type": "stream",
     "text": [
      "0008-Soliart-1_8k\n"
     ]
    },
    {
     "name": "stderr",
     "output_type": "stream",
     "text": [
      " 44%|███████████████████▌                        | 8/18 [03:52<04:30, 27.08s/it]"
     ]
    },
    {
     "name": "stdout",
     "output_type": "stream",
     "text": [
      "0009-Odd_Imagination_6617-8_8k\n"
     ]
    },
    {
     "name": "stderr",
     "output_type": "stream",
     "text": [
      " 50%|██████████████████████                      | 9/18 [04:08<03:33, 23.68s/it]"
     ]
    },
    {
     "name": "stdout",
     "output_type": "stream",
     "text": [
      "0010-LowKeyHeresy-1_8k\n"
     ]
    },
    {
     "name": "stderr",
     "output_type": "stream",
     "text": [
      " 56%|███████████████████████▉                   | 10/18 [04:19<02:37, 19.72s/it]"
     ]
    },
    {
     "name": "stdout",
     "output_type": "stream",
     "text": [
      "0012-Lostarchitorture-3_4k\n"
     ]
    },
    {
     "name": "stderr",
     "output_type": "stream",
     "text": [
      " 61%|██████████████████████████▎                | 11/18 [04:27<01:53, 16.26s/it]"
     ]
    },
    {
     "name": "stdout",
     "output_type": "stream",
     "text": [
      "0013-Medical-Bowl5643-3_4k\n"
     ]
    },
    {
     "name": "stderr",
     "output_type": "stream",
     "text": [
      " 67%|████████████████████████████▋              | 12/18 [04:50<01:49, 18.20s/it]"
     ]
    },
    {
     "name": "stdout",
     "output_type": "stream",
     "text": [
      "0014-Peter_Pallet-1_6k\n"
     ]
    },
    {
     "name": "stderr",
     "output_type": "stream",
     "text": [
      " 72%|███████████████████████████████            | 13/18 [04:53<01:08, 13.68s/it]"
     ]
    },
    {
     "name": "stdout",
     "output_type": "stream",
     "text": [
      "0015-bradedgenz-2_6k\n"
     ]
    },
    {
     "name": "stderr",
     "output_type": "stream",
     "text": [
      " 78%|█████████████████████████████████▍         | 14/18 [04:58<00:43, 11.00s/it]"
     ]
    },
    {
     "name": "stdout",
     "output_type": "stream",
     "text": [
      "0016-NoSleepNoCoffee1-1_4k\n"
     ]
    },
    {
     "name": "stderr",
     "output_type": "stream",
     "text": [
      " 83%|███████████████████████████████████▊       | 15/18 [05:01<00:25,  8.62s/it]"
     ]
    },
    {
     "name": "stdout",
     "output_type": "stream",
     "text": [
      "0017-thefuturewasthen-3_7k\n"
     ]
    },
    {
     "name": "stderr",
     "output_type": "stream",
     "text": [
      " 89%|██████████████████████████████████████▏    | 16/18 [05:15<00:20, 10.11s/it]"
     ]
    },
    {
     "name": "stdout",
     "output_type": "stream",
     "text": [
      "0021-LoathsomeNarcisist-465\n"
     ]
    },
    {
     "name": "stderr",
     "output_type": "stream",
     "text": [
      " 94%|████████████████████████████████████████▌  | 17/18 [05:19<00:08,  8.41s/it]"
     ]
    },
    {
     "name": "stdout",
     "output_type": "stream",
     "text": [
      "0024-ackmon-969\n"
     ]
    },
    {
     "name": "stderr",
     "output_type": "stream",
     "text": [
      "100%|███████████████████████████████████████████| 18/18 [05:22<00:00, 17.90s/it]\n"
     ]
    },
    {
     "name": "stdout",
     "output_type": "stream",
     "text": [
      "done!...info:\n",
      " prompt_text: People who wake up at 5am daily, why?\n",
      " submission_title: people_who_wake_up_at_5am_daily_why \n",
      " video_file: assets/final_videos/people_who_wake_up_at_5am_daily_why.mp4 \n",
      " credits_file: assets/final_video_credits/people_who_wake_up_at_5am_daily_why.txt\n",
      " thumbnail: assets/final_video_thumbnails/people_who_wake_up_at_5am_daily_why.png \n",
      " post: https://www.reddit.com/r/AskReddit/comments/13nps5d/people_who_wake_up_at_5am_daily_why/\n",
      "Processing what_television_series_had_the_biggest_bullshit ...\n"
     ]
    },
    {
     "name": "stderr",
     "output_type": "stream",
     "text": [
      "  0%|                                                    | 0/50 [00:00<?, ?it/s]"
     ]
    },
    {
     "name": "stdout",
     "output_type": "stream",
     "text": [
      "0001-Posted by-30_3k\n"
     ]
    },
    {
     "name": "stderr",
     "output_type": "stream",
     "text": [
      "  2%|▉                                           | 1/50 [00:02<01:42,  2.09s/it]"
     ]
    },
    {
     "name": "stdout",
     "output_type": "stream",
     "text": [
      "0002-Krauser_Kahn-6_5k\n"
     ]
    },
    {
     "name": "stderr",
     "output_type": "stream",
     "text": [
      "  4%|█▊                                          | 2/50 [00:36<16:46, 20.97s/it]"
     ]
    },
    {
     "name": "stdout",
     "output_type": "stream",
     "text": [
      "0003-MisterShmitty-1_6k\n"
     ]
    },
    {
     "name": "stderr",
     "output_type": "stream",
     "text": [
      "  6%|██▋                                         | 3/50 [00:39<10:06, 12.90s/it]"
     ]
    },
    {
     "name": "stdout",
     "output_type": "stream",
     "text": [
      "0004-soniclore-16_0k\n"
     ]
    },
    {
     "name": "stderr",
     "output_type": "stream",
     "text": [
      "  8%|███▌                                        | 4/50 [00:48<08:49, 11.51s/it]"
     ]
    },
    {
     "name": "stdout",
     "output_type": "stream",
     "text": [
      "0005-Vegetable_Elk-7_3k\n"
     ]
    },
    {
     "name": "stderr",
     "output_type": "stream",
     "text": [
      " 10%|████▍                                       | 5/50 [00:51<06:17,  8.39s/it]"
     ]
    },
    {
     "name": "stdout",
     "output_type": "stream",
     "text": [
      "0006-Hartdog348-6_2k\n"
     ]
    },
    {
     "name": "stderr",
     "output_type": "stream",
     "text": [
      " 12%|█████▎                                      | 6/50 [00:58<05:37,  7.68s/it]"
     ]
    },
    {
     "name": "stdout",
     "output_type": "stream",
     "text": [
      "0007-the-interceptor-9_2k\n"
     ]
    },
    {
     "name": "stderr",
     "output_type": "stream",
     "text": [
      " 14%|██████▏                                     | 7/50 [01:15<07:44, 10.80s/it]"
     ]
    },
    {
     "name": "stdout",
     "output_type": "stream",
     "text": [
      "0008-KlerWatchCo-514\n"
     ]
    },
    {
     "name": "stderr",
     "output_type": "stream",
     "text": [
      " 16%|███████                                     | 8/50 [01:17<05:43,  8.18s/it]"
     ]
    },
    {
     "name": "stdout",
     "output_type": "stream",
     "text": [
      "0009-endedupqueer-7_1k\n"
     ]
    },
    {
     "name": "stderr",
     "output_type": "stream",
     "text": [
      " 18%|███████▉                                    | 9/50 [02:43<22:02, 32.25s/it]"
     ]
    },
    {
     "name": "stdout",
     "output_type": "stream",
     "text": [
      "0010-BobT21-3_3k\n"
     ]
    },
    {
     "name": "stderr",
     "output_type": "stream",
     "text": [
      " 20%|████████▌                                  | 10/50 [02:51<16:32, 24.82s/it]"
     ]
    },
    {
     "name": "stdout",
     "output_type": "stream",
     "text": [
      "0011-Ghenges-3_5k\n"
     ]
    },
    {
     "name": "stderr",
     "output_type": "stream",
     "text": [
      " 22%|█████████▍                                 | 11/50 [03:13<15:36, 24.01s/it]"
     ]
    },
    {
     "name": "stdout",
     "output_type": "stream",
     "text": [
      "0012-Aldren-7_5k\n"
     ]
    },
    {
     "name": "stderr",
     "output_type": "stream",
     "text": [
      " 24%|██████████▎                                | 12/50 [03:26<13:11, 20.82s/it]"
     ]
    },
    {
     "name": "stdout",
     "output_type": "stream",
     "text": [
      "0013-Destination_Centauri-5_3k\n"
     ]
    },
    {
     "name": "stderr",
     "output_type": "stream",
     "text": [
      " 26%|███████████▏                               | 13/50 [03:38<11:03, 17.92s/it]"
     ]
    },
    {
     "name": "stdout",
     "output_type": "stream",
     "text": [
      "0014-cowboywhale9-2_6k\n"
     ]
    },
    {
     "name": "stderr",
     "output_type": "stream",
     "text": [
      " 28%|████████████                               | 14/50 [03:49<09:37, 16.04s/it]"
     ]
    },
    {
     "name": "stdout",
     "output_type": "stream",
     "text": [
      "0015-No_Understanding4349-41_1k\n"
     ]
    },
    {
     "name": "stderr",
     "output_type": "stream",
     "text": [
      " 30%|████████████▉                              | 15/50 [04:38<15:03, 25.81s/it]"
     ]
    },
    {
     "name": "stdout",
     "output_type": "stream",
     "text": [
      "0016-Mystery_Tea-2_1k\n"
     ]
    },
    {
     "name": "stderr",
     "output_type": "stream",
     "text": [
      " 32%|█████████████▊                             | 16/50 [04:56<13:14, 23.36s/it]"
     ]
    },
    {
     "name": "stdout",
     "output_type": "stream",
     "text": [
      "0017-Swimming_Marsupial-2_6k\n"
     ]
    },
    {
     "name": "stderr",
     "output_type": "stream",
     "text": [
      " 34%|██████████████▌                            | 17/50 [05:42<16:36, 30.20s/it]"
     ]
    },
    {
     "name": "stdout",
     "output_type": "stream",
     "text": [
      "0018-SoulExecution-10_3k\n"
     ]
    },
    {
     "name": "stderr",
     "output_type": "stream",
     "text": [
      " 36%|███████████████▍                           | 18/50 [07:34<29:17, 54.92s/it]"
     ]
    },
    {
     "name": "stdout",
     "output_type": "stream",
     "text": [
      "0019-The_Wkwied-4_4k\n"
     ]
    },
    {
     "name": "stderr",
     "output_type": "stream",
     "text": [
      " 38%|████████████████▎                          | 19/50 [07:54<23:00, 44.55s/it]"
     ]
    },
    {
     "name": "stdout",
     "output_type": "stream",
     "text": [
      "0020-a-really-big-muffin-3_8k\n"
     ]
    },
    {
     "name": "stderr",
     "output_type": "stream",
     "text": [
      " 40%|█████████████████▏                         | 20/50 [08:20<19:21, 38.73s/it]"
     ]
    },
    {
     "name": "stdout",
     "output_type": "stream",
     "text": [
      "0021-Not_Dimensional-3_7k\n"
     ]
    },
    {
     "name": "stderr",
     "output_type": "stream",
     "text": [
      " 42%|██████████████████                         | 21/50 [08:27<14:09, 29.31s/it]"
     ]
    },
    {
     "name": "stdout",
     "output_type": "stream",
     "text": [
      "0022-Mediocre_Ad1344-21_7k\n"
     ]
    },
    {
     "name": "stderr",
     "output_type": "stream",
     "text": [
      " 44%|██████████████████▉                        | 22/50 [08:39<11:12, 24.01s/it]"
     ]
    },
    {
     "name": "stdout",
     "output_type": "stream",
     "text": [
      "0023-OnionTuck-2_9k\n"
     ]
    },
    {
     "name": "stderr",
     "output_type": "stream",
     "text": [
      " 46%|███████████████████▊                       | 23/50 [09:02<10:39, 23.69s/it]"
     ]
    },
    {
     "name": "stdout",
     "output_type": "stream",
     "text": [
      "0024-9yearsalurker-10_5k\n"
     ]
    },
    {
     "name": "stderr",
     "output_type": "stream",
     "text": [
      " 48%|████████████████████▋                      | 24/50 [09:52<13:46, 31.80s/it]"
     ]
    },
    {
     "name": "stdout",
     "output_type": "stream",
     "text": [
      "0025-colbydoler-589\n"
     ]
    },
    {
     "name": "stderr",
     "output_type": "stream",
     "text": [
      " 50%|█████████████████████▌                     | 25/50 [10:02<10:28, 25.14s/it]"
     ]
    },
    {
     "name": "stdout",
     "output_type": "stream",
     "text": [
      "0026-Oph5pr1n6-1_5k\n"
     ]
    },
    {
     "name": "stderr",
     "output_type": "stream",
     "text": [
      " 52%|██████████████████████▎                    | 26/50 [10:04<07:20, 18.36s/it]"
     ]
    },
    {
     "name": "stdout",
     "output_type": "stream",
     "text": [
      "0027-Luder09-608\n"
     ]
    },
    {
     "name": "stderr",
     "output_type": "stream",
     "text": [
      " 54%|███████████████████████▏                   | 27/50 [10:08<05:20, 13.91s/it]"
     ]
    },
    {
     "name": "stdout",
     "output_type": "stream",
     "text": [
      "0028-DistributistRex-1_8k\n"
     ]
    },
    {
     "name": "stderr",
     "output_type": "stream",
     "text": [
      " 56%|████████████████████████                   | 28/50 [10:17<04:35, 12.52s/it]"
     ]
    },
    {
     "name": "stdout",
     "output_type": "stream",
     "text": [
      "0029-FunkyKong147-10_8k\n"
     ]
    },
    {
     "name": "stderr",
     "output_type": "stream",
     "text": [
      " 58%|████████████████████████▉                  | 29/50 [10:48<06:20, 18.12s/it]"
     ]
    },
    {
     "name": "stdout",
     "output_type": "stream",
     "text": [
      "0030-MilwaukeeDave-2_5k\n"
     ]
    },
    {
     "name": "stderr",
     "output_type": "stream",
     "text": [
      " 60%|█████████████████████████▊                 | 30/50 [10:50<04:24, 13.20s/it]"
     ]
    },
    {
     "name": "stdout",
     "output_type": "stream",
     "text": [
      "0031-Voicedtunic-20_6k\n"
     ]
    },
    {
     "name": "stderr",
     "output_type": "stream",
     "text": [
      " 62%|██████████████████████████▋                | 31/50 [11:31<06:50, 21.60s/it]"
     ]
    },
    {
     "name": "stdout",
     "output_type": "stream",
     "text": [
      "0032-smallttygothgirl-2_5k\n"
     ]
    },
    {
     "name": "stderr",
     "output_type": "stream",
     "text": [
      " 64%|███████████████████████████▌               | 32/50 [11:33<04:40, 15.61s/it]"
     ]
    },
    {
     "name": "stdout",
     "output_type": "stream",
     "text": [
      "0033-FishtheGulf-1_2k\n"
     ]
    },
    {
     "name": "stderr",
     "output_type": "stream",
     "text": [
      " 66%|████████████████████████████▍              | 33/50 [11:42<03:53, 13.72s/it]"
     ]
    },
    {
     "name": "stdout",
     "output_type": "stream",
     "text": [
      "0034-Healthy_Aspect_3590-934\n"
     ]
    },
    {
     "name": "stderr",
     "output_type": "stream",
     "text": [
      " 68%|█████████████████████████████▏             | 34/50 [11:44<02:43, 10.23s/it]"
     ]
    },
    {
     "name": "stdout",
     "output_type": "stream",
     "text": [
      "0035-CierraMar_-647\n"
     ]
    },
    {
     "name": "stderr",
     "output_type": "stream",
     "text": [
      " 72%|██████████████████████████████▉            | 36/50 [11:48<01:21,  5.85s/it]"
     ]
    },
    {
     "name": "stdout",
     "output_type": "stream",
     "text": [
      "0036-justanaveragemom-1_5k\n",
      "audio file /mnt/n/data/reddit-yt-tts/completed/what_television_series_had_the_biggest_bullshit/0036-justanaveragemom-1_5k/0000.wav not found\n",
      "0037-chromeballista-919\n"
     ]
    },
    {
     "name": "stderr",
     "output_type": "stream",
     "text": [
      " 74%|███████████████████████████████▊           | 37/50 [11:48<00:53,  4.12s/it]"
     ]
    },
    {
     "name": "stdout",
     "output_type": "stream",
     "text": [
      "audio file /mnt/n/data/reddit-yt-tts/completed/what_television_series_had_the_biggest_bullshit/0037-chromeballista-919/0000.wav not found\n",
      "0038-Icy_Many_3971-3_2k\n",
      "audio file /mnt/n/data/reddit-yt-tts/completed/what_television_series_had_the_biggest_bullshit/0038-Icy_Many_3971-3_2k/0000.wav not found\n",
      "audio file /mnt/n/data/reddit-yt-tts/completed/what_television_series_had_the_biggest_bullshit/0038-Icy_Many_3971-3_2k/0001.wav not found\n",
      "audio file /mnt/n/data/reddit-yt-tts/completed/what_television_series_had_the_biggest_bullshit/0038-Icy_Many_3971-3_2k/0002.wav not found\n",
      "audio file /mnt/n/data/reddit-yt-tts/completed/what_television_series_had_the_biggest_bullshit/0038-Icy_Many_3971-3_2k/0005.wav not found\n"
     ]
    },
    {
     "name": "stderr",
     "output_type": "stream",
     "text": [
      " 78%|█████████████████████████████████▌         | 39/50 [11:49<00:23,  2.18s/it]"
     ]
    },
    {
     "name": "stdout",
     "output_type": "stream",
     "text": [
      "audio file /mnt/n/data/reddit-yt-tts/completed/what_television_series_had_the_biggest_bullshit/0038-Icy_Many_3971-3_2k/0010.wav not found\n",
      "audio file /mnt/n/data/reddit-yt-tts/completed/what_television_series_had_the_biggest_bullshit/0038-Icy_Many_3971-3_2k/0011.wav not found\n",
      "0039-ikyle117-646\n",
      "audio file /mnt/n/data/reddit-yt-tts/completed/what_television_series_had_the_biggest_bullshit/0039-ikyle117-646/0000.wav not found\n",
      "0040-International_Ant217-13_6k\n",
      "audio file /mnt/n/data/reddit-yt-tts/completed/what_television_series_had_the_biggest_bullshit/0040-International_Ant217-13_6k/0000.wav not found\n",
      "audio file /mnt/n/data/reddit-yt-tts/completed/what_television_series_had_the_biggest_bullshit/0040-International_Ant217-13_6k/0001.wav not found\n",
      "audio file /mnt/n/data/reddit-yt-tts/completed/what_television_series_had_the_biggest_bullshit/0040-International_Ant217-13_6k/0002.wav not found\n",
      "audio file /mnt/n/data/reddit-yt-tts/completed/what_television_series_had_the_biggest_bullshit/0040-International_Ant217-13_6k/0003.wav not found\n",
      "audio file /mnt/n/data/reddit-yt-tts/completed/what_television_series_had_the_biggest_bullshit/0040-International_Ant217-13_6k/0004.wav not found\n",
      "audio file /mnt/n/data/reddit-yt-tts/completed/what_television_series_had_the_biggest_bullshit/0040-International_Ant217-13_6k/0007.wav not found\n"
     ]
    },
    {
     "name": "stderr",
     "output_type": "stream",
     "text": [
      " 82%|███████████████████████████████████▎       | 41/50 [11:50<00:11,  1.26s/it]"
     ]
    },
    {
     "name": "stdout",
     "output_type": "stream",
     "text": [
      "audio file /mnt/n/data/reddit-yt-tts/completed/what_television_series_had_the_biggest_bullshit/0040-International_Ant217-13_6k/0008.wav not found\n",
      "audio file /mnt/n/data/reddit-yt-tts/completed/what_television_series_had_the_biggest_bullshit/0040-International_Ant217-13_6k/0011.wav not found\n",
      "0042-upenda5678-941\n",
      "audio file /mnt/n/data/reddit-yt-tts/completed/what_television_series_had_the_biggest_bullshit/0042-upenda5678-941/0000.wav not found\n",
      "0043-MyWackyWeirdWorld-36_2k\n",
      "audio file /mnt/n/data/reddit-yt-tts/completed/what_television_series_had_the_biggest_bullshit/0043-MyWackyWeirdWorld-36_2k/0000.wav not found\n",
      "audio file /mnt/n/data/reddit-yt-tts/completed/what_television_series_had_the_biggest_bullshit/0043-MyWackyWeirdWorld-36_2k/0001.wav not found\n",
      "audio file /mnt/n/data/reddit-yt-tts/completed/what_television_series_had_the_biggest_bullshit/0043-MyWackyWeirdWorld-36_2k/0002.wav not found\n",
      "audio file /mnt/n/data/reddit-yt-tts/completed/what_television_series_had_the_biggest_bullshit/0043-MyWackyWeirdWorld-36_2k/0003.wav not found\n",
      "audio file /mnt/n/data/reddit-yt-tts/completed/what_television_series_had_the_biggest_bullshit/0043-MyWackyWeirdWorld-36_2k/0004.wav not found\n",
      "audio file /mnt/n/data/reddit-yt-tts/completed/what_television_series_had_the_biggest_bullshit/0043-MyWackyWeirdWorld-36_2k/0005.wav not found\n",
      "audio file /mnt/n/data/reddit-yt-tts/completed/what_television_series_had_the_biggest_bullshit/0043-MyWackyWeirdWorld-36_2k/0007.wav not found\n",
      "audio file /mnt/n/data/reddit-yt-tts/completed/what_television_series_had_the_biggest_bullshit/0043-MyWackyWeirdWorld-36_2k/0010.wav not found\n",
      "audio file /mnt/n/data/reddit-yt-tts/completed/what_television_series_had_the_biggest_bullshit/0043-MyWackyWeirdWorld-36_2k/0011.wav not found\n",
      "audio file /mnt/n/data/reddit-yt-tts/completed/what_television_series_had_the_biggest_bullshit/0043-MyWackyWeirdWorld-36_2k/0012.wav not found\n",
      "audio file /mnt/n/data/reddit-yt-tts/completed/what_television_series_had_the_biggest_bullshit/0043-MyWackyWeirdWorld-36_2k/0015.wav not found\n",
      "audio file /mnt/n/data/reddit-yt-tts/completed/what_television_series_had_the_biggest_bullshit/0043-MyWackyWeirdWorld-36_2k/0016.wav not found\n",
      "audio file /mnt/n/data/reddit-yt-tts/completed/what_television_series_had_the_biggest_bullshit/0043-MyWackyWeirdWorld-36_2k/0017.wav not found\n",
      "audio file /mnt/n/data/reddit-yt-tts/completed/what_television_series_had_the_biggest_bullshit/0043-MyWackyWeirdWorld-36_2k/0022.wav not found\n",
      "audio file /mnt/n/data/reddit-yt-tts/completed/what_television_series_had_the_biggest_bullshit/0043-MyWackyWeirdWorld-36_2k/0023.wav not found\n",
      "audio file /mnt/n/data/reddit-yt-tts/completed/what_television_series_had_the_biggest_bullshit/0043-MyWackyWeirdWorld-36_2k/0025.wav not found\n",
      "audio file /mnt/n/data/reddit-yt-tts/completed/what_television_series_had_the_biggest_bullshit/0043-MyWackyWeirdWorld-36_2k/0028.wav not found\n",
      "audio file /mnt/n/data/reddit-yt-tts/completed/what_television_series_had_the_biggest_bullshit/0043-MyWackyWeirdWorld-36_2k/0034.wav not found\n",
      "audio file /mnt/n/data/reddit-yt-tts/completed/what_television_series_had_the_biggest_bullshit/0043-MyWackyWeirdWorld-36_2k/0036.wav not found\n",
      "audio file /mnt/n/data/reddit-yt-tts/completed/what_television_series_had_the_biggest_bullshit/0043-MyWackyWeirdWorld-36_2k/0037.wav not found\n",
      "audio file /mnt/n/data/reddit-yt-tts/completed/what_television_series_had_the_biggest_bullshit/0043-MyWackyWeirdWorld-36_2k/0041.wav not found\n",
      "audio file /mnt/n/data/reddit-yt-tts/completed/what_television_series_had_the_biggest_bullshit/0043-MyWackyWeirdWorld-36_2k/0042.wav not found\n",
      "audio file /mnt/n/data/reddit-yt-tts/completed/what_television_series_had_the_biggest_bullshit/0043-MyWackyWeirdWorld-36_2k/0043.wav not found\n",
      "audio file /mnt/n/data/reddit-yt-tts/completed/what_television_series_had_the_biggest_bullshit/0043-MyWackyWeirdWorld-36_2k/0044.wav not found\n",
      "audio file /mnt/n/data/reddit-yt-tts/completed/what_television_series_had_the_biggest_bullshit/0043-MyWackyWeirdWorld-36_2k/0047.wav not found\n",
      "audio file /mnt/n/data/reddit-yt-tts/completed/what_television_series_had_the_biggest_bullshit/0043-MyWackyWeirdWorld-36_2k/0048.wav not found\n",
      "audio file /mnt/n/data/reddit-yt-tts/completed/what_television_series_had_the_biggest_bullshit/0043-MyWackyWeirdWorld-36_2k/0049.wav not found\n",
      "audio file /mnt/n/data/reddit-yt-tts/completed/what_television_series_had_the_biggest_bullshit/0043-MyWackyWeirdWorld-36_2k/0050.wav not found\n",
      "audio file /mnt/n/data/reddit-yt-tts/completed/what_television_series_had_the_biggest_bullshit/0043-MyWackyWeirdWorld-36_2k/0051.wav not found\n"
     ]
    },
    {
     "name": "stderr",
     "output_type": "stream",
     "text": [
      " 84%|████████████████████████████████████       | 42/50 [11:53<00:14,  1.82s/it]"
     ]
    },
    {
     "name": "stdout",
     "output_type": "stream",
     "text": [
      "audio file /mnt/n/data/reddit-yt-tts/completed/what_television_series_had_the_biggest_bullshit/0043-MyWackyWeirdWorld-36_2k/0054.wav not found\n",
      "audio file /mnt/n/data/reddit-yt-tts/completed/what_television_series_had_the_biggest_bullshit/0043-MyWackyWeirdWorld-36_2k/0055.wav not found\n",
      "audio file /mnt/n/data/reddit-yt-tts/completed/what_television_series_had_the_biggest_bullshit/0043-MyWackyWeirdWorld-36_2k/0056.wav not found\n",
      "0046-[deleted]-1_9k\n",
      "0048-Master-Strawberry-26-636\n"
     ]
    },
    {
     "name": "stderr",
     "output_type": "stream",
     "text": [
      " 90%|██████████████████████████████████████▋    | 45/50 [11:53<00:04,  1.24it/s]"
     ]
    },
    {
     "name": "stdout",
     "output_type": "stream",
     "text": [
      "audio file /mnt/n/data/reddit-yt-tts/completed/what_television_series_had_the_biggest_bullshit/0048-Master-Strawberry-26-636/0000.wav not found\n",
      "0057-StuntCockofGilead-433\n",
      "audio file /mnt/n/data/reddit-yt-tts/completed/what_television_series_had_the_biggest_bullshit/0057-StuntCockofGilead-433/0000.wav not found\n",
      "audio file /mnt/n/data/reddit-yt-tts/completed/what_television_series_had_the_biggest_bullshit/0057-StuntCockofGilead-433/0001.wav not found\n",
      "0060-SongokuJidai-3_6k\n"
     ]
    },
    {
     "name": "stderr",
     "output_type": "stream",
     "text": [
      " 92%|███████████████████████████████████████▌   | 46/50 [11:54<00:02,  1.55it/s]"
     ]
    },
    {
     "name": "stdout",
     "output_type": "stream",
     "text": [
      "audio file /mnt/n/data/reddit-yt-tts/completed/what_television_series_had_the_biggest_bullshit/0060-SongokuJidai-3_6k/0000.wav not found\n",
      "audio file /mnt/n/data/reddit-yt-tts/completed/what_television_series_had_the_biggest_bullshit/0060-SongokuJidai-3_6k/0001.wav not found\n",
      "0064-Septixcake-430\n",
      "audio file /mnt/n/data/reddit-yt-tts/completed/what_television_series_had_the_biggest_bullshit/0064-Septixcake-430/0000.wav not found\n"
     ]
    },
    {
     "name": "stderr",
     "output_type": "stream",
     "text": [
      " 96%|█████████████████████████████████████████▎ | 48/50 [11:54<00:00,  2.46it/s]"
     ]
    },
    {
     "name": "stdout",
     "output_type": "stream",
     "text": [
      "audio file /mnt/n/data/reddit-yt-tts/completed/what_television_series_had_the_biggest_bullshit/0064-Septixcake-430/0001.wav not found\n",
      "0067-ZOINKSSSscoob-1_8k\n",
      "audio file /mnt/n/data/reddit-yt-tts/completed/what_television_series_had_the_biggest_bullshit/0067-ZOINKSSSscoob-1_8k/0000.wav not found\n",
      "0076-SnowdropWorks-566\n"
     ]
    },
    {
     "name": "stderr",
     "output_type": "stream",
     "text": [
      " 98%|██████████████████████████████████████████▏| 49/50 [11:54<00:00,  2.88it/s]"
     ]
    },
    {
     "name": "stdout",
     "output_type": "stream",
     "text": [
      "audio file /mnt/n/data/reddit-yt-tts/completed/what_television_series_had_the_biggest_bullshit/0076-SnowdropWorks-566/0000.wav not found\n",
      "audio file /mnt/n/data/reddit-yt-tts/completed/what_television_series_had_the_biggest_bullshit/0076-SnowdropWorks-566/0001.wav not found\n",
      "0078-gimp1615-475\n",
      "audio file /mnt/n/data/reddit-yt-tts/completed/what_television_series_had_the_biggest_bullshit/0078-gimp1615-475/0000.wav not found\n"
     ]
    },
    {
     "name": "stderr",
     "output_type": "stream",
     "text": [
      "100%|███████████████████████████████████████████| 50/50 [11:54<00:00, 14.30s/it]\n"
     ]
    },
    {
     "name": "stdout",
     "output_type": "stream",
     "text": [
      "audio file /mnt/n/data/reddit-yt-tts/completed/what_television_series_had_the_biggest_bullshit/0078-gimp1615-475/0005.wav not found\n",
      "done!...info:\n",
      " prompt_text: What television series had the biggest bullshit finale?\n",
      " submission_title: what_television_series_had_the_biggest_bullshit \n",
      " video_file: assets/final_videos/what_television_series_had_the_biggest_bullshit.mp4 \n",
      " credits_file: assets/final_video_credits/what_television_series_had_the_biggest_bullshit.txt\n",
      " thumbnail: assets/final_video_thumbnails/what_television_series_had_the_biggest_bullshit.png \n",
      " post: https://www.reddit.com/r/AskReddit/comments/13i9ark/what_television_series_had_the_biggest_bullshit/\n"
     ]
    }
   ],
   "source": [
    "for submission_title in submission_titles:\n",
    "    \n",
    "    #clean submission_title\n",
    "    submission_title = submission_title.replace(\"â\\x80\\x99\",\"'\")\n",
    "    print(f\"Processing {submission_title} ...\")\n",
    "    post_url = list(filter(lambda x: submission_title in x,post_urls))[0] #index errors due to missing post_url \n",
    "    \n",
    "    #skip completed files\n",
    "    completed_metadata_files = [x.split(\"/\")[-1].replace(\".json\",\"\") for x in glob.glob(f\"{asset_dir}/../assets/*metadata*/*\")]\n",
    "    if submission_title in completed_metadata_files:\n",
    "        continue\n",
    "        \n",
    "    if submission_title in skipped_threads:\n",
    "        continue\n",
    "    thread_ids = [x.split(\"/\")[-1] for x in glob.glob(f\"{asset_dir}/{submission_title}/*\")]\n",
    "\n",
    "    def build_thread_vid(thread_id,bg_img=\"assets/Qv79akqGQt0.png\"):\n",
    "        images = glob.glob(f\"{asset_dir}/{submission_title}/{thread_id}/*.png\")\n",
    "        images = sorted(images)\n",
    "        audio_file_dir = f\"{completed_dir}/{submission_title}/{thread_id}\"\n",
    "        # https://zulko.github.io/moviepy/examples/examples.html\n",
    "        clips = []\n",
    "\n",
    "        audio_clips = []\n",
    "        total_duration = 0\n",
    "        transition_duration = 0\n",
    "\n",
    "        for i,image in enumerate(images):\n",
    "\n",
    "            image_file = image.split(\"/\")[-1]\n",
    "            audio_file = image_file.replace(\".png\",\".wav\")\n",
    "            try:\n",
    "                audio_clip = mpy.AudioFileClip(f\"{audio_file_dir}/{audio_file}\").set_start(total_duration)\n",
    "            except OSError as e:\n",
    "                print(f\"audio file {audio_file_dir}/{audio_file} not found\")\n",
    "                continue\n",
    "            audio_clips.append(audio_clip)\n",
    "            audio_duration = audio_clip.duration\n",
    "\n",
    "            clip = mpy.ImageClip(image).set_duration(audio_duration).set_start(total_duration).set_position((\"center\", \"center\"))\n",
    "\n",
    "            bg_clip = mpy.ImageClip(bg_img).set_duration(audio_duration).set_start(total_duration)\n",
    "            if clip.size[0] > bg_clip.size[0] * .9:\n",
    "                clip = clip.resize((bg_clip.size[0]*.9,clip.size[1]*.9))\n",
    "\n",
    "            if clip.size[1] > bg_clip.size[1] * .9:\n",
    "                clip = clip.resize((clip.size[0]*.9,bg_clip.size[1]*.9))\n",
    "            #clip = clip.set_start(5) # TODO: change duration based on audio\n",
    "            #clip = clip.resize((1080,1920)) #TODO add tts audio\n",
    "            clips.append(bg_clip)\n",
    "            clips.append(clip)\n",
    "\n",
    "            total_duration += audio_duration + transition_duration\n",
    "\n",
    "        if len(clips) > 0 :\n",
    "            final_audio_clip = mpy.CompositeAudioClip(audio_clips)\n",
    "            final_clip = mpy.CompositeVideoClip(clips)\n",
    "            final_clip.audio = final_audio_clip\n",
    "            final_clip.write_videofile(f\"{asset_dir}/{submission_title}/{thread_id}/thread_clip.mp4\",fps=30,logger=None)\n",
    "\n",
    "\n",
    "    #import moviepy.video.fx as vfx\n",
    "    def build_intro_vid(bg_img):\n",
    "        #intro\n",
    "        intro_duration = 4   \n",
    "        bg_clip = mpy.ImageClip(bg_img).set_duration(intro_duration)\n",
    "        bg_clip = mpy.vfx.fadein(bg_clip,intro_duration-1,[0,0,0])\n",
    "        bg_clip.write_videofile(f\"{asset_dir}/{submission_title}/intro.mp4\",fps=30,logger=None)\n",
    "\n",
    "    def build_outro_vid(bg_img):\n",
    "        #outro\n",
    "        outro_duration = 4   \n",
    "        bg_clip = mpy.ImageClip(bg_img).set_duration(outro_duration)\n",
    "        bg_clip = mpy.vfx.fadeout(bg_clip,outro_duration-1,[0,0,0])\n",
    "        bg_clip.write_videofile(f\"{asset_dir}/{submission_title}/outro.mp4\",fps=30,logger=None)\n",
    "\n",
    "    thread_ids = sorted(list(set(thread_ids)))\n",
    "\n",
    "    f\"{asset_dir}/{submission_title}/{thread_ids[0]}\"\n",
    "\n",
    "    bg_img=\"assets/bg_images/Qv79akqGQt0.png\"\n",
    "\n",
    "    # save threads to clips\n",
    "    # vote_div.text\n",
    "\n",
    "    thread_ids = sorted(list(set(thread_ids)))\n",
    "    for thread in tqdm(thread_ids):\n",
    "        print(thread)\n",
    "        build_thread_vid(thread,bg_img)\n",
    "\n",
    "\n",
    "    build_intro_vid(bg_img)\n",
    "    build_outro_vid(bg_img)\n",
    "\n",
    "    # save c to \n",
    "\n",
    "    videos = glob.glob(f\"{asset_dir}/{submission_title}/*/*.mp4\")\n",
    "    videos = sorted(list(set(videos)))\n",
    "\n",
    "    #prepend intro\n",
    "    intro = glob.glob(f\"{asset_dir}/{submission_title}/intro.mp4\")\n",
    "    videos = intro + videos\n",
    "\n",
    "    #append outro\n",
    "    outro = glob.glob(f\"{asset_dir}/{submission_title}/outro.mp4\")\n",
    "    videos = videos + outro\n",
    "\n",
    "\n",
    "\n",
    "    #videos\n",
    "\n",
    "    all_video_clips = [mpy.VideoFileClip(video) for video in videos]\n",
    "\n",
    "    videos_w_sound_corrected = []\n",
    "    for clip in all_video_clips:\n",
    "        if clip.audio:\n",
    "            clip.audio = clip.audio.fx(mpy.afx.audio_normalize)\n",
    "        videos_w_sound_corrected.append(clip)\n",
    "\n",
    "\n",
    "    transition = mpy.VideoFileClip(\"assets/tvstatic-180-720.mp4\")\n",
    "\n",
    "    transition2 = mpy.VideoFileClip(\"assets/free-vhs-overlay-1080-720.mp4\")\n",
    "\n",
    "    transition2.audio = transition.audio\n",
    "    transition2 = transition2.set_duration(.7)\n",
    "    #transition = transition.resize(1080,720) resizing crashes kernal reesizing \n",
    "    #using ffmpeg on cli instead:  https://trac.ffmpeg.org/wiki/Scaling\n",
    "\n",
    "    #split bg music into parts: https://unix.stackexchange.com/questions/280767/how-do-i-split-an-audio-file-into-multiple\n",
    "    #ffmpeg -i somefile.mp3 -f segment -segment_time 3 -c copy out%03d.mp3\n",
    "\n",
    "\n",
    "    final_video = mpy.concatenate_videoclips(videos_w_sound_corrected,method=\"compose\",transition=transition2)\n",
    "\n",
    "    def get_audio(v_duration):\n",
    "        import random\n",
    "        get_audio = True\n",
    "        sel_file_clips = []\n",
    "        sel_file_names = []\n",
    "        while get_audio:\n",
    "\n",
    "            audio_files = glob.glob(\"assets/bg_music/*.opus\")\n",
    "\n",
    "            sel_file = random.choice(audio_files)\n",
    "\n",
    "            sel_file_clips.append(mpy.AudioFileClip(sel_file))\n",
    "            sel_file_names.append(sel_file)\n",
    "\n",
    "            all_duration = [ x.duration for x in sel_file_clips]\n",
    "\n",
    "            total_duration = 0\n",
    "\n",
    "            for duration in all_duration:\n",
    "                total_duration += duration\n",
    "\n",
    "            if total_duration >= v_duration:\n",
    "                get_audio = False\n",
    "\n",
    "        out_audio = mpy.concatenate_audioclips(sel_file_clips).set_duration(v_duration)\n",
    "        return out_audio, sel_file_names \n",
    "\n",
    "\n",
    "    #import moviepy.video.fx as vfx\n",
    "    #import moviepy.audio.fx as afx\n",
    "    bg_music,bg_music_files = get_audio(final_video.duration)\n",
    "\n",
    "    bg_music = bg_music.fx( mpy.afx.audio_normalize).fx( mpy.afx.volumex, 0.3).fx( mpy.afx.audio_fadein, 1.0)\n",
    "    tts_audio = final_video.audio\n",
    "\n",
    "    bgm_w_tts_audio = mpy.CompositeAudioClip([bg_music,tts_audio])\n",
    "\n",
    "    final_video.audio = bgm_w_tts_audio\n",
    "\n",
    "    final_video.write_videofile(f\"assets/final_videos/{submission_title}.mp4\",fps=30,logger=None)\n",
    "\n",
    "    # Save video credits\n",
    "    def check_wildcard(file,credit):\n",
    "        prefix = credit[\"filename\"].split(\".*\")[0]\n",
    "        return prefix in file\n",
    "\n",
    "    def get_audio_credits(audio_files):\n",
    "        import yaml\n",
    "        with open(\"assets/bg_music/asset_credits.yml\",\"r\") as f:\n",
    "            credits = yaml.load(f,yaml.FullLoader)\n",
    "        active_credits = []\n",
    "        for credit in credits[\"assets\"]:\n",
    "            for file in audio_files:\n",
    "                if \".*\" in credit[\"filename\"] and check_wildcard(file,credit):\n",
    "                    active_credits.append(credit)\n",
    "                elif credit[\"filename\"] == file:\n",
    "                    active_credits.append(credit)\n",
    "        return active_credits\n",
    "\n",
    "    credits = get_audio_credits(bg_music_files)\n",
    "    all_credit_texts = []\n",
    "    for credit in credits:\n",
    "        credit_text = f\"\"\"\n",
    "        - {credit['artist']} - {credit['title']} \n",
    "        - Provided by Lofi Girl\n",
    "        - Watch: {credit['link']}\n",
    "        - Listen: {credit['spotify']}\n",
    "        \"\"\"\n",
    "        all_credit_texts.append(credit_text)\n",
    "    audio_credits = \"--------\\n\".join(set(all_credit_texts))\n",
    "    #print(audio_credits)\n",
    "\n",
    "    with open(f\"assets/final_video_credits/{submission_title}.txt\",\"w\") as f:\n",
    "        f.write(audio_credits)\n",
    "\n",
    "    glob.glob(f\"{asset_dir}/../archive_text/{submission_title}/*\")\n",
    "\n",
    "    from make_thumbnail import make_thumbnail_img\n",
    "    prompt_file = glob.glob(f\"{asset_dir}/../archive_text/{submission_title}/0001*/0000.txt\")[0]\n",
    "\n",
    "    with open(prompt_file,\"r\",encoding=\"latin1\") as f:\n",
    "        prompt_text = f.read()\n",
    "    #prompt_text = \"What did the pandemic ruin more than we realise?\"    \n",
    "    make_thumbnail_img(prompt_text,f\"assets/final_video_thumbnails/{submission_title}.png\",font=\"assets/fonts/limejuice/Limejuice.ttf\")\n",
    "\n",
    "    prompt_text\n",
    "\n",
    "    import json\n",
    "\n",
    "    metadata = dict(prompt_text=prompt_text\n",
    "                    ,submission_title=submission_title\n",
    "                    ,video_file=f\"assets/final_videos/{submission_title}.mp4\"\n",
    "                    ,credits_file=f\"assets/final_video_credits/{submission_title}.txt\"\n",
    "                   ,thumbnail=f\"assets/final_video_thumbnails/{submission_title}.png\"\n",
    "                   ,post_url=post_url)\n",
    "\n",
    "    with open(f\"assets/final_video_metadata/{submission_title}.json\",\"w\") as f:\n",
    "        json.dump(metadata,f)\n",
    "\n",
    "\n",
    "    print(f\"done!...info:\\n prompt_text: {prompt_text}\\n submission_title: {submission_title} \\n video_file: assets/final_videos/{submission_title}.mp4 \\n credits_file: assets/final_video_credits/{submission_title}.txt\\n thumbnail: assets/final_video_thumbnails/{submission_title}.png \\n post: {post_url}\")"
   ]
  },
  {
   "cell_type": "code",
   "execution_count": 20,
   "id": "6cd50b7d-98c4-4668-ad33-b2733dced5ef",
   "metadata": {},
   "outputs": [
    {
     "data": {
      "text/plain": [
       "['/mnt/n/data/reddit-yt-tts/queued/../archive_text/how_do_you_tell_your_gf_she_has_a_mustache/0001-Posted byu/[deleted]25 days ago-21_2k',\n",
       " '/mnt/n/data/reddit-yt-tts/queued/../archive_text/how_do_you_tell_your_gf_she_has_a_mustache/0001-Posted byu/0000.txt',\n",
       " '/mnt/n/data/reddit-yt-tts/queued/../archive_text/how_do_you_tell_your_gf_she_has_a_mustache/0001-Posted byu/0000.png']"
      ]
     },
     "execution_count": 20,
     "metadata": {},
     "output_type": "execute_result"
    }
   ],
   "source": [
    "glob.glob(f\"{asset_dir}/../archive_text/{submission_title}/0001*/*\")"
   ]
  },
  {
   "cell_type": "code",
   "execution_count": null,
   "id": "f2a92350-5835-4664-a929-0b17320633a7",
   "metadata": {},
   "outputs": [],
   "source": []
  },
  {
   "cell_type": "code",
   "execution_count": null,
   "id": "f2cc5c8f-d547-45f4-b6e9-29a5245b574f",
   "metadata": {},
   "outputs": [],
   "source": []
  },
  {
   "cell_type": "code",
   "execution_count": null,
   "id": "decfec58-bbe7-4108-bef8-626759a06363",
   "metadata": {},
   "outputs": [],
   "source": []
  },
  {
   "cell_type": "code",
   "execution_count": null,
   "id": "1c8d6db9-15db-4c35-a5d0-32297c75b917",
   "metadata": {},
   "outputs": [],
   "source": []
  },
  {
   "cell_type": "code",
   "execution_count": null,
   "id": "dec9a5a0-af50-47f3-8319-59287837a97e",
   "metadata": {},
   "outputs": [],
   "source": []
  }
 ],
 "metadata": {
  "kernelspec": {
   "display_name": "Python 3 (ipykernel)",
   "language": "python",
   "name": "python3"
  },
  "language_info": {
   "codemirror_mode": {
    "name": "ipython",
    "version": 3
   },
   "file_extension": ".py",
   "mimetype": "text/x-python",
   "name": "python",
   "nbconvert_exporter": "python",
   "pygments_lexer": "ipython3",
   "version": "3.8.10"
  }
 },
 "nbformat": 4,
 "nbformat_minor": 5
}
