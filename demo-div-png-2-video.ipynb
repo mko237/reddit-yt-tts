{
 "cells": [
  {
   "cell_type": "code",
   "execution_count": 142,
   "id": "8c1d4ed9-9753-4e04-ad08-4ce390e544bd",
   "metadata": {},
   "outputs": [],
   "source": [
    "from proxy_chrome_browser import get_chromedriver, build_proxy_extension\n",
    "import moviepy.editor as mpy\n",
    "import glob\n",
    "import os\n",
    "from time import sleep\n",
    "from tqdm import tqdm"
   ]
  },
  {
   "cell_type": "code",
   "execution_count": 143,
   "id": "40247161-0fbe-47f0-80fe-fddbc865037a",
   "metadata": {},
   "outputs": [],
   "source": [
    "br = get_chromedriver(headless=True,path='/home/miko/Downloads/chromedriver-v-106-0-5249-61')"
   ]
  },
  {
   "cell_type": "code",
   "execution_count": 144,
   "id": "9ff6673d-20e9-4abb-b05c-2c8e3d840c92",
   "metadata": {},
   "outputs": [],
   "source": [
    "def find_elm(tag,driver=br,_all=False,_by=\"css\"):\n",
    "    from selenium.webdriver.common.by import By\n",
    "    if _by==\"css\":\n",
    "        _by=By.CSS_SELECTOR\n",
    "    elif _by==\"link_text\":\n",
    "        _by=By.PARTIAL_LINK_TEXT\n",
    "    elif _by==\"link_text_exact\":\n",
    "        _by=By.LINK_TEXT\n",
    "        \n",
    "    try:\n",
    "        if _all:\n",
    "            out = driver.find_elements(by=_by,value=tag)\n",
    "        else:\n",
    "            out = driver.find_element(by=_by,value=tag)\n",
    "    except:\n",
    "        #print('None')\n",
    "        out = None\n",
    "    return out"
   ]
  },
  {
   "cell_type": "code",
   "execution_count": 145,
   "id": "01614665-e18d-468d-ae6a-211c09dec794",
   "metadata": {},
   "outputs": [],
   "source": [
    "def save_screenshot(elm,filename):\n",
    "    assert filename[-3:] == \"png\", \"filename should end with png\"\n",
    "    scroll_into_view(elm)\n",
    "    with open(filename,\"wb\") as f:\n",
    "        f.write(elm.screenshot_as_png)"
   ]
  },
  {
   "cell_type": "code",
   "execution_count": 146,
   "id": "7ef434d9-f05d-4c0f-8e7b-d600badbd720",
   "metadata": {},
   "outputs": [],
   "source": [
    "def scroll_into_view(elm):\n",
    "     #source: -https://stackoverflow.com/questions/25733877/selenium-how-do-you-check-scroll-position\n",
    "     #loc = elm.location\n",
    "     #current_view_script = \"\"\" var doc = document.documentElement;\n",
    "     #var left = (window.pageXOffset || doc.scrollLeft) - (doc.clientLeft || 0);\n",
    "     #var top = (window.pageYOffset || doc.scrollTop)  - (doc.clientTop || 0);\n",
    "        \n",
    "     #taking screenshot will scroll into view. IF this stops working can use javascript above\n",
    "     elm.screenshot_as_png\n",
    "    \n",
    "     # scroll a bit to add margin (prevent floating login bar from obscuring elm);\n",
    "     br.execute_script(\"window.scrollBy(0,-55)\", \"\")\n",
    "     sleep(.5)\n"
   ]
  },
  {
   "cell_type": "code",
   "execution_count": 147,
   "id": "3e52bfde-3a80-4bde-8e0e-001e9af67ee6",
   "metadata": {},
   "outputs": [],
   "source": [
    "#set to dark theme\n",
    "br.get(\"https://www.reddit.com\")"
   ]
  },
  {
   "cell_type": "code",
   "execution_count": 149,
   "id": "597b18c5-8f0a-47e0-97d3-864bb6af7f87",
   "metadata": {},
   "outputs": [],
   "source": [
    "\n",
    "icon = find_elm(\"button[id='USER_DROPDOWN_ID']\")\n",
    "icon.click()\n",
    "sleep(.5)\n",
    "dark_btn = find_elm(\"button[data-redditstyle='true']\")\n",
    "dark_btn.click()\n",
    "sleep(.5)\n",
    "# if for some reason click isnt working. set it manually\n",
    "#input(\"Confirm darkmode has been set (press enter)\")"
   ]
  },
  {
   "cell_type": "code",
   "execution_count": 150,
   "id": "8415ab86-ed6b-4b38-9b7d-7409e2b9ee58",
   "metadata": {},
   "outputs": [],
   "source": [
    "post_url = \"https://www.reddit.com/r/AskReddit/comments/ypzsqh/men_of_reddit_what_are_some_less_obvious_red/\""
   ]
  },
  {
   "cell_type": "code",
   "execution_count": 151,
   "id": "04f0e4af-f63b-44f0-b405-4d3c94151fb2",
   "metadata": {},
   "outputs": [],
   "source": [
    "br.get(post_url)"
   ]
  },
  {
   "cell_type": "code",
   "execution_count": 152,
   "id": "fc757993-08c7-41ea-b828-7d37ef0db133",
   "metadata": {},
   "outputs": [],
   "source": [
    "#br.switch_to.active_element.text"
   ]
  },
  {
   "cell_type": "code",
   "execution_count": null,
   "id": "ab412758-6761-4237-a2a0-8812a577c3c9",
   "metadata": {},
   "outputs": [],
   "source": []
  },
  {
   "cell_type": "code",
   "execution_count": 153,
   "id": "e6269d65-cbae-4ed4-81ea-e0e45d85f396",
   "metadata": {},
   "outputs": [
    {
     "name": "stdout",
     "output_type": "stream",
     "text": [
      "getting more replies\n",
      "getting more replies\n",
      "getting more replies\n",
      "getting more replies\n",
      "getting more replies\n",
      "getting more replies\n"
     ]
    }
   ],
   "source": [
    "# expand replies\n",
    "num_replies_threshold = 90\n",
    "get_replies = True\n",
    "num_total_loops = 5\n",
    "current_loop_num = 0\n",
    "clicked_links = []\n",
    "while get_replies:\n",
    "    more_replies_divs = find_elm(\"div[id^='moreComments']\",_all=True)\n",
    "    expandable_divs = []\n",
    "    for div in more_replies_divs:\n",
    "        more_replies_link = find_elm(\"p\",driver=div)\n",
    "        #p = br.execute_script(\"return arguments[0].parentNode;\",more_replies_link)\n",
    "        if not more_replies_link:\n",
    "            continue\n",
    "        if more_replies_link.text == '' or 'loading..' in more_replies_link.text:\n",
    "            continue\n",
    "        num_replies = int(more_replies_link.text.split()[0].replace(\",\",\"\"))\n",
    "        if num_replies >= num_replies_threshold:\n",
    "            if more_replies_link not in clicked_links:\n",
    "                expandable_divs.append(more_replies_link)\n",
    "            else:\n",
    "                continue\n",
    "    for div in expandable_divs:\n",
    "        #link_elm = find_elm(\"div[data-testid^='search-scope-pill-text']\")\n",
    "        try:\n",
    "            scroll_into_view(more_replies_link)\n",
    "            div.click()\n",
    "            sleep(1)\n",
    "        except:\n",
    "            continue  \n",
    "    if len(expandable_divs) == 0:\n",
    "        get_replies = False\n",
    "    if current_loop_num >= num_total_loops:\n",
    "        get_replies = False\n",
    "    else:\n",
    "        current_loop_num += 1\n",
    "    print(\"getting more replies\")\n",
    "    #todo: find a better stopping condition"
   ]
  },
  {
   "cell_type": "code",
   "execution_count": 129,
   "id": "32f0fd58-4a9f-499d-b634-8931f05383b4",
   "metadata": {},
   "outputs": [],
   "source": [
    "# get comments\n",
    "comments = find_elm(\"div[class*='Comment']\",_all=True)"
   ]
  },
  {
   "cell_type": "code",
   "execution_count": 130,
   "id": "23ca09c0-43ed-4dbe-92de-ee5e7081c37e",
   "metadata": {},
   "outputs": [],
   "source": [
    "#prepend original post to comments\n",
    "post = [find_elm(\"div[data-test-id='post-content']\"),]\n",
    "post.extend(comments)\n",
    "comments = post"
   ]
  },
  {
   "cell_type": "code",
   "execution_count": 154,
   "id": "2e20c98a-c57d-4aa2-a266-508b509a4b26",
   "metadata": {},
   "outputs": [
    {
     "data": {
      "text/plain": [
       "500"
      ]
     },
     "execution_count": 154,
     "metadata": {},
     "output_type": "execute_result"
    }
   ],
   "source": [
    "len(comments)"
   ]
  },
  {
   "cell_type": "code",
   "execution_count": 155,
   "id": "b5d26d65-3b5b-4674-be22-b0b9ae3de585",
   "metadata": {},
   "outputs": [],
   "source": [
    "submission_title = post_url.split(\"/\")[-2]\n",
    "#asset_dir=\"assets/demo_png_2_vid\"\n",
    "asset_dir=\"/mnt/n/data/reddit-yt-tts/queued\"\n",
    "completed_dir=\"/mnt/n/data/reddit-yt-tts/completed\"\n",
    "#thread_ids = []"
   ]
  },
  {
   "cell_type": "code",
   "execution_count": 156,
   "id": "dbde7aeb-c77b-492f-9845-188aefe1c01a",
   "metadata": {},
   "outputs": [],
   "source": [
    "def save_comment_text(filename,comment):\n",
    "    comment_text = \" \".join([x.text for x in find_elm(\"p\",driver=comment,_all=True)])\n",
    "    \n",
    "    with open(filename,\"w\") as f:\n",
    "        f.write(comment_text)"
   ]
  },
  {
   "cell_type": "code",
   "execution_count": 159,
   "id": "ab154d47-3f04-40e4-b00e-d314053a3bdb",
   "metadata": {},
   "outputs": [
    {
     "name": "stderr",
     "output_type": "stream",
     "text": [
      "  0%|                                                   | 0/500 [00:00<?, ?it/s]\n"
     ]
    },
    {
     "ename": "MaxRetryError",
     "evalue": "HTTPConnectionPool(host='localhost', port=41237): Max retries exceeded with url: /session/2dd2e6e9172028b680f1d2fea32394a3/element/67156666-b4fd-4765-9454-dd7d67aa87e8/text (Caused by NewConnectionError('<urllib3.connection.HTTPConnection object at 0x7f8df56080d0>: Failed to establish a new connection: [Errno 111] Connection refused'))",
     "output_type": "error",
     "traceback": [
      "\u001b[0;31m---------------------------------------------------------------------------\u001b[0m",
      "\u001b[0;31mConnectionRefusedError\u001b[0m                    Traceback (most recent call last)",
      "File \u001b[0;32m~/.local/share/virtualenvs/reddit-yt-tts-Dm6P-A76/lib/python3.8/site-packages/urllib3/connection.py:174\u001b[0m, in \u001b[0;36mHTTPConnection._new_conn\u001b[0;34m(self)\u001b[0m\n\u001b[1;32m    173\u001b[0m \u001b[38;5;28;01mtry\u001b[39;00m:\n\u001b[0;32m--> 174\u001b[0m     conn \u001b[38;5;241m=\u001b[39m \u001b[43mconnection\u001b[49m\u001b[38;5;241;43m.\u001b[39;49m\u001b[43mcreate_connection\u001b[49m\u001b[43m(\u001b[49m\n\u001b[1;32m    175\u001b[0m \u001b[43m        \u001b[49m\u001b[43m(\u001b[49m\u001b[38;5;28;43mself\u001b[39;49m\u001b[38;5;241;43m.\u001b[39;49m\u001b[43m_dns_host\u001b[49m\u001b[43m,\u001b[49m\u001b[43m \u001b[49m\u001b[38;5;28;43mself\u001b[39;49m\u001b[38;5;241;43m.\u001b[39;49m\u001b[43mport\u001b[49m\u001b[43m)\u001b[49m\u001b[43m,\u001b[49m\u001b[43m \u001b[49m\u001b[38;5;28;43mself\u001b[39;49m\u001b[38;5;241;43m.\u001b[39;49m\u001b[43mtimeout\u001b[49m\u001b[43m,\u001b[49m\u001b[43m \u001b[49m\u001b[38;5;241;43m*\u001b[39;49m\u001b[38;5;241;43m*\u001b[39;49m\u001b[43mextra_kw\u001b[49m\n\u001b[1;32m    176\u001b[0m \u001b[43m    \u001b[49m\u001b[43m)\u001b[49m\n\u001b[1;32m    178\u001b[0m \u001b[38;5;28;01mexcept\u001b[39;00m SocketTimeout:\n",
      "File \u001b[0;32m~/.local/share/virtualenvs/reddit-yt-tts-Dm6P-A76/lib/python3.8/site-packages/urllib3/util/connection.py:95\u001b[0m, in \u001b[0;36mcreate_connection\u001b[0;34m(address, timeout, source_address, socket_options)\u001b[0m\n\u001b[1;32m     94\u001b[0m \u001b[38;5;28;01mif\u001b[39;00m err \u001b[38;5;129;01mis\u001b[39;00m \u001b[38;5;129;01mnot\u001b[39;00m \u001b[38;5;28;01mNone\u001b[39;00m:\n\u001b[0;32m---> 95\u001b[0m     \u001b[38;5;28;01mraise\u001b[39;00m err\n\u001b[1;32m     97\u001b[0m \u001b[38;5;28;01mraise\u001b[39;00m socket\u001b[38;5;241m.\u001b[39merror(\u001b[38;5;124m\"\u001b[39m\u001b[38;5;124mgetaddrinfo returns an empty list\u001b[39m\u001b[38;5;124m\"\u001b[39m)\n",
      "File \u001b[0;32m~/.local/share/virtualenvs/reddit-yt-tts-Dm6P-A76/lib/python3.8/site-packages/urllib3/util/connection.py:85\u001b[0m, in \u001b[0;36mcreate_connection\u001b[0;34m(address, timeout, source_address, socket_options)\u001b[0m\n\u001b[1;32m     84\u001b[0m     sock\u001b[38;5;241m.\u001b[39mbind(source_address)\n\u001b[0;32m---> 85\u001b[0m \u001b[43msock\u001b[49m\u001b[38;5;241;43m.\u001b[39;49m\u001b[43mconnect\u001b[49m\u001b[43m(\u001b[49m\u001b[43msa\u001b[49m\u001b[43m)\u001b[49m\n\u001b[1;32m     86\u001b[0m \u001b[38;5;28;01mreturn\u001b[39;00m sock\n",
      "\u001b[0;31mConnectionRefusedError\u001b[0m: [Errno 111] Connection refused",
      "\nDuring handling of the above exception, another exception occurred:\n",
      "\u001b[0;31mNewConnectionError\u001b[0m                        Traceback (most recent call last)",
      "File \u001b[0;32m~/.local/share/virtualenvs/reddit-yt-tts-Dm6P-A76/lib/python3.8/site-packages/urllib3/connectionpool.py:703\u001b[0m, in \u001b[0;36mHTTPConnectionPool.urlopen\u001b[0;34m(self, method, url, body, headers, retries, redirect, assert_same_host, timeout, pool_timeout, release_conn, chunked, body_pos, **response_kw)\u001b[0m\n\u001b[1;32m    702\u001b[0m \u001b[38;5;66;03m# Make the request on the httplib connection object.\u001b[39;00m\n\u001b[0;32m--> 703\u001b[0m httplib_response \u001b[38;5;241m=\u001b[39m \u001b[38;5;28;43mself\u001b[39;49m\u001b[38;5;241;43m.\u001b[39;49m\u001b[43m_make_request\u001b[49m\u001b[43m(\u001b[49m\n\u001b[1;32m    704\u001b[0m \u001b[43m    \u001b[49m\u001b[43mconn\u001b[49m\u001b[43m,\u001b[49m\n\u001b[1;32m    705\u001b[0m \u001b[43m    \u001b[49m\u001b[43mmethod\u001b[49m\u001b[43m,\u001b[49m\n\u001b[1;32m    706\u001b[0m \u001b[43m    \u001b[49m\u001b[43murl\u001b[49m\u001b[43m,\u001b[49m\n\u001b[1;32m    707\u001b[0m \u001b[43m    \u001b[49m\u001b[43mtimeout\u001b[49m\u001b[38;5;241;43m=\u001b[39;49m\u001b[43mtimeout_obj\u001b[49m\u001b[43m,\u001b[49m\n\u001b[1;32m    708\u001b[0m \u001b[43m    \u001b[49m\u001b[43mbody\u001b[49m\u001b[38;5;241;43m=\u001b[39;49m\u001b[43mbody\u001b[49m\u001b[43m,\u001b[49m\n\u001b[1;32m    709\u001b[0m \u001b[43m    \u001b[49m\u001b[43mheaders\u001b[49m\u001b[38;5;241;43m=\u001b[39;49m\u001b[43mheaders\u001b[49m\u001b[43m,\u001b[49m\n\u001b[1;32m    710\u001b[0m \u001b[43m    \u001b[49m\u001b[43mchunked\u001b[49m\u001b[38;5;241;43m=\u001b[39;49m\u001b[43mchunked\u001b[49m\u001b[43m,\u001b[49m\n\u001b[1;32m    711\u001b[0m \u001b[43m\u001b[49m\u001b[43m)\u001b[49m\n\u001b[1;32m    713\u001b[0m \u001b[38;5;66;03m# If we're going to release the connection in ``finally:``, then\u001b[39;00m\n\u001b[1;32m    714\u001b[0m \u001b[38;5;66;03m# the response doesn't need to know about the connection. Otherwise\u001b[39;00m\n\u001b[1;32m    715\u001b[0m \u001b[38;5;66;03m# it will also try to release it and we'll have a double-release\u001b[39;00m\n\u001b[1;32m    716\u001b[0m \u001b[38;5;66;03m# mess.\u001b[39;00m\n",
      "File \u001b[0;32m~/.local/share/virtualenvs/reddit-yt-tts-Dm6P-A76/lib/python3.8/site-packages/urllib3/connectionpool.py:398\u001b[0m, in \u001b[0;36mHTTPConnectionPool._make_request\u001b[0;34m(self, conn, method, url, timeout, chunked, **httplib_request_kw)\u001b[0m\n\u001b[1;32m    397\u001b[0m     \u001b[38;5;28;01melse\u001b[39;00m:\n\u001b[0;32m--> 398\u001b[0m         \u001b[43mconn\u001b[49m\u001b[38;5;241;43m.\u001b[39;49m\u001b[43mrequest\u001b[49m\u001b[43m(\u001b[49m\u001b[43mmethod\u001b[49m\u001b[43m,\u001b[49m\u001b[43m \u001b[49m\u001b[43murl\u001b[49m\u001b[43m,\u001b[49m\u001b[43m \u001b[49m\u001b[38;5;241;43m*\u001b[39;49m\u001b[38;5;241;43m*\u001b[39;49m\u001b[43mhttplib_request_kw\u001b[49m\u001b[43m)\u001b[49m\n\u001b[1;32m    400\u001b[0m \u001b[38;5;66;03m# We are swallowing BrokenPipeError (errno.EPIPE) since the server is\u001b[39;00m\n\u001b[1;32m    401\u001b[0m \u001b[38;5;66;03m# legitimately able to close the connection after sending a valid response.\u001b[39;00m\n\u001b[1;32m    402\u001b[0m \u001b[38;5;66;03m# With this behaviour, the received response is still readable.\u001b[39;00m\n",
      "File \u001b[0;32m~/.local/share/virtualenvs/reddit-yt-tts-Dm6P-A76/lib/python3.8/site-packages/urllib3/connection.py:239\u001b[0m, in \u001b[0;36mHTTPConnection.request\u001b[0;34m(self, method, url, body, headers)\u001b[0m\n\u001b[1;32m    238\u001b[0m     headers[\u001b[38;5;124m\"\u001b[39m\u001b[38;5;124mUser-Agent\u001b[39m\u001b[38;5;124m\"\u001b[39m] \u001b[38;5;241m=\u001b[39m _get_default_user_agent()\n\u001b[0;32m--> 239\u001b[0m \u001b[38;5;28;43msuper\u001b[39;49m\u001b[43m(\u001b[49m\u001b[43mHTTPConnection\u001b[49m\u001b[43m,\u001b[49m\u001b[43m \u001b[49m\u001b[38;5;28;43mself\u001b[39;49m\u001b[43m)\u001b[49m\u001b[38;5;241;43m.\u001b[39;49m\u001b[43mrequest\u001b[49m\u001b[43m(\u001b[49m\u001b[43mmethod\u001b[49m\u001b[43m,\u001b[49m\u001b[43m \u001b[49m\u001b[43murl\u001b[49m\u001b[43m,\u001b[49m\u001b[43m \u001b[49m\u001b[43mbody\u001b[49m\u001b[38;5;241;43m=\u001b[39;49m\u001b[43mbody\u001b[49m\u001b[43m,\u001b[49m\u001b[43m \u001b[49m\u001b[43mheaders\u001b[49m\u001b[38;5;241;43m=\u001b[39;49m\u001b[43mheaders\u001b[49m\u001b[43m)\u001b[49m\n",
      "File \u001b[0;32m/usr/lib/python3.8/http/client.py:1256\u001b[0m, in \u001b[0;36mHTTPConnection.request\u001b[0;34m(self, method, url, body, headers, encode_chunked)\u001b[0m\n\u001b[1;32m   1255\u001b[0m \u001b[38;5;124;03m\"\"\"Send a complete request to the server.\"\"\"\u001b[39;00m\n\u001b[0;32m-> 1256\u001b[0m \u001b[38;5;28;43mself\u001b[39;49m\u001b[38;5;241;43m.\u001b[39;49m\u001b[43m_send_request\u001b[49m\u001b[43m(\u001b[49m\u001b[43mmethod\u001b[49m\u001b[43m,\u001b[49m\u001b[43m \u001b[49m\u001b[43murl\u001b[49m\u001b[43m,\u001b[49m\u001b[43m \u001b[49m\u001b[43mbody\u001b[49m\u001b[43m,\u001b[49m\u001b[43m \u001b[49m\u001b[43mheaders\u001b[49m\u001b[43m,\u001b[49m\u001b[43m \u001b[49m\u001b[43mencode_chunked\u001b[49m\u001b[43m)\u001b[49m\n",
      "File \u001b[0;32m/usr/lib/python3.8/http/client.py:1302\u001b[0m, in \u001b[0;36mHTTPConnection._send_request\u001b[0;34m(self, method, url, body, headers, encode_chunked)\u001b[0m\n\u001b[1;32m   1301\u001b[0m     body \u001b[38;5;241m=\u001b[39m _encode(body, \u001b[38;5;124m'\u001b[39m\u001b[38;5;124mbody\u001b[39m\u001b[38;5;124m'\u001b[39m)\n\u001b[0;32m-> 1302\u001b[0m \u001b[38;5;28;43mself\u001b[39;49m\u001b[38;5;241;43m.\u001b[39;49m\u001b[43mendheaders\u001b[49m\u001b[43m(\u001b[49m\u001b[43mbody\u001b[49m\u001b[43m,\u001b[49m\u001b[43m \u001b[49m\u001b[43mencode_chunked\u001b[49m\u001b[38;5;241;43m=\u001b[39;49m\u001b[43mencode_chunked\u001b[49m\u001b[43m)\u001b[49m\n",
      "File \u001b[0;32m/usr/lib/python3.8/http/client.py:1251\u001b[0m, in \u001b[0;36mHTTPConnection.endheaders\u001b[0;34m(self, message_body, encode_chunked)\u001b[0m\n\u001b[1;32m   1250\u001b[0m     \u001b[38;5;28;01mraise\u001b[39;00m CannotSendHeader()\n\u001b[0;32m-> 1251\u001b[0m \u001b[38;5;28;43mself\u001b[39;49m\u001b[38;5;241;43m.\u001b[39;49m\u001b[43m_send_output\u001b[49m\u001b[43m(\u001b[49m\u001b[43mmessage_body\u001b[49m\u001b[43m,\u001b[49m\u001b[43m \u001b[49m\u001b[43mencode_chunked\u001b[49m\u001b[38;5;241;43m=\u001b[39;49m\u001b[43mencode_chunked\u001b[49m\u001b[43m)\u001b[49m\n",
      "File \u001b[0;32m/usr/lib/python3.8/http/client.py:1011\u001b[0m, in \u001b[0;36mHTTPConnection._send_output\u001b[0;34m(self, message_body, encode_chunked)\u001b[0m\n\u001b[1;32m   1010\u001b[0m \u001b[38;5;28;01mdel\u001b[39;00m \u001b[38;5;28mself\u001b[39m\u001b[38;5;241m.\u001b[39m_buffer[:]\n\u001b[0;32m-> 1011\u001b[0m \u001b[38;5;28;43mself\u001b[39;49m\u001b[38;5;241;43m.\u001b[39;49m\u001b[43msend\u001b[49m\u001b[43m(\u001b[49m\u001b[43mmsg\u001b[49m\u001b[43m)\u001b[49m\n\u001b[1;32m   1013\u001b[0m \u001b[38;5;28;01mif\u001b[39;00m message_body \u001b[38;5;129;01mis\u001b[39;00m \u001b[38;5;129;01mnot\u001b[39;00m \u001b[38;5;28;01mNone\u001b[39;00m:\n\u001b[1;32m   1014\u001b[0m \n\u001b[1;32m   1015\u001b[0m     \u001b[38;5;66;03m# create a consistent interface to message_body\u001b[39;00m\n",
      "File \u001b[0;32m/usr/lib/python3.8/http/client.py:951\u001b[0m, in \u001b[0;36mHTTPConnection.send\u001b[0;34m(self, data)\u001b[0m\n\u001b[1;32m    950\u001b[0m \u001b[38;5;28;01mif\u001b[39;00m \u001b[38;5;28mself\u001b[39m\u001b[38;5;241m.\u001b[39mauto_open:\n\u001b[0;32m--> 951\u001b[0m     \u001b[38;5;28;43mself\u001b[39;49m\u001b[38;5;241;43m.\u001b[39;49m\u001b[43mconnect\u001b[49m\u001b[43m(\u001b[49m\u001b[43m)\u001b[49m\n\u001b[1;32m    952\u001b[0m \u001b[38;5;28;01melse\u001b[39;00m:\n",
      "File \u001b[0;32m~/.local/share/virtualenvs/reddit-yt-tts-Dm6P-A76/lib/python3.8/site-packages/urllib3/connection.py:205\u001b[0m, in \u001b[0;36mHTTPConnection.connect\u001b[0;34m(self)\u001b[0m\n\u001b[1;32m    204\u001b[0m \u001b[38;5;28;01mdef\u001b[39;00m \u001b[38;5;21mconnect\u001b[39m(\u001b[38;5;28mself\u001b[39m):\n\u001b[0;32m--> 205\u001b[0m     conn \u001b[38;5;241m=\u001b[39m \u001b[38;5;28;43mself\u001b[39;49m\u001b[38;5;241;43m.\u001b[39;49m\u001b[43m_new_conn\u001b[49m\u001b[43m(\u001b[49m\u001b[43m)\u001b[49m\n\u001b[1;32m    206\u001b[0m     \u001b[38;5;28mself\u001b[39m\u001b[38;5;241m.\u001b[39m_prepare_conn(conn)\n",
      "File \u001b[0;32m~/.local/share/virtualenvs/reddit-yt-tts-Dm6P-A76/lib/python3.8/site-packages/urllib3/connection.py:186\u001b[0m, in \u001b[0;36mHTTPConnection._new_conn\u001b[0;34m(self)\u001b[0m\n\u001b[1;32m    185\u001b[0m \u001b[38;5;28;01mexcept\u001b[39;00m SocketError \u001b[38;5;28;01mas\u001b[39;00m e:\n\u001b[0;32m--> 186\u001b[0m     \u001b[38;5;28;01mraise\u001b[39;00m NewConnectionError(\n\u001b[1;32m    187\u001b[0m         \u001b[38;5;28mself\u001b[39m, \u001b[38;5;124m\"\u001b[39m\u001b[38;5;124mFailed to establish a new connection: \u001b[39m\u001b[38;5;132;01m%s\u001b[39;00m\u001b[38;5;124m\"\u001b[39m \u001b[38;5;241m%\u001b[39m e\n\u001b[1;32m    188\u001b[0m     )\n\u001b[1;32m    190\u001b[0m \u001b[38;5;28;01mreturn\u001b[39;00m conn\n",
      "\u001b[0;31mNewConnectionError\u001b[0m: <urllib3.connection.HTTPConnection object at 0x7f8df56080d0>: Failed to establish a new connection: [Errno 111] Connection refused",
      "\nDuring handling of the above exception, another exception occurred:\n",
      "\u001b[0;31mMaxRetryError\u001b[0m                             Traceback (most recent call last)",
      "Cell \u001b[0;32mIn [159], line 11\u001b[0m\n\u001b[1;32m      8\u001b[0m i \u001b[38;5;241m=\u001b[39m \u001b[38;5;241m0\u001b[39m\n\u001b[1;32m      9\u001b[0m \u001b[38;5;28;01mfor\u001b[39;00m comment \u001b[38;5;129;01min\u001b[39;00m tqdm(comments):\n\u001b[1;32m     10\u001b[0m     \u001b[38;5;66;03m# filter deleted comments\u001b[39;00m\n\u001b[0;32m---> 11\u001b[0m     \u001b[38;5;28;01mif\u001b[39;00m \u001b[38;5;124m\"\u001b[39m\u001b[38;5;124mComment deleted by user\u001b[39m\u001b[38;5;124m\"\u001b[39m \u001b[38;5;129;01min\u001b[39;00m \u001b[43mcomment\u001b[49m\u001b[38;5;241;43m.\u001b[39;49m\u001b[43mtext\u001b[49m:\n\u001b[1;32m     12\u001b[0m         \u001b[38;5;28;01mcontinue\u001b[39;00m\n\u001b[1;32m     14\u001b[0m     \u001b[38;5;66;03m# some comments arnt expanded, skipping\u001b[39;00m\n",
      "File \u001b[0;32m~/.local/share/virtualenvs/reddit-yt-tts-Dm6P-A76/lib/python3.8/site-packages/selenium/webdriver/remote/webelement.py:89\u001b[0m, in \u001b[0;36mWebElement.text\u001b[0;34m(self)\u001b[0m\n\u001b[1;32m     86\u001b[0m \u001b[38;5;129m@property\u001b[39m\n\u001b[1;32m     87\u001b[0m \u001b[38;5;28;01mdef\u001b[39;00m \u001b[38;5;21mtext\u001b[39m(\u001b[38;5;28mself\u001b[39m) \u001b[38;5;241m-\u001b[39m\u001b[38;5;241m>\u001b[39m \u001b[38;5;28mstr\u001b[39m:\n\u001b[1;32m     88\u001b[0m     \u001b[38;5;124;03m\"\"\"The text of the element.\"\"\"\u001b[39;00m\n\u001b[0;32m---> 89\u001b[0m     \u001b[38;5;28;01mreturn\u001b[39;00m \u001b[38;5;28;43mself\u001b[39;49m\u001b[38;5;241;43m.\u001b[39;49m\u001b[43m_execute\u001b[49m\u001b[43m(\u001b[49m\u001b[43mCommand\u001b[49m\u001b[38;5;241;43m.\u001b[39;49m\u001b[43mGET_ELEMENT_TEXT\u001b[49m\u001b[43m)\u001b[49m[\u001b[38;5;124m\"\u001b[39m\u001b[38;5;124mvalue\u001b[39m\u001b[38;5;124m\"\u001b[39m]\n",
      "File \u001b[0;32m~/.local/share/virtualenvs/reddit-yt-tts-Dm6P-A76/lib/python3.8/site-packages/selenium/webdriver/remote/webelement.py:410\u001b[0m, in \u001b[0;36mWebElement._execute\u001b[0;34m(self, command, params)\u001b[0m\n\u001b[1;32m    408\u001b[0m     params \u001b[38;5;241m=\u001b[39m {}\n\u001b[1;32m    409\u001b[0m params[\u001b[38;5;124m\"\u001b[39m\u001b[38;5;124mid\u001b[39m\u001b[38;5;124m\"\u001b[39m] \u001b[38;5;241m=\u001b[39m \u001b[38;5;28mself\u001b[39m\u001b[38;5;241m.\u001b[39m_id\n\u001b[0;32m--> 410\u001b[0m \u001b[38;5;28;01mreturn\u001b[39;00m \u001b[38;5;28;43mself\u001b[39;49m\u001b[38;5;241;43m.\u001b[39;49m\u001b[43m_parent\u001b[49m\u001b[38;5;241;43m.\u001b[39;49m\u001b[43mexecute\u001b[49m\u001b[43m(\u001b[49m\u001b[43mcommand\u001b[49m\u001b[43m,\u001b[49m\u001b[43m \u001b[49m\u001b[43mparams\u001b[49m\u001b[43m)\u001b[49m\n",
      "File \u001b[0;32m~/.local/share/virtualenvs/reddit-yt-tts-Dm6P-A76/lib/python3.8/site-packages/selenium/webdriver/remote/webdriver.py:442\u001b[0m, in \u001b[0;36mWebDriver.execute\u001b[0;34m(self, driver_command, params)\u001b[0m\n\u001b[1;32m    439\u001b[0m     \u001b[38;5;28;01melif\u001b[39;00m \u001b[38;5;124m\"\u001b[39m\u001b[38;5;124msessionId\u001b[39m\u001b[38;5;124m\"\u001b[39m \u001b[38;5;129;01mnot\u001b[39;00m \u001b[38;5;129;01min\u001b[39;00m params:\n\u001b[1;32m    440\u001b[0m         params[\u001b[38;5;124m\"\u001b[39m\u001b[38;5;124msessionId\u001b[39m\u001b[38;5;124m\"\u001b[39m] \u001b[38;5;241m=\u001b[39m \u001b[38;5;28mself\u001b[39m\u001b[38;5;241m.\u001b[39msession_id\n\u001b[0;32m--> 442\u001b[0m response \u001b[38;5;241m=\u001b[39m \u001b[38;5;28;43mself\u001b[39;49m\u001b[38;5;241;43m.\u001b[39;49m\u001b[43mcommand_executor\u001b[49m\u001b[38;5;241;43m.\u001b[39;49m\u001b[43mexecute\u001b[49m\u001b[43m(\u001b[49m\u001b[43mdriver_command\u001b[49m\u001b[43m,\u001b[49m\u001b[43m \u001b[49m\u001b[43mparams\u001b[49m\u001b[43m)\u001b[49m\n\u001b[1;32m    443\u001b[0m \u001b[38;5;28;01mif\u001b[39;00m response:\n\u001b[1;32m    444\u001b[0m     \u001b[38;5;28mself\u001b[39m\u001b[38;5;241m.\u001b[39merror_handler\u001b[38;5;241m.\u001b[39mcheck_response(response)\n",
      "File \u001b[0;32m~/.local/share/virtualenvs/reddit-yt-tts-Dm6P-A76/lib/python3.8/site-packages/selenium/webdriver/remote/remote_connection.py:294\u001b[0m, in \u001b[0;36mRemoteConnection.execute\u001b[0;34m(self, command, params)\u001b[0m\n\u001b[1;32m    292\u001b[0m data \u001b[38;5;241m=\u001b[39m utils\u001b[38;5;241m.\u001b[39mdump_json(params)\n\u001b[1;32m    293\u001b[0m url \u001b[38;5;241m=\u001b[39m \u001b[38;5;124mf\u001b[39m\u001b[38;5;124m\"\u001b[39m\u001b[38;5;132;01m{\u001b[39;00m\u001b[38;5;28mself\u001b[39m\u001b[38;5;241m.\u001b[39m_url\u001b[38;5;132;01m}\u001b[39;00m\u001b[38;5;132;01m{\u001b[39;00mpath\u001b[38;5;132;01m}\u001b[39;00m\u001b[38;5;124m\"\u001b[39m\n\u001b[0;32m--> 294\u001b[0m \u001b[38;5;28;01mreturn\u001b[39;00m \u001b[38;5;28;43mself\u001b[39;49m\u001b[38;5;241;43m.\u001b[39;49m\u001b[43m_request\u001b[49m\u001b[43m(\u001b[49m\u001b[43mcommand_info\u001b[49m\u001b[43m[\u001b[49m\u001b[38;5;241;43m0\u001b[39;49m\u001b[43m]\u001b[49m\u001b[43m,\u001b[49m\u001b[43m \u001b[49m\u001b[43murl\u001b[49m\u001b[43m,\u001b[49m\u001b[43m \u001b[49m\u001b[43mbody\u001b[49m\u001b[38;5;241;43m=\u001b[39;49m\u001b[43mdata\u001b[49m\u001b[43m)\u001b[49m\n",
      "File \u001b[0;32m~/.local/share/virtualenvs/reddit-yt-tts-Dm6P-A76/lib/python3.8/site-packages/selenium/webdriver/remote/remote_connection.py:316\u001b[0m, in \u001b[0;36mRemoteConnection._request\u001b[0;34m(self, method, url, body)\u001b[0m\n\u001b[1;32m    313\u001b[0m     body \u001b[38;5;241m=\u001b[39m \u001b[38;5;28;01mNone\u001b[39;00m\n\u001b[1;32m    315\u001b[0m \u001b[38;5;28;01mif\u001b[39;00m \u001b[38;5;28mself\u001b[39m\u001b[38;5;241m.\u001b[39mkeep_alive:\n\u001b[0;32m--> 316\u001b[0m     response \u001b[38;5;241m=\u001b[39m \u001b[38;5;28;43mself\u001b[39;49m\u001b[38;5;241;43m.\u001b[39;49m\u001b[43m_conn\u001b[49m\u001b[38;5;241;43m.\u001b[39;49m\u001b[43mrequest\u001b[49m\u001b[43m(\u001b[49m\u001b[43mmethod\u001b[49m\u001b[43m,\u001b[49m\u001b[43m \u001b[49m\u001b[43murl\u001b[49m\u001b[43m,\u001b[49m\u001b[43m \u001b[49m\u001b[43mbody\u001b[49m\u001b[38;5;241;43m=\u001b[39;49m\u001b[43mbody\u001b[49m\u001b[43m,\u001b[49m\u001b[43m \u001b[49m\u001b[43mheaders\u001b[49m\u001b[38;5;241;43m=\u001b[39;49m\u001b[43mheaders\u001b[49m\u001b[43m)\u001b[49m\n\u001b[1;32m    317\u001b[0m     statuscode \u001b[38;5;241m=\u001b[39m response\u001b[38;5;241m.\u001b[39mstatus\n\u001b[1;32m    318\u001b[0m \u001b[38;5;28;01melse\u001b[39;00m:\n",
      "File \u001b[0;32m~/.local/share/virtualenvs/reddit-yt-tts-Dm6P-A76/lib/python3.8/site-packages/urllib3/request.py:74\u001b[0m, in \u001b[0;36mRequestMethods.request\u001b[0;34m(self, method, url, fields, headers, **urlopen_kw)\u001b[0m\n\u001b[1;32m     71\u001b[0m urlopen_kw[\u001b[38;5;124m\"\u001b[39m\u001b[38;5;124mrequest_url\u001b[39m\u001b[38;5;124m\"\u001b[39m] \u001b[38;5;241m=\u001b[39m url\n\u001b[1;32m     73\u001b[0m \u001b[38;5;28;01mif\u001b[39;00m method \u001b[38;5;129;01min\u001b[39;00m \u001b[38;5;28mself\u001b[39m\u001b[38;5;241m.\u001b[39m_encode_url_methods:\n\u001b[0;32m---> 74\u001b[0m     \u001b[38;5;28;01mreturn\u001b[39;00m \u001b[38;5;28;43mself\u001b[39;49m\u001b[38;5;241;43m.\u001b[39;49m\u001b[43mrequest_encode_url\u001b[49m\u001b[43m(\u001b[49m\n\u001b[1;32m     75\u001b[0m \u001b[43m        \u001b[49m\u001b[43mmethod\u001b[49m\u001b[43m,\u001b[49m\u001b[43m \u001b[49m\u001b[43murl\u001b[49m\u001b[43m,\u001b[49m\u001b[43m \u001b[49m\u001b[43mfields\u001b[49m\u001b[38;5;241;43m=\u001b[39;49m\u001b[43mfields\u001b[49m\u001b[43m,\u001b[49m\u001b[43m \u001b[49m\u001b[43mheaders\u001b[49m\u001b[38;5;241;43m=\u001b[39;49m\u001b[43mheaders\u001b[49m\u001b[43m,\u001b[49m\u001b[43m \u001b[49m\u001b[38;5;241;43m*\u001b[39;49m\u001b[38;5;241;43m*\u001b[39;49m\u001b[43murlopen_kw\u001b[49m\n\u001b[1;32m     76\u001b[0m \u001b[43m    \u001b[49m\u001b[43m)\u001b[49m\n\u001b[1;32m     77\u001b[0m \u001b[38;5;28;01melse\u001b[39;00m:\n\u001b[1;32m     78\u001b[0m     \u001b[38;5;28;01mreturn\u001b[39;00m \u001b[38;5;28mself\u001b[39m\u001b[38;5;241m.\u001b[39mrequest_encode_body(\n\u001b[1;32m     79\u001b[0m         method, url, fields\u001b[38;5;241m=\u001b[39mfields, headers\u001b[38;5;241m=\u001b[39mheaders, \u001b[38;5;241m*\u001b[39m\u001b[38;5;241m*\u001b[39murlopen_kw\n\u001b[1;32m     80\u001b[0m     )\n",
      "File \u001b[0;32m~/.local/share/virtualenvs/reddit-yt-tts-Dm6P-A76/lib/python3.8/site-packages/urllib3/request.py:96\u001b[0m, in \u001b[0;36mRequestMethods.request_encode_url\u001b[0;34m(self, method, url, fields, headers, **urlopen_kw)\u001b[0m\n\u001b[1;32m     93\u001b[0m \u001b[38;5;28;01mif\u001b[39;00m fields:\n\u001b[1;32m     94\u001b[0m     url \u001b[38;5;241m+\u001b[39m\u001b[38;5;241m=\u001b[39m \u001b[38;5;124m\"\u001b[39m\u001b[38;5;124m?\u001b[39m\u001b[38;5;124m\"\u001b[39m \u001b[38;5;241m+\u001b[39m urlencode(fields)\n\u001b[0;32m---> 96\u001b[0m \u001b[38;5;28;01mreturn\u001b[39;00m \u001b[38;5;28;43mself\u001b[39;49m\u001b[38;5;241;43m.\u001b[39;49m\u001b[43murlopen\u001b[49m\u001b[43m(\u001b[49m\u001b[43mmethod\u001b[49m\u001b[43m,\u001b[49m\u001b[43m \u001b[49m\u001b[43murl\u001b[49m\u001b[43m,\u001b[49m\u001b[43m \u001b[49m\u001b[38;5;241;43m*\u001b[39;49m\u001b[38;5;241;43m*\u001b[39;49m\u001b[43mextra_kw\u001b[49m\u001b[43m)\u001b[49m\n",
      "File \u001b[0;32m~/.local/share/virtualenvs/reddit-yt-tts-Dm6P-A76/lib/python3.8/site-packages/urllib3/poolmanager.py:376\u001b[0m, in \u001b[0;36mPoolManager.urlopen\u001b[0;34m(self, method, url, redirect, **kw)\u001b[0m\n\u001b[1;32m    374\u001b[0m     response \u001b[38;5;241m=\u001b[39m conn\u001b[38;5;241m.\u001b[39murlopen(method, url, \u001b[38;5;241m*\u001b[39m\u001b[38;5;241m*\u001b[39mkw)\n\u001b[1;32m    375\u001b[0m \u001b[38;5;28;01melse\u001b[39;00m:\n\u001b[0;32m--> 376\u001b[0m     response \u001b[38;5;241m=\u001b[39m \u001b[43mconn\u001b[49m\u001b[38;5;241;43m.\u001b[39;49m\u001b[43murlopen\u001b[49m\u001b[43m(\u001b[49m\u001b[43mmethod\u001b[49m\u001b[43m,\u001b[49m\u001b[43m \u001b[49m\u001b[43mu\u001b[49m\u001b[38;5;241;43m.\u001b[39;49m\u001b[43mrequest_uri\u001b[49m\u001b[43m,\u001b[49m\u001b[43m \u001b[49m\u001b[38;5;241;43m*\u001b[39;49m\u001b[38;5;241;43m*\u001b[39;49m\u001b[43mkw\u001b[49m\u001b[43m)\u001b[49m\n\u001b[1;32m    378\u001b[0m redirect_location \u001b[38;5;241m=\u001b[39m redirect \u001b[38;5;129;01mand\u001b[39;00m response\u001b[38;5;241m.\u001b[39mget_redirect_location()\n\u001b[1;32m    379\u001b[0m \u001b[38;5;28;01mif\u001b[39;00m \u001b[38;5;129;01mnot\u001b[39;00m redirect_location:\n",
      "File \u001b[0;32m~/.local/share/virtualenvs/reddit-yt-tts-Dm6P-A76/lib/python3.8/site-packages/urllib3/connectionpool.py:815\u001b[0m, in \u001b[0;36mHTTPConnectionPool.urlopen\u001b[0;34m(self, method, url, body, headers, retries, redirect, assert_same_host, timeout, pool_timeout, release_conn, chunked, body_pos, **response_kw)\u001b[0m\n\u001b[1;32m    810\u001b[0m \u001b[38;5;28;01mif\u001b[39;00m \u001b[38;5;129;01mnot\u001b[39;00m conn:\n\u001b[1;32m    811\u001b[0m     \u001b[38;5;66;03m# Try again\u001b[39;00m\n\u001b[1;32m    812\u001b[0m     log\u001b[38;5;241m.\u001b[39mwarning(\n\u001b[1;32m    813\u001b[0m         \u001b[38;5;124m\"\u001b[39m\u001b[38;5;124mRetrying (\u001b[39m\u001b[38;5;132;01m%r\u001b[39;00m\u001b[38;5;124m) after connection broken by \u001b[39m\u001b[38;5;124m'\u001b[39m\u001b[38;5;132;01m%r\u001b[39;00m\u001b[38;5;124m'\u001b[39m\u001b[38;5;124m: \u001b[39m\u001b[38;5;132;01m%s\u001b[39;00m\u001b[38;5;124m\"\u001b[39m, retries, err, url\n\u001b[1;32m    814\u001b[0m     )\n\u001b[0;32m--> 815\u001b[0m     \u001b[38;5;28;01mreturn\u001b[39;00m \u001b[38;5;28;43mself\u001b[39;49m\u001b[38;5;241;43m.\u001b[39;49m\u001b[43murlopen\u001b[49m\u001b[43m(\u001b[49m\n\u001b[1;32m    816\u001b[0m \u001b[43m        \u001b[49m\u001b[43mmethod\u001b[49m\u001b[43m,\u001b[49m\n\u001b[1;32m    817\u001b[0m \u001b[43m        \u001b[49m\u001b[43murl\u001b[49m\u001b[43m,\u001b[49m\n\u001b[1;32m    818\u001b[0m \u001b[43m        \u001b[49m\u001b[43mbody\u001b[49m\u001b[43m,\u001b[49m\n\u001b[1;32m    819\u001b[0m \u001b[43m        \u001b[49m\u001b[43mheaders\u001b[49m\u001b[43m,\u001b[49m\n\u001b[1;32m    820\u001b[0m \u001b[43m        \u001b[49m\u001b[43mretries\u001b[49m\u001b[43m,\u001b[49m\n\u001b[1;32m    821\u001b[0m \u001b[43m        \u001b[49m\u001b[43mredirect\u001b[49m\u001b[43m,\u001b[49m\n\u001b[1;32m    822\u001b[0m \u001b[43m        \u001b[49m\u001b[43massert_same_host\u001b[49m\u001b[43m,\u001b[49m\n\u001b[1;32m    823\u001b[0m \u001b[43m        \u001b[49m\u001b[43mtimeout\u001b[49m\u001b[38;5;241;43m=\u001b[39;49m\u001b[43mtimeout\u001b[49m\u001b[43m,\u001b[49m\n\u001b[1;32m    824\u001b[0m \u001b[43m        \u001b[49m\u001b[43mpool_timeout\u001b[49m\u001b[38;5;241;43m=\u001b[39;49m\u001b[43mpool_timeout\u001b[49m\u001b[43m,\u001b[49m\n\u001b[1;32m    825\u001b[0m \u001b[43m        \u001b[49m\u001b[43mrelease_conn\u001b[49m\u001b[38;5;241;43m=\u001b[39;49m\u001b[43mrelease_conn\u001b[49m\u001b[43m,\u001b[49m\n\u001b[1;32m    826\u001b[0m \u001b[43m        \u001b[49m\u001b[43mchunked\u001b[49m\u001b[38;5;241;43m=\u001b[39;49m\u001b[43mchunked\u001b[49m\u001b[43m,\u001b[49m\n\u001b[1;32m    827\u001b[0m \u001b[43m        \u001b[49m\u001b[43mbody_pos\u001b[49m\u001b[38;5;241;43m=\u001b[39;49m\u001b[43mbody_pos\u001b[49m\u001b[43m,\u001b[49m\n\u001b[1;32m    828\u001b[0m \u001b[43m        \u001b[49m\u001b[38;5;241;43m*\u001b[39;49m\u001b[38;5;241;43m*\u001b[39;49m\u001b[43mresponse_kw\u001b[49m\n\u001b[1;32m    829\u001b[0m \u001b[43m    \u001b[49m\u001b[43m)\u001b[49m\n\u001b[1;32m    831\u001b[0m \u001b[38;5;66;03m# Handle redirect?\u001b[39;00m\n\u001b[1;32m    832\u001b[0m redirect_location \u001b[38;5;241m=\u001b[39m redirect \u001b[38;5;129;01mand\u001b[39;00m response\u001b[38;5;241m.\u001b[39mget_redirect_location()\n",
      "File \u001b[0;32m~/.local/share/virtualenvs/reddit-yt-tts-Dm6P-A76/lib/python3.8/site-packages/urllib3/connectionpool.py:815\u001b[0m, in \u001b[0;36mHTTPConnectionPool.urlopen\u001b[0;34m(self, method, url, body, headers, retries, redirect, assert_same_host, timeout, pool_timeout, release_conn, chunked, body_pos, **response_kw)\u001b[0m\n\u001b[1;32m    810\u001b[0m \u001b[38;5;28;01mif\u001b[39;00m \u001b[38;5;129;01mnot\u001b[39;00m conn:\n\u001b[1;32m    811\u001b[0m     \u001b[38;5;66;03m# Try again\u001b[39;00m\n\u001b[1;32m    812\u001b[0m     log\u001b[38;5;241m.\u001b[39mwarning(\n\u001b[1;32m    813\u001b[0m         \u001b[38;5;124m\"\u001b[39m\u001b[38;5;124mRetrying (\u001b[39m\u001b[38;5;132;01m%r\u001b[39;00m\u001b[38;5;124m) after connection broken by \u001b[39m\u001b[38;5;124m'\u001b[39m\u001b[38;5;132;01m%r\u001b[39;00m\u001b[38;5;124m'\u001b[39m\u001b[38;5;124m: \u001b[39m\u001b[38;5;132;01m%s\u001b[39;00m\u001b[38;5;124m\"\u001b[39m, retries, err, url\n\u001b[1;32m    814\u001b[0m     )\n\u001b[0;32m--> 815\u001b[0m     \u001b[38;5;28;01mreturn\u001b[39;00m \u001b[38;5;28;43mself\u001b[39;49m\u001b[38;5;241;43m.\u001b[39;49m\u001b[43murlopen\u001b[49m\u001b[43m(\u001b[49m\n\u001b[1;32m    816\u001b[0m \u001b[43m        \u001b[49m\u001b[43mmethod\u001b[49m\u001b[43m,\u001b[49m\n\u001b[1;32m    817\u001b[0m \u001b[43m        \u001b[49m\u001b[43murl\u001b[49m\u001b[43m,\u001b[49m\n\u001b[1;32m    818\u001b[0m \u001b[43m        \u001b[49m\u001b[43mbody\u001b[49m\u001b[43m,\u001b[49m\n\u001b[1;32m    819\u001b[0m \u001b[43m        \u001b[49m\u001b[43mheaders\u001b[49m\u001b[43m,\u001b[49m\n\u001b[1;32m    820\u001b[0m \u001b[43m        \u001b[49m\u001b[43mretries\u001b[49m\u001b[43m,\u001b[49m\n\u001b[1;32m    821\u001b[0m \u001b[43m        \u001b[49m\u001b[43mredirect\u001b[49m\u001b[43m,\u001b[49m\n\u001b[1;32m    822\u001b[0m \u001b[43m        \u001b[49m\u001b[43massert_same_host\u001b[49m\u001b[43m,\u001b[49m\n\u001b[1;32m    823\u001b[0m \u001b[43m        \u001b[49m\u001b[43mtimeout\u001b[49m\u001b[38;5;241;43m=\u001b[39;49m\u001b[43mtimeout\u001b[49m\u001b[43m,\u001b[49m\n\u001b[1;32m    824\u001b[0m \u001b[43m        \u001b[49m\u001b[43mpool_timeout\u001b[49m\u001b[38;5;241;43m=\u001b[39;49m\u001b[43mpool_timeout\u001b[49m\u001b[43m,\u001b[49m\n\u001b[1;32m    825\u001b[0m \u001b[43m        \u001b[49m\u001b[43mrelease_conn\u001b[49m\u001b[38;5;241;43m=\u001b[39;49m\u001b[43mrelease_conn\u001b[49m\u001b[43m,\u001b[49m\n\u001b[1;32m    826\u001b[0m \u001b[43m        \u001b[49m\u001b[43mchunked\u001b[49m\u001b[38;5;241;43m=\u001b[39;49m\u001b[43mchunked\u001b[49m\u001b[43m,\u001b[49m\n\u001b[1;32m    827\u001b[0m \u001b[43m        \u001b[49m\u001b[43mbody_pos\u001b[49m\u001b[38;5;241;43m=\u001b[39;49m\u001b[43mbody_pos\u001b[49m\u001b[43m,\u001b[49m\n\u001b[1;32m    828\u001b[0m \u001b[43m        \u001b[49m\u001b[38;5;241;43m*\u001b[39;49m\u001b[38;5;241;43m*\u001b[39;49m\u001b[43mresponse_kw\u001b[49m\n\u001b[1;32m    829\u001b[0m \u001b[43m    \u001b[49m\u001b[43m)\u001b[49m\n\u001b[1;32m    831\u001b[0m \u001b[38;5;66;03m# Handle redirect?\u001b[39;00m\n\u001b[1;32m    832\u001b[0m redirect_location \u001b[38;5;241m=\u001b[39m redirect \u001b[38;5;129;01mand\u001b[39;00m response\u001b[38;5;241m.\u001b[39mget_redirect_location()\n",
      "File \u001b[0;32m~/.local/share/virtualenvs/reddit-yt-tts-Dm6P-A76/lib/python3.8/site-packages/urllib3/connectionpool.py:815\u001b[0m, in \u001b[0;36mHTTPConnectionPool.urlopen\u001b[0;34m(self, method, url, body, headers, retries, redirect, assert_same_host, timeout, pool_timeout, release_conn, chunked, body_pos, **response_kw)\u001b[0m\n\u001b[1;32m    810\u001b[0m \u001b[38;5;28;01mif\u001b[39;00m \u001b[38;5;129;01mnot\u001b[39;00m conn:\n\u001b[1;32m    811\u001b[0m     \u001b[38;5;66;03m# Try again\u001b[39;00m\n\u001b[1;32m    812\u001b[0m     log\u001b[38;5;241m.\u001b[39mwarning(\n\u001b[1;32m    813\u001b[0m         \u001b[38;5;124m\"\u001b[39m\u001b[38;5;124mRetrying (\u001b[39m\u001b[38;5;132;01m%r\u001b[39;00m\u001b[38;5;124m) after connection broken by \u001b[39m\u001b[38;5;124m'\u001b[39m\u001b[38;5;132;01m%r\u001b[39;00m\u001b[38;5;124m'\u001b[39m\u001b[38;5;124m: \u001b[39m\u001b[38;5;132;01m%s\u001b[39;00m\u001b[38;5;124m\"\u001b[39m, retries, err, url\n\u001b[1;32m    814\u001b[0m     )\n\u001b[0;32m--> 815\u001b[0m     \u001b[38;5;28;01mreturn\u001b[39;00m \u001b[38;5;28;43mself\u001b[39;49m\u001b[38;5;241;43m.\u001b[39;49m\u001b[43murlopen\u001b[49m\u001b[43m(\u001b[49m\n\u001b[1;32m    816\u001b[0m \u001b[43m        \u001b[49m\u001b[43mmethod\u001b[49m\u001b[43m,\u001b[49m\n\u001b[1;32m    817\u001b[0m \u001b[43m        \u001b[49m\u001b[43murl\u001b[49m\u001b[43m,\u001b[49m\n\u001b[1;32m    818\u001b[0m \u001b[43m        \u001b[49m\u001b[43mbody\u001b[49m\u001b[43m,\u001b[49m\n\u001b[1;32m    819\u001b[0m \u001b[43m        \u001b[49m\u001b[43mheaders\u001b[49m\u001b[43m,\u001b[49m\n\u001b[1;32m    820\u001b[0m \u001b[43m        \u001b[49m\u001b[43mretries\u001b[49m\u001b[43m,\u001b[49m\n\u001b[1;32m    821\u001b[0m \u001b[43m        \u001b[49m\u001b[43mredirect\u001b[49m\u001b[43m,\u001b[49m\n\u001b[1;32m    822\u001b[0m \u001b[43m        \u001b[49m\u001b[43massert_same_host\u001b[49m\u001b[43m,\u001b[49m\n\u001b[1;32m    823\u001b[0m \u001b[43m        \u001b[49m\u001b[43mtimeout\u001b[49m\u001b[38;5;241;43m=\u001b[39;49m\u001b[43mtimeout\u001b[49m\u001b[43m,\u001b[49m\n\u001b[1;32m    824\u001b[0m \u001b[43m        \u001b[49m\u001b[43mpool_timeout\u001b[49m\u001b[38;5;241;43m=\u001b[39;49m\u001b[43mpool_timeout\u001b[49m\u001b[43m,\u001b[49m\n\u001b[1;32m    825\u001b[0m \u001b[43m        \u001b[49m\u001b[43mrelease_conn\u001b[49m\u001b[38;5;241;43m=\u001b[39;49m\u001b[43mrelease_conn\u001b[49m\u001b[43m,\u001b[49m\n\u001b[1;32m    826\u001b[0m \u001b[43m        \u001b[49m\u001b[43mchunked\u001b[49m\u001b[38;5;241;43m=\u001b[39;49m\u001b[43mchunked\u001b[49m\u001b[43m,\u001b[49m\n\u001b[1;32m    827\u001b[0m \u001b[43m        \u001b[49m\u001b[43mbody_pos\u001b[49m\u001b[38;5;241;43m=\u001b[39;49m\u001b[43mbody_pos\u001b[49m\u001b[43m,\u001b[49m\n\u001b[1;32m    828\u001b[0m \u001b[43m        \u001b[49m\u001b[38;5;241;43m*\u001b[39;49m\u001b[38;5;241;43m*\u001b[39;49m\u001b[43mresponse_kw\u001b[49m\n\u001b[1;32m    829\u001b[0m \u001b[43m    \u001b[49m\u001b[43m)\u001b[49m\n\u001b[1;32m    831\u001b[0m \u001b[38;5;66;03m# Handle redirect?\u001b[39;00m\n\u001b[1;32m    832\u001b[0m redirect_location \u001b[38;5;241m=\u001b[39m redirect \u001b[38;5;129;01mand\u001b[39;00m response\u001b[38;5;241m.\u001b[39mget_redirect_location()\n",
      "File \u001b[0;32m~/.local/share/virtualenvs/reddit-yt-tts-Dm6P-A76/lib/python3.8/site-packages/urllib3/connectionpool.py:787\u001b[0m, in \u001b[0;36mHTTPConnectionPool.urlopen\u001b[0;34m(self, method, url, body, headers, retries, redirect, assert_same_host, timeout, pool_timeout, release_conn, chunked, body_pos, **response_kw)\u001b[0m\n\u001b[1;32m    784\u001b[0m \u001b[38;5;28;01melif\u001b[39;00m \u001b[38;5;28misinstance\u001b[39m(e, (SocketError, HTTPException)):\n\u001b[1;32m    785\u001b[0m     e \u001b[38;5;241m=\u001b[39m ProtocolError(\u001b[38;5;124m\"\u001b[39m\u001b[38;5;124mConnection aborted.\u001b[39m\u001b[38;5;124m\"\u001b[39m, e)\n\u001b[0;32m--> 787\u001b[0m retries \u001b[38;5;241m=\u001b[39m \u001b[43mretries\u001b[49m\u001b[38;5;241;43m.\u001b[39;49m\u001b[43mincrement\u001b[49m\u001b[43m(\u001b[49m\n\u001b[1;32m    788\u001b[0m \u001b[43m    \u001b[49m\u001b[43mmethod\u001b[49m\u001b[43m,\u001b[49m\u001b[43m \u001b[49m\u001b[43murl\u001b[49m\u001b[43m,\u001b[49m\u001b[43m \u001b[49m\u001b[43merror\u001b[49m\u001b[38;5;241;43m=\u001b[39;49m\u001b[43me\u001b[49m\u001b[43m,\u001b[49m\u001b[43m \u001b[49m\u001b[43m_pool\u001b[49m\u001b[38;5;241;43m=\u001b[39;49m\u001b[38;5;28;43mself\u001b[39;49m\u001b[43m,\u001b[49m\u001b[43m \u001b[49m\u001b[43m_stacktrace\u001b[49m\u001b[38;5;241;43m=\u001b[39;49m\u001b[43msys\u001b[49m\u001b[38;5;241;43m.\u001b[39;49m\u001b[43mexc_info\u001b[49m\u001b[43m(\u001b[49m\u001b[43m)\u001b[49m\u001b[43m[\u001b[49m\u001b[38;5;241;43m2\u001b[39;49m\u001b[43m]\u001b[49m\n\u001b[1;32m    789\u001b[0m \u001b[43m\u001b[49m\u001b[43m)\u001b[49m\n\u001b[1;32m    790\u001b[0m retries\u001b[38;5;241m.\u001b[39msleep()\n\u001b[1;32m    792\u001b[0m \u001b[38;5;66;03m# Keep track of the error for the retry warning.\u001b[39;00m\n",
      "File \u001b[0;32m~/.local/share/virtualenvs/reddit-yt-tts-Dm6P-A76/lib/python3.8/site-packages/urllib3/util/retry.py:592\u001b[0m, in \u001b[0;36mRetry.increment\u001b[0;34m(self, method, url, response, error, _pool, _stacktrace)\u001b[0m\n\u001b[1;32m    581\u001b[0m new_retry \u001b[38;5;241m=\u001b[39m \u001b[38;5;28mself\u001b[39m\u001b[38;5;241m.\u001b[39mnew(\n\u001b[1;32m    582\u001b[0m     total\u001b[38;5;241m=\u001b[39mtotal,\n\u001b[1;32m    583\u001b[0m     connect\u001b[38;5;241m=\u001b[39mconnect,\n\u001b[0;32m   (...)\u001b[0m\n\u001b[1;32m    588\u001b[0m     history\u001b[38;5;241m=\u001b[39mhistory,\n\u001b[1;32m    589\u001b[0m )\n\u001b[1;32m    591\u001b[0m \u001b[38;5;28;01mif\u001b[39;00m new_retry\u001b[38;5;241m.\u001b[39mis_exhausted():\n\u001b[0;32m--> 592\u001b[0m     \u001b[38;5;28;01mraise\u001b[39;00m MaxRetryError(_pool, url, error \u001b[38;5;129;01mor\u001b[39;00m ResponseError(cause))\n\u001b[1;32m    594\u001b[0m log\u001b[38;5;241m.\u001b[39mdebug(\u001b[38;5;124m\"\u001b[39m\u001b[38;5;124mIncremented Retry for (url=\u001b[39m\u001b[38;5;124m'\u001b[39m\u001b[38;5;132;01m%s\u001b[39;00m\u001b[38;5;124m'\u001b[39m\u001b[38;5;124m): \u001b[39m\u001b[38;5;132;01m%r\u001b[39;00m\u001b[38;5;124m\"\u001b[39m, url, new_retry)\n\u001b[1;32m    596\u001b[0m \u001b[38;5;28;01mreturn\u001b[39;00m new_retry\n",
      "\u001b[0;31mMaxRetryError\u001b[0m: HTTPConnectionPool(host='localhost', port=41237): Max retries exceeded with url: /session/2dd2e6e9172028b680f1d2fea32394a3/element/67156666-b4fd-4765-9454-dd7d67aa87e8/text (Caused by NewConnectionError('<urllib3.connection.HTTPConnection object at 0x7f8df56080d0>: Failed to establish a new connection: [Errno 111] Connection refused'))"
     ]
    }
   ],
   "source": [
    "#save threaded comment screenshot as png to directory\n",
    "vote_count_threshold = 100\n",
    "thread_count = 0\n",
    "parent_comment_stack = [dict(comment=comments[0],saved=True)]\n",
    "prev_comment_lvl = 1\n",
    "prev_comment = comments[0]\n",
    "prev_comment_id = -1\n",
    "i = 0\n",
    "for comment in tqdm(comments):\n",
    "    # filter deleted comments\n",
    "    if \"Comment deleted by user\" in comment.text:\n",
    "        continue\n",
    "    \n",
    "    # some comments arnt expanded, skipping\n",
    "    if len(comment.text.split(\"\\n\")) <= 4:\n",
    "           continue\n",
    "           \n",
    "    #filter highly voted comments\n",
    "    vote_div = find_elm(\"div[id^='vote-arrows']\",driver=comment)\n",
    "    multiply_1k = 'k' in vote_div.text\n",
    "    if multiply_1k:\n",
    "        vote_count = float(vote_div.text.replace(\"k\",\"\")) * 1000\n",
    "    else:\n",
    "        vote_count = int(vote_div.text)\n",
    "    \n",
    "    if i == 0:\n",
    "        comment_lvl = 1\n",
    "    else:\n",
    "        comment_lvl = find_elm(\"span\",comment).text\n",
    "        comment_lvl = int(comment_lvl.lower().replace(\"level\",\"\").strip())\n",
    "\n",
    "    #if \"1\" in comment_lvl:\n",
    "    if comment_lvl == 1:\n",
    "        thread_count += 1\n",
    "        user = comment.text.split(\"\\n\")[1]\n",
    "        vote_count_txt = vote_div.text.replace(\".\",\"_\")\n",
    "        thread_id = f\"{thread_count:04}-{user}-{vote_count_txt}\"\n",
    "        \n",
    "        comment_id=0\n",
    "    else:\n",
    "        comment_id+=1\n",
    "        \n",
    "    # Save parent comments even if threshold is not met\n",
    "    if comment_lvl > prev_comment_lvl:\n",
    "        # entering a nested thread, mark new parent...\n",
    "        parent_comment_stack.append(dict(comment=prev_comment,comment_id=prev_comment_id,saved=False))\n",
    "    elif comment_lvl < prev_comment_lvl:\n",
    "        # leaving a nested thread, remove previous parent\n",
    "        parent_comment_stack = parent_comment_stack[:-1]\n",
    "        \n",
    "    \n",
    "    # Check whether comment should be saved\n",
    "    save_comment = False\n",
    "    if vote_count >= vote_count_threshold:\n",
    "        save_comment = True\n",
    "    \n",
    "    #save parent comment\n",
    "    parent_comment = parent_comment_stack[-1]\n",
    "    if save_comment and not parent_comment[\"saved\"]:\n",
    "        #todo refactor to fn\n",
    "        folder = f\"{asset_dir}/{submission_title}/{thread_id}\"\n",
    "        if not os.path.exists(folder):\n",
    "            os.makedirs(folder)\n",
    "        save_screenshot(parent_comment['comment'],f\"{folder}/{parent_comment['comment_id']:04}.png\")\n",
    "        save_comment_text(filename=f\"{folder}/{parent_comment['comment_id']:04}.txt\",comment=parent_comment['comment'])\n",
    "        parent_comment[\"saved\"] = True\n",
    "        \n",
    "    #Save comment\n",
    "    if save_comment:\n",
    "        #thread_ids.append(thread_id)\n",
    "        folder = f\"{asset_dir}/{submission_title}/{thread_id}\"\n",
    "        if not os.path.exists(folder):\n",
    "            os.makedirs(folder)\n",
    "        save_screenshot(comment,f\"{folder}/{comment_id:04}.png\")\n",
    "        save_comment_text(filename=f\"{folder}/{comment_id:04}.txt\",comment=comment)\n",
    "    \n",
    "    # init vars for next iteration\n",
    "    prev_comment_lvl = comment_lvl\n",
    "    prev_comment = comment\n",
    "    prev_comment_id = comment_id\n",
    "    i+=1"
   ]
  },
  {
   "cell_type": "code",
   "execution_count": 92,
   "id": "465f9c2c-2c2f-4673-adcd-726e86123388",
   "metadata": {},
   "outputs": [],
   "source": [
    "thread_ids = [x.split(\"/\")[-1] for x in glob.glob(f\"{asset_dir}/{submission_title}/*\")]"
   ]
  },
  {
   "cell_type": "code",
   "execution_count": 93,
   "id": "a19b34e2-1ea6-41b0-b577-c89a04fed916",
   "metadata": {},
   "outputs": [],
   "source": [
    "def build_thread_vid(thread_id):\n",
    "    images = glob.glob(f\"{asset_dir}/{submission_title}/{thread_id}/*.png\")\n",
    "    audio_file_dir = f\"{completed_dir}/{submission_title}/{thread_id}\"\n",
    "    # https://zulko.github.io/moviepy/examples/examples.html\n",
    "    clips = []\n",
    "    audio_clips = []\n",
    "    total_duration = 0\n",
    "    transition_duration = 0\n",
    "    for i,image in enumerate(images):\n",
    "      \n",
    "        image_file = image.split(\"/\")[-1]\n",
    "        audio_file = image_file.replace(\".png\",\".wav\")\n",
    "        try:\n",
    "            audio_clip = mpy.AudioFileClip(f\"{audio_file_dir}/{audio_file}\").set_start(total_duration)\n",
    "        except OSError as e:\n",
    "            print(f\"audio file {audio_file_dir}/{audio_file} not found\")\n",
    "            continue\n",
    "        audio_clips.append(audio_clip)\n",
    "        audio_duration = audio_clip.duration\n",
    "        \n",
    "        clip = mpy.ImageClip(image).set_duration(audio_duration).set_start(total_duration).set_position((\"center\", \"center\"))\n",
    "        bg_clip = mpy.ImageClip(\"assets/bg-img.png\").set_duration(audio_duration).set_start(total_duration)\n",
    "        \n",
    "        #clip = clip.set_start(5) # TODO: change duration based on audio\n",
    "        #clip = clip.resize((1080,1920)) #TODO add tts audio\n",
    "        clips.append(bg_clip)\n",
    "        clips.append(clip)\n",
    "        \n",
    "        total_duration += audio_duration + transition_duration\n",
    "  \n",
    "    if len(clips) > 0 :\n",
    "        final_audio_clip = mpy.CompositeAudioClip(audio_clips)\n",
    "        final_clip = mpy.CompositeVideoClip(clips)\n",
    "        final_clip.audio = final_audio_clip\n",
    "        final_clip.write_videofile(f\"{asset_dir}/{submission_title}/{thread_id}/thread_clip.mp4\",fps=30,logger=None)\n",
    "    "
   ]
  },
  {
   "cell_type": "code",
   "execution_count": 94,
   "id": "f3bc46c8-428c-408a-87c3-845fc1301170",
   "metadata": {},
   "outputs": [
    {
     "data": {
      "text/plain": [
       "'/mnt/n/data/reddit-yt-tts/queued/men_of_reddit_what_are_some_less_obvious_red/0215-Ohgood9002-210'"
      ]
     },
     "execution_count": 94,
     "metadata": {},
     "output_type": "execute_result"
    }
   ],
   "source": [
    "f\"{asset_dir}/{submission_title}/{thread_ids[0]}\""
   ]
  },
  {
   "cell_type": "code",
   "execution_count": 95,
   "id": "9afd90ed-8102-40e0-aa6a-cbb0318a7e4c",
   "metadata": {},
   "outputs": [
    {
     "name": "stdin",
     "output_type": "stream",
     "text": [
      "Execute TTS at this point (on windows GPU) then run below...(press enter) \n"
     ]
    },
    {
     "data": {
      "text/plain": [
       "''"
      ]
     },
     "execution_count": 95,
     "metadata": {},
     "output_type": "execute_result"
    }
   ],
   "source": [
    "# Execute TTS at this point (on windows GPU) then run below\n",
    "input(\"Execute TTS at this point (on windows GPU) then run below...(press enter)\")"
   ]
  },
  {
   "cell_type": "code",
   "execution_count": 108,
   "id": "b30038f5-49df-4047-bb1e-b6998aa2f718",
   "metadata": {},
   "outputs": [
    {
     "name": "stderr",
     "output_type": "stream",
     "text": [
      "  0%|                                                    | 0/97 [00:00<?, ?it/s]"
     ]
    },
    {
     "name": "stdout",
     "output_type": "stream",
     "text": [
      "0001-Jack3715-3_9k\n"
     ]
    },
    {
     "name": "stderr",
     "output_type": "stream",
     "text": [
      "  1%|▍                                           | 1/97 [00:20<33:16, 20.80s/it]"
     ]
    },
    {
     "name": "stdout",
     "output_type": "stream",
     "text": [
      "0002-theloosestofcannons-4_0k\n"
     ]
    },
    {
     "name": "stderr",
     "output_type": "stream",
     "text": [
      "  2%|▉                                           | 2/97 [00:47<38:25, 24.27s/it]"
     ]
    },
    {
     "name": "stdout",
     "output_type": "stream",
     "text": [
      "0003-m0c0-7_4k\n"
     ]
    },
    {
     "name": "stderr",
     "output_type": "stream",
     "text": [
      "  3%|█▎                                          | 3/97 [01:00<30:18, 19.35s/it]"
     ]
    },
    {
     "name": "stdout",
     "output_type": "stream",
     "text": [
      "0004-thrax7545-21_3k\n"
     ]
    },
    {
     "name": "stderr",
     "output_type": "stream",
     "text": [
      "  4%|█▊                                          | 4/97 [01:54<50:40, 32.69s/it]"
     ]
    },
    {
     "name": "stdout",
     "output_type": "stream",
     "text": [
      "0005-stuffyassface-2_3k\n"
     ]
    },
    {
     "name": "stderr",
     "output_type": "stream",
     "text": [
      "  5%|██▎                                         | 5/97 [02:08<40:05, 26.14s/it]"
     ]
    },
    {
     "name": "stdout",
     "output_type": "stream",
     "text": [
      "0006-BuckyGoldman-12_1k\n"
     ]
    },
    {
     "name": "stderr",
     "output_type": "stream",
     "text": [
      "  6%|██▋                                         | 6/97 [02:40<42:36, 28.09s/it]"
     ]
    },
    {
     "name": "stdout",
     "output_type": "stream",
     "text": [
      "0007-SerHippoh-10_1k\n"
     ]
    },
    {
     "name": "stderr",
     "output_type": "stream",
     "text": [
      "  7%|███▏                                        | 7/97 [03:29<52:07, 34.75s/it]"
     ]
    },
    {
     "name": "stdout",
     "output_type": "stream",
     "text": [
      "0008-rcsheets-17_6k\n"
     ]
    },
    {
     "name": "stderr",
     "output_type": "stream",
     "text": [
      "  8%|███▋                                        | 8/97 [03:37<39:20, 26.52s/it]"
     ]
    },
    {
     "name": "stdout",
     "output_type": "stream",
     "text": [
      "0009-Robin-KC-21_9k\n"
     ]
    },
    {
     "name": "stderr",
     "output_type": "stream",
     "text": [
      "  9%|████                                        | 9/97 [04:35<52:56, 36.10s/it]"
     ]
    },
    {
     "name": "stdout",
     "output_type": "stream",
     "text": [
      "0010-Sarydus-1_3k\n"
     ]
    },
    {
     "name": "stderr",
     "output_type": "stream",
     "text": [
      " 10%|████▍                                      | 10/97 [04:57<46:16, 31.91s/it]"
     ]
    },
    {
     "name": "stdout",
     "output_type": "stream",
     "text": [
      "0011-LostInSpace3141-9_3k\n"
     ]
    },
    {
     "name": "stderr",
     "output_type": "stream",
     "text": [
      " 11%|████▉                                      | 11/97 [05:04<34:42, 24.21s/it]"
     ]
    },
    {
     "name": "stdout",
     "output_type": "stream",
     "text": [
      "0012-Geek_Therapist-7_1k\n"
     ]
    },
    {
     "name": "stderr",
     "output_type": "stream",
     "text": [
      " 12%|█████▎                                     | 12/97 [05:25<32:54, 23.23s/it]"
     ]
    },
    {
     "name": "stdout",
     "output_type": "stream",
     "text": [
      "0013-Beginning-Bed9364-14_9k\n"
     ]
    },
    {
     "name": "stderr",
     "output_type": "stream",
     "text": [
      " 13%|█████▊                                     | 13/97 [05:37<27:58, 19.99s/it]"
     ]
    },
    {
     "name": "stdout",
     "output_type": "stream",
     "text": [
      "0014-Rileycontinued-1_7k\n"
     ]
    },
    {
     "name": "stderr",
     "output_type": "stream",
     "text": [
      " 14%|██████▏                                    | 14/97 [05:41<20:48, 15.04s/it]"
     ]
    },
    {
     "name": "stdout",
     "output_type": "stream",
     "text": [
      "0015-overratedone-11_6k\n"
     ]
    },
    {
     "name": "stderr",
     "output_type": "stream",
     "text": [
      " 15%|██████▋                                    | 15/97 [05:48<17:15, 12.63s/it]"
     ]
    },
    {
     "name": "stdout",
     "output_type": "stream",
     "text": [
      "0016-ThinkIGotHacked-15_9k\n"
     ]
    },
    {
     "name": "stderr",
     "output_type": "stream",
     "text": [
      " 16%|███████                                    | 16/97 [06:15<22:58, 17.01s/it]"
     ]
    },
    {
     "name": "stdout",
     "output_type": "stream",
     "text": [
      "0017-SirSubSandwich-2_8k\n"
     ]
    },
    {
     "name": "stderr",
     "output_type": "stream",
     "text": [
      " 18%|███████▌                                   | 17/97 [06:29<21:19, 16.00s/it]"
     ]
    },
    {
     "name": "stdout",
     "output_type": "stream",
     "text": [
      "0018-Hrekires-24_7k\n"
     ]
    },
    {
     "name": "stderr",
     "output_type": "stream",
     "text": [
      " 19%|███████▉                                   | 18/97 [06:52<24:01, 18.24s/it]"
     ]
    },
    {
     "name": "stdout",
     "output_type": "stream",
     "text": [
      "0019-ScaricoOleoso-13_6k\n"
     ]
    },
    {
     "name": "stderr",
     "output_type": "stream",
     "text": [
      " 20%|████████▍                                  | 19/97 [06:59<19:05, 14.69s/it]"
     ]
    },
    {
     "name": "stdout",
     "output_type": "stream",
     "text": [
      "0020-kmn493-1_4k\n"
     ]
    },
    {
     "name": "stderr",
     "output_type": "stream",
     "text": [
      " 21%|████████▊                                  | 20/97 [07:13<18:36, 14.51s/it]"
     ]
    },
    {
     "name": "stdout",
     "output_type": "stream",
     "text": [
      "0021-Eternal_Bagel-1_3k\n"
     ]
    },
    {
     "name": "stderr",
     "output_type": "stream",
     "text": [
      " 22%|█████████▎                                 | 21/97 [07:16<13:59, 11.05s/it]"
     ]
    },
    {
     "name": "stdout",
     "output_type": "stream",
     "text": [
      "0022-jnwiggs1-21_9k\n"
     ]
    },
    {
     "name": "stderr",
     "output_type": "stream",
     "text": [
      " 23%|█████████▊                                 | 22/97 [08:19<33:25, 26.74s/it]"
     ]
    },
    {
     "name": "stdout",
     "output_type": "stream",
     "text": [
      "0023-DrHugh-5_9k\n"
     ]
    },
    {
     "name": "stderr",
     "output_type": "stream",
     "text": [
      " 24%|██████████▏                                | 23/97 [09:09<41:24, 33.58s/it]"
     ]
    },
    {
     "name": "stdout",
     "output_type": "stream",
     "text": [
      "0024-ThatVoiceDude-382\n"
     ]
    },
    {
     "name": "stderr",
     "output_type": "stream",
     "text": [
      " 25%|██████████▋                                | 24/97 [09:13<30:11, 24.81s/it]"
     ]
    },
    {
     "name": "stdout",
     "output_type": "stream",
     "text": [
      "0025-Chaleowin-1_3k\n"
     ]
    },
    {
     "name": "stderr",
     "output_type": "stream",
     "text": [
      " 26%|███████████                                | 25/97 [09:15<21:27, 17.88s/it]"
     ]
    },
    {
     "name": "stdout",
     "output_type": "stream",
     "text": [
      "0026-Yougotthewronglad-16_7k\n"
     ]
    },
    {
     "name": "stderr",
     "output_type": "stream",
     "text": [
      " 27%|███████████▌                               | 26/97 [09:44<25:07, 21.23s/it]"
     ]
    },
    {
     "name": "stdout",
     "output_type": "stream",
     "text": [
      "0027-Broken_Moon_Studios-14_9k\n"
     ]
    },
    {
     "name": "stderr",
     "output_type": "stream",
     "text": [
      " 28%|███████████▉                               | 27/97 [10:07<25:36, 21.95s/it]"
     ]
    },
    {
     "name": "stdout",
     "output_type": "stream",
     "text": [
      "0028-OreoKing10-749\n"
     ]
    },
    {
     "name": "stderr",
     "output_type": "stream",
     "text": [
      " 29%|████████████▍                              | 28/97 [10:12<19:07, 16.63s/it]"
     ]
    },
    {
     "name": "stdout",
     "output_type": "stream",
     "text": [
      "0029-themiglebowski-5_1k\n",
      "audio file /mnt/n/data/reddit-yt-tts/completed/men_of_reddit_what_are_some_less_obvious_red/0029-themiglebowski-5_1k/0001.wav not found\n",
      "audio file /mnt/n/data/reddit-yt-tts/completed/men_of_reddit_what_are_some_less_obvious_red/0029-themiglebowski-5_1k/0002.wav not found\n"
     ]
    },
    {
     "name": "stderr",
     "output_type": "stream",
     "text": [
      " 31%|█████████████▎                             | 30/97 [10:18<10:43,  9.60s/it]"
     ]
    },
    {
     "name": "stdout",
     "output_type": "stream",
     "text": [
      "0030-Jay-Ames-34_1k\n",
      "audio file /mnt/n/data/reddit-yt-tts/completed/men_of_reddit_what_are_some_less_obvious_red/0030-Jay-Ames-34_1k/0001.wav not found\n",
      "audio file /mnt/n/data/reddit-yt-tts/completed/men_of_reddit_what_are_some_less_obvious_red/0030-Jay-Ames-34_1k/0002.wav not found\n",
      "audio file /mnt/n/data/reddit-yt-tts/completed/men_of_reddit_what_are_some_less_obvious_red/0030-Jay-Ames-34_1k/0000.wav not found\n",
      "0031-Xdsin-7_5k\n"
     ]
    },
    {
     "name": "stderr",
     "output_type": "stream",
     "text": [
      " 32%|█████████████▋                             | 31/97 [10:19<07:26,  6.77s/it]"
     ]
    },
    {
     "name": "stdout",
     "output_type": "stream",
     "text": [
      "audio file /mnt/n/data/reddit-yt-tts/completed/men_of_reddit_what_are_some_less_obvious_red/0031-Xdsin-7_5k/0001.wav not found\n",
      "audio file /mnt/n/data/reddit-yt-tts/completed/men_of_reddit_what_are_some_less_obvious_red/0031-Xdsin-7_5k/0002.wav not found\n",
      "audio file /mnt/n/data/reddit-yt-tts/completed/men_of_reddit_what_are_some_less_obvious_red/0031-Xdsin-7_5k/0000.wav not found\n",
      "0033-SuperfluousPedagogue-211\n",
      "audio file /mnt/n/data/reddit-yt-tts/completed/men_of_reddit_what_are_some_less_obvious_red/0033-SuperfluousPedagogue-211/0000.wav not found\n",
      "0034-cuteplot-3_6k\n"
     ]
    },
    {
     "name": "stderr",
     "output_type": "stream",
     "text": [
      " 34%|██████████████▋                            | 33/97 [10:19<03:56,  3.69s/it]"
     ]
    },
    {
     "name": "stdout",
     "output_type": "stream",
     "text": [
      "audio file /mnt/n/data/reddit-yt-tts/completed/men_of_reddit_what_are_some_less_obvious_red/0034-cuteplot-3_6k/0001.wav not found\n",
      "audio file /mnt/n/data/reddit-yt-tts/completed/men_of_reddit_what_are_some_less_obvious_red/0034-cuteplot-3_6k/0002.wav not found\n",
      "audio file /mnt/n/data/reddit-yt-tts/completed/men_of_reddit_what_are_some_less_obvious_red/0034-cuteplot-3_6k/0000.wav not found\n",
      "0035-Revolutionary_War503-209\n",
      "audio file /mnt/n/data/reddit-yt-tts/completed/men_of_reddit_what_are_some_less_obvious_red/0035-Revolutionary_War503-209/0000.wav not found\n",
      "0036-PomegranateLimp9803-2_7k\n"
     ]
    },
    {
     "name": "stderr",
     "output_type": "stream",
     "text": [
      " 36%|███████████████▌                           | 35/97 [10:19<02:19,  2.26s/it]"
     ]
    },
    {
     "name": "stdout",
     "output_type": "stream",
     "text": [
      "audio file /mnt/n/data/reddit-yt-tts/completed/men_of_reddit_what_are_some_less_obvious_red/0036-PomegranateLimp9803-2_7k/0001.wav not found\n",
      "audio file /mnt/n/data/reddit-yt-tts/completed/men_of_reddit_what_are_some_less_obvious_red/0036-PomegranateLimp9803-2_7k/0000.wav not found\n",
      "0037-kungfufiddy-434\n",
      "audio file /mnt/n/data/reddit-yt-tts/completed/men_of_reddit_what_are_some_less_obvious_red/0037-kungfufiddy-434/0000.wav not found\n",
      "0038-pipermarau-1_5k\n",
      "audio file /mnt/n/data/reddit-yt-tts/completed/men_of_reddit_what_are_some_less_obvious_red/0038-pipermarau-1_5k/0001.wav not found\n",
      "audio file /mnt/n/data/reddit-yt-tts/completed/men_of_reddit_what_are_some_less_obvious_red/0038-pipermarau-1_5k/0002.wav not found\n"
     ]
    },
    {
     "name": "stderr",
     "output_type": "stream",
     "text": [
      " 39%|████████████████▊                          | 38/97 [10:19<01:10,  1.20s/it]"
     ]
    },
    {
     "name": "stdout",
     "output_type": "stream",
     "text": [
      "audio file /mnt/n/data/reddit-yt-tts/completed/men_of_reddit_what_are_some_less_obvious_red/0038-pipermarau-1_5k/0000.wav not found\n",
      "0039-SuvenPan-9_5k\n",
      "audio file /mnt/n/data/reddit-yt-tts/completed/men_of_reddit_what_are_some_less_obvious_red/0039-SuvenPan-9_5k/0001.wav not found\n",
      "audio file /mnt/n/data/reddit-yt-tts/completed/men_of_reddit_what_are_some_less_obvious_red/0039-SuvenPan-9_5k/0002.wav not found\n",
      "audio file /mnt/n/data/reddit-yt-tts/completed/men_of_reddit_what_are_some_less_obvious_red/0039-SuvenPan-9_5k/0000.wav not found\n",
      "0041-Average_Lrkr-2_1k\n"
     ]
    },
    {
     "name": "stderr",
     "output_type": "stream",
     "text": [
      " 40%|█████████████████▎                         | 39/97 [10:20<00:56,  1.03it/s]"
     ]
    },
    {
     "name": "stdout",
     "output_type": "stream",
     "text": [
      "audio file /mnt/n/data/reddit-yt-tts/completed/men_of_reddit_what_are_some_less_obvious_red/0041-Average_Lrkr-2_1k/0001.wav not found\n",
      "audio file /mnt/n/data/reddit-yt-tts/completed/men_of_reddit_what_are_some_less_obvious_red/0041-Average_Lrkr-2_1k/0003.wav not found\n",
      "audio file /mnt/n/data/reddit-yt-tts/completed/men_of_reddit_what_are_some_less_obvious_red/0041-Average_Lrkr-2_1k/0002.wav not found\n",
      "audio file /mnt/n/data/reddit-yt-tts/completed/men_of_reddit_what_are_some_less_obvious_red/0041-Average_Lrkr-2_1k/0000.wav not found\n",
      "0042-MissVaaaaanjie-676\n",
      "audio file /mnt/n/data/reddit-yt-tts/completed/men_of_reddit_what_are_some_less_obvious_red/0042-MissVaaaaanjie-676/0000.wav not found\n",
      "0043-AwayGame_1279-702\n"
     ]
    },
    {
     "name": "stderr",
     "output_type": "stream",
     "text": [
      " 44%|███████████████████                        | 43/97 [10:20<00:22,  2.44it/s]"
     ]
    },
    {
     "name": "stdout",
     "output_type": "stream",
     "text": [
      "audio file /mnt/n/data/reddit-yt-tts/completed/men_of_reddit_what_are_some_less_obvious_red/0043-AwayGame_1279-702/0000.wav not found\n",
      "0044-ksozay-542\n",
      "audio file /mnt/n/data/reddit-yt-tts/completed/men_of_reddit_what_are_some_less_obvious_red/0044-ksozay-542/0000.wav not found\n",
      "0045-Biscornus-128\n",
      "audio file /mnt/n/data/reddit-yt-tts/completed/men_of_reddit_what_are_some_less_obvious_red/0045-Biscornus-128/0000.wav not found\n",
      "0046-icarieus-761\n",
      "audio file /mnt/n/data/reddit-yt-tts/completed/men_of_reddit_what_are_some_less_obvious_red/0046-icarieus-761/0001.wav not found\n"
     ]
    },
    {
     "name": "stderr",
     "output_type": "stream",
     "text": [
      " 48%|████████████████████▊                      | 47/97 [10:20<00:11,  4.46it/s]"
     ]
    },
    {
     "name": "stdout",
     "output_type": "stream",
     "text": [
      "audio file /mnt/n/data/reddit-yt-tts/completed/men_of_reddit_what_are_some_less_obvious_red/0046-icarieus-761/0000.wav not found\n",
      "0047-Pristine_Tour_8257-333\n",
      "audio file /mnt/n/data/reddit-yt-tts/completed/men_of_reddit_what_are_some_less_obvious_red/0047-Pristine_Tour_8257-333/0000.wav not found\n",
      "0048-Rmnkby-747\n",
      "audio file /mnt/n/data/reddit-yt-tts/completed/men_of_reddit_what_are_some_less_obvious_red/0048-Rmnkby-747/0001.wav not found\n",
      "audio file /mnt/n/data/reddit-yt-tts/completed/men_of_reddit_what_are_some_less_obvious_red/0048-Rmnkby-747/0000.wav not found\n",
      "0049-CaraChimba-123\n",
      "audio file /mnt/n/data/reddit-yt-tts/completed/men_of_reddit_what_are_some_less_obvious_red/0049-CaraChimba-123/0000.wav not found\n"
     ]
    },
    {
     "name": "stderr",
     "output_type": "stream",
     "text": [
      " 51%|█████████████████████▋                     | 49/97 [10:20<00:08,  5.66it/s]"
     ]
    },
    {
     "name": "stdout",
     "output_type": "stream",
     "text": [
      "0050-SnooChocolates4588-627\n",
      "audio file /mnt/n/data/reddit-yt-tts/completed/men_of_reddit_what_are_some_less_obvious_red/0050-SnooChocolates4588-627/0000.wav not found\n",
      "0051-BlewOffMyLegOff-1_8k\n",
      "audio file /mnt/n/data/reddit-yt-tts/completed/men_of_reddit_what_are_some_less_obvious_red/0051-BlewOffMyLegOff-1_8k/0001.wav not found\n",
      "audio file /mnt/n/data/reddit-yt-tts/completed/men_of_reddit_what_are_some_less_obvious_red/0051-BlewOffMyLegOff-1_8k/0000.wav not found\n",
      "0053-Nathanielsan-300\n",
      "audio file /mnt/n/data/reddit-yt-tts/completed/men_of_reddit_what_are_some_less_obvious_red/0053-Nathanielsan-300/0000.wav not found\n",
      "0057-starbuckle337-1_2k\n"
     ]
    },
    {
     "name": "stderr",
     "output_type": "stream",
     "text": [
      " 53%|██████████████████████▌                    | 51/97 [10:20<00:07,  6.28it/s]"
     ]
    },
    {
     "name": "stdout",
     "output_type": "stream",
     "text": [
      "audio file /mnt/n/data/reddit-yt-tts/completed/men_of_reddit_what_are_some_less_obvious_red/0057-starbuckle337-1_2k/0001.wav not found\n",
      "audio file /mnt/n/data/reddit-yt-tts/completed/men_of_reddit_what_are_some_less_obvious_red/0057-starbuckle337-1_2k/0003.wav not found\n",
      "audio file /mnt/n/data/reddit-yt-tts/completed/men_of_reddit_what_are_some_less_obvious_red/0057-starbuckle337-1_2k/0002.wav not found\n",
      "audio file /mnt/n/data/reddit-yt-tts/completed/men_of_reddit_what_are_some_less_obvious_red/0057-starbuckle337-1_2k/0000.wav not found\n",
      "0058-sarcastic_fish-603\n",
      "audio file /mnt/n/data/reddit-yt-tts/completed/men_of_reddit_what_are_some_less_obvious_red/0058-sarcastic_fish-603/0001.wav not found\n"
     ]
    },
    {
     "name": "stderr",
     "output_type": "stream",
     "text": [
      " 57%|████████████████████████▍                  | 55/97 [10:21<00:04,  8.81it/s]"
     ]
    },
    {
     "name": "stdout",
     "output_type": "stream",
     "text": [
      "audio file /mnt/n/data/reddit-yt-tts/completed/men_of_reddit_what_are_some_less_obvious_red/0058-sarcastic_fish-603/0000.wav not found\n",
      "0059-cashformoldd-1_3k\n",
      "audio file /mnt/n/data/reddit-yt-tts/completed/men_of_reddit_what_are_some_less_obvious_red/0059-cashformoldd-1_3k/0001.wav not found\n",
      "audio file /mnt/n/data/reddit-yt-tts/completed/men_of_reddit_what_are_some_less_obvious_red/0059-cashformoldd-1_3k/0000.wav not found\n",
      "0060-arthwithaG-384\n",
      "audio file /mnt/n/data/reddit-yt-tts/completed/men_of_reddit_what_are_some_less_obvious_red/0060-arthwithaG-384/0000.wav not found\n",
      "0061-FowlKreacher-192\n",
      "audio file /mnt/n/data/reddit-yt-tts/completed/men_of_reddit_what_are_some_less_obvious_red/0061-FowlKreacher-192/0000.wav not found\n"
     ]
    },
    {
     "name": "stderr",
     "output_type": "stream",
     "text": [
      " 59%|█████████████████████████▎                 | 57/97 [10:21<00:03, 10.55it/s]"
     ]
    },
    {
     "name": "stdout",
     "output_type": "stream",
     "text": [
      "0064-Slav_1-143\n",
      "audio file /mnt/n/data/reddit-yt-tts/completed/men_of_reddit_what_are_some_less_obvious_red/0064-Slav_1-143/0000.wav not found\n",
      "0065-spriggan02-369\n",
      "audio file /mnt/n/data/reddit-yt-tts/completed/men_of_reddit_what_are_some_less_obvious_red/0065-spriggan02-369/0000.wav not found\n",
      "0066-positivelybisexual-135\n",
      "audio file /mnt/n/data/reddit-yt-tts/completed/men_of_reddit_what_are_some_less_obvious_red/0066-positivelybisexual-135/0000.wav not found\n",
      "0067-BipoNN-141\n"
     ]
    },
    {
     "name": "stderr",
     "output_type": "stream",
     "text": [
      " 63%|███████████████████████████                | 61/97 [10:21<00:02, 13.83it/s]"
     ]
    },
    {
     "name": "stdout",
     "output_type": "stream",
     "text": [
      "audio file /mnt/n/data/reddit-yt-tts/completed/men_of_reddit_what_are_some_less_obvious_red/0067-BipoNN-141/0000.wav not found\n",
      "0068-Gosha777-864\n",
      "audio file /mnt/n/data/reddit-yt-tts/completed/men_of_reddit_what_are_some_less_obvious_red/0068-Gosha777-864/0000.wav not found\n",
      "0069-Clear_Economics7010-169\n",
      "audio file /mnt/n/data/reddit-yt-tts/completed/men_of_reddit_what_are_some_less_obvious_red/0069-Clear_Economics7010-169/0000.wav not found\n",
      "0070-FreshFromRikers-252\n",
      "audio file /mnt/n/data/reddit-yt-tts/completed/men_of_reddit_what_are_some_less_obvious_red/0070-FreshFromRikers-252/0000.wav not found\n",
      "0071-staycalmNdrinkcoffee-558\n"
     ]
    },
    {
     "name": "stderr",
     "output_type": "stream",
     "text": [
      " 65%|███████████████████████████▉               | 63/97 [10:21<00:02, 15.18it/s]"
     ]
    },
    {
     "name": "stdout",
     "output_type": "stream",
     "text": [
      "audio file /mnt/n/data/reddit-yt-tts/completed/men_of_reddit_what_are_some_less_obvious_red/0071-staycalmNdrinkcoffee-558/0000.wav not found\n",
      "0072-Phylar-405\n",
      "audio file /mnt/n/data/reddit-yt-tts/completed/men_of_reddit_what_are_some_less_obvious_red/0072-Phylar-405/0001.wav not found\n",
      "audio file /mnt/n/data/reddit-yt-tts/completed/men_of_reddit_what_are_some_less_obvious_red/0072-Phylar-405/0000.wav not found\n",
      "0073-Haso0nz1999-976\n",
      "audio file /mnt/n/data/reddit-yt-tts/completed/men_of_reddit_what_are_some_less_obvious_red/0073-Haso0nz1999-976/0001.wav not found\n",
      "audio file /mnt/n/data/reddit-yt-tts/completed/men_of_reddit_what_are_some_less_obvious_red/0073-Haso0nz1999-976/0002.wav not found\n"
     ]
    },
    {
     "name": "stderr",
     "output_type": "stream",
     "text": [
      " 69%|█████████████████████████████▋             | 67/97 [10:22<00:02, 13.16it/s]"
     ]
    },
    {
     "name": "stdout",
     "output_type": "stream",
     "text": [
      "audio file /mnt/n/data/reddit-yt-tts/completed/men_of_reddit_what_are_some_less_obvious_red/0073-Haso0nz1999-976/0000.wav not found\n",
      "0078-awpti-449\n",
      "audio file /mnt/n/data/reddit-yt-tts/completed/men_of_reddit_what_are_some_less_obvious_red/0078-awpti-449/0000.wav not found\n",
      "0080-BodhingJay-326\n",
      "audio file /mnt/n/data/reddit-yt-tts/completed/men_of_reddit_what_are_some_less_obvious_red/0080-BodhingJay-326/0000.wav not found\n",
      "0083-KingCurtis720-181\n",
      "audio file /mnt/n/data/reddit-yt-tts/completed/men_of_reddit_what_are_some_less_obvious_red/0083-KingCurtis720-181/0000.wav not found\n",
      "0084-SteveNotSteveNot-113\n"
     ]
    },
    {
     "name": "stderr",
     "output_type": "stream",
     "text": [
      " 73%|███████████████████████████████▍           | 71/97 [10:22<00:01, 15.16it/s]"
     ]
    },
    {
     "name": "stdout",
     "output_type": "stream",
     "text": [
      "audio file /mnt/n/data/reddit-yt-tts/completed/men_of_reddit_what_are_some_less_obvious_red/0084-SteveNotSteveNot-113/0000.wav not found\n",
      "0085-Jonnny-137\n",
      "audio file /mnt/n/data/reddit-yt-tts/completed/men_of_reddit_what_are_some_less_obvious_red/0085-Jonnny-137/0000.wav not found\n",
      "0088-USER_34739-101\n",
      "audio file /mnt/n/data/reddit-yt-tts/completed/men_of_reddit_what_are_some_less_obvious_red/0088-USER_34739-101/0000.wav not found\n",
      "0089-Sonikado-137\n",
      "audio file /mnt/n/data/reddit-yt-tts/completed/men_of_reddit_what_are_some_less_obvious_red/0089-Sonikado-137/0000.wav not found\n",
      "0090-LikelyUnusual-228\n"
     ]
    },
    {
     "name": "stderr",
     "output_type": "stream",
     "text": [
      " 77%|█████████████████████████████████▏         | 75/97 [10:22<00:01, 16.90it/s]"
     ]
    },
    {
     "name": "stdout",
     "output_type": "stream",
     "text": [
      "audio file /mnt/n/data/reddit-yt-tts/completed/men_of_reddit_what_are_some_less_obvious_red/0090-LikelyUnusual-228/0000.wav not found\n",
      "0093-Janube-400\n",
      "audio file /mnt/n/data/reddit-yt-tts/completed/men_of_reddit_what_are_some_less_obvious_red/0093-Janube-400/0000.wav not found\n",
      "0096-InfiniteIntrovert-157\n",
      "audio file /mnt/n/data/reddit-yt-tts/completed/men_of_reddit_what_are_some_less_obvious_red/0096-InfiniteIntrovert-157/0000.wav not found\n",
      "0102-Envy_The_King-241\n",
      "audio file /mnt/n/data/reddit-yt-tts/completed/men_of_reddit_what_are_some_less_obvious_red/0102-Envy_The_King-241/0000.wav not found\n",
      "0107-loomdog1-276\n"
     ]
    },
    {
     "name": "stderr",
     "output_type": "stream",
     "text": [
      " 81%|███████████████████████████████████        | 79/97 [10:22<00:01, 15.32it/s]"
     ]
    },
    {
     "name": "stdout",
     "output_type": "stream",
     "text": [
      "audio file /mnt/n/data/reddit-yt-tts/completed/men_of_reddit_what_are_some_less_obvious_red/0107-loomdog1-276/0000.wav not found\n",
      "0116-OG_Dookie-409\n",
      "audio file /mnt/n/data/reddit-yt-tts/completed/men_of_reddit_what_are_some_less_obvious_red/0116-OG_Dookie-409/0000.wav not found\n",
      "0119-NashvilleSunn-516\n",
      "audio file /mnt/n/data/reddit-yt-tts/completed/men_of_reddit_what_are_some_less_obvious_red/0119-NashvilleSunn-516/0001.wav not found\n",
      "audio file /mnt/n/data/reddit-yt-tts/completed/men_of_reddit_what_are_some_less_obvious_red/0119-NashvilleSunn-516/0000.wav not found\n",
      "0120-Nismotech_52-163\n"
     ]
    },
    {
     "name": "stderr",
     "output_type": "stream",
     "text": [
      " 84%|███████████████████████████████████▉       | 81/97 [10:22<00:01, 14.25it/s]"
     ]
    },
    {
     "name": "stdout",
     "output_type": "stream",
     "text": [
      "audio file /mnt/n/data/reddit-yt-tts/completed/men_of_reddit_what_are_some_less_obvious_red/0120-Nismotech_52-163/0000.wav not found\n",
      "0121-frozen_beet11-220\n",
      "audio file /mnt/n/data/reddit-yt-tts/completed/men_of_reddit_what_are_some_less_obvious_red/0121-frozen_beet11-220/0001.wav not found\n",
      "audio file /mnt/n/data/reddit-yt-tts/completed/men_of_reddit_what_are_some_less_obvious_red/0121-frozen_beet11-220/0000.wav not found\n",
      "0128-RadiantHC-257\n",
      "audio file /mnt/n/data/reddit-yt-tts/completed/men_of_reddit_what_are_some_less_obvious_red/0128-RadiantHC-257/0000.wav not found\n",
      "0131-M_A_X_77-231\n"
     ]
    },
    {
     "name": "stderr",
     "output_type": "stream",
     "text": [
      " 88%|█████████████████████████████████████▋     | 85/97 [10:23<00:00, 14.60it/s]"
     ]
    },
    {
     "name": "stdout",
     "output_type": "stream",
     "text": [
      "audio file /mnt/n/data/reddit-yt-tts/completed/men_of_reddit_what_are_some_less_obvious_red/0131-M_A_X_77-231/0000.wav not found\n",
      "0134-Rainmaker2012-125\n",
      "audio file /mnt/n/data/reddit-yt-tts/completed/men_of_reddit_what_are_some_less_obvious_red/0134-Rainmaker2012-125/0000.wav not found\n",
      "0135-jordanscollected-172\n",
      "audio file /mnt/n/data/reddit-yt-tts/completed/men_of_reddit_what_are_some_less_obvious_red/0135-jordanscollected-172/0001.wav not found\n",
      "audio file /mnt/n/data/reddit-yt-tts/completed/men_of_reddit_what_are_some_less_obvious_red/0135-jordanscollected-172/0000.wav not found\n",
      "0136-Comfortable_Exit_207-179\n"
     ]
    },
    {
     "name": "stderr",
     "output_type": "stream",
     "text": [
      " 92%|███████████████████████████████████████▍   | 89/97 [10:23<00:00, 16.67it/s]"
     ]
    },
    {
     "name": "stdout",
     "output_type": "stream",
     "text": [
      "audio file /mnt/n/data/reddit-yt-tts/completed/men_of_reddit_what_are_some_less_obvious_red/0136-Comfortable_Exit_207-179/0000.wav not found\n",
      "0137-james_bongd-158\n",
      "audio file /mnt/n/data/reddit-yt-tts/completed/men_of_reddit_what_are_some_less_obvious_red/0137-james_bongd-158/0000.wav not found\n",
      "0145-stvaccount-117\n",
      "audio file /mnt/n/data/reddit-yt-tts/completed/men_of_reddit_what_are_some_less_obvious_red/0145-stvaccount-117/0000.wav not found\n",
      "0150-that_one_author-146\n",
      "audio file /mnt/n/data/reddit-yt-tts/completed/men_of_reddit_what_are_some_less_obvious_red/0150-that_one_author-146/0000.wav not found\n",
      "0155-JamesDeansComb-182\n"
     ]
    },
    {
     "name": "stderr",
     "output_type": "stream",
     "text": [
      " 94%|████████████████████████████████████████▎  | 91/97 [10:23<00:00, 15.17it/s]"
     ]
    },
    {
     "name": "stdout",
     "output_type": "stream",
     "text": [
      "audio file /mnt/n/data/reddit-yt-tts/completed/men_of_reddit_what_are_some_less_obvious_red/0155-JamesDeansComb-182/0001.wav not found\n",
      "audio file /mnt/n/data/reddit-yt-tts/completed/men_of_reddit_what_are_some_less_obvious_red/0155-JamesDeansComb-182/0000.wav not found\n",
      "0156-extropia-331\n",
      "audio file /mnt/n/data/reddit-yt-tts/completed/men_of_reddit_what_are_some_less_obvious_red/0156-extropia-331/0000.wav not found\n",
      "0170-Maximum_Passion1865-106\n",
      "audio file /mnt/n/data/reddit-yt-tts/completed/men_of_reddit_what_are_some_less_obvious_red/0170-Maximum_Passion1865-106/0000.wav not found\n",
      "0171-usmcmech-118\n"
     ]
    },
    {
     "name": "stderr",
     "output_type": "stream",
     "text": [
      " 98%|██████████████████████████████████████████ | 95/97 [10:23<00:00, 16.60it/s]"
     ]
    },
    {
     "name": "stdout",
     "output_type": "stream",
     "text": [
      "audio file /mnt/n/data/reddit-yt-tts/completed/men_of_reddit_what_are_some_less_obvious_red/0171-usmcmech-118/0000.wav not found\n",
      "0182-kalel51-105\n",
      "audio file /mnt/n/data/reddit-yt-tts/completed/men_of_reddit_what_are_some_less_obvious_red/0182-kalel51-105/0000.wav not found\n",
      "0191-Rdikin-108\n",
      "audio file /mnt/n/data/reddit-yt-tts/completed/men_of_reddit_what_are_some_less_obvious_red/0191-Rdikin-108/0000.wav not found\n",
      "0192-Brilliant-Champion81-119\n",
      "audio file /mnt/n/data/reddit-yt-tts/completed/men_of_reddit_what_are_some_less_obvious_red/0192-Brilliant-Champion81-119/0000.wav not found\n",
      "0215-Ohgood9002-210\n"
     ]
    },
    {
     "name": "stderr",
     "output_type": "stream",
     "text": [
      "100%|███████████████████████████████████████████| 97/97 [10:24<00:00,  6.43s/it]"
     ]
    },
    {
     "name": "stdout",
     "output_type": "stream",
     "text": [
      "audio file /mnt/n/data/reddit-yt-tts/completed/men_of_reddit_what_are_some_less_obvious_red/0215-Ohgood9002-210/0001.wav not found\n",
      "audio file /mnt/n/data/reddit-yt-tts/completed/men_of_reddit_what_are_some_less_obvious_red/0215-Ohgood9002-210/0002.wav not found\n",
      "audio file /mnt/n/data/reddit-yt-tts/completed/men_of_reddit_what_are_some_less_obvious_red/0215-Ohgood9002-210/0007.wav not found\n",
      "audio file /mnt/n/data/reddit-yt-tts/completed/men_of_reddit_what_are_some_less_obvious_red/0215-Ohgood9002-210/0000.wav not found\n"
     ]
    },
    {
     "name": "stderr",
     "output_type": "stream",
     "text": [
      "\n"
     ]
    }
   ],
   "source": [
    "# save threads to clips\n",
    "# vote_div.text\n",
    "thread_ids = sorted(list(set(thread_ids)))\n",
    "for thread in tqdm(thread_ids):\n",
    "    print(thread)\n",
    "    build_thread_vid(thread)"
   ]
  },
  {
   "cell_type": "code",
   "execution_count": 109,
   "id": "c1ee8a27-3263-43a2-a80a-0b4c16a3c575",
   "metadata": {},
   "outputs": [],
   "source": [
    "# save c to "
   ]
  },
  {
   "cell_type": "code",
   "execution_count": 110,
   "id": "d858f26b-c13c-4a83-bd6a-a62ea9fc59bf",
   "metadata": {},
   "outputs": [],
   "source": [
    "videos = glob.glob(f\"{asset_dir}/{submission_title}/*/*.mp4\")"
   ]
  },
  {
   "cell_type": "code",
   "execution_count": 111,
   "id": "63805f33-1f66-4426-8b76-131b7a9ddb1f",
   "metadata": {},
   "outputs": [],
   "source": [
    "all_video_clips = [mpy.VideoFileClip(video) for video in videos]"
   ]
  },
  {
   "cell_type": "code",
   "execution_count": 112,
   "id": "cb8e0145-185a-4cb2-809e-79bb72374e1b",
   "metadata": {},
   "outputs": [],
   "source": [
    "videos_w_sound_corrected = []\n",
    "for clip in all_video_clips:\n",
    "    clip.audio = clip.audio.fx(mpy.afx.audio_normalize)\n",
    "    videos_w_sound_corrected.append(clip)"
   ]
  },
  {
   "cell_type": "code",
   "execution_count": 113,
   "id": "725432e1-bd29-4bc7-912f-e8501847c466",
   "metadata": {},
   "outputs": [],
   "source": [
    "transition = mpy.VideoFileClip(\"assets/tvstatic-180-720.mp4\")"
   ]
  },
  {
   "cell_type": "code",
   "execution_count": 114,
   "id": "752b4817-a0ab-403e-8af7-81ed4514373c",
   "metadata": {},
   "outputs": [],
   "source": [
    "transition = transition.set_duration(.7)\n",
    "#transition = transition.resize(1080,720) resizing crashes kernal reesizing \n",
    "#using ffmpeg on cli instead:  https://trac.ffmpeg.org/wiki/Scaling\n"
   ]
  },
  {
   "cell_type": "code",
   "execution_count": 115,
   "id": "dddfb80f-b508-4237-8391-ab99188cf938",
   "metadata": {},
   "outputs": [],
   "source": [
    "final_video = mpy.concatenate_videoclips(videos_w_sound_corrected,method=\"compose\",transition=transition)"
   ]
  },
  {
   "cell_type": "code",
   "execution_count": 116,
   "id": "d0741c5f-49db-4d3a-aaf0-c5783261f744",
   "metadata": {},
   "outputs": [],
   "source": [
    "#import moviepy.video.fx as vfx\n",
    "#import moviepy.audio.fx as afx\n",
    "bg_music = mpy.AudioFileClip(\"assets/bg-test.mp3\")\n",
    "\n",
    "bg_music = bg_music.fx( mpy.afx.audio_normalize).fx( mpy.afx.volumex, 0.3).fx( mpy.afx.audio_fadein, 1.0)\n",
    "tts_audio = final_video.audio"
   ]
  },
  {
   "cell_type": "code",
   "execution_count": 117,
   "id": "0b5b2b00-0515-4e32-8f90-1ba22a498de2",
   "metadata": {},
   "outputs": [],
   "source": [
    "bgm_w_tts_audio = mpy.CompositeAudioClip([bg_music,tts_audio])"
   ]
  },
  {
   "cell_type": "code",
   "execution_count": 118,
   "id": "00938b60-0568-4a14-b6d2-6266781c0fa1",
   "metadata": {},
   "outputs": [],
   "source": [
    "final_video.audio = bgm_w_tts_audio"
   ]
  },
  {
   "cell_type": "code",
   "execution_count": 119,
   "id": "0f8ec0bb-caae-4f6a-90a9-953218af1f60",
   "metadata": {},
   "outputs": [],
   "source": [
    "final_video.write_videofile(f\"assets/{submission_title}.mp4\",fps=30,logger=None)"
   ]
  },
  {
   "cell_type": "code",
   "execution_count": 120,
   "id": "a5728156-7d49-446e-95ef-395586ce9a55",
   "metadata": {},
   "outputs": [
    {
     "data": {
      "text/plain": [
       "2"
      ]
     },
     "execution_count": 120,
     "metadata": {},
     "output_type": "execute_result"
    }
   ],
   "source": [
    "1+1"
   ]
  },
  {
   "cell_type": "code",
   "execution_count": null,
   "id": "72e84a6c-9521-4cb9-93a3-ea77b06c856a",
   "metadata": {},
   "outputs": [],
   "source": []
  },
  {
   "cell_type": "code",
   "execution_count": 87,
   "id": "ff331c15-9a42-4318-956e-1240976b74f5",
   "metadata": {},
   "outputs": [
    {
     "name": "stdout",
     "output_type": "stream",
     "text": [
      " bg-img.jpg\n",
      " bg-img.png\n",
      " bg-test.mp3\n",
      " demo_png_2_vid\n",
      " demos\n",
      " demo_trts\n",
      "'Free Glitch Transition Overlay Pack №2 HD 4K-7HP3IWdCc3s.mkv'\n",
      "'Free VHS overlay effect-KQwJ5AM8zns.f137.mp4.part'\n",
      " pngtree-soft-small-bokeh-transparency-background-png-image_2326962.jpg\n",
      " reddit_whats_your_most_im_with_the_boomers_on.mp4\n",
      " test_final_vid-fast.mp4\n",
      " test_final_vid.mp4\n",
      "'TV static glitch effect                                                                (for editing)-cYgODiuD5co.mp4'\n",
      "'WYS – Snowman-0WmRB9Iz-30.opus'\n"
     ]
    }
   ],
   "source": [
    "#create transition clips\n",
    "!ls assets/"
   ]
  },
  {
   "cell_type": "code",
   "execution_count": null,
   "id": "a3b753d5-bbdb-4907-a466-e8d5faa41255",
   "metadata": {},
   "outputs": [],
   "source": []
  }
 ],
 "metadata": {
  "kernelspec": {
   "display_name": "Python 3 (ipykernel)",
   "language": "python",
   "name": "python3"
  },
  "language_info": {
   "codemirror_mode": {
    "name": "ipython",
    "version": 3
   },
   "file_extension": ".py",
   "mimetype": "text/x-python",
   "name": "python",
   "nbconvert_exporter": "python",
   "pygments_lexer": "ipython3",
   "version": "3.8.10"
  }
 },
 "nbformat": 4,
 "nbformat_minor": 5
}
