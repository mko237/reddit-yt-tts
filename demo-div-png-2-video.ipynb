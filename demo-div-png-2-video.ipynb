{
 "cells": [
  {
   "cell_type": "code",
   "execution_count": 422,
   "id": "8c1d4ed9-9753-4e04-ad08-4ce390e544bd",
   "metadata": {},
   "outputs": [],
   "source": [
    "from proxy_chrome_browser import get_chromedriver, build_proxy_extension\n",
    "import moviepy.editor as mpy\n",
    "import glob\n",
    "import os\n",
    "from time import sleep\n",
    "from tqdm import tqdm"
   ]
  },
  {
   "cell_type": "code",
   "execution_count": 423,
   "id": "40247161-0fbe-47f0-80fe-fddbc865037a",
   "metadata": {},
   "outputs": [],
   "source": [
    "br = get_chromedriver(headless=True,path='/home/miko/Downloads/chromedriver-v-106-0-5249-61')"
   ]
  },
  {
   "cell_type": "code",
   "execution_count": 424,
   "id": "9ff6673d-20e9-4abb-b05c-2c8e3d840c92",
   "metadata": {},
   "outputs": [],
   "source": [
    "def find_elm(tag,driver=br,_all=False,_by=\"css\"):\n",
    "    from selenium.webdriver.common.by import By\n",
    "    if _by==\"css\":\n",
    "        _by=By.CSS_SELECTOR\n",
    "    elif _by==\"link_text\":\n",
    "        _by=By.PARTIAL_LINK_TEXT\n",
    "    elif _by==\"link_text_exact\":\n",
    "        _by=By.LINK_TEXT\n",
    "        \n",
    "    try:\n",
    "        if _all:\n",
    "            out = driver.find_elements(by=_by,value=tag)\n",
    "        else:\n",
    "            out = driver.find_element(by=_by,value=tag)\n",
    "    except:\n",
    "        #print('None')\n",
    "        out = None\n",
    "    return out"
   ]
  },
  {
   "cell_type": "code",
   "execution_count": 425,
   "id": "01614665-e18d-468d-ae6a-211c09dec794",
   "metadata": {},
   "outputs": [],
   "source": [
    "def save_screenshot(elm,filename,scrollY=None):\n",
    "    assert filename[-3:] == \"png\", \"filename should end with png\"\n",
    "    scroll_into_view(elm,scrollY)\n",
    "    with open(filename,\"wb\") as f:\n",
    "        f.write(elm.screenshot_as_png)"
   ]
  },
  {
   "cell_type": "code",
   "execution_count": 426,
   "id": "7ef434d9-f05d-4c0f-8e7b-d600badbd720",
   "metadata": {},
   "outputs": [],
   "source": [
    "def scroll_into_view(elm,scrollY=None):\n",
    "     #source: -https://stackoverflow.com/questions/25733877/selenium-how-do-you-check-scroll-position\n",
    "     #loc = elm.location\n",
    "     #current_view_script = \"\"\" var doc = document.documentElement;\n",
    "     #var left = (window.pageXOffset || doc.scrollLeft) - (doc.clientLeft || 0);\n",
    "     #var top = (window.pageYOffset || doc.scrollTop)  - (doc.clientTop || 0);\n",
    "        \n",
    "     #taking screenshot will scroll into view. IF this stops working can use javascript above\n",
    "     elm.screenshot_as_png\n",
    "     sleep(.2)\n",
    "     # scroll a bit to add margin (prevent floating login bar from obscuring elm);\n",
    "     if scrollY:\n",
    "         br.execute_script(f\"window.scrollBy(0,{scrollY})\", \"\")\n",
    "         sleep(.5)\n"
   ]
  },
  {
   "cell_type": "code",
   "execution_count": 427,
   "id": "3e52bfde-3a80-4bde-8e0e-001e9af67ee6",
   "metadata": {},
   "outputs": [],
   "source": [
    "#set to dark theme\n",
    "br.get(\"https://www.reddit.com\")"
   ]
  },
  {
   "cell_type": "code",
   "execution_count": 428,
   "id": "597b18c5-8f0a-47e0-97d3-864bb6af7f87",
   "metadata": {},
   "outputs": [],
   "source": [
    "\n",
    "icon = find_elm(\"button[id='USER_DROPDOWN_ID']\")\n",
    "icon.click()\n",
    "sleep(.5)\n",
    "dark_btn = find_elm(\"button[data-redditstyle='true']\")\n",
    "dark_btn.click()\n",
    "sleep(.5)\n",
    "# if for some reason click isnt working. set it manually\n",
    "#input(\"Confirm darkmode has been set (press enter)\")"
   ]
  },
  {
   "cell_type": "code",
   "execution_count": 430,
   "id": "8415ab86-ed6b-4b38-9b7d-7409e2b9ee58",
   "metadata": {},
   "outputs": [],
   "source": [
    "#post_url = \"https://www.reddit.com/r/AskReddit/comments/ypzsqh/men_of_reddit_what_are_some_less_obvious_red/\"\n",
    "#post_url = \"https://www.reddit.com/r/AskReddit/comments/ycb6hp/whats_a_harsh_reality_that_everybody_needs_to_hear/\"\n",
    "#post_url = \"https://www.reddit.com/r/AskReddit/comments/y5bcsl/nonamericans_what_do_you_think_every_american/\"\n",
    "#post_url =\"https://www.reddit.com/r/AskReddit/comments/ydz1j5/what_is_25_years_too_old_for/\"\n",
    "#post_url = \"https://www.reddit.com/r/AskReddit/comments/y5wxnn/what_is_the_stupidest_thing_a_large_amount_of/?sort=confidence\"\n",
    "post_url = \"https://www.reddit.com/r/AskReddit/comments/ynpnd5/serious_what_stole_your_joy_why_do_you_not_have/?sort=confidence\""
   ]
  },
  {
   "cell_type": "code",
   "execution_count": 431,
   "id": "04f0e4af-f63b-44f0-b405-4d3c94151fb2",
   "metadata": {},
   "outputs": [],
   "source": [
    "br.get(post_url)"
   ]
  },
  {
   "cell_type": "code",
   "execution_count": 432,
   "id": "fc757993-08c7-41ea-b828-7d37ef0db133",
   "metadata": {},
   "outputs": [],
   "source": [
    "#br.switch_to.active_element.text"
   ]
  },
  {
   "cell_type": "code",
   "execution_count": 433,
   "id": "ab412758-6761-4237-a2a0-8812a577c3c9",
   "metadata": {},
   "outputs": [],
   "source": [
    "sleep(10)"
   ]
  },
  {
   "cell_type": "code",
   "execution_count": 434,
   "id": "e6269d65-cbae-4ed4-81ea-e0e45d85f396",
   "metadata": {},
   "outputs": [
    {
     "name": "stdout",
     "output_type": "stream",
     "text": [
      "getting more replies\n",
      "getting more replies\n",
      "getting more replies\n",
      "getting more replies\n",
      "getting more replies\n",
      "getting more replies\n"
     ]
    }
   ],
   "source": [
    "# expand replies\n",
    "num_replies_threshold = 90\n",
    "get_replies = True\n",
    "num_total_loops = 5\n",
    "current_loop_num = 0\n",
    "clicked_links = []\n",
    "while get_replies:\n",
    "    more_replies_divs = find_elm(\"div[id^='moreComments']\",_all=True)\n",
    "    expandable_divs = []\n",
    "    for div in more_replies_divs:\n",
    "        more_replies_link = find_elm(\"p\",driver=div)\n",
    "        #p = br.execute_script(\"return arguments[0].parentNode;\",more_replies_link)\n",
    "        if not more_replies_link:\n",
    "            continue\n",
    "        if more_replies_link.text == '' or 'loading..' in more_replies_link.text:\n",
    "            continue\n",
    "        num_replies = int(more_replies_link.text.split()[0].replace(\",\",\"\"))\n",
    "        if num_replies >= num_replies_threshold:\n",
    "            if more_replies_link not in clicked_links:\n",
    "                expandable_divs.append(more_replies_link)\n",
    "            else:\n",
    "                continue\n",
    "    for div in expandable_divs:\n",
    "        #link_elm = find_elm(\"div[data-testid^='search-scope-pill-text']\")\n",
    "        try:\n",
    "            scroll_into_view(more_replies_link)\n",
    "            div.click()\n",
    "            sleep(1)\n",
    "        except:\n",
    "            continue  \n",
    "    if len(expandable_divs) == 0:\n",
    "        get_replies = False\n",
    "    if current_loop_num >= num_total_loops:\n",
    "        get_replies = False\n",
    "    else:\n",
    "        current_loop_num += 1\n",
    "    print(\"getting more replies\")\n",
    "    #todo: find a better stopping condition"
   ]
  },
  {
   "cell_type": "code",
   "execution_count": 435,
   "id": "32f0fd58-4a9f-499d-b634-8931f05383b4",
   "metadata": {},
   "outputs": [],
   "source": [
    "# get comments\n",
    "comments = find_elm(\"div[class*='Comment']\",_all=True)"
   ]
  },
  {
   "cell_type": "code",
   "execution_count": 436,
   "id": "23ca09c0-43ed-4dbe-92de-ee5e7081c37e",
   "metadata": {},
   "outputs": [],
   "source": [
    "#prepend original post to comments\n",
    "post = [find_elm(\"div[data-test-id='post-content']\"),]\n",
    "post.extend(comments)\n",
    "comments = post"
   ]
  },
  {
   "cell_type": "code",
   "execution_count": 437,
   "id": "2e20c98a-c57d-4aa2-a266-508b509a4b26",
   "metadata": {},
   "outputs": [
    {
     "data": {
      "text/plain": [
       "493"
      ]
     },
     "execution_count": 437,
     "metadata": {},
     "output_type": "execute_result"
    }
   ],
   "source": [
    "len(comments)"
   ]
  },
  {
   "cell_type": "code",
   "execution_count": 438,
   "id": "b5d26d65-3b5b-4674-be22-b0b9ae3de585",
   "metadata": {},
   "outputs": [],
   "source": [
    "submission_title = post_url.split(\"/\")[-2]\n",
    "#asset_dir=\"assets/demo_png_2_vid\"\n",
    "asset_dir=\"/mnt/n/data/reddit-yt-tts/queued\"\n",
    "completed_dir=\"/mnt/n/data/reddit-yt-tts/completed\"\n",
    "#thread_ids = []"
   ]
  },
  {
   "cell_type": "code",
   "execution_count": 469,
   "id": "33a42f0e-e400-4543-b465-1a5685261901",
   "metadata": {},
   "outputs": [
    {
     "data": {
      "text/plain": [
       "'serious_what_stole_your_joy_why_do_you_not_have'"
      ]
     },
     "execution_count": 469,
     "metadata": {},
     "output_type": "execute_result"
    }
   ],
   "source": [
    "submission_title"
   ]
  },
  {
   "cell_type": "code",
   "execution_count": 439,
   "id": "dbde7aeb-c77b-492f-9845-188aefe1c01a",
   "metadata": {},
   "outputs": [],
   "source": [
    "def save_comment_text(filename,comment,selector='p'):\n",
    "    comment_text = \" \".join([x.text for x in find_elm(selector,driver=comment,_all=True)])\n",
    "    with open(filename,\"w\") as f:\n",
    "        f.write(comment_text)"
   ]
  },
  {
   "cell_type": "code",
   "execution_count": 446,
   "id": "ab154d47-3f04-40e4-b00e-d314053a3bdb",
   "metadata": {},
   "outputs": [
    {
     "name": "stderr",
     "output_type": "stream",
     "text": [
      "100%|████████████████████████████████████████████████████████████████████████████████████████████████████████████████████████████████████████████████████████████████████| 493/493 [04:35<00:00,  1.79it/s]\n"
     ]
    }
   ],
   "source": [
    "#save threaded comment screenshot as png to directory\n",
    "vote_count_threshold = 450\n",
    "thread_count = 0\n",
    "parent_comment_stack = [dict(comment=comments[0],saved=True)]\n",
    "prev_comment_lvl = 1\n",
    "prev_comment = comments[0]\n",
    "prev_comment_id = -1\n",
    "i = 0\n",
    "for comment in tqdm(comments):\n",
    "    # filter deleted comments\n",
    "    if \"Comment deleted by user\" in comment.text:\n",
    "        continue\n",
    "    \n",
    "    # some comments arnt expanded, skipping\n",
    "    if len(comment.text.split(\"\\n\")) <= 4:\n",
    "           continue\n",
    "           \n",
    "    #filter highly voted comments\n",
    "    vote_div = find_elm(\"div[id^='vote-arrows']\",driver=comment)\n",
    "    if not vote_div or vote_div.text == '' or vote_div.text == \"Vote\":\n",
    "        continue\n",
    "        \n",
    "    multiply_1k = 'k' in vote_div.text\n",
    "    if multiply_1k:\n",
    "        vote_count = float(vote_div.text.replace(\"k\",\"\")) * 1000\n",
    "    else:\n",
    "        vote_count = int(vote_div.text)\n",
    "    \n",
    "    if i == 0:\n",
    "        comment_lvl = 1\n",
    "    else:\n",
    "        comment_lvl = find_elm(\"span\",comment).text\n",
    "        comment_lvl = int(comment_lvl.lower().replace(\"level\",\"\").strip())\n",
    "\n",
    "    #if \"1\" in comment_lvl:\n",
    "    if comment_lvl == 1:\n",
    "        thread_count += 1\n",
    "        user = comment.text.split(\"\\n\")[1]\n",
    "        vote_count_txt = vote_div.text.replace(\".\",\"_\")\n",
    "        thread_id = f\"{thread_count:04}-{user}-{vote_count_txt}\"\n",
    "        \n",
    "        comment_id=0\n",
    "    else:\n",
    "        comment_id+=1\n",
    "        \n",
    "    # Save parent comments even if threshold is not met\n",
    "    if comment_lvl > prev_comment_lvl:\n",
    "        # entering a nested thread, mark new parent...\n",
    "        parent_comment_stack.append(dict(comment=prev_comment,comment_id=prev_comment_id,saved=False))\n",
    "    elif comment_lvl < prev_comment_lvl:\n",
    "        # leaving a nested thread, remove previous parent\n",
    "        parent_comment_stack = parent_comment_stack[:-1]\n",
    "        \n",
    "    \n",
    "    # Check whether comment should be saved\n",
    "    save_comment = False\n",
    "    if vote_count >= vote_count_threshold:\n",
    "        save_comment = True\n",
    "    \n",
    "    #save parent comment\n",
    "    parent_comment = parent_comment_stack[-1]\n",
    "    if save_comment and not parent_comment[\"saved\"]:\n",
    "        #todo refactor to fn\n",
    "        folder = f\"{asset_dir}/{submission_title}/{thread_id}\"\n",
    "        if not os.path.exists(folder):\n",
    "            os.makedirs(folder)\n",
    "        save_screenshot(parent_comment['comment'],f\"{folder}/{parent_comment['comment_id']:04}.png\")\n",
    "        save_comment_text(filename=f\"{folder}/{parent_comment['comment_id']:04}.txt\",comment=parent_comment['comment'])\n",
    "        parent_comment[\"saved\"] = True\n",
    "        \n",
    "    #Save comment\n",
    "    if save_comment:\n",
    "        #thread_ids.append(thread_id)\n",
    "        folder = f\"{asset_dir}/{submission_title}/{thread_id}\"\n",
    "        if not os.path.exists(folder):\n",
    "            os.makedirs(folder)\n",
    "        save_screenshot(comment,f\"{folder}/{comment_id:04}.png\")\n",
    "        if i == 0:\n",
    "            save_screenshot(comment,f\"{folder}/{comment_id:04}.png\",scrollY=-55)\n",
    "            save_comment_text(filename=f\"{folder}/{comment_id:04}.txt\",comment=comment,selector='h1')\n",
    "        else:\n",
    "            save_screenshot(comment,f\"{folder}/{comment_id:04}.png\")\n",
    "            save_comment_text(filename=f\"{folder}/{comment_id:04}.txt\",comment=comment)\n",
    "    \n",
    "    # init vars for next iteration\n",
    "    prev_comment_lvl = comment_lvl\n",
    "    prev_comment = comment\n",
    "    prev_comment_id = comment_id\n",
    "    i+=1"
   ]
  },
  {
   "cell_type": "code",
   "execution_count": null,
   "id": "da7f0383-8605-4a22-9580-ef061f735e62",
   "metadata": {},
   "outputs": [],
   "source": [
    "#save_screenshot(commeants[1],f\"{asset_dir}/test.png\")"
   ]
  },
  {
   "cell_type": "code",
   "execution_count": 515,
   "id": "45f82611-ca8a-4537-818b-f574d722a753",
   "metadata": {},
   "outputs": [],
   "source": [
    "submission_title = \"what_is_the_stupidest_thing_a_large_amount_of\""
   ]
  },
  {
   "cell_type": "code",
   "execution_count": 516,
   "id": "465f9c2c-2c2f-4673-adcd-726e86123388",
   "metadata": {},
   "outputs": [],
   "source": [
    "thread_ids = [x.split(\"/\")[-1] for x in glob.glob(f\"{asset_dir}/{submission_title}/*\")]"
   ]
  },
  {
   "cell_type": "code",
   "execution_count": 517,
   "id": "a19b34e2-1ea6-41b0-b577-c89a04fed916",
   "metadata": {},
   "outputs": [],
   "source": [
    "def build_thread_vid(thread_id,bg_img=\"assets/Qv79akqGQt0.png\"):\n",
    "    images = glob.glob(f\"{asset_dir}/{submission_title}/{thread_id}/*.png\")\n",
    "    images = sorted(images)\n",
    "    audio_file_dir = f\"{completed_dir}/{submission_title}/{thread_id}\"\n",
    "    # https://zulko.github.io/moviepy/examples/examples.html\n",
    "    clips = []\n",
    "    audio_clips = []\n",
    "    total_duration = 0\n",
    "    transition_duration = 0\n",
    "    \n",
    "    #intro\n",
    "    intro_duration = 4   \n",
    "    bg_clip = mpy.ImageClip(bg_img).set_duration(intro_duration).set_start(total_duration)\n",
    "    bg_clip = bg_clip.crossfadein(intro_duration-1)\n",
    "    clips.append(bg_clip)\n",
    "    total_duration += intro_duration\n",
    "    for i,image in enumerate(images):\n",
    "      \n",
    "        image_file = image.split(\"/\")[-1]\n",
    "        audio_file = image_file.replace(\".png\",\".wav\")\n",
    "        try:\n",
    "            audio_clip = mpy.AudioFileClip(f\"{audio_file_dir}/{audio_file}\").set_start(total_duration)\n",
    "        except OSError as e:\n",
    "            print(f\"audio file {audio_file_dir}/{audio_file} not found\")\n",
    "            continue\n",
    "        audio_clips.append(audio_clip)\n",
    "        audio_duration = audio_clip.duration\n",
    "        \n",
    "        clip = mpy.ImageClip(image).set_duration(audio_duration).set_start(total_duration).set_position((\"center\", \"center\"))\n",
    "        \n",
    "        bg_clip = mpy.ImageClip(bg_img).set_duration(audio_duration).set_start(total_duration)\n",
    "        if clip.size[0] > bg_clip.size[0] * .9:\n",
    "            clip = clip.resize((bg_clip.size[0]*.9,clip.size[1]*.9))\n",
    "            \n",
    "        if clip.size[1] > bg_clip.size[1] * .9:\n",
    "            clip = clip.resize((clip.size[0]*.9,bg_clip.size[1]*.9))\n",
    "        #clip = clip.set_start(5) # TODO: change duration based on audio\n",
    "        #clip = clip.resize((1080,1920)) #TODO add tts audio\n",
    "        clips.append(bg_clip)\n",
    "        clips.append(clip)\n",
    "        \n",
    "        total_duration += audio_duration + transition_duration\n",
    "  \n",
    "    if len(clips) > 0 :\n",
    "        final_audio_clip = mpy.CompositeAudioClip(audio_clips)\n",
    "        final_clip = mpy.CompositeVideoClip(clips)\n",
    "        final_clip.audio = final_audio_clip\n",
    "        final_clip.write_videofile(f\"{asset_dir}/{submission_title}/{thread_id}/thread_clip.mp4\",fps=30,logger=None)\n",
    "    "
   ]
  },
  {
   "cell_type": "code",
   "execution_count": 568,
   "id": "cf98180b-2ae1-456b-81af-4136ddd07886",
   "metadata": {},
   "outputs": [],
   "source": [
    "#import moviepy.video.fx as vfx\n",
    "def build_intro_vid(bg_img):\n",
    "    #intro\n",
    "    intro_duration = 4   \n",
    "    bg_clip = mpy.ImageClip(bg_img).set_duration(intro_duration)\n",
    "    bg_clip = mpy.vfx.fadein(bg_clip,intro_duration-1,[0,0,0])\n",
    "    bg_clip.write_videofile(f\"{asset_dir}/{submission_title}/intro.mp4\",fps=30,logger=None)\n",
    "    \n",
    "def build_outro_vid(bg_img):\n",
    "    #outro\n",
    "    outro_duration = 4   \n",
    "    bg_clip = mpy.ImageClip(bg_img).set_duration(outro_duration)\n",
    "    bg_clip = mpy.vfx.fadeout(bg_clip,outro_duration-1,[0,0,0])\n",
    "    bg_clip.write_videofile(f\"{asset_dir}/{submission_title}/outro.mp4\",fps=30,logger=None)"
   ]
  },
  {
   "cell_type": "code",
   "execution_count": 518,
   "id": "6cbfcf71-aef4-49ca-af2c-25eda6fec34d",
   "metadata": {},
   "outputs": [],
   "source": [
    "thread_ids = sorted(list(set(thread_ids)))"
   ]
  },
  {
   "cell_type": "code",
   "execution_count": 519,
   "id": "f3bc46c8-428c-408a-87c3-845fc1301170",
   "metadata": {},
   "outputs": [
    {
     "data": {
      "text/plain": [
       "'/mnt/n/data/reddit-yt-tts/queued/what_is_the_stupidest_thing_a_large_amount_of/0001-Posted by-34_1k'"
      ]
     },
     "execution_count": 519,
     "metadata": {},
     "output_type": "execute_result"
    }
   ],
   "source": [
    "f\"{asset_dir}/{submission_title}/{thread_ids[0]}\""
   ]
  },
  {
   "cell_type": "code",
   "execution_count": 70,
   "id": "9afd90ed-8102-40e0-aa6a-cbb0318a7e4c",
   "metadata": {},
   "outputs": [
    {
     "name": "stdin",
     "output_type": "stream",
     "text": [
      "Execute TTS at this point (on windows GPU) then run below...(press enter) \n"
     ]
    },
    {
     "data": {
      "text/plain": [
       "''"
      ]
     },
     "execution_count": 70,
     "metadata": {},
     "output_type": "execute_result"
    }
   ],
   "source": [
    "# Execute TTS at this point (on windows GPU) then run below\n",
    "input(\"Execute TTS at this point (on windows GPU) then run below...(press enter)\")"
   ]
  },
  {
   "cell_type": "code",
   "execution_count": 553,
   "id": "3544b168-2a36-4b4c-9e23-c7d77a2f932c",
   "metadata": {},
   "outputs": [],
   "source": [
    "bg_img=\"assets/Qv79akqGQt0.png\""
   ]
  },
  {
   "cell_type": "code",
   "execution_count": 520,
   "id": "b30038f5-49df-4047-bb1e-b6998aa2f718",
   "metadata": {},
   "outputs": [
    {
     "name": "stderr",
     "output_type": "stream",
     "text": [
      "  0%|                                                                                                                                                                               | 0/48 [00:00<?, ?it/s]"
     ]
    },
    {
     "name": "stdout",
     "output_type": "stream",
     "text": [
      "0001-Posted by-34_1k\n"
     ]
    },
    {
     "name": "stderr",
     "output_type": "stream",
     "text": [
      "  2%|███▍                                                                                                                                                                   | 1/48 [00:02<01:43,  2.21s/it]"
     ]
    },
    {
     "name": "stdout",
     "output_type": "stream",
     "text": [
      "0002-Coredintol71-7_7k\n"
     ]
    },
    {
     "name": "stderr",
     "output_type": "stream",
     "text": [
      "  4%|██████▉                                                                                                                                                                | 2/48 [00:16<07:10,  9.37s/it]"
     ]
    },
    {
     "name": "stdout",
     "output_type": "stream",
     "text": [
      "0003-badblackguy-5_1k\n"
     ]
    },
    {
     "name": "stderr",
     "output_type": "stream",
     "text": [
      "  6%|██████████▍                                                                                                                                                            | 3/48 [00:20<05:06,  6.80s/it]"
     ]
    },
    {
     "name": "stdout",
     "output_type": "stream",
     "text": [
      "0004-bugz1452-3_8k\n"
     ]
    },
    {
     "name": "stderr",
     "output_type": "stream",
     "text": [
      "  8%|█████████████▉                                                                                                                                                         | 4/48 [00:23<04:01,  5.49s/it]"
     ]
    },
    {
     "name": "stdout",
     "output_type": "stream",
     "text": [
      "0005-gladiiisss-18_6k\n"
     ]
    },
    {
     "name": "stderr",
     "output_type": "stream",
     "text": [
      " 10%|█████████████████▍                                                                                                                                                     | 5/48 [00:40<06:50,  9.55s/it]"
     ]
    },
    {
     "name": "stdout",
     "output_type": "stream",
     "text": [
      "0006-Specialist_Watch1081-14_8k\n"
     ]
    },
    {
     "name": "stderr",
     "output_type": "stream",
     "text": [
      " 12%|████████████████████▉                                                                                                                                                  | 6/48 [00:54<07:41, 11.00s/it]"
     ]
    },
    {
     "name": "stdout",
     "output_type": "stream",
     "text": [
      "0007-Blonde_girl713-32_7k\n"
     ]
    },
    {
     "name": "stderr",
     "output_type": "stream",
     "text": [
      " 15%|████████████████████████▎                                                                                                                                              | 7/48 [01:16<09:53, 14.48s/it]"
     ]
    },
    {
     "name": "stdout",
     "output_type": "stream",
     "text": [
      "0008-SuvenPan-33_3k\n"
     ]
    },
    {
     "name": "stderr",
     "output_type": "stream",
     "text": [
      " 17%|███████████████████████████▊                                                                                                                                           | 8/48 [01:33<10:12, 15.30s/it]"
     ]
    },
    {
     "name": "stdout",
     "output_type": "stream",
     "text": [
      "0009-Aggravating-Ice6053-17_9k\n"
     ]
    },
    {
     "name": "stderr",
     "output_type": "stream",
     "text": [
      " 19%|███████████████████████████████▎                                                                                                                                       | 9/48 [02:09<14:11, 21.82s/it]"
     ]
    },
    {
     "name": "stdout",
     "output_type": "stream",
     "text": [
      "0011-rone007-22_7k\n"
     ]
    },
    {
     "name": "stderr",
     "output_type": "stream",
     "text": [
      " 21%|██████████████████████████████████▌                                                                                                                                   | 10/48 [02:29<13:34, 21.44s/it]"
     ]
    },
    {
     "name": "stdout",
     "output_type": "stream",
     "text": [
      "0012-1smartchickey1_1-29_3k\n"
     ]
    },
    {
     "name": "stderr",
     "output_type": "stream",
     "text": [
      " 23%|██████████████████████████████████████                                                                                                                                | 11/48 [02:53<13:42, 22.22s/it]"
     ]
    },
    {
     "name": "stdout",
     "output_type": "stream",
     "text": [
      "0013-TheBatjedi-19_2k\n"
     ]
    },
    {
     "name": "stderr",
     "output_type": "stream",
     "text": [
      " 25%|█████████████████████████████████████████▌                                                                                                                            | 12/48 [03:01<10:37, 17.70s/it]"
     ]
    },
    {
     "name": "stdout",
     "output_type": "stream",
     "text": [
      "0014-guitarist4hire-4_7k\n"
     ]
    },
    {
     "name": "stderr",
     "output_type": "stream",
     "text": [
      " 27%|████████████████████████████████████████████▉                                                                                                                         | 13/48 [03:04<07:49, 13.41s/it]"
     ]
    },
    {
     "name": "stdout",
     "output_type": "stream",
     "text": [
      "0015-littlelostangeles-8_0k\n"
     ]
    },
    {
     "name": "stderr",
     "output_type": "stream",
     "text": [
      " 29%|████████████████████████████████████████████████▍                                                                                                                     | 14/48 [04:07<16:04, 28.38s/it]"
     ]
    },
    {
     "name": "stdout",
     "output_type": "stream",
     "text": [
      "0016-Cmath06-6_3k\n"
     ]
    },
    {
     "name": "stderr",
     "output_type": "stream",
     "text": [
      " 31%|███████████████████████████████████████████████████▉                                                                                                                  | 15/48 [04:10<11:24, 20.75s/it]"
     ]
    },
    {
     "name": "stdout",
     "output_type": "stream",
     "text": [
      "0017-attention21-3_0k\n"
     ]
    },
    {
     "name": "stderr",
     "output_type": "stream",
     "text": [
      " 33%|███████████████████████████████████████████████████████▎                                                                                                              | 16/48 [04:19<09:12, 17.25s/it]"
     ]
    },
    {
     "name": "stdout",
     "output_type": "stream",
     "text": [
      "0018-Opposite-Strategy-28-18_5k\n"
     ]
    },
    {
     "name": "stderr",
     "output_type": "stream",
     "text": [
      " 35%|██████████████████████████████████████████████████████████▊                                                                                                           | 17/48 [04:35<08:40, 16.79s/it]"
     ]
    },
    {
     "name": "stdout",
     "output_type": "stream",
     "text": [
      "0019-Grey_Mane_6425-19_0k\n"
     ]
    },
    {
     "name": "stderr",
     "output_type": "stream",
     "text": [
      " 38%|██████████████████████████████████████████████████████████████▎                                                                                                       | 18/48 [05:08<10:52, 21.76s/it]"
     ]
    },
    {
     "name": "stdout",
     "output_type": "stream",
     "text": [
      "0020-Waffle_it_is-10_0k\n"
     ]
    },
    {
     "name": "stderr",
     "output_type": "stream",
     "text": [
      " 40%|█████████████████████████████████████████████████████████████████▋                                                                                                    | 19/48 [05:33<10:51, 22.47s/it]"
     ]
    },
    {
     "name": "stdout",
     "output_type": "stream",
     "text": [
      "0021-Emotional_Yam4959-6_2k\n"
     ]
    },
    {
     "name": "stderr",
     "output_type": "stream",
     "text": [
      " 42%|█████████████████████████████████████████████████████████████████████▏                                                                                                | 20/48 [06:00<11:12, 24.01s/it]"
     ]
    },
    {
     "name": "stdout",
     "output_type": "stream",
     "text": [
      "0022-Hvnisaplaceonerth-12_3k\n"
     ]
    },
    {
     "name": "stderr",
     "output_type": "stream",
     "text": [
      " 44%|████████████████████████████████████████████████████████████████████████▋                                                                                             | 21/48 [06:17<09:51, 21.89s/it]"
     ]
    },
    {
     "name": "stdout",
     "output_type": "stream",
     "text": [
      "0023-kindness_hurts-8_4k\n"
     ]
    },
    {
     "name": "stderr",
     "output_type": "stream",
     "text": [
      " 46%|████████████████████████████████████████████████████████████████████████████                                                                                          | 22/48 [06:24<07:35, 17.50s/it]"
     ]
    },
    {
     "name": "stdout",
     "output_type": "stream",
     "text": [
      "0024-SupermarketNo3773-7_4k\n"
     ]
    },
    {
     "name": "stderr",
     "output_type": "stream",
     "text": [
      " 48%|███████████████████████████████████████████████████████████████████████████████▌                                                                                      | 23/48 [06:30<05:46, 13.87s/it]"
     ]
    },
    {
     "name": "stdout",
     "output_type": "stream",
     "text": [
      "0025-PitcherTrap-2_6k\n"
     ]
    },
    {
     "name": "stderr",
     "output_type": "stream",
     "text": [
      " 50%|███████████████████████████████████████████████████████████████████████████████████                                                                                   | 24/48 [06:32<04:10, 10.43s/it]"
     ]
    },
    {
     "name": "stdout",
     "output_type": "stream",
     "text": [
      "0026-Horchata_Wh0re-14_8k\n"
     ]
    },
    {
     "name": "stderr",
     "output_type": "stream",
     "text": [
      " 52%|██████████████████████████████████████████████████████████████████████████████████████▍                                                                               | 25/48 [06:51<04:57, 12.95s/it]"
     ]
    },
    {
     "name": "stdout",
     "output_type": "stream",
     "text": [
      "0028-Jasons_Brain-5_4k\n"
     ]
    },
    {
     "name": "stderr",
     "output_type": "stream",
     "text": [
      " 54%|█████████████████████████████████████████████████████████████████████████████████████████▉                                                                            | 26/48 [07:08<05:11, 14.14s/it]"
     ]
    },
    {
     "name": "stdout",
     "output_type": "stream",
     "text": [
      "0029-CRG_Ghost-1_9k\n"
     ]
    },
    {
     "name": "stderr",
     "output_type": "stream",
     "text": [
      " 56%|█████████████████████████████████████████████████████████████████████████████████████████████▍                                                                        | 27/48 [07:09<03:36, 10.30s/it]"
     ]
    },
    {
     "name": "stdout",
     "output_type": "stream",
     "text": [
      "0030-slimeyelf-3_3k\n"
     ]
    },
    {
     "name": "stderr",
     "output_type": "stream",
     "text": [
      " 58%|████████████████████████████████████████████████████████████████████████████████████████████████▊                                                                     | 28/48 [07:27<04:07, 12.38s/it]"
     ]
    },
    {
     "name": "stdout",
     "output_type": "stream",
     "text": [
      "0031-TrooperJohn-7_5k\n"
     ]
    },
    {
     "name": "stderr",
     "output_type": "stream",
     "text": [
      " 60%|████████████████████████████████████████████████████████████████████████████████████████████████████▎                                                                 | 29/48 [07:35<03:33, 11.22s/it]"
     ]
    },
    {
     "name": "stdout",
     "output_type": "stream",
     "text": [
      "0032-randomnoses-3_9k\n"
     ]
    },
    {
     "name": "stderr",
     "output_type": "stream",
     "text": [
      " 62%|███████████████████████████████████████████████████████████████████████████████████████████████████████▊                                                              | 30/48 [07:44<03:11, 10.63s/it]"
     ]
    },
    {
     "name": "stdout",
     "output_type": "stream",
     "text": [
      "0033-BarriBlue-497\n"
     ]
    },
    {
     "name": "stderr",
     "output_type": "stream",
     "text": [
      " 65%|███████████████████████████████████████████████████████████████████████████████████████████████████████████▏                                                          | 31/48 [07:46<02:17,  8.09s/it]"
     ]
    },
    {
     "name": "stdout",
     "output_type": "stream",
     "text": [
      "0034-fates_bitch-2_9k\n"
     ]
    },
    {
     "name": "stderr",
     "output_type": "stream",
     "text": [
      " 67%|██████████████████████████████████████████████████████████████████████████████████████████████████████████████▋                                                       | 32/48 [07:51<01:51,  6.97s/it]"
     ]
    },
    {
     "name": "stdout",
     "output_type": "stream",
     "text": [
      "0035-Disastrous-Layer3244-1_4k\n"
     ]
    },
    {
     "name": "stderr",
     "output_type": "stream",
     "text": [
      " 69%|██████████████████████████████████████████████████████████████████████████████████████████████████████████████████▏                                                   | 33/48 [07:52<01:18,  5.25s/it]"
     ]
    },
    {
     "name": "stdout",
     "output_type": "stream",
     "text": [
      "0036-nibo001-974\n"
     ]
    },
    {
     "name": "stderr",
     "output_type": "stream",
     "text": [
      " 71%|█████████████████████████████████████████████████████████████████████████████████████████████████████████████████████▌                                                | 34/48 [07:58<01:18,  5.60s/it]"
     ]
    },
    {
     "name": "stdout",
     "output_type": "stream",
     "text": [
      "0039-glassclouds1894-1_0k\n"
     ]
    },
    {
     "name": "stderr",
     "output_type": "stream",
     "text": [
      " 73%|█████████████████████████████████████████████████████████████████████████████████████████████████████████████████████████                                             | 35/48 [08:04<01:10,  5.45s/it]"
     ]
    },
    {
     "name": "stdout",
     "output_type": "stream",
     "text": [
      "0043-Wrest216-496\n",
      "audio file /mnt/n/data/reddit-yt-tts/completed/what_is_the_stupidest_thing_a_large_amount_of/0043-Wrest216-496/0000.wav not found\n",
      "0044-FishPasteGuy-1_6k\n",
      "audio file /mnt/n/data/reddit-yt-tts/completed/what_is_the_stupidest_thing_a_large_amount_of/0044-FishPasteGuy-1_6k/0000.wav not found\n"
     ]
    },
    {
     "name": "stderr",
     "output_type": "stream",
     "text": [
      " 77%|███████████████████████████████████████████████████████████████████████████████████████████████████████████████████████████████▉                                      | 37/48 [08:04<00:32,  3.00s/it]"
     ]
    },
    {
     "name": "stdout",
     "output_type": "stream",
     "text": [
      "audio file /mnt/n/data/reddit-yt-tts/completed/what_is_the_stupidest_thing_a_large_amount_of/0044-FishPasteGuy-1_6k/0002.wav not found\n",
      "0046-kalirion-966\n",
      "audio file /mnt/n/data/reddit-yt-tts/completed/what_is_the_stupidest_thing_a_large_amount_of/0046-kalirion-966/0000.wav not found\n",
      "0047-withoutlimits83-1_7k\n",
      "audio file /mnt/n/data/reddit-yt-tts/completed/what_is_the_stupidest_thing_a_large_amount_of/0047-withoutlimits83-1_7k/0000.wav not found\n"
     ]
    },
    {
     "name": "stderr",
     "output_type": "stream",
     "text": [
      " 85%|█████████████████████████████████████████████████████████████████████████████████████████████████████████████████████████████████████████████▊                        | 41/48 [08:04<00:08,  1.22s/it]"
     ]
    },
    {
     "name": "stdout",
     "output_type": "stream",
     "text": [
      "audio file /mnt/n/data/reddit-yt-tts/completed/what_is_the_stupidest_thing_a_large_amount_of/0047-withoutlimits83-1_7k/0001.wav not found\n",
      "0049-Far-Internal-6757-1_4k\n",
      "audio file /mnt/n/data/reddit-yt-tts/completed/what_is_the_stupidest_thing_a_large_amount_of/0049-Far-Internal-6757-1_4k/0000.wav not found\n",
      "0050-lmea14-514\n",
      "audio file /mnt/n/data/reddit-yt-tts/completed/what_is_the_stupidest_thing_a_large_amount_of/0050-lmea14-514/0000.wav not found\n",
      "0054-A_Wild_VelociFaptor-998\n"
     ]
    },
    {
     "name": "stderr",
     "output_type": "stream",
     "text": [
      " 90%|████████████████████████████████████████████████████████████████████████████████████████████████████████████████████████████████████████████████████▋                 | 43/48 [08:04<00:04,  1.19it/s]"
     ]
    },
    {
     "name": "stdout",
     "output_type": "stream",
     "text": [
      "audio file /mnt/n/data/reddit-yt-tts/completed/what_is_the_stupidest_thing_a_large_amount_of/0054-A_Wild_VelociFaptor-998/0000.wav not found\n",
      "0058-RyeMcFly420-799\n",
      "audio file /mnt/n/data/reddit-yt-tts/completed/what_is_the_stupidest_thing_a_large_amount_of/0058-RyeMcFly420-799/0000.wav not found\n",
      "0059-Away-Picture-925-630\n",
      "audio file /mnt/n/data/reddit-yt-tts/completed/what_is_the_stupidest_thing_a_large_amount_of/0059-Away-Picture-925-630/0000.wav not found\n",
      "0060-Keyblades4Real-1_7k\n"
     ]
    },
    {
     "name": "stderr",
     "output_type": "stream",
     "text": [
      " 98%|██████████████████████████████████████████████████████████████████████████████████████████████████████████████████████████████████████████████████████████████████▌   | 47/48 [08:05<00:00,  2.31it/s]"
     ]
    },
    {
     "name": "stdout",
     "output_type": "stream",
     "text": [
      "audio file /mnt/n/data/reddit-yt-tts/completed/what_is_the_stupidest_thing_a_large_amount_of/0060-Keyblades4Real-1_7k/0000.wav not found\n",
      "0061-Kanedi4s-467\n",
      "audio file /mnt/n/data/reddit-yt-tts/completed/what_is_the_stupidest_thing_a_large_amount_of/0061-Kanedi4s-467/0000.wav not found\n",
      "0067-Roody-PooCandyAss-475\n",
      "audio file /mnt/n/data/reddit-yt-tts/completed/what_is_the_stupidest_thing_a_large_amount_of/0067-Roody-PooCandyAss-475/0000.wav not found\n",
      "0090-Psyco_diver-511\n"
     ]
    },
    {
     "name": "stderr",
     "output_type": "stream",
     "text": [
      "100%|██████████████████████████████████████████████████████████████████████████████████████████████████████████████████████████████████████████████████████████████████████| 48/48 [08:05<00:00, 10.11s/it]"
     ]
    },
    {
     "name": "stdout",
     "output_type": "stream",
     "text": [
      "audio file /mnt/n/data/reddit-yt-tts/completed/what_is_the_stupidest_thing_a_large_amount_of/0090-Psyco_diver-511/0000.wav not found\n",
      "audio file /mnt/n/data/reddit-yt-tts/completed/what_is_the_stupidest_thing_a_large_amount_of/0090-Psyco_diver-511/0002.wav not found\n"
     ]
    },
    {
     "name": "stderr",
     "output_type": "stream",
     "text": [
      "\n"
     ]
    }
   ],
   "source": [
    "# save threads to clips\n",
    "# vote_div.text\n",
    "\n",
    "thread_ids = sorted(list(set(thread_ids)))\n",
    "for thread in tqdm(thread_ids):\n",
    "    print(thread)\n",
    "    build_thread_vid(thread,bg_img)\n"
   ]
  },
  {
   "cell_type": "code",
   "execution_count": 570,
   "id": "c48f8c3b-b640-42dc-926e-b2c19709039f",
   "metadata": {},
   "outputs": [],
   "source": [
    "build_intro_vid(bg_img)\n",
    "build_outro_vid(bg_img)"
   ]
  },
  {
   "cell_type": "code",
   "execution_count": 521,
   "id": "c1ee8a27-3263-43a2-a80a-0b4c16a3c575",
   "metadata": {},
   "outputs": [],
   "source": [
    "# save c to "
   ]
  },
  {
   "cell_type": "code",
   "execution_count": 522,
   "id": "d858f26b-c13c-4a83-bd6a-a62ea9fc59bf",
   "metadata": {},
   "outputs": [],
   "source": [
    "videos = glob.glob(f\"{asset_dir}/{submission_title}/*/*.mp4\")\n",
    "videos = sorted(list(set(videos)))"
   ]
  },
  {
   "cell_type": "code",
   "execution_count": 566,
   "id": "feb07e9f-0731-424b-bfe1-22080a278350",
   "metadata": {},
   "outputs": [],
   "source": [
    "#prepend intro\n",
    "intro = glob.glob(f\"{asset_dir}/{submission_title}/intro.mp4\")\n",
    "videos = intro + videos\n",
    "\n",
    "#append outro\n",
    "outro = glob.glob(f\"{asset_dir}/{submission_title}/outro.mp4\")\n",
    "videos = videos + outro\n",
    "\n"
   ]
  },
  {
   "cell_type": "code",
   "execution_count": 571,
   "id": "63805f33-1f66-4426-8b76-131b7a9ddb1f",
   "metadata": {},
   "outputs": [],
   "source": [
    "all_video_clips = [mpy.VideoFileClip(video) for video in videos]"
   ]
  },
  {
   "cell_type": "code",
   "execution_count": 573,
   "id": "cb8e0145-185a-4cb2-809e-79bb72374e1b",
   "metadata": {},
   "outputs": [],
   "source": [
    "videos_w_sound_corrected = []\n",
    "for clip in all_video_clips:\n",
    "    if clip.audio:\n",
    "        clip.audio = clip.audio.fx(mpy.afx.audio_normalize)\n",
    "        videos_w_sound_corrected.append(clip)"
   ]
  },
  {
   "cell_type": "code",
   "execution_count": 574,
   "id": "725432e1-bd29-4bc7-912f-e8501847c466",
   "metadata": {},
   "outputs": [],
   "source": [
    "transition = mpy.VideoFileClip(\"assets/tvstatic-180-720.mp4\")"
   ]
  },
  {
   "cell_type": "code",
   "execution_count": 575,
   "id": "7c85e8e2-48a2-4810-a5d9-4a066099f805",
   "metadata": {},
   "outputs": [],
   "source": [
    "transition2 = mpy.VideoFileClip(\"assets/free-vhs-overlay-1080-720.mp4\")"
   ]
  },
  {
   "cell_type": "code",
   "execution_count": 576,
   "id": "752b4817-a0ab-403e-8af7-81ed4514373c",
   "metadata": {},
   "outputs": [],
   "source": [
    "transition2.audio = transition.audio\n",
    "transition2 = transition2.set_duration(.7)\n",
    "#transition = transition.resize(1080,720) resizing crashes kernal reesizing \n",
    "#using ffmpeg on cli instead:  https://trac.ffmpeg.org/wiki/Scaling\n",
    "\n",
    "#split bg music into parts: https://unix.stackexchange.com/questions/280767/how-do-i-split-an-audio-file-into-multiple\n",
    "#ffmpeg -i somefile.mp3 -f segment -segment_time 3 -c copy out%03d.mp3\n"
   ]
  },
  {
   "cell_type": "code",
   "execution_count": 577,
   "id": "dddfb80f-b508-4237-8391-ab99188cf938",
   "metadata": {},
   "outputs": [],
   "source": [
    "final_video = mpy.concatenate_videoclips(videos_w_sound_corrected,method=\"compose\",transition=transition2)"
   ]
  },
  {
   "cell_type": "code",
   "execution_count": 578,
   "id": "055d65ba-7dba-4c5c-909a-92321b951233",
   "metadata": {},
   "outputs": [],
   "source": [
    "def get_audio(v_duration):\n",
    "    import random\n",
    "    get_audio = True\n",
    "    sel_file_clips = []\n",
    "    sel_file_names = []\n",
    "    while get_audio:\n",
    "        \n",
    "        audio_files = glob.glob(\"assets/bg_music/*.opus\")\n",
    "        \n",
    "        sel_file = random.choice(audio_files)\n",
    "        \n",
    "        sel_file_clips.append(mpy.AudioFileClip(sel_file))\n",
    "        sel_file_names.append(sel_file)\n",
    "        \n",
    "        all_duration = [ x.duration for x in sel_file_clips]\n",
    "        \n",
    "        total_duration = 0\n",
    "        \n",
    "        for duration in all_duration:\n",
    "            total_duration += duration\n",
    "        \n",
    "        if total_duration >= v_duration:\n",
    "            get_audio = False\n",
    "    \n",
    "    out_audio = mpy.concatenate_audioclips(sel_file_clips).set_duration(v_duration)\n",
    "    return out_audio, sel_file_names \n",
    "        "
   ]
  },
  {
   "cell_type": "code",
   "execution_count": 579,
   "id": "d0741c5f-49db-4d3a-aaf0-c5783261f744",
   "metadata": {},
   "outputs": [],
   "source": [
    "#import moviepy.video.fx as vfx\n",
    "#import moviepy.audio.fx as afx\n",
    "bg_music,bg_music_files = get_audio(final_video.duration)\n",
    "\n",
    "bg_music = bg_music.fx( mpy.afx.audio_normalize).fx( mpy.afx.volumex, 0.3).fx( mpy.afx.audio_fadein, 1.0)\n",
    "tts_audio = final_video.audio"
   ]
  },
  {
   "cell_type": "code",
   "execution_count": 580,
   "id": "0b5b2b00-0515-4e32-8f90-1ba22a498de2",
   "metadata": {},
   "outputs": [],
   "source": [
    "bgm_w_tts_audio = mpy.CompositeAudioClip([bg_music,tts_audio])"
   ]
  },
  {
   "cell_type": "code",
   "execution_count": 581,
   "id": "00938b60-0568-4a14-b6d2-6266781c0fa1",
   "metadata": {},
   "outputs": [],
   "source": [
    "final_video.audio = bgm_w_tts_audio"
   ]
  },
  {
   "cell_type": "code",
   "execution_count": 582,
   "id": "0f8ec0bb-caae-4f6a-90a9-953218af1f60",
   "metadata": {},
   "outputs": [],
   "source": [
    "final_video.write_videofile(f\"assets/final_videos/{submission_title}.mp4\",fps=30,logger=None)"
   ]
  },
  {
   "cell_type": "code",
   "execution_count": 583,
   "id": "4da26926-c688-45e3-bcc0-82fba5f1874f",
   "metadata": {},
   "outputs": [],
   "source": [
    "# Save video credits\n",
    "def check_wildcard(file,credit):\n",
    "    prefix = credit[\"filename\"].split(\".*\")[0]\n",
    "    return prefix in file\n",
    "        \n",
    "def get_audio_credits(audio_files):\n",
    "    import yaml\n",
    "    with open(\"assets/bg_music/asset_credits.yml\",\"r\") as f:\n",
    "        credits = yaml.load(f,yaml.FullLoader)\n",
    "    active_credits = []\n",
    "    for credit in credits[\"assets\"]:\n",
    "        for file in audio_files:\n",
    "            if \".*\" in credit[\"filename\"] and check_wildcard(file,credit):\n",
    "                active_credits.append(credit)\n",
    "            elif credit[\"filename\"] == file:\n",
    "                active_credits.append(credit)\n",
    "    return active_credits"
   ]
  },
  {
   "cell_type": "code",
   "execution_count": 584,
   "id": "5f067927-31e6-4cf6-98a4-e0299c1f9206",
   "metadata": {},
   "outputs": [],
   "source": [
    "credits = get_audio_credits(bg_music_files)\n",
    "all_credit_texts = []\n",
    "for credit in credits:\n",
    "    credit_text = f\"\"\"\n",
    "    - {credit['artist']} - {credit['title']} \n",
    "    - Provided by Lofi Girl\n",
    "    - Watch: {credit['link']}\n",
    "    - Listen: {credit['spotify']}\n",
    "    \"\"\"\n",
    "    all_credit_texts.append(credit_text)\n",
    "audio_credits = \"--------\\n\".join(set(all_credit_texts))\n",
    "#print(audio_credits)"
   ]
  },
  {
   "cell_type": "code",
   "execution_count": 585,
   "id": "06456e26-7c59-4b3d-b4ea-c914513c0649",
   "metadata": {},
   "outputs": [],
   "source": [
    "with open(f\"assets/final_video_credits/{submission_title}.txt\",\"w\") as f:\n",
    "    f.write(audio_credits)"
   ]
  },
  {
   "cell_type": "code",
   "execution_count": 543,
   "id": "b9654e5d-73dc-4dab-b9fd-891981cab3bb",
   "metadata": {},
   "outputs": [],
   "source": [
    "from make_thumbnail import make_thumbnail_img\n",
    "prompt_file = glob.glob(f\"{asset_dir}/../archive_text/{submission_title}/0001*/0000.txt\")[0]\n",
    "\n",
    "with open(prompt_file,\"r\") as f:\n",
    "    prompt_text = f.read()\n",
    "    \n",
    "make_thumbnail_img(prompt_text,f\"assets/final_video_thumbnails/{submission_title}.png\")"
   ]
  },
  {
   "cell_type": "code",
   "execution_count": 587,
   "id": "a5728156-7d49-446e-95ef-395586ce9a55",
   "metadata": {},
   "outputs": [
    {
     "name": "stdout",
     "output_type": "stream",
     "text": [
      "done!...info:\n",
      " prompt_text: What is the stupidest thing a large amount of people believe in?\n",
      " submission_title: what_is_the_stupidest_thing_a_large_amount_of \n",
      " video_file: assets/final_videos/what_is_the_stupidest_thing_a_large_amount_of.mp4 \n",
      " credits_file: assets/final_video_credits/what_is_the_stupidest_thing_a_large_amount_of.txt\n",
      " thumbnail: assets/final_video_thumbnails/what_is_the_stupidest_thing_a_large_amount_of.png \n",
      " post: https://www.reddit.com/r/AskReddit/comments/ynpnd5/serious_what_stole_your_joy_why_do_you_not_have/?sort=confidence\n"
     ]
    }
   ],
   "source": [
    "print(f\"done!...info:\\n prompt_text: {prompt_text}\\n submission_title: {submission_title} \\n video_file: assets/final_videos/{submission_title}.mp4 \\n credits_file: assets/final_video_credits/{submission_title}.txt\\n thumbnail: assets/final_video_thumbnails/{submission_title}.png \\n post: {post_url}\")"
   ]
  },
  {
   "cell_type": "code",
   "execution_count": null,
   "id": "744162c8-1732-4033-a75e-99de23c006dd",
   "metadata": {},
   "outputs": [],
   "source": [
    "post_url"
   ]
  }
 ],
 "metadata": {
  "kernelspec": {
   "display_name": "Python 3 (ipykernel)",
   "language": "python",
   "name": "python3"
  },
  "language_info": {
   "codemirror_mode": {
    "name": "ipython",
    "version": 3
   },
   "file_extension": ".py",
   "mimetype": "text/x-python",
   "name": "python",
   "nbconvert_exporter": "python",
   "pygments_lexer": "ipython3",
   "version": "3.8.10"
  }
 },
 "nbformat": 4,
 "nbformat_minor": 5
}
