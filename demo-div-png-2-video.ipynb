{
 "cells": [
  {
   "cell_type": "code",
   "execution_count": 324,
   "id": "8c1d4ed9-9753-4e04-ad08-4ce390e544bd",
   "metadata": {},
   "outputs": [],
   "source": [
    "from proxy_chrome_browser import get_chromedriver, build_proxy_extension\n",
    "import moviepy.editor as mpy\n",
    "import glob\n",
    "import os\n",
    "from time import sleep\n",
    "from tqdm import tqdm"
   ]
  },
  {
   "cell_type": "code",
   "execution_count": 325,
   "id": "40247161-0fbe-47f0-80fe-fddbc865037a",
   "metadata": {},
   "outputs": [],
   "source": [
    "br = get_chromedriver(headless=True,path='/home/miko/Downloads/chromedriver-v-106-0-5249-61')"
   ]
  },
  {
   "cell_type": "code",
   "execution_count": 326,
   "id": "9ff6673d-20e9-4abb-b05c-2c8e3d840c92",
   "metadata": {},
   "outputs": [],
   "source": [
    "def find_elm(tag,driver=br,_all=False,_by=\"css\"):\n",
    "    from selenium.webdriver.common.by import By\n",
    "    if _by==\"css\":\n",
    "        _by=By.CSS_SELECTOR\n",
    "    elif _by==\"link_text\":\n",
    "        _by=By.PARTIAL_LINK_TEXT\n",
    "    elif _by==\"link_text_exact\":\n",
    "        _by=By.LINK_TEXT\n",
    "        \n",
    "    try:\n",
    "        if _all:\n",
    "            out = driver.find_elements(by=_by,value=tag)\n",
    "        else:\n",
    "            out = driver.find_element(by=_by,value=tag)\n",
    "    except:\n",
    "        #print('None')\n",
    "        out = None\n",
    "    return out"
   ]
  },
  {
   "cell_type": "code",
   "execution_count": 327,
   "id": "01614665-e18d-468d-ae6a-211c09dec794",
   "metadata": {},
   "outputs": [],
   "source": [
    "def save_screenshot(elm,filename,scrollY=None):\n",
    "    assert filename[-3:] == \"png\", \"filename should end with png\"\n",
    "    scroll_into_view(elm,scrollY)\n",
    "    with open(filename,\"wb\") as f:\n",
    "        f.write(elm.screenshot_as_png)"
   ]
  },
  {
   "cell_type": "code",
   "execution_count": 328,
   "id": "7ef434d9-f05d-4c0f-8e7b-d600badbd720",
   "metadata": {},
   "outputs": [],
   "source": [
    "def scroll_into_view(elm,scrollY=None):\n",
    "     #source: -https://stackoverflow.com/questions/25733877/selenium-how-do-you-check-scroll-position\n",
    "     #loc = elm.location\n",
    "     #current_view_script = \"\"\" var doc = document.documentElement;\n",
    "     #var left = (window.pageXOffset || doc.scrollLeft) - (doc.clientLeft || 0);\n",
    "     #var top = (window.pageYOffset || doc.scrollTop)  - (doc.clientTop || 0);\n",
    "        \n",
    "     #taking screenshot will scroll into view. IF this stops working can use javascript above\n",
    "     elm.screenshot_as_png\n",
    "     sleep(.2)\n",
    "     # scroll a bit to add margin (prevent floating login bar from obscuring elm);\n",
    "     if scrollY:\n",
    "         br.execute_script(f\"window.scrollBy(0,{scrollY})\", \"\")\n",
    "         sleep(.5)\n"
   ]
  },
  {
   "cell_type": "code",
   "execution_count": 329,
   "id": "3e52bfde-3a80-4bde-8e0e-001e9af67ee6",
   "metadata": {},
   "outputs": [],
   "source": [
    "#set to dark theme\n",
    "br.get(\"https://www.reddit.com\")"
   ]
  },
  {
   "cell_type": "code",
   "execution_count": 330,
   "id": "597b18c5-8f0a-47e0-97d3-864bb6af7f87",
   "metadata": {},
   "outputs": [],
   "source": [
    "\n",
    "icon = find_elm(\"button[id='USER_DROPDOWN_ID']\")\n",
    "icon.click()\n",
    "sleep(.5)\n",
    "dark_btn = find_elm(\"button[data-redditstyle='true']\")\n",
    "dark_btn.click()\n",
    "sleep(.5)\n",
    "# if for some reason click isnt working. set it manually\n",
    "#input(\"Confirm darkmode has been set (press enter)\")"
   ]
  },
  {
   "cell_type": "code",
   "execution_count": 360,
   "id": "8415ab86-ed6b-4b38-9b7d-7409e2b9ee58",
   "metadata": {},
   "outputs": [],
   "source": [
    "#post_url = \"https://www.reddit.com/r/AskReddit/comments/ypzsqh/men_of_reddit_what_are_some_less_obvious_red/\"\n",
    "#post_url = \"https://www.reddit.com/r/AskReddit/comments/ycb6hp/whats_a_harsh_reality_that_everybody_needs_to_hear/\"\n",
    "#post_url = \"https://www.reddit.com/r/AskReddit/comments/y5bcsl/nonamericans_what_do_you_think_every_american/\"\n",
    "#post_url =\"https://www.reddit.com/r/AskReddit/comments/ydz1j5/what_is_25_years_too_old_for/\"\n",
    "post_url = \"https://www.reddit.com/r/AskReddit/comments/y5wxnn/what_is_the_stupidest_thing_a_large_amount_of/?sort=confidence\""
   ]
  },
  {
   "cell_type": "code",
   "execution_count": 361,
   "id": "04f0e4af-f63b-44f0-b405-4d3c94151fb2",
   "metadata": {},
   "outputs": [],
   "source": [
    "br.get(post_url)"
   ]
  },
  {
   "cell_type": "code",
   "execution_count": 362,
   "id": "fc757993-08c7-41ea-b828-7d37ef0db133",
   "metadata": {},
   "outputs": [],
   "source": [
    "#br.switch_to.active_element.text"
   ]
  },
  {
   "cell_type": "code",
   "execution_count": 363,
   "id": "ab412758-6761-4237-a2a0-8812a577c3c9",
   "metadata": {},
   "outputs": [],
   "source": [
    "sleep(10)"
   ]
  },
  {
   "cell_type": "code",
   "execution_count": 364,
   "id": "e6269d65-cbae-4ed4-81ea-e0e45d85f396",
   "metadata": {},
   "outputs": [
    {
     "name": "stdout",
     "output_type": "stream",
     "text": [
      "getting more replies\n",
      "getting more replies\n",
      "getting more replies\n",
      "getting more replies\n",
      "getting more replies\n",
      "getting more replies\n"
     ]
    }
   ],
   "source": [
    "# expand replies\n",
    "num_replies_threshold = 90\n",
    "get_replies = True\n",
    "num_total_loops = 5\n",
    "current_loop_num = 0\n",
    "clicked_links = []\n",
    "while get_replies:\n",
    "    more_replies_divs = find_elm(\"div[id^='moreComments']\",_all=True)\n",
    "    expandable_divs = []\n",
    "    for div in more_replies_divs:\n",
    "        more_replies_link = find_elm(\"p\",driver=div)\n",
    "        #p = br.execute_script(\"return arguments[0].parentNode;\",more_replies_link)\n",
    "        if not more_replies_link:\n",
    "            continue\n",
    "        if more_replies_link.text == '' or 'loading..' in more_replies_link.text:\n",
    "            continue\n",
    "        num_replies = int(more_replies_link.text.split()[0].replace(\",\",\"\"))\n",
    "        if num_replies >= num_replies_threshold:\n",
    "            if more_replies_link not in clicked_links:\n",
    "                expandable_divs.append(more_replies_link)\n",
    "            else:\n",
    "                continue\n",
    "    for div in expandable_divs:\n",
    "        #link_elm = find_elm(\"div[data-testid^='search-scope-pill-text']\")\n",
    "        try:\n",
    "            scroll_into_view(more_replies_link)\n",
    "            div.click()\n",
    "            sleep(1)\n",
    "        except:\n",
    "            continue  \n",
    "    if len(expandable_divs) == 0:\n",
    "        get_replies = False\n",
    "    if current_loop_num >= num_total_loops:\n",
    "        get_replies = False\n",
    "    else:\n",
    "        current_loop_num += 1\n",
    "    print(\"getting more replies\")\n",
    "    #todo: find a better stopping condition"
   ]
  },
  {
   "cell_type": "code",
   "execution_count": 365,
   "id": "32f0fd58-4a9f-499d-b634-8931f05383b4",
   "metadata": {},
   "outputs": [],
   "source": [
    "# get comments\n",
    "comments = find_elm(\"div[class*='Comment']\",_all=True)"
   ]
  },
  {
   "cell_type": "code",
   "execution_count": 366,
   "id": "23ca09c0-43ed-4dbe-92de-ee5e7081c37e",
   "metadata": {},
   "outputs": [],
   "source": [
    "#prepend original post to comments\n",
    "post = [find_elm(\"div[data-test-id='post-content']\"),]\n",
    "post.extend(comments)\n",
    "comments = post"
   ]
  },
  {
   "cell_type": "code",
   "execution_count": 367,
   "id": "2e20c98a-c57d-4aa2-a266-508b509a4b26",
   "metadata": {},
   "outputs": [
    {
     "data": {
      "text/plain": [
       "394"
      ]
     },
     "execution_count": 367,
     "metadata": {},
     "output_type": "execute_result"
    }
   ],
   "source": [
    "len(comments)"
   ]
  },
  {
   "cell_type": "code",
   "execution_count": 368,
   "id": "b5d26d65-3b5b-4674-be22-b0b9ae3de585",
   "metadata": {},
   "outputs": [],
   "source": [
    "submission_title = post_url.split(\"/\")[-2]\n",
    "#asset_dir=\"assets/demo_png_2_vid\"\n",
    "asset_dir=\"/mnt/n/data/reddit-yt-tts/queued\"\n",
    "completed_dir=\"/mnt/n/data/reddit-yt-tts/completed\"\n",
    "#thread_ids = []"
   ]
  },
  {
   "cell_type": "code",
   "execution_count": 369,
   "id": "dbde7aeb-c77b-492f-9845-188aefe1c01a",
   "metadata": {},
   "outputs": [],
   "source": [
    "def save_comment_text(filename,comment,selector='p'):\n",
    "    comment_text = \" \".join([x.text for x in find_elm(selector,driver=comment,_all=True)])\n",
    "    with open(filename,\"w\") as f:\n",
    "        f.write(comment_text)"
   ]
  },
  {
   "cell_type": "code",
   "execution_count": 370,
   "id": "ab154d47-3f04-40e4-b00e-d314053a3bdb",
   "metadata": {},
   "outputs": [
    {
     "name": "stderr",
     "output_type": "stream",
     "text": [
      "100%|█████████████████████████████████████████| 394/394 [03:48<00:00,  1.72it/s]\n"
     ]
    }
   ],
   "source": [
    "#save threaded comment screenshot as png to directory\n",
    "vote_count_threshold = 450\n",
    "thread_count = 0\n",
    "parent_comment_stack = [dict(comment=comments[0],saved=True)]\n",
    "prev_comment_lvl = 1\n",
    "prev_comment = comments[0]\n",
    "prev_comment_id = -1\n",
    "i = 0\n",
    "for comment in tqdm(comments):\n",
    "    # filter deleted comments\n",
    "    if \"Comment deleted by user\" in comment.text:\n",
    "        continue\n",
    "    \n",
    "    # some comments arnt expanded, skipping\n",
    "    if len(comment.text.split(\"\\n\")) <= 4:\n",
    "           continue\n",
    "           \n",
    "    #filter highly voted comments\n",
    "    vote_div = find_elm(\"div[id^='vote-arrows']\",driver=comment)\n",
    "    if not vote_div or vote_div.text == '':\n",
    "        continue\n",
    "        \n",
    "    multiply_1k = 'k' in vote_div.text\n",
    "    if multiply_1k:\n",
    "        vote_count = float(vote_div.text.replace(\"k\",\"\")) * 1000\n",
    "    else:\n",
    "        vote_count = int(vote_div.text)\n",
    "    \n",
    "    if i == 0:\n",
    "        comment_lvl = 1\n",
    "    else:\n",
    "        comment_lvl = find_elm(\"span\",comment).text\n",
    "        comment_lvl = int(comment_lvl.lower().replace(\"level\",\"\").strip())\n",
    "\n",
    "    #if \"1\" in comment_lvl:\n",
    "    if comment_lvl == 1:\n",
    "        thread_count += 1\n",
    "        user = comment.text.split(\"\\n\")[1]\n",
    "        vote_count_txt = vote_div.text.replace(\".\",\"_\")\n",
    "        thread_id = f\"{thread_count:04}-{user}-{vote_count_txt}\"\n",
    "        \n",
    "        comment_id=0\n",
    "    else:\n",
    "        comment_id+=1\n",
    "        \n",
    "    # Save parent comments even if threshold is not met\n",
    "    if comment_lvl > prev_comment_lvl:\n",
    "        # entering a nested thread, mark new parent...\n",
    "        parent_comment_stack.append(dict(comment=prev_comment,comment_id=prev_comment_id,saved=False))\n",
    "    elif comment_lvl < prev_comment_lvl:\n",
    "        # leaving a nested thread, remove previous parent\n",
    "        parent_comment_stack = parent_comment_stack[:-1]\n",
    "        \n",
    "    \n",
    "    # Check whether comment should be saved\n",
    "    save_comment = False\n",
    "    if vote_count >= vote_count_threshold:\n",
    "        save_comment = True\n",
    "    \n",
    "    #save parent comment\n",
    "    parent_comment = parent_comment_stack[-1]\n",
    "    if save_comment and not parent_comment[\"saved\"]:\n",
    "        #todo refactor to fn\n",
    "        folder = f\"{asset_dir}/{submission_title}/{thread_id}\"\n",
    "        if not os.path.exists(folder):\n",
    "            os.makedirs(folder)\n",
    "        save_screenshot(parent_comment['comment'],f\"{folder}/{parent_comment['comment_id']:04}.png\")\n",
    "        save_comment_text(filename=f\"{folder}/{parent_comment['comment_id']:04}.txt\",comment=parent_comment['comment'])\n",
    "        parent_comment[\"saved\"] = True\n",
    "        \n",
    "    #Save comment\n",
    "    if save_comment:\n",
    "        #thread_ids.append(thread_id)\n",
    "        folder = f\"{asset_dir}/{submission_title}/{thread_id}\"\n",
    "        if not os.path.exists(folder):\n",
    "            os.makedirs(folder)\n",
    "        save_screenshot(comment,f\"{folder}/{comment_id:04}.png\")\n",
    "        if i == 0:\n",
    "            save_screenshot(comment,f\"{folder}/{comment_id:04}.png\",scrollY=-55)\n",
    "            save_comment_text(filename=f\"{folder}/{comment_id:04}.txt\",comment=comment,selector='h1')\n",
    "        else:\n",
    "            save_screenshot(comment,f\"{folder}/{comment_id:04}.png\")\n",
    "            save_comment_text(filename=f\"{folder}/{comment_id:04}.txt\",comment=comment)\n",
    "    \n",
    "    # init vars for next iteration\n",
    "    prev_comment_lvl = comment_lvl\n",
    "    prev_comment = comment\n",
    "    prev_comment_id = comment_id\n",
    "    i+=1"
   ]
  },
  {
   "cell_type": "code",
   "execution_count": 371,
   "id": "da7f0383-8605-4a22-9580-ef061f735e62",
   "metadata": {},
   "outputs": [],
   "source": [
    "#save_screenshot(comments[1],f\"{asset_dir}/test.png\")"
   ]
  },
  {
   "cell_type": "code",
   "execution_count": 372,
   "id": "465f9c2c-2c2f-4673-adcd-726e86123388",
   "metadata": {},
   "outputs": [],
   "source": [
    "thread_ids = [x.split(\"/\")[-1] for x in glob.glob(f\"{asset_dir}/{submission_title}/*\")]"
   ]
  },
  {
   "cell_type": "code",
   "execution_count": 343,
   "id": "a19b34e2-1ea6-41b0-b577-c89a04fed916",
   "metadata": {},
   "outputs": [],
   "source": [
    "def build_thread_vid(thread_id):\n",
    "    images = glob.glob(f\"{asset_dir}/{submission_title}/{thread_id}/*.png\")\n",
    "    images = sorted(images)\n",
    "    audio_file_dir = f\"{completed_dir}/{submission_title}/{thread_id}\"\n",
    "    # https://zulko.github.io/moviepy/examples/examples.html\n",
    "    clips = []\n",
    "    audio_clips = []\n",
    "    total_duration = 0\n",
    "    transition_duration = 0\n",
    "    for i,image in enumerate(images):\n",
    "      \n",
    "        image_file = image.split(\"/\")[-1]\n",
    "        audio_file = image_file.replace(\".png\",\".wav\")\n",
    "        try:\n",
    "            audio_clip = mpy.AudioFileClip(f\"{audio_file_dir}/{audio_file}\").set_start(total_duration)\n",
    "        except OSError as e:\n",
    "            print(f\"audio file {audio_file_dir}/{audio_file} not found\")\n",
    "            continue\n",
    "        audio_clips.append(audio_clip)\n",
    "        audio_duration = audio_clip.duration\n",
    "        \n",
    "        clip = mpy.ImageClip(image).set_duration(audio_duration).set_start(total_duration).set_position((\"center\", \"center\"))\n",
    "        bg_clip = mpy.ImageClip(\"assets/Qv79akqGQt0.png\").set_duration(audio_duration).set_start(total_duration)\n",
    "        \n",
    "        #clip = clip.set_start(5) # TODO: change duration based on audio\n",
    "        #clip = clip.resize((1080,1920)) #TODO add tts audio\n",
    "        clips.append(bg_clip)\n",
    "        clips.append(clip)\n",
    "        \n",
    "        total_duration += audio_duration + transition_duration\n",
    "  \n",
    "    if len(clips) > 0 :\n",
    "        final_audio_clip = mpy.CompositeAudioClip(audio_clips)\n",
    "        final_clip = mpy.CompositeVideoClip(clips)\n",
    "        final_clip.audio = final_audio_clip\n",
    "        final_clip.write_videofile(f\"{asset_dir}/{submission_title}/{thread_id}/thread_clip.mp4\",fps=30,logger=None)\n",
    "    "
   ]
  },
  {
   "cell_type": "code",
   "execution_count": 344,
   "id": "6cbfcf71-aef4-49ca-af2c-25eda6fec34d",
   "metadata": {},
   "outputs": [],
   "source": [
    "thread_ids = sorted(list(set(thread_ids)))"
   ]
  },
  {
   "cell_type": "code",
   "execution_count": 345,
   "id": "f3bc46c8-428c-408a-87c3-845fc1301170",
   "metadata": {},
   "outputs": [
    {
     "data": {
      "text/plain": [
       "'/mnt/n/data/reddit-yt-tts/queued/what_is_25_years_too_old_for/0001-Posted by-38_2k'"
      ]
     },
     "execution_count": 345,
     "metadata": {},
     "output_type": "execute_result"
    }
   ],
   "source": [
    "f\"{asset_dir}/{submission_title}/{thread_ids[0]}\""
   ]
  },
  {
   "cell_type": "code",
   "execution_count": 70,
   "id": "9afd90ed-8102-40e0-aa6a-cbb0318a7e4c",
   "metadata": {},
   "outputs": [
    {
     "name": "stdin",
     "output_type": "stream",
     "text": [
      "Execute TTS at this point (on windows GPU) then run below...(press enter) \n"
     ]
    },
    {
     "data": {
      "text/plain": [
       "''"
      ]
     },
     "execution_count": 70,
     "metadata": {},
     "output_type": "execute_result"
    }
   ],
   "source": [
    "# Execute TTS at this point (on windows GPU) then run below\n",
    "input(\"Execute TTS at this point (on windows GPU) then run below...(press enter)\")"
   ]
  },
  {
   "cell_type": "code",
   "execution_count": 346,
   "id": "b30038f5-49df-4047-bb1e-b6998aa2f718",
   "metadata": {},
   "outputs": [
    {
     "name": "stderr",
     "output_type": "stream",
     "text": [
      "  0%|                                                    | 0/43 [00:00<?, ?it/s]"
     ]
    },
    {
     "name": "stdout",
     "output_type": "stream",
     "text": [
      "0001-Posted by-38_2k\n"
     ]
    },
    {
     "name": "stderr",
     "output_type": "stream",
     "text": [
      "  2%|█                                           | 1/43 [00:02<01:31,  2.19s/it]"
     ]
    },
    {
     "name": "stdout",
     "output_type": "stream",
     "text": [
      "0002-BenZonne-11_5k\n"
     ]
    },
    {
     "name": "stderr",
     "output_type": "stream",
     "text": [
      "  5%|██                                          | 2/43 [00:15<05:53,  8.63s/it]"
     ]
    },
    {
     "name": "stdout",
     "output_type": "stream",
     "text": [
      "0003-omeedohmy-14_4k\n"
     ]
    },
    {
     "name": "stderr",
     "output_type": "stream",
     "text": [
      "  7%|███                                         | 3/43 [00:17<03:49,  5.75s/it]"
     ]
    },
    {
     "name": "stdout",
     "output_type": "stream",
     "text": [
      "0004-dan_jeffers-9_9k\n"
     ]
    },
    {
     "name": "stderr",
     "output_type": "stream",
     "text": [
      "  9%|████                                        | 4/43 [00:23<03:51,  5.93s/it]"
     ]
    },
    {
     "name": "stdout",
     "output_type": "stream",
     "text": [
      "0005-PralineCommercial495-11_6k\n"
     ]
    },
    {
     "name": "stderr",
     "output_type": "stream",
     "text": [
      " 12%|█████                                       | 5/43 [00:41<06:29, 10.25s/it]"
     ]
    },
    {
     "name": "stdout",
     "output_type": "stream",
     "text": [
      "0006-shawnaeatscats-57_2k\n"
     ]
    },
    {
     "name": "stderr",
     "output_type": "stream",
     "text": [
      " 14%|██████▏                                     | 6/43 [00:59<07:49, 12.70s/it]"
     ]
    },
    {
     "name": "stdout",
     "output_type": "stream",
     "text": [
      "0007-Electrical_Soft3468-33_7k\n"
     ]
    },
    {
     "name": "stderr",
     "output_type": "stream",
     "text": [
      " 16%|███████▏                                    | 7/43 [01:48<14:49, 24.71s/it]"
     ]
    },
    {
     "name": "stdout",
     "output_type": "stream",
     "text": [
      "0008-Difficult_Box_2825-25_5k\n"
     ]
    },
    {
     "name": "stderr",
     "output_type": "stream",
     "text": [
      " 19%|████████▏                                   | 8/43 [01:57<11:25, 19.58s/it]"
     ]
    },
    {
     "name": "stdout",
     "output_type": "stream",
     "text": [
      "0009-Infamous-Arm3955-13_3k\n"
     ]
    },
    {
     "name": "stderr",
     "output_type": "stream",
     "text": [
      " 21%|█████████▏                                  | 9/43 [02:07<09:24, 16.62s/it]"
     ]
    },
    {
     "name": "stdout",
     "output_type": "stream",
     "text": [
      "0010-doublestitch-37_0k\n"
     ]
    },
    {
     "name": "stderr",
     "output_type": "stream",
     "text": [
      " 23%|██████████                                 | 10/43 [02:26<09:34, 17.41s/it]"
     ]
    },
    {
     "name": "stdout",
     "output_type": "stream",
     "text": [
      "0012-Merry_Pippins-2_6k\n"
     ]
    },
    {
     "name": "stderr",
     "output_type": "stream",
     "text": [
      " 26%|███████████                                | 11/43 [02:57<11:33, 21.67s/it]"
     ]
    },
    {
     "name": "stdout",
     "output_type": "stream",
     "text": [
      "0013-Different_Weekend817-16_5k\n"
     ]
    },
    {
     "name": "stderr",
     "output_type": "stream",
     "text": [
      " 28%|████████████                               | 12/43 [03:03<08:42, 16.86s/it]"
     ]
    },
    {
     "name": "stdout",
     "output_type": "stream",
     "text": [
      "0014-waltjrimmer-11_3k\n"
     ]
    },
    {
     "name": "stderr",
     "output_type": "stream",
     "text": [
      " 30%|█████████████                              | 13/43 [03:18<08:03, 16.11s/it]"
     ]
    },
    {
     "name": "stdout",
     "output_type": "stream",
     "text": [
      "0015-Professional-Yak4361-30_1k\n"
     ]
    },
    {
     "name": "stderr",
     "output_type": "stream",
     "text": [
      " 33%|██████████████                             | 14/43 [03:30<07:17, 15.09s/it]"
     ]
    },
    {
     "name": "stdout",
     "output_type": "stream",
     "text": [
      "0016-Urwelcomematt-5_2k\n"
     ]
    },
    {
     "name": "stderr",
     "output_type": "stream",
     "text": [
      " 35%|███████████████                            | 15/43 [03:40<06:17, 13.47s/it]"
     ]
    },
    {
     "name": "stdout",
     "output_type": "stream",
     "text": [
      "0017-coffeeaddictwithadhd-8_6k\n"
     ]
    },
    {
     "name": "stderr",
     "output_type": "stream",
     "text": [
      " 37%|████████████████                           | 16/43 [04:07<07:49, 17.39s/it]"
     ]
    },
    {
     "name": "stdout",
     "output_type": "stream",
     "text": [
      "0018-estoka-824\n"
     ]
    },
    {
     "name": "stderr",
     "output_type": "stream",
     "text": [
      " 40%|█████████████████                          | 17/43 [04:17<06:41, 15.45s/it]"
     ]
    },
    {
     "name": "stdout",
     "output_type": "stream",
     "text": [
      "0019-LateNightToast1-880\n"
     ]
    },
    {
     "name": "stderr",
     "output_type": "stream",
     "text": [
      " 42%|██████████████████                         | 18/43 [04:20<04:50, 11.61s/it]"
     ]
    },
    {
     "name": "stdout",
     "output_type": "stream",
     "text": [
      "0020-tidytibs-1_4k\n"
     ]
    },
    {
     "name": "stderr",
     "output_type": "stream",
     "text": [
      " 44%|███████████████████                        | 19/43 [04:27<04:04, 10.17s/it]"
     ]
    },
    {
     "name": "stdout",
     "output_type": "stream",
     "text": [
      "0021-Rikbiel-14_8k\n"
     ]
    },
    {
     "name": "stderr",
     "output_type": "stream",
     "text": [
      " 47%|████████████████████                       | 20/43 [04:48<05:09, 13.46s/it]"
     ]
    },
    {
     "name": "stdout",
     "output_type": "stream",
     "text": [
      "0022-hummerfrost-17_1k\n"
     ]
    },
    {
     "name": "stderr",
     "output_type": "stream",
     "text": [
      " 49%|█████████████████████                      | 21/43 [05:01<04:55, 13.43s/it]"
     ]
    },
    {
     "name": "stdout",
     "output_type": "stream",
     "text": [
      "0023-hiphipjorge2323-6_2k\n"
     ]
    },
    {
     "name": "stderr",
     "output_type": "stream",
     "text": [
      " 51%|██████████████████████                     | 22/43 [05:44<07:48, 22.32s/it]"
     ]
    },
    {
     "name": "stdout",
     "output_type": "stream",
     "text": [
      "0024-somanystuff-502\n"
     ]
    },
    {
     "name": "stderr",
     "output_type": "stream",
     "text": [
      " 53%|██████████████████████▉                    | 23/43 [05:52<05:57, 17.85s/it]"
     ]
    },
    {
     "name": "stdout",
     "output_type": "stream",
     "text": [
      "0025-Inside_Speaker3166-8_3k\n"
     ]
    },
    {
     "name": "stderr",
     "output_type": "stream",
     "text": [
      " 56%|████████████████████████                   | 24/43 [06:21<06:42, 21.21s/it]"
     ]
    },
    {
     "name": "stdout",
     "output_type": "stream",
     "text": [
      "0026-Fit_Peanut9369-21_1k\n"
     ]
    },
    {
     "name": "stderr",
     "output_type": "stream",
     "text": [
      " 58%|█████████████████████████                  | 25/43 [06:46<06:40, 22.25s/it]"
     ]
    },
    {
     "name": "stdout",
     "output_type": "stream",
     "text": [
      "0027-HoTbEeFsUnDaEs-1_4k\n"
     ]
    },
    {
     "name": "stderr",
     "output_type": "stream",
     "text": [
      " 60%|██████████████████████████                 | 26/43 [07:09<06:24, 22.63s/it]"
     ]
    },
    {
     "name": "stdout",
     "output_type": "stream",
     "text": [
      "0028-sixshots_onlyfive-4_1k\n"
     ]
    },
    {
     "name": "stderr",
     "output_type": "stream",
     "text": [
      " 63%|███████████████████████████                | 27/43 [07:25<05:27, 20.48s/it]"
     ]
    },
    {
     "name": "stdout",
     "output_type": "stream",
     "text": [
      "0029-Comfortable_Pin_5485-5_1k\n"
     ]
    },
    {
     "name": "stderr",
     "output_type": "stream",
     "text": [
      " 65%|████████████████████████████               | 28/43 [07:35<04:20, 17.39s/it]"
     ]
    },
    {
     "name": "stdout",
     "output_type": "stream",
     "text": [
      "0030-ShellVillage-77_3k\n"
     ]
    },
    {
     "name": "stderr",
     "output_type": "stream",
     "text": [
      " 67%|█████████████████████████████              | 29/43 [07:58<04:27, 19.14s/it]"
     ]
    },
    {
     "name": "stdout",
     "output_type": "stream",
     "text": [
      "0031-Swimming-Belt2111-603\n"
     ]
    },
    {
     "name": "stderr",
     "output_type": "stream",
     "text": [
      " 70%|██████████████████████████████             | 30/43 [08:01<03:05, 14.27s/it]"
     ]
    },
    {
     "name": "stdout",
     "output_type": "stream",
     "text": [
      "0032-Mediocre_Catch_5707-771\n"
     ]
    },
    {
     "name": "stderr",
     "output_type": "stream",
     "text": [
      " 72%|██████████████████████████████▉            | 31/43 [08:03<02:06, 10.52s/it]"
     ]
    },
    {
     "name": "stdout",
     "output_type": "stream",
     "text": [
      "0033-MadCapHorse-1_2k\n"
     ]
    },
    {
     "name": "stderr",
     "output_type": "stream",
     "text": [
      " 74%|████████████████████████████████           | 32/43 [08:59<04:27, 24.32s/it]"
     ]
    },
    {
     "name": "stdout",
     "output_type": "stream",
     "text": [
      "0035-ExquisiteURL-2_4k\n"
     ]
    },
    {
     "name": "stderr",
     "output_type": "stream",
     "text": [
      " 77%|█████████████████████████████████          | 33/43 [09:05<03:07, 18.78s/it]"
     ]
    },
    {
     "name": "stdout",
     "output_type": "stream",
     "text": [
      "0037-Brokefuker-674\n"
     ]
    },
    {
     "name": "stderr",
     "output_type": "stream",
     "text": [
      " 79%|██████████████████████████████████         | 34/43 [09:17<02:29, 16.59s/it]"
     ]
    },
    {
     "name": "stdout",
     "output_type": "stream",
     "text": [
      "0040-NoUniqueNamesRemain9-1_0k\n"
     ]
    },
    {
     "name": "stderr",
     "output_type": "stream",
     "text": [
      " 84%|████████████████████████████████████       | 36/43 [09:20<01:01,  8.77s/it]"
     ]
    },
    {
     "name": "stdout",
     "output_type": "stream",
     "text": [
      "0042-Grosse_Fartiste-773\n",
      "audio file /mnt/n/data/reddit-yt-tts/completed/what_is_25_years_too_old_for/0042-Grosse_Fartiste-773/0000.wav not found\n",
      "0045-MistaLuvcraft-911\n"
     ]
    },
    {
     "name": "stderr",
     "output_type": "stream",
     "text": [
      " 86%|█████████████████████████████████████      | 37/43 [09:20<00:37,  6.17s/it]"
     ]
    },
    {
     "name": "stdout",
     "output_type": "stream",
     "text": [
      "audio file /mnt/n/data/reddit-yt-tts/completed/what_is_25_years_too_old_for/0045-MistaLuvcraft-911/0000.wav not found\n",
      "0046-Impetus_2708-579\n",
      "audio file /mnt/n/data/reddit-yt-tts/completed/what_is_25_years_too_old_for/0046-Impetus_2708-579/0000.wav not found\n"
     ]
    },
    {
     "name": "stderr",
     "output_type": "stream",
     "text": [
      " 91%|███████████████████████████████████████    | 39/43 [09:20<00:12,  3.10s/it]"
     ]
    },
    {
     "name": "stdout",
     "output_type": "stream",
     "text": [
      "audio file /mnt/n/data/reddit-yt-tts/completed/what_is_25_years_too_old_for/0046-Impetus_2708-579/0001.wav not found\n",
      "0049-fanaticalfirebrand-1_9k\n",
      "audio file /mnt/n/data/reddit-yt-tts/completed/what_is_25_years_too_old_for/0049-fanaticalfirebrand-1_9k/0000.wav not found\n",
      "0052-Complex-Whereas-5787-1_4k\n"
     ]
    },
    {
     "name": "stderr",
     "output_type": "stream",
     "text": [
      " 95%|█████████████████████████████████████████  | 41/43 [09:20<00:03,  1.58s/it]"
     ]
    },
    {
     "name": "stdout",
     "output_type": "stream",
     "text": [
      "audio file /mnt/n/data/reddit-yt-tts/completed/what_is_25_years_too_old_for/0052-Complex-Whereas-5787-1_4k/0000.wav not found\n",
      "0053-vulpesvulpex-683\n",
      "audio file /mnt/n/data/reddit-yt-tts/completed/what_is_25_years_too_old_for/0053-vulpesvulpex-683/0000.wav not found\n",
      "0059-HocusSnood-1_0k\n"
     ]
    },
    {
     "name": "stderr",
     "output_type": "stream",
     "text": [
      " 98%|██████████████████████████████████████████ | 42/43 [09:20<00:01,  1.17s/it]"
     ]
    },
    {
     "name": "stdout",
     "output_type": "stream",
     "text": [
      "audio file /mnt/n/data/reddit-yt-tts/completed/what_is_25_years_too_old_for/0059-HocusSnood-1_0k/0000.wav not found\n",
      "audio file /mnt/n/data/reddit-yt-tts/completed/what_is_25_years_too_old_for/0059-HocusSnood-1_0k/0001.wav not found\n",
      "0069-EJ6EM1-464\n"
     ]
    },
    {
     "name": "stderr",
     "output_type": "stream",
     "text": [
      "100%|███████████████████████████████████████████| 43/43 [09:21<00:00, 13.05s/it]"
     ]
    },
    {
     "name": "stdout",
     "output_type": "stream",
     "text": [
      "audio file /mnt/n/data/reddit-yt-tts/completed/what_is_25_years_too_old_for/0069-EJ6EM1-464/0000.wav not found\n"
     ]
    },
    {
     "name": "stderr",
     "output_type": "stream",
     "text": [
      "\n"
     ]
    }
   ],
   "source": [
    "# save threads to clips\n",
    "# vote_div.text\n",
    "thread_ids = sorted(list(set(thread_ids)))\n",
    "for thread in tqdm(thread_ids):\n",
    "    print(thread)\n",
    "    build_thread_vid(thread)"
   ]
  },
  {
   "cell_type": "code",
   "execution_count": 347,
   "id": "c1ee8a27-3263-43a2-a80a-0b4c16a3c575",
   "metadata": {},
   "outputs": [],
   "source": [
    "# save c to "
   ]
  },
  {
   "cell_type": "code",
   "execution_count": 348,
   "id": "d858f26b-c13c-4a83-bd6a-a62ea9fc59bf",
   "metadata": {},
   "outputs": [],
   "source": [
    "videos = glob.glob(f\"{asset_dir}/{submission_title}/*/*.mp4\")\n",
    "videos = sorted(list(set(videos)))"
   ]
  },
  {
   "cell_type": "code",
   "execution_count": 349,
   "id": "63805f33-1f66-4426-8b76-131b7a9ddb1f",
   "metadata": {},
   "outputs": [],
   "source": [
    "all_video_clips = [mpy.VideoFileClip(video) for video in videos]"
   ]
  },
  {
   "cell_type": "code",
   "execution_count": 350,
   "id": "cb8e0145-185a-4cb2-809e-79bb72374e1b",
   "metadata": {},
   "outputs": [],
   "source": [
    "videos_w_sound_corrected = []\n",
    "for clip in all_video_clips:\n",
    "    clip.audio = clip.audio.fx(mpy.afx.audio_normalize)\n",
    "    videos_w_sound_corrected.append(clip)"
   ]
  },
  {
   "cell_type": "code",
   "execution_count": 351,
   "id": "725432e1-bd29-4bc7-912f-e8501847c466",
   "metadata": {},
   "outputs": [],
   "source": [
    "transition = mpy.VideoFileClip(\"assets/tvstatic-180-720.mp4\")"
   ]
  },
  {
   "cell_type": "code",
   "execution_count": 352,
   "id": "7c85e8e2-48a2-4810-a5d9-4a066099f805",
   "metadata": {},
   "outputs": [],
   "source": [
    "transition2 = mpy.VideoFileClip(\"assets/free-vhs-overlay-1080-720.mp4\")"
   ]
  },
  {
   "cell_type": "code",
   "execution_count": 353,
   "id": "752b4817-a0ab-403e-8af7-81ed4514373c",
   "metadata": {},
   "outputs": [],
   "source": [
    "transition2.audio = transition.audio\n",
    "transition2 = transition2.set_duration(.7)\n",
    "#transition = transition.resize(1080,720) resizing crashes kernal reesizing \n",
    "#using ffmpeg on cli instead:  https://trac.ffmpeg.org/wiki/Scaling\n",
    "\n",
    "#split bg music into parts: https://unix.stackexchange.com/questions/280767/how-do-i-split-an-audio-file-into-multiple\n",
    "#ffmpeg -i somefile.mp3 -f segment -segment_time 3 -c copy out%03d.mp3\n"
   ]
  },
  {
   "cell_type": "code",
   "execution_count": 354,
   "id": "dddfb80f-b508-4237-8391-ab99188cf938",
   "metadata": {},
   "outputs": [],
   "source": [
    "final_video = mpy.concatenate_videoclips(videos_w_sound_corrected,method=\"compose\",transition=transition2)"
   ]
  },
  {
   "cell_type": "code",
   "execution_count": 373,
   "id": "0e1fe7bf-b1d1-4568-ab21-75a0963fe32a",
   "metadata": {},
   "outputs": [
    {
     "data": {
      "text/plain": [
       "['assets/bg_music/best-of-lofi-2021-005.opus',\n",
       " 'assets/bg_music/best-of-lofi-2021-003.opus',\n",
       " 'assets/bg_music/best-of-lofi-2021-013.opus',\n",
       " 'assets/bg_music/best-of-lofi-2021-008.opus',\n",
       " 'assets/bg_music/best-of-lofi-2021-000.opus',\n",
       " 'assets/bg_music/best-of-lofi-2021-007.opus',\n",
       " 'assets/bg_music/best-of-lofi-2021-002.opus',\n",
       " 'assets/bg_music/Sátyr x Phlocalyst - Aiode 🌘 [lofi hip hop_relaxing beats]-n5nscOfa18w.opus',\n",
       " 'assets/bg_music/best-of-lofi-2021-001.opus',\n",
       " 'assets/bg_music/best-of-lofi-2021-011.opus',\n",
       " 'assets/bg_music/best-of-lofi-2021-006.opus',\n",
       " 'assets/bg_music/best-of-lofi-2021-010.opus',\n",
       " 'assets/bg_music/best-of-lofi-2021-012.opus',\n",
       " 'assets/bg_music/Best of lofi hip hop 2021 ✨ - beats to relax_study to-n61ULEU7CO0.opus',\n",
       " 'assets/bg_music/best-of-lofi-2021-004.opus',\n",
       " 'assets/bg_music/best-of-lofi-2021-009.opus']"
      ]
     },
     "execution_count": 373,
     "metadata": {},
     "output_type": "execute_result"
    }
   ],
   "source": [
    "glob.glob(\"assets/bg_music/*.opus\")"
   ]
  },
  {
   "cell_type": "code",
   "execution_count": 375,
   "id": "055d65ba-7dba-4c5c-909a-92321b951233",
   "metadata": {},
   "outputs": [],
   "source": [
    "\n",
    "\n",
    "def get_audio(v_duration):\n",
    "    import random\n",
    "    get_audio = True\n",
    "    sel_file_clips = []\n",
    "    sel_file_names = []\n",
    "    while get_audio:\n",
    "        \n",
    "        audio_files = glob.glob(\"assets/bg_music/*.opus\")\n",
    "        \n",
    "        sel_file = random.choice(audio_files)\n",
    "        \n",
    "        sel_file_clips.append(mpy.AudioFileClip(sel_file))\n",
    "        sel_file_names.append(sel_file)\n",
    "        \n",
    "        all_duration = [ x.duration for x in sel_file_clips]\n",
    "        \n",
    "        total_duration = 0\n",
    "        \n",
    "        for duration in all_duration:\n",
    "            total_duration += duration\n",
    "        \n",
    "        if total_duration >= v_duration:\n",
    "            get_audio = False\n",
    "    \n",
    "    out_audio = mpy.concatenate_audioclips(sel_file_clips).set_duration(v_duration)\n",
    "    return out_audio, sel_file_names \n",
    "        "
   ]
  },
  {
   "cell_type": "code",
   "execution_count": 376,
   "id": "d0741c5f-49db-4d3a-aaf0-c5783261f744",
   "metadata": {},
   "outputs": [],
   "source": [
    "#import moviepy.video.fx as vfx\n",
    "#import moviepy.audio.fx as afx\n",
    "bg_music,bg_music_files = get_audio(final_video.duration)\n",
    "\n",
    "bg_music = bg_music.fx( mpy.afx.audio_normalize).fx( mpy.afx.volumex, 0.3).fx( mpy.afx.audio_fadein, 1.0)\n",
    "tts_audio = final_video.audio"
   ]
  },
  {
   "cell_type": "code",
   "execution_count": 377,
   "id": "0b5b2b00-0515-4e32-8f90-1ba22a498de2",
   "metadata": {},
   "outputs": [],
   "source": [
    "bgm_w_tts_audio = mpy.CompositeAudioClip([bg_music,tts_audio])"
   ]
  },
  {
   "cell_type": "code",
   "execution_count": 378,
   "id": "00938b60-0568-4a14-b6d2-6266781c0fa1",
   "metadata": {},
   "outputs": [],
   "source": [
    "final_video.audio = bgm_w_tts_audio"
   ]
  },
  {
   "cell_type": "code",
   "execution_count": 358,
   "id": "0f8ec0bb-caae-4f6a-90a9-953218af1f60",
   "metadata": {},
   "outputs": [],
   "source": [
    "final_video.write_videofile(f\"assets/final_videos/{submission_title}.mp4\",fps=30,logger=None)"
   ]
  },
  {
   "cell_type": "code",
   "execution_count": 406,
   "id": "4da26926-c688-45e3-bcc0-82fba5f1874f",
   "metadata": {},
   "outputs": [],
   "source": [
    "# Save video credits\n",
    "def check_wildcard(file,credit):\n",
    "    prefix = credit[\"filename\"].split(\".*\")[0]\n",
    "    return prefix in file\n",
    "        \n",
    "def get_audio_credits(audio_files):\n",
    "    import yaml\n",
    "    with open(\"assets/bg_music/asset_credits.yml\",\"r\") as f:\n",
    "        credits = yaml.load(f,yaml.FullLoader)\n",
    "    active_credits = []\n",
    "    for credit in credits[\"assets\"]:\n",
    "        for file in audio_files:\n",
    "            if \".*\" in credit[\"filename\"] and check_wildcard(file,credit):\n",
    "                active_credits.append(credit)\n",
    "            elif credit[\"filename\"] == file:\n",
    "                active_credits.append(credit)\n",
    "    return active_credits"
   ]
  },
  {
   "cell_type": "code",
   "execution_count": 408,
   "id": "5f067927-31e6-4cf6-98a4-e0299c1f9206",
   "metadata": {},
   "outputs": [],
   "source": [
    "credits = get_audio_credits(bg_music_files)\n",
    "all_credit_texts = []\n",
    "for credit in credits:\n",
    "    credit_text = f\"\"\"\n",
    "    - {credit['artist']} - {credit['title']} \n",
    "    - Provided by Lofi Girl\n",
    "    - Watch: {credit['link']}\n",
    "    - Listen: {credit['spotify']}\n",
    "    \"\"\"\n",
    "    all_credit_texts.append(credit_text)\n",
    "audio_credits = \"--------\\n\".join(set(all_credit_texts))\n",
    "#print(audio_credits)"
   ]
  },
  {
   "cell_type": "code",
   "execution_count": 410,
   "id": "06456e26-7c59-4b3d-b4ea-c914513c0649",
   "metadata": {},
   "outputs": [],
   "source": [
    "with open(f\"assets/final_video_credits/{submission_title}.txt\",\"w\") as f:\n",
    "    f.write(audio_credits)"
   ]
  },
  {
   "cell_type": "code",
   "execution_count": 411,
   "id": "a5728156-7d49-446e-95ef-395586ce9a55",
   "metadata": {},
   "outputs": [
    {
     "data": {
      "text/plain": [
       "2"
      ]
     },
     "execution_count": 411,
     "metadata": {},
     "output_type": "execute_result"
    }
   ],
   "source": [
    "1+1"
   ]
  },
  {
   "cell_type": "code",
   "execution_count": 383,
   "id": "72e84a6c-9521-4cb9-93a3-ea77b06c856a",
   "metadata": {},
   "outputs": [
    {
     "name": "stdout",
     "output_type": "stream",
     "text": [
      "\u001b[32m\u001b[1mInstalling pyyaml...\u001b[0m\n",
      "\u001b[K\u001b[1mAdding\u001b[0m \u001b[32m\u001b[1mpyyaml\u001b[0m \u001b[1mto Pipfile's\u001b[0m \u001b[33m\u001b[1m[packages]\u001b[0m\u001b[1m...\u001b[0m\n",
      "\u001b[K\u001b[?25h✔ Installation Succeeded\u001b[0m \n",
      "\u001b[33m\u001b[1mPipfile.lock (84cd22) out of date, updating to (20dd62)...\u001b[0m\n",
      "Locking\u001b[0m \u001b[33m[dev-packages]\u001b[0m dependencies...\u001b[0m\n",
      "Locking\u001b[0m \u001b[33m[packages]\u001b[0m dependencies...\u001b[0m\n",
      "\u001b[KBuilding requirements...\n",
      "\u001b[KResolving dependencies...\n",
      "\u001b[K\u001b[?25h\u001b[32m\u001b[22m✔ Success!\u001b[39m\u001b[22m\u001b[0m \n",
      "\u001b[1mUpdated Pipfile.lock (20dd62)!\u001b[0m\n",
      "\u001b[1mInstalling dependencies from Pipfile.lock (20dd62)...\u001b[0m\n",
      "  🐍   \u001b[1m▉\u001b[0m\u001b[1m▉\u001b[0m\u001b[1m▉\u001b[0m\u001b[1m▉\u001b[0m\u001b[1m▉\u001b[0m\u001b[1m▉\u001b[0m\u001b[1m▉\u001b[0m\u001b[1m▉\u001b[0m\u001b[1m▉\u001b[0m\u001b[1m▉\u001b[0m\u001b[1m▉\u001b[0m\u001b[1m▉\u001b[0m\u001b[1m▉\u001b[0m\u001b[1m▉\u001b[0m\u001b[1m▉\u001b[0m\u001b[1m▉\u001b[0m\u001b[1m▉\u001b[0m\u001b[1m▉\u001b[0m\u001b[1m▉\u001b[0m\u001b[1m▉\u001b[0m\u001b[1m▉\u001b[0m\u001b[1m▉\u001b[0m\u001b[1m▉\u001b[0m\u001b[1m▉\u001b[0m\u001b[1m▉\u001b[0m\u001b[1m▉\u001b[0m\u001b[1m▉\u001b[0m\u001b[1m▉\u001b[0m\u001b[1m▉\u001b[0m\u001b[1m▉\u001b[0m\u001b[1m▉\u001b[0m\u001b[1m▉\u001b[0m 5/5 — \u001b[30m00:00:03\u001b[0m8;5;1m▉\u001b[0m 4/5 — \u001b[30m00:00:00\u001b[0mm▉\u001b[0m 3/5 — \u001b[30m00:00:00\u001b[0m8;5;1m▉\u001b[0m 2/5 — \u001b[30m00:00:00\u001b[0mm▉\u001b[0m 1/5 — \u001b[30m00:00:00\u001b[0mm▉\u001b[0m 0/5 — \u001b[30m00:00:00\u001b[0m\n",
      "\u001b[0m"
     ]
    }
   ],
   "source": [
    "!pipenv install pyyaml"
   ]
  },
  {
   "cell_type": "code",
   "execution_count": 87,
   "id": "ff331c15-9a42-4318-956e-1240976b74f5",
   "metadata": {},
   "outputs": [
    {
     "name": "stdout",
     "output_type": "stream",
     "text": [
      " bg-img.jpg\n",
      " bg-img.png\n",
      " bg-test.mp3\n",
      " demo_png_2_vid\n",
      " demos\n",
      " demo_trts\n",
      "'Free Glitch Transition Overlay Pack №2 HD 4K-7HP3IWdCc3s.mkv'\n",
      "'Free VHS overlay effect-KQwJ5AM8zns.f137.mp4.part'\n",
      " pngtree-soft-small-bokeh-transparency-background-png-image_2326962.jpg\n",
      " reddit_whats_your_most_im_with_the_boomers_on.mp4\n",
      " test_final_vid-fast.mp4\n",
      " test_final_vid.mp4\n",
      "'TV static glitch effect                                                                (for editing)-cYgODiuD5co.mp4'\n",
      "'WYS – Snowman-0WmRB9Iz-30.opus'\n"
     ]
    }
   ],
   "source": [
    "#create transition clips\n",
    "!ls assets/"
   ]
  },
  {
   "cell_type": "code",
   "execution_count": null,
   "id": "a3b753d5-bbdb-4907-a466-e8d5faa41255",
   "metadata": {},
   "outputs": [],
   "source": []
  }
 ],
 "metadata": {
  "kernelspec": {
   "display_name": "Python 3 (ipykernel)",
   "language": "python",
   "name": "python3"
  },
  "language_info": {
   "codemirror_mode": {
    "name": "ipython",
    "version": 3
   },
   "file_extension": ".py",
   "mimetype": "text/x-python",
   "name": "python",
   "nbconvert_exporter": "python",
   "pygments_lexer": "ipython3",
   "version": "3.8.10"
  }
 },
 "nbformat": 4,
 "nbformat_minor": 5
}
