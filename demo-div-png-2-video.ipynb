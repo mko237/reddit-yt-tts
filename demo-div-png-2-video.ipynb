{
 "cells": [
  {
   "cell_type": "code",
   "execution_count": 1,
   "id": "8c1d4ed9-9753-4e04-ad08-4ce390e544bd",
   "metadata": {},
   "outputs": [],
   "source": [
    "from proxy_chrome_browser import get_chromedriver, build_proxy_extension\n",
    "import moviepy.editor as mpy\n",
    "import glob\n",
    "import os\n",
    "from time import sleep\n",
    "from tqdm import tqdm"
   ]
  },
  {
   "cell_type": "code",
   "execution_count": 2,
   "id": "40247161-0fbe-47f0-80fe-fddbc865037a",
   "metadata": {},
   "outputs": [],
   "source": [
    "br = get_chromedriver(headless=True,path='/home/miko/Downloads/chromedriver-v-106-0-5249-61')"
   ]
  },
  {
   "cell_type": "code",
   "execution_count": 3,
   "id": "9ff6673d-20e9-4abb-b05c-2c8e3d840c92",
   "metadata": {},
   "outputs": [],
   "source": [
    "def find_elm(tag,driver=br,_all=False,_by=\"css\"):\n",
    "    from selenium.webdriver.common.by import By\n",
    "    if _by==\"css\":\n",
    "        _by=By.CSS_SELECTOR\n",
    "    elif _by==\"link_text\":\n",
    "        _by=By.PARTIAL_LINK_TEXT\n",
    "    elif _by==\"link_text_exact\":\n",
    "        _by=By.LINK_TEXT\n",
    "        \n",
    "    try:\n",
    "        if _all:\n",
    "            out = driver.find_elements(by=_by,value=tag)\n",
    "        else:\n",
    "            out = driver.find_element(by=_by,value=tag)\n",
    "    except:\n",
    "        #print('None')\n",
    "        out = None\n",
    "    return out"
   ]
  },
  {
   "cell_type": "code",
   "execution_count": 4,
   "id": "01614665-e18d-468d-ae6a-211c09dec794",
   "metadata": {},
   "outputs": [],
   "source": [
    "def save_screenshot(elm,filename):\n",
    "    assert filename[-3:] == \"png\", \"filename should end with png\"\n",
    "    with open(filename,\"wb\") as f:\n",
    "        f.write(elm.screenshot_as_png)"
   ]
  },
  {
   "cell_type": "code",
   "execution_count": 5,
   "id": "7ef434d9-f05d-4c0f-8e7b-d600badbd720",
   "metadata": {},
   "outputs": [],
   "source": [
    "def scroll_into_view(elm):\n",
    "     #source: -https://stackoverflow.com/questions/25733877/selenium-how-do-you-check-scroll-position\n",
    "     #loc = elm.location\n",
    "     #current_view_script = \"\"\" var doc = document.documentElement;\n",
    "     #var left = (window.pageXOffset || doc.scrollLeft) - (doc.clientLeft || 0);\n",
    "     #var top = (window.pageYOffset || doc.scrollTop)  - (doc.clientTop || 0);\n",
    "     #taking screenshot will scroll into view. IF this stops working can use javascript above\n",
    "     elm.screenshot_as_png\n",
    "     sleep(.5)\n"
   ]
  },
  {
   "cell_type": "code",
   "execution_count": 6,
   "id": "3e52bfde-3a80-4bde-8e0e-001e9af67ee6",
   "metadata": {},
   "outputs": [],
   "source": [
    "#set to dark theme\n",
    "br.get(\"https://www.reddit.com\")"
   ]
  },
  {
   "cell_type": "code",
   "execution_count": 7,
   "id": "597b18c5-8f0a-47e0-97d3-864bb6af7f87",
   "metadata": {},
   "outputs": [],
   "source": [
    "\n",
    "icon = find_elm(\"button[id='USER_DROPDOWN_ID']\")\n",
    "icon.click()\n",
    "sleep(.5)\n",
    "dark_btn = find_elm(\"button[data-redditstyle='true']\")\n",
    "dark_btn.click()\n",
    "sleep(.5)\n",
    "# if for some reason click isnt working. set it manually\n",
    "#input(\"Confirm darkmode has been set (press enter)\")"
   ]
  },
  {
   "cell_type": "code",
   "execution_count": 8,
   "id": "8415ab86-ed6b-4b38-9b7d-7409e2b9ee58",
   "metadata": {},
   "outputs": [],
   "source": [
    "post_url = \"https://www.reddit.com/r/AskReddit/comments/ym1lxv/reddit_whats_your_most_im_with_the_boomers_on/\""
   ]
  },
  {
   "cell_type": "code",
   "execution_count": 9,
   "id": "04f0e4af-f63b-44f0-b405-4d3c94151fb2",
   "metadata": {},
   "outputs": [],
   "source": [
    "br.get(post_url)"
   ]
  },
  {
   "cell_type": "code",
   "execution_count": 10,
   "id": "fc757993-08c7-41ea-b828-7d37ef0db133",
   "metadata": {},
   "outputs": [],
   "source": [
    "#br.switch_to.active_element.text"
   ]
  },
  {
   "cell_type": "code",
   "execution_count": 12,
   "id": "e6269d65-cbae-4ed4-81ea-e0e45d85f396",
   "metadata": {},
   "outputs": [
    {
     "name": "stdout",
     "output_type": "stream",
     "text": [
      "getting more replies\n",
      "getting more replies\n",
      "getting more replies\n",
      "getting more replies\n",
      "getting more replies\n",
      "getting more replies\n"
     ]
    }
   ],
   "source": [
    "# expand replies\n",
    "num_replies_threshold = 90\n",
    "get_replies = True\n",
    "num_total_loops = 5\n",
    "current_loop_num = 0\n",
    "clicked_links = []\n",
    "while get_replies:\n",
    "    more_replies_divs = find_elm(\"div[id^='moreComments']\",_all=True)\n",
    "    expandable_divs = []\n",
    "    for div in more_replies_divs:\n",
    "        more_replies_link = find_elm(\"p\",driver=div)\n",
    "        #p = br.execute_script(\"return arguments[0].parentNode;\",more_replies_link)\n",
    "        if not more_replies_link:\n",
    "            continue\n",
    "        if more_replies_link.text == '' or 'loading..' in more_replies_link.text:\n",
    "            continue\n",
    "        num_replies = int(more_replies_link.text.split()[0].replace(\",\",\"\"))\n",
    "        if num_replies >= num_replies_threshold:\n",
    "            if more_replies_link not in clicked_links:\n",
    "                expandable_divs.append(more_replies_link)\n",
    "            else:\n",
    "                continue\n",
    "    for div in expandable_divs:\n",
    "        #link_elm = find_elm(\"div[data-testid^='search-scope-pill-text']\")\n",
    "        try:\n",
    "            scroll_into_view(more_replies_link)\n",
    "            div.click()\n",
    "            sleep(1)\n",
    "        except:\n",
    "            continue  \n",
    "    if len(expandable_divs) == 0:\n",
    "        get_replies = False\n",
    "    if current_loop_num >= num_total_loops:\n",
    "        get_replies = False\n",
    "    else:\n",
    "        current_loop_num += 1\n",
    "    print(\"getting more replies\")\n",
    "    #todo: find a better stopping condition"
   ]
  },
  {
   "cell_type": "code",
   "execution_count": 13,
   "id": "32f0fd58-4a9f-499d-b634-8931f05383b4",
   "metadata": {},
   "outputs": [],
   "source": [
    "# get comments\n",
    "comments = find_elm(\"div[class*='Comment']\",_all=True)"
   ]
  },
  {
   "cell_type": "code",
   "execution_count": 14,
   "id": "2e20c98a-c57d-4aa2-a266-508b509a4b26",
   "metadata": {},
   "outputs": [
    {
     "data": {
      "text/plain": [
       "590"
      ]
     },
     "execution_count": 14,
     "metadata": {},
     "output_type": "execute_result"
    }
   ],
   "source": [
    "len(comments)"
   ]
  },
  {
   "cell_type": "code",
   "execution_count": 15,
   "id": "b5d26d65-3b5b-4674-be22-b0b9ae3de585",
   "metadata": {},
   "outputs": [],
   "source": [
    "submission_title = br.current_url.split(\"/\")[-2]\n",
    "#asset_dir=\"assets/demo_png_2_vid\"\n",
    "asset_dir=\"/mnt/n/data/reddit-yt-tts/queued\"\n",
    "completed_dir=\"/mnt/n/data/reddit-yt-tts/completed\"\n",
    "#thread_ids = []"
   ]
  },
  {
   "cell_type": "code",
   "execution_count": 16,
   "id": "dbde7aeb-c77b-492f-9845-188aefe1c01a",
   "metadata": {},
   "outputs": [],
   "source": [
    "def save_comment_text(filename,comment):\n",
    "    comment_text = \" \".join([x.text for x in find_elm(\"p\",driver=comment,_all=True)])\n",
    "    \n",
    "    with open(filename,\"w\") as f:\n",
    "        f.write(comment_text)"
   ]
  },
  {
   "cell_type": "code",
   "execution_count": 17,
   "id": "ab154d47-3f04-40e4-b00e-d314053a3bdb",
   "metadata": {},
   "outputs": [
    {
     "name": "stderr",
     "output_type": "stream",
     "text": [
      "100%|████████████████████████████████████████████████████████████████████████████████████████████████████████████████████████████████████████████████| 590/590 [03:48<00:00,  2.59it/s]\n"
     ]
    }
   ],
   "source": [
    "#save threaded comment screenshot as png to directory\n",
    "vote_count_threshold = 100\n",
    "thread_count = 0\n",
    "for comment in tqdm(comments):\n",
    "    # filter deleted comments\n",
    "    if \"Comment deleted by user\" in comment.text:\n",
    "        continue\n",
    "    \n",
    "    # some comments arnt expanded, skipping\n",
    "    if len(comment.text.split(\"\\n\")) <= 4:\n",
    "           continue\n",
    "           \n",
    "    #filter highly voted comments\n",
    "    vote_div = find_elm(\"div[id^='vote-arrows']\",driver=comment)\n",
    "    multiply_1k = 'k' in vote_div.text\n",
    "    if multiply_1k:\n",
    "        vote_count = float(vote_div.text.replace(\"k\",\"\")) * 1000\n",
    "    else:\n",
    "        vote_count = int(vote_div.text)\n",
    "    \n",
    "    comment_lvl = find_elm(\"span\",comment).text\n",
    "    \n",
    "    if \"1\" in comment_lvl:\n",
    "        thread_count += 1\n",
    "        user = comment.text.split(\"\\n\")[1]\n",
    "        vote_count_txt = vote_div.text.replace(\".\",\"_\")\n",
    "        thread_id = f\"{thread_count:04}-{user}-{vote_count_txt}\"\n",
    "        \n",
    "        comment_id=0\n",
    "    else:\n",
    "        comment_id+=1\n",
    "    \n",
    "    save_comment = False\n",
    "    if vote_count >= vote_count_threshold:\n",
    "        save_comment = True\n",
    "    \n",
    "    if save_comment:\n",
    "        #thread_ids.append(thread_id)\n",
    "        folder = f\"{asset_dir}/{submission_title}/{thread_id}\"\n",
    "        if not os.path.exists(folder):\n",
    "            os.makedirs(folder)\n",
    "        save_screenshot(comment,f\"{folder}/{comment_id:04}.png\")\n",
    "        save_comment_text(filename=f\"{folder}/{comment_id:04}.txt\",comment=comment)"
   ]
  },
  {
   "cell_type": "code",
   "execution_count": 18,
   "id": "465f9c2c-2c2f-4673-adcd-726e86123388",
   "metadata": {},
   "outputs": [],
   "source": [
    "thread_ids = [x.split(\"/\")[-1] for x in glob.glob(f\"{asset_dir}/{submission_title}/*\")]"
   ]
  },
  {
   "cell_type": "code",
   "execution_count": 19,
   "id": "a19b34e2-1ea6-41b0-b577-c89a04fed916",
   "metadata": {},
   "outputs": [],
   "source": [
    "def build_thread_vid(thread_id):\n",
    "    images = glob.glob(f\"{asset_dir}/{submission_title}/{thread_id}/*.png\")\n",
    "    audio_file_dir = f\"{completed_dir}/{submission_title}/{thread_id}\"\n",
    "    # https://zulko.github.io/moviepy/examples/examples.html\n",
    "    clips = []\n",
    "    audio_clips = []\n",
    "    total_duration = 0\n",
    "    transition_duration = 0\n",
    "    for i,image in enumerate(images):\n",
    "        image_file = image.split(\"/\")[-1]\n",
    "        audio_file = image_file.replace(\".png\",\".wav\")\n",
    "        try:\n",
    "            audio_clip = mpy.AudioFileClip(f\"{audio_file_dir}/{audio_file}\").set_start(total_duration)\n",
    "        except OSError as e:\n",
    "            print(f\"audio file {audio_file_dir}/{audio_file} not found\")\n",
    "            continue\n",
    "        audio_clips.append(audio_clip)\n",
    "        audio_duration = audio_clip.duration\n",
    "        \n",
    "        clip = mpy.ImageClip(image).set_duration(audio_duration).set_start(total_duration)\n",
    "    \n",
    "        \n",
    "        #clip = clip.set_start(5) # TODO: change duration based on audio\n",
    "        #clip = clip.resize((1080,1920)) #TODO add tts audio\n",
    "        clips.append(clip)\n",
    "        \n",
    "        total_duration += audio_duration + transition_duration\n",
    "  \n",
    "    if len(clips) > 0 :\n",
    "        final_audio_clip = mpy.CompositeAudioClip(audio_clips)\n",
    "        final_clip = mpy.CompositeVideoClip(clips)\n",
    "        final_clip.audio = final_audio_clip\n",
    "        final_clip.write_videofile(f\"{asset_dir}/{submission_title}/{thread_id}/thread_clip.mp4\",fps=30,logger=None)\n",
    "    "
   ]
  },
  {
   "cell_type": "code",
   "execution_count": 20,
   "id": "f3bc46c8-428c-408a-87c3-845fc1301170",
   "metadata": {},
   "outputs": [
    {
     "data": {
      "text/plain": [
       "'/mnt/n/data/reddit-yt-tts/queued/reddit_whats_your_most_im_with_the_boomers_on/0005-EternityLeave-24_1k'"
      ]
     },
     "execution_count": 20,
     "metadata": {},
     "output_type": "execute_result"
    }
   ],
   "source": [
    "f\"{asset_dir}/{submission_title}/{thread_ids[0]}\""
   ]
  },
  {
   "cell_type": "code",
   "execution_count": 21,
   "id": "d4ffd4c7-99d9-4546-8c3e-7d79954c47e8",
   "metadata": {},
   "outputs": [
    {
     "data": {
      "text/plain": [
       "'level 1\\nUnique_Football_8839\\n·\\n6 days ago\\nTouchscreens in cars are a fundamentally bad idea & physical buttons (or similar controls) need to be brought back.\\nDistracted driving is at an all-time high. Touchscreen controls literally require you to take your eyes off the road and can create a longer time of inattention due to their complexity.\\nI have an old-ass car with physical controls. I can do dang near anything (radio, climate control, etc.) without taking my eyes off the road and in much less time.\\n1.1k\\nReply\\nShare\\nReport\\nSave\\nFollow'"
      ]
     },
     "execution_count": 21,
     "metadata": {},
     "output_type": "execute_result"
    }
   ],
   "source": [
    "comments[0].text"
   ]
  },
  {
   "cell_type": "code",
   "execution_count": 25,
   "id": "9afd90ed-8102-40e0-aa6a-cbb0318a7e4c",
   "metadata": {},
   "outputs": [
    {
     "name": "stdin",
     "output_type": "stream",
     "text": [
      "Execute TTS at this point (on windows GPU) then run below... \n"
     ]
    },
    {
     "data": {
      "text/plain": [
       "''"
      ]
     },
     "execution_count": 25,
     "metadata": {},
     "output_type": "execute_result"
    }
   ],
   "source": [
    "# Execute TTS at this point (on windows GPU) then run below\n",
    "input(\"Execute TTS at this point (on windows GPU) then run below...(press enter)\")"
   ]
  },
  {
   "cell_type": "code",
   "execution_count": 26,
   "id": "b30038f5-49df-4047-bb1e-b6998aa2f718",
   "metadata": {},
   "outputs": [
    {
     "name": "stderr",
     "output_type": "stream",
     "text": [
      "  0%|                                                                                                                                                          | 0/195 [00:00<?, ?it/s]"
     ]
    },
    {
     "name": "stdout",
     "output_type": "stream",
     "text": [
      "0101-Ancient_Wisdom_Yall-53_8k\n",
      "audio file /mnt/n/data/reddit-yt-tts/completed/reddit_whats_your_most_im_with_the_boomers_on/0101-Ancient_Wisdom_Yall-53_8k/0006.wav not found\n",
      "0066-Dragoonscaper-7_7k\n",
      "audio file /mnt/n/data/reddit-yt-tts/completed/reddit_whats_your_most_im_with_the_boomers_on/0066-Dragoonscaper-7_7k/0001.wav not found\n",
      "0121-ujythrsgfdd-20_6k\n",
      "audio file /mnt/n/data/reddit-yt-tts/completed/reddit_whats_your_most_im_with_the_boomers_on/0121-ujythrsgfdd-20_6k/0003.wav not found\n",
      "0025-Pollowollo-37_3k\n",
      "audio file /mnt/n/data/reddit-yt-tts/completed/reddit_whats_your_most_im_with_the_boomers_on/0025-Pollowollo-37_3k/0002.wav not found\n",
      "0012-EternityLeave-24_1k\n"
     ]
    },
    {
     "name": "stderr",
     "output_type": "stream",
     "text": [
      "  7%|█████████▋                                                                                                                                       | 13/195 [00:01<00:16, 10.95it/s]"
     ]
    },
    {
     "name": "stdout",
     "output_type": "stream",
     "text": [
      "0085-buckyhermit-4_1k\n",
      "audio file /mnt/n/data/reddit-yt-tts/completed/reddit_whats_your_most_im_with_the_boomers_on/0085-buckyhermit-4_1k/0001.wav not found\n",
      "0064-Ghostleeee-55_4k\n",
      "audio file /mnt/n/data/reddit-yt-tts/completed/reddit_whats_your_most_im_with_the_boomers_on/0064-Ghostleeee-55_4k/0004.wav not found\n",
      "0102-SoulExecution-1_5k\n",
      "audio file /mnt/n/data/reddit-yt-tts/completed/reddit_whats_your_most_im_with_the_boomers_on/0102-SoulExecution-1_5k/0000.wav not found\n",
      "0074-iamapizza-15_2k\n",
      "audio file /mnt/n/data/reddit-yt-tts/completed/reddit_whats_your_most_im_with_the_boomers_on/0074-iamapizza-15_2k/0001.wav not found\n",
      "0161-nithrilh-144\n",
      "audio file /mnt/n/data/reddit-yt-tts/completed/reddit_whats_your_most_im_with_the_boomers_on/0161-nithrilh-144/0000.wav not found\n",
      "0035-claytondb-27_9k\n",
      "audio file /mnt/n/data/reddit-yt-tts/completed/reddit_whats_your_most_im_with_the_boomers_on/0035-claytondb-27_9k/0004.wav not found\n",
      "0103-hokumpocus-2_7k\n",
      "audio file /mnt/n/data/reddit-yt-tts/completed/reddit_whats_your_most_im_with_the_boomers_on/0103-hokumpocus-2_7k/0000.wav not found\n",
      "0124-Flaky-Fellatio-3_0k\n",
      "audio file /mnt/n/data/reddit-yt-tts/completed/reddit_whats_your_most_im_with_the_boomers_on/0124-Flaky-Fellatio-3_0k/0000.wav not found\n",
      "0108-WinterBanana89-29_5k\n",
      "audio file /mnt/n/data/reddit-yt-tts/completed/reddit_whats_your_most_im_with_the_boomers_on/0108-WinterBanana89-29_5k/0000.wav not found\n",
      "0089-talag1ga-18_2k\n",
      "audio file /mnt/n/data/reddit-yt-tts/completed/reddit_whats_your_most_im_with_the_boomers_on/0089-talag1ga-18_2k/0001.wav not found\n",
      "0062-Ghostleeee-55_4k\n",
      "audio file /mnt/n/data/reddit-yt-tts/completed/reddit_whats_your_most_im_with_the_boomers_on/0062-Ghostleeee-55_4k/0002.wav not found\n",
      "0181-GenericTopComment-174\n",
      "audio file /mnt/n/data/reddit-yt-tts/completed/reddit_whats_your_most_im_with_the_boomers_on/0181-GenericTopComment-174/0000.wav not found\n",
      "0056-wheresmychin-16_8k\n",
      "audio file /mnt/n/data/reddit-yt-tts/completed/reddit_whats_your_most_im_with_the_boomers_on/0056-wheresmychin-16_8k/0001.wav not found\n",
      "0166-1NegativePerson-204\n",
      "audio file /mnt/n/data/reddit-yt-tts/completed/reddit_whats_your_most_im_with_the_boomers_on/0166-1NegativePerson-204/0000.wav not found\n",
      "0190-Actuaryba-136\n",
      "audio file /mnt/n/data/reddit-yt-tts/completed/reddit_whats_your_most_im_with_the_boomers_on/0190-Actuaryba-136/0000.wav not found\n",
      "0169-NeverEnoughSleep08-1_0k\n"
     ]
    },
    {
     "name": "stderr",
     "output_type": "stream",
     "text": [
      " 11%|███████████████▌                                                                                                                                 | 21/195 [00:01<00:09, 19.20it/s]"
     ]
    },
    {
     "name": "stdout",
     "output_type": "stream",
     "text": [
      "audio file /mnt/n/data/reddit-yt-tts/completed/reddit_whats_your_most_im_with_the_boomers_on/0169-NeverEnoughSleep08-1_0k/0000.wav not found\n",
      "0004-anonymouslyinvisible-34_1k\n"
     ]
    },
    {
     "name": "stderr",
     "output_type": "stream",
     "text": [
      " 18%|██████████████████████████▊                                                                                                                      | 36/195 [00:04<00:20,  7.84it/s]"
     ]
    },
    {
     "name": "stdout",
     "output_type": "stream",
     "text": [
      "0027-No_Seaweed6739-13_8k\n",
      "audio file /mnt/n/data/reddit-yt-tts/completed/reddit_whats_your_most_im_with_the_boomers_on/0027-No_Seaweed6739-13_8k/0000.wav not found\n",
      "0134-lake_superior_agate-206\n",
      "audio file /mnt/n/data/reddit-yt-tts/completed/reddit_whats_your_most_im_with_the_boomers_on/0134-lake_superior_agate-206/0000.wav not found\n",
      "0034-claytondb-27_9k\n",
      "audio file /mnt/n/data/reddit-yt-tts/completed/reddit_whats_your_most_im_with_the_boomers_on/0034-claytondb-27_9k/0003.wav not found\n",
      "0188-robbycakes-267\n",
      "audio file /mnt/n/data/reddit-yt-tts/completed/reddit_whats_your_most_im_with_the_boomers_on/0188-robbycakes-267/0000.wav not found\n",
      "0158-cmc-1_1k\n",
      "audio file /mnt/n/data/reddit-yt-tts/completed/reddit_whats_your_most_im_with_the_boomers_on/0158-cmc-1_1k/0000.wav not found\n",
      "0093-Illustrious_Wear_850-4_3k\n",
      "audio file /mnt/n/data/reddit-yt-tts/completed/reddit_whats_your_most_im_with_the_boomers_on/0093-Illustrious_Wear_850-4_3k/0000.wav not found\n",
      "0167-SuvenPan-263\n",
      "audio file /mnt/n/data/reddit-yt-tts/completed/reddit_whats_your_most_im_with_the_boomers_on/0167-SuvenPan-263/0000.wav not found\n",
      "0019-mostly_browsing-27_5k\n",
      "audio file /mnt/n/data/reddit-yt-tts/completed/reddit_whats_your_most_im_with_the_boomers_on/0019-mostly_browsing-27_5k/0002.wav not found\n",
      "0122-ujythrsgfdd-20_6k\n",
      "audio file /mnt/n/data/reddit-yt-tts/completed/reddit_whats_your_most_im_with_the_boomers_on/0122-ujythrsgfdd-20_6k/0004.wav not found\n",
      "0129-FirstPianist3312-11_5k\n",
      "audio file /mnt/n/data/reddit-yt-tts/completed/reddit_whats_your_most_im_with_the_boomers_on/0129-FirstPianist3312-11_5k/0003.wav not found\n",
      "0106-rylhi552-22_4k\n",
      "audio file /mnt/n/data/reddit-yt-tts/completed/reddit_whats_your_most_im_with_the_boomers_on/0106-rylhi552-22_4k/0002.wav not found\n",
      "0142-AlterEdward-118\n",
      "audio file /mnt/n/data/reddit-yt-tts/completed/reddit_whats_your_most_im_with_the_boomers_on/0142-AlterEdward-118/0000.wav not found\n",
      "0015-mercurialpolyglot-22_6k\n",
      "audio file /mnt/n/data/reddit-yt-tts/completed/reddit_whats_your_most_im_with_the_boomers_on/0015-mercurialpolyglot-22_6k/0001.wav not found\n",
      "0065-Dragoonscaper-7_7k\n",
      "audio file /mnt/n/data/reddit-yt-tts/completed/reddit_whats_your_most_im_with_the_boomers_on/0065-Dragoonscaper-7_7k/0000.wav not found\n",
      "0135-phat-turnip-964\n",
      "audio file /mnt/n/data/reddit-yt-tts/completed/reddit_whats_your_most_im_with_the_boomers_on/0135-phat-turnip-964/0000.wav not found\n",
      "0044-Kanedi4s-15_4k\n"
     ]
    },
    {
     "name": "stderr",
     "output_type": "stream",
     "text": [
      " 22%|███████████████████████████████▉                                                                                                                 | 43/195 [00:04<00:13, 11.01it/s]"
     ]
    },
    {
     "name": "stdout",
     "output_type": "stream",
     "text": [
      "audio file /mnt/n/data/reddit-yt-tts/completed/reddit_whats_your_most_im_with_the_boomers_on/0044-Kanedi4s-15_4k/0000.wav not found\n",
      "0077-Fit-Rest-973-1_3k\n",
      "audio file /mnt/n/data/reddit-yt-tts/completed/reddit_whats_your_most_im_with_the_boomers_on/0077-Fit-Rest-973-1_3k/0000.wav not found\n",
      "0119-ujythrsgfdd-20_6k\n",
      "audio file /mnt/n/data/reddit-yt-tts/completed/reddit_whats_your_most_im_with_the_boomers_on/0119-ujythrsgfdd-20_6k/0001.wav not found\n",
      "0091-RagnarStonefist-2_2k\n",
      "audio file /mnt/n/data/reddit-yt-tts/completed/reddit_whats_your_most_im_with_the_boomers_on/0091-RagnarStonefist-2_2k/0000.wav not found\n",
      "0060-Ghostleeee-55_4k\n",
      "audio file /mnt/n/data/reddit-yt-tts/completed/reddit_whats_your_most_im_with_the_boomers_on/0060-Ghostleeee-55_4k/0000.wav not found\n",
      "0184-realmartwo-333\n",
      "audio file /mnt/n/data/reddit-yt-tts/completed/reddit_whats_your_most_im_with_the_boomers_on/0184-realmartwo-333/0001.wav not found\n",
      "0162-Unsimulated-458\n",
      "audio file /mnt/n/data/reddit-yt-tts/completed/reddit_whats_your_most_im_with_the_boomers_on/0162-Unsimulated-458/0000.wav not found\n",
      "0063-Ghostleeee-55_4k\n",
      "audio file /mnt/n/data/reddit-yt-tts/completed/reddit_whats_your_most_im_with_the_boomers_on/0063-Ghostleeee-55_4k/0003.wav not found\n",
      "0010-EternityLeave-24_1k\n"
     ]
    },
    {
     "name": "stderr",
     "output_type": "stream",
     "text": [
      " 25%|████████████████████████████████████▍                                                                                                            | 49/195 [00:08<00:26,  5.55it/s]"
     ]
    },
    {
     "name": "stdout",
     "output_type": "stream",
     "text": [
      "0173-ThePhoenixBird2022-315\n",
      "audio file /mnt/n/data/reddit-yt-tts/completed/reddit_whats_your_most_im_with_the_boomers_on/0173-ThePhoenixBird2022-315/0000.wav not found\n",
      "0022-SpartanR259-3_4k\n",
      "audio file /mnt/n/data/reddit-yt-tts/completed/reddit_whats_your_most_im_with_the_boomers_on/0022-SpartanR259-3_4k/0001.wav not found\n",
      "0151-Ghost_Star326-100\n",
      "audio file /mnt/n/data/reddit-yt-tts/completed/reddit_whats_your_most_im_with_the_boomers_on/0151-Ghost_Star326-100/0000.wav not found\n",
      "0006-anonymouslyinvisible-34_1k\n"
     ]
    },
    {
     "name": "stderr",
     "output_type": "stream",
     "text": [
      "\n"
     ]
    },
    {
     "ename": "KeyboardInterrupt",
     "evalue": "",
     "output_type": "error",
     "traceback": [
      "\u001b[0;31m---------------------------------------------------------------------------\u001b[0m",
      "\u001b[0;31mKeyboardInterrupt\u001b[0m                         Traceback (most recent call last)",
      "Cell \u001b[0;32mIn [26], line 6\u001b[0m\n\u001b[1;32m      4\u001b[0m \u001b[38;5;28;01mfor\u001b[39;00m thread \u001b[38;5;129;01min\u001b[39;00m tqdm(thread_ids):\n\u001b[1;32m      5\u001b[0m     \u001b[38;5;28mprint\u001b[39m(thread)\n\u001b[0;32m----> 6\u001b[0m     \u001b[43mbuild_thread_vid\u001b[49m\u001b[43m(\u001b[49m\u001b[43mthread\u001b[49m\u001b[43m)\u001b[49m\n",
      "Cell \u001b[0;32mIn [19], line 33\u001b[0m, in \u001b[0;36mbuild_thread_vid\u001b[0;34m(thread_id)\u001b[0m\n\u001b[1;32m     31\u001b[0m final_clip \u001b[38;5;241m=\u001b[39m mpy\u001b[38;5;241m.\u001b[39mCompositeVideoClip(clips)\n\u001b[1;32m     32\u001b[0m final_clip\u001b[38;5;241m.\u001b[39maudio \u001b[38;5;241m=\u001b[39m final_audio_clip\n\u001b[0;32m---> 33\u001b[0m \u001b[43mfinal_clip\u001b[49m\u001b[38;5;241;43m.\u001b[39;49m\u001b[43mwrite_videofile\u001b[49m\u001b[43m(\u001b[49m\u001b[38;5;124;43mf\u001b[39;49m\u001b[38;5;124;43m\"\u001b[39;49m\u001b[38;5;132;43;01m{\u001b[39;49;00m\u001b[43masset_dir\u001b[49m\u001b[38;5;132;43;01m}\u001b[39;49;00m\u001b[38;5;124;43m/\u001b[39;49m\u001b[38;5;132;43;01m{\u001b[39;49;00m\u001b[43msubmission_title\u001b[49m\u001b[38;5;132;43;01m}\u001b[39;49;00m\u001b[38;5;124;43m/\u001b[39;49m\u001b[38;5;132;43;01m{\u001b[39;49;00m\u001b[43mthread_id\u001b[49m\u001b[38;5;132;43;01m}\u001b[39;49;00m\u001b[38;5;124;43m/thread_clip.mp4\u001b[39;49m\u001b[38;5;124;43m\"\u001b[39;49m\u001b[43m,\u001b[49m\u001b[43mfps\u001b[49m\u001b[38;5;241;43m=\u001b[39;49m\u001b[38;5;241;43m30\u001b[39;49m\u001b[43m,\u001b[49m\u001b[43mlogger\u001b[49m\u001b[38;5;241;43m=\u001b[39;49m\u001b[38;5;28;43;01mNone\u001b[39;49;00m\u001b[43m)\u001b[49m\n",
      "File \u001b[0;32m<decorator-gen-73>:2\u001b[0m, in \u001b[0;36mwrite_videofile\u001b[0;34m(self, filename, fps, codec, bitrate, audio, audio_fps, preset, audio_nbytes, audio_codec, audio_bitrate, audio_bufsize, temp_audiofile, rewrite_audio, remove_temp, write_logfile, verbose, threads, ffmpeg_params, logger)\u001b[0m\n",
      "File \u001b[0;32m~/.local/share/virtualenvs/reddit-yt-tts-Dm6P-A76/lib/python3.8/site-packages/moviepy/decorators.py:54\u001b[0m, in \u001b[0;36mrequires_duration\u001b[0;34m(f, clip, *a, **k)\u001b[0m\n\u001b[1;32m     52\u001b[0m     \u001b[38;5;28;01mraise\u001b[39;00m \u001b[38;5;167;01mValueError\u001b[39;00m(\u001b[38;5;124m\"\u001b[39m\u001b[38;5;124mAttribute \u001b[39m\u001b[38;5;124m'\u001b[39m\u001b[38;5;124mduration\u001b[39m\u001b[38;5;124m'\u001b[39m\u001b[38;5;124m not set\u001b[39m\u001b[38;5;124m\"\u001b[39m)\n\u001b[1;32m     53\u001b[0m \u001b[38;5;28;01melse\u001b[39;00m:\n\u001b[0;32m---> 54\u001b[0m     \u001b[38;5;28;01mreturn\u001b[39;00m \u001b[43mf\u001b[49m\u001b[43m(\u001b[49m\u001b[43mclip\u001b[49m\u001b[43m,\u001b[49m\u001b[43m \u001b[49m\u001b[38;5;241;43m*\u001b[39;49m\u001b[43ma\u001b[49m\u001b[43m,\u001b[49m\u001b[43m \u001b[49m\u001b[38;5;241;43m*\u001b[39;49m\u001b[38;5;241;43m*\u001b[39;49m\u001b[43mk\u001b[49m\u001b[43m)\u001b[49m\n",
      "File \u001b[0;32m<decorator-gen-72>:2\u001b[0m, in \u001b[0;36mwrite_videofile\u001b[0;34m(self, filename, fps, codec, bitrate, audio, audio_fps, preset, audio_nbytes, audio_codec, audio_bitrate, audio_bufsize, temp_audiofile, rewrite_audio, remove_temp, write_logfile, verbose, threads, ffmpeg_params, logger)\u001b[0m\n",
      "File \u001b[0;32m~/.local/share/virtualenvs/reddit-yt-tts-Dm6P-A76/lib/python3.8/site-packages/moviepy/decorators.py:135\u001b[0m, in \u001b[0;36muse_clip_fps_by_default\u001b[0;34m(f, clip, *a, **k)\u001b[0m\n\u001b[1;32m    130\u001b[0m new_a \u001b[38;5;241m=\u001b[39m [fun(arg) \u001b[38;5;28;01mif\u001b[39;00m (name\u001b[38;5;241m==\u001b[39m\u001b[38;5;124m'\u001b[39m\u001b[38;5;124mfps\u001b[39m\u001b[38;5;124m'\u001b[39m) \u001b[38;5;28;01melse\u001b[39;00m arg\n\u001b[1;32m    131\u001b[0m          \u001b[38;5;28;01mfor\u001b[39;00m (arg, name) \u001b[38;5;129;01min\u001b[39;00m \u001b[38;5;28mzip\u001b[39m(a, names)]\n\u001b[1;32m    132\u001b[0m new_kw \u001b[38;5;241m=\u001b[39m {k: fun(v) \u001b[38;5;28;01mif\u001b[39;00m k\u001b[38;5;241m==\u001b[39m\u001b[38;5;124m'\u001b[39m\u001b[38;5;124mfps\u001b[39m\u001b[38;5;124m'\u001b[39m \u001b[38;5;28;01melse\u001b[39;00m v\n\u001b[1;32m    133\u001b[0m          \u001b[38;5;28;01mfor\u001b[39;00m (k,v) \u001b[38;5;129;01min\u001b[39;00m k\u001b[38;5;241m.\u001b[39mitems()}\n\u001b[0;32m--> 135\u001b[0m \u001b[38;5;28;01mreturn\u001b[39;00m \u001b[43mf\u001b[49m\u001b[43m(\u001b[49m\u001b[43mclip\u001b[49m\u001b[43m,\u001b[49m\u001b[43m \u001b[49m\u001b[38;5;241;43m*\u001b[39;49m\u001b[43mnew_a\u001b[49m\u001b[43m,\u001b[49m\u001b[43m \u001b[49m\u001b[38;5;241;43m*\u001b[39;49m\u001b[38;5;241;43m*\u001b[39;49m\u001b[43mnew_kw\u001b[49m\u001b[43m)\u001b[49m\n",
      "File \u001b[0;32m<decorator-gen-71>:2\u001b[0m, in \u001b[0;36mwrite_videofile\u001b[0;34m(self, filename, fps, codec, bitrate, audio, audio_fps, preset, audio_nbytes, audio_codec, audio_bitrate, audio_bufsize, temp_audiofile, rewrite_audio, remove_temp, write_logfile, verbose, threads, ffmpeg_params, logger)\u001b[0m\n",
      "File \u001b[0;32m~/.local/share/virtualenvs/reddit-yt-tts-Dm6P-A76/lib/python3.8/site-packages/moviepy/decorators.py:22\u001b[0m, in \u001b[0;36mconvert_masks_to_RGB\u001b[0;34m(f, clip, *a, **k)\u001b[0m\n\u001b[1;32m     20\u001b[0m \u001b[38;5;28;01mif\u001b[39;00m clip\u001b[38;5;241m.\u001b[39mismask:\n\u001b[1;32m     21\u001b[0m     clip \u001b[38;5;241m=\u001b[39m clip\u001b[38;5;241m.\u001b[39mto_RGB()\n\u001b[0;32m---> 22\u001b[0m \u001b[38;5;28;01mreturn\u001b[39;00m \u001b[43mf\u001b[49m\u001b[43m(\u001b[49m\u001b[43mclip\u001b[49m\u001b[43m,\u001b[49m\u001b[43m \u001b[49m\u001b[38;5;241;43m*\u001b[39;49m\u001b[43ma\u001b[49m\u001b[43m,\u001b[49m\u001b[43m \u001b[49m\u001b[38;5;241;43m*\u001b[39;49m\u001b[38;5;241;43m*\u001b[39;49m\u001b[43mk\u001b[49m\u001b[43m)\u001b[49m\n",
      "File \u001b[0;32m~/.local/share/virtualenvs/reddit-yt-tts-Dm6P-A76/lib/python3.8/site-packages/moviepy/video/VideoClip.py:293\u001b[0m, in \u001b[0;36mVideoClip.write_videofile\u001b[0;34m(self, filename, fps, codec, bitrate, audio, audio_fps, preset, audio_nbytes, audio_codec, audio_bitrate, audio_bufsize, temp_audiofile, rewrite_audio, remove_temp, write_logfile, verbose, threads, ffmpeg_params, logger)\u001b[0m\n\u001b[1;32m    291\u001b[0m logger(message\u001b[38;5;241m=\u001b[39m\u001b[38;5;124m\"\u001b[39m\u001b[38;5;124mMoviepy - Building video \u001b[39m\u001b[38;5;132;01m%s\u001b[39;00m\u001b[38;5;124m.\u001b[39m\u001b[38;5;124m\"\u001b[39m \u001b[38;5;241m%\u001b[39m filename)\n\u001b[1;32m    292\u001b[0m \u001b[38;5;28;01mif\u001b[39;00m make_audio:\n\u001b[0;32m--> 293\u001b[0m     \u001b[38;5;28;43mself\u001b[39;49m\u001b[38;5;241;43m.\u001b[39;49m\u001b[43maudio\u001b[49m\u001b[38;5;241;43m.\u001b[39;49m\u001b[43mwrite_audiofile\u001b[49m\u001b[43m(\u001b[49m\u001b[43maudiofile\u001b[49m\u001b[43m,\u001b[49m\u001b[43m \u001b[49m\u001b[43maudio_fps\u001b[49m\u001b[43m,\u001b[49m\n\u001b[1;32m    294\u001b[0m \u001b[43m                               \u001b[49m\u001b[43maudio_nbytes\u001b[49m\u001b[43m,\u001b[49m\u001b[43m \u001b[49m\u001b[43maudio_bufsize\u001b[49m\u001b[43m,\u001b[49m\n\u001b[1;32m    295\u001b[0m \u001b[43m                               \u001b[49m\u001b[43maudio_codec\u001b[49m\u001b[43m,\u001b[49m\u001b[43m \u001b[49m\u001b[43mbitrate\u001b[49m\u001b[38;5;241;43m=\u001b[39;49m\u001b[43maudio_bitrate\u001b[49m\u001b[43m,\u001b[49m\n\u001b[1;32m    296\u001b[0m \u001b[43m                               \u001b[49m\u001b[43mwrite_logfile\u001b[49m\u001b[38;5;241;43m=\u001b[39;49m\u001b[43mwrite_logfile\u001b[49m\u001b[43m,\u001b[49m\n\u001b[1;32m    297\u001b[0m \u001b[43m                               \u001b[49m\u001b[43mverbose\u001b[49m\u001b[38;5;241;43m=\u001b[39;49m\u001b[43mverbose\u001b[49m\u001b[43m,\u001b[49m\n\u001b[1;32m    298\u001b[0m \u001b[43m                               \u001b[49m\u001b[43mlogger\u001b[49m\u001b[38;5;241;43m=\u001b[39;49m\u001b[43mlogger\u001b[49m\u001b[43m)\u001b[49m\n\u001b[1;32m    300\u001b[0m ffmpeg_write_video(\u001b[38;5;28mself\u001b[39m, filename, fps, codec,\n\u001b[1;32m    301\u001b[0m                    bitrate\u001b[38;5;241m=\u001b[39mbitrate,\n\u001b[1;32m    302\u001b[0m                    preset\u001b[38;5;241m=\u001b[39mpreset,\n\u001b[0;32m   (...)\u001b[0m\n\u001b[1;32m    306\u001b[0m                    ffmpeg_params\u001b[38;5;241m=\u001b[39mffmpeg_params,\n\u001b[1;32m    307\u001b[0m                    logger\u001b[38;5;241m=\u001b[39mlogger)\n\u001b[1;32m    309\u001b[0m \u001b[38;5;28;01mif\u001b[39;00m remove_temp \u001b[38;5;129;01mand\u001b[39;00m make_audio:\n",
      "File \u001b[0;32m<decorator-gen-63>:2\u001b[0m, in \u001b[0;36mwrite_audiofile\u001b[0;34m(self, filename, fps, nbytes, buffersize, codec, bitrate, ffmpeg_params, write_logfile, verbose, logger)\u001b[0m\n",
      "File \u001b[0;32m~/.local/share/virtualenvs/reddit-yt-tts-Dm6P-A76/lib/python3.8/site-packages/moviepy/decorators.py:54\u001b[0m, in \u001b[0;36mrequires_duration\u001b[0;34m(f, clip, *a, **k)\u001b[0m\n\u001b[1;32m     52\u001b[0m     \u001b[38;5;28;01mraise\u001b[39;00m \u001b[38;5;167;01mValueError\u001b[39;00m(\u001b[38;5;124m\"\u001b[39m\u001b[38;5;124mAttribute \u001b[39m\u001b[38;5;124m'\u001b[39m\u001b[38;5;124mduration\u001b[39m\u001b[38;5;124m'\u001b[39m\u001b[38;5;124m not set\u001b[39m\u001b[38;5;124m\"\u001b[39m)\n\u001b[1;32m     53\u001b[0m \u001b[38;5;28;01melse\u001b[39;00m:\n\u001b[0;32m---> 54\u001b[0m     \u001b[38;5;28;01mreturn\u001b[39;00m \u001b[43mf\u001b[49m\u001b[43m(\u001b[49m\u001b[43mclip\u001b[49m\u001b[43m,\u001b[49m\u001b[43m \u001b[49m\u001b[38;5;241;43m*\u001b[39;49m\u001b[43ma\u001b[49m\u001b[43m,\u001b[49m\u001b[43m \u001b[49m\u001b[38;5;241;43m*\u001b[39;49m\u001b[38;5;241;43m*\u001b[39;49m\u001b[43mk\u001b[49m\u001b[43m)\u001b[49m\n",
      "File \u001b[0;32m~/.local/share/virtualenvs/reddit-yt-tts-Dm6P-A76/lib/python3.8/site-packages/moviepy/audio/AudioClip.py:206\u001b[0m, in \u001b[0;36mAudioClip.write_audiofile\u001b[0;34m(self, filename, fps, nbytes, buffersize, codec, bitrate, ffmpeg_params, write_logfile, verbose, logger)\u001b[0m\n\u001b[1;32m    201\u001b[0m     \u001b[38;5;28;01mexcept\u001b[39;00m \u001b[38;5;167;01mKeyError\u001b[39;00m:\n\u001b[1;32m    202\u001b[0m         \u001b[38;5;28;01mraise\u001b[39;00m \u001b[38;5;167;01mValueError\u001b[39;00m(\u001b[38;5;124m\"\u001b[39m\u001b[38;5;124mMoviePy couldn\u001b[39m\u001b[38;5;124m'\u001b[39m\u001b[38;5;124mt find the codec associated \u001b[39m\u001b[38;5;124m\"\u001b[39m\n\u001b[1;32m    203\u001b[0m                          \u001b[38;5;124m\"\u001b[39m\u001b[38;5;124mwith the filename. Provide the \u001b[39m\u001b[38;5;124m'\u001b[39m\u001b[38;5;124mcodec\u001b[39m\u001b[38;5;124m'\u001b[39m\u001b[38;5;124m \u001b[39m\u001b[38;5;124m\"\u001b[39m\n\u001b[1;32m    204\u001b[0m                          \u001b[38;5;124m\"\u001b[39m\u001b[38;5;124mparameter in write_audiofile.\u001b[39m\u001b[38;5;124m\"\u001b[39m)\n\u001b[0;32m--> 206\u001b[0m \u001b[38;5;28;01mreturn\u001b[39;00m \u001b[43mffmpeg_audiowrite\u001b[49m\u001b[43m(\u001b[49m\u001b[38;5;28;43mself\u001b[39;49m\u001b[43m,\u001b[49m\u001b[43m \u001b[49m\u001b[43mfilename\u001b[49m\u001b[43m,\u001b[49m\u001b[43m \u001b[49m\u001b[43mfps\u001b[49m\u001b[43m,\u001b[49m\u001b[43m \u001b[49m\u001b[43mnbytes\u001b[49m\u001b[43m,\u001b[49m\u001b[43m \u001b[49m\u001b[43mbuffersize\u001b[49m\u001b[43m,\u001b[49m\n\u001b[1;32m    207\u001b[0m \u001b[43m                         \u001b[49m\u001b[43mcodec\u001b[49m\u001b[38;5;241;43m=\u001b[39;49m\u001b[43mcodec\u001b[49m\u001b[43m,\u001b[49m\u001b[43m \u001b[49m\u001b[43mbitrate\u001b[49m\u001b[38;5;241;43m=\u001b[39;49m\u001b[43mbitrate\u001b[49m\u001b[43m,\u001b[49m\n\u001b[1;32m    208\u001b[0m \u001b[43m                         \u001b[49m\u001b[43mwrite_logfile\u001b[49m\u001b[38;5;241;43m=\u001b[39;49m\u001b[43mwrite_logfile\u001b[49m\u001b[43m,\u001b[49m\u001b[43m \u001b[49m\u001b[43mverbose\u001b[49m\u001b[38;5;241;43m=\u001b[39;49m\u001b[43mverbose\u001b[49m\u001b[43m,\u001b[49m\n\u001b[1;32m    209\u001b[0m \u001b[43m                         \u001b[49m\u001b[43mffmpeg_params\u001b[49m\u001b[38;5;241;43m=\u001b[39;49m\u001b[43mffmpeg_params\u001b[49m\u001b[43m,\u001b[49m\n\u001b[1;32m    210\u001b[0m \u001b[43m                         \u001b[49m\u001b[43mlogger\u001b[49m\u001b[38;5;241;43m=\u001b[39;49m\u001b[43mlogger\u001b[49m\u001b[43m)\u001b[49m\n",
      "File \u001b[0;32m<decorator-gen-27>:2\u001b[0m, in \u001b[0;36mffmpeg_audiowrite\u001b[0;34m(clip, filename, fps, nbytes, buffersize, codec, bitrate, write_logfile, verbose, ffmpeg_params, logger)\u001b[0m\n",
      "File \u001b[0;32m~/.local/share/virtualenvs/reddit-yt-tts-Dm6P-A76/lib/python3.8/site-packages/moviepy/decorators.py:54\u001b[0m, in \u001b[0;36mrequires_duration\u001b[0;34m(f, clip, *a, **k)\u001b[0m\n\u001b[1;32m     52\u001b[0m     \u001b[38;5;28;01mraise\u001b[39;00m \u001b[38;5;167;01mValueError\u001b[39;00m(\u001b[38;5;124m\"\u001b[39m\u001b[38;5;124mAttribute \u001b[39m\u001b[38;5;124m'\u001b[39m\u001b[38;5;124mduration\u001b[39m\u001b[38;5;124m'\u001b[39m\u001b[38;5;124m not set\u001b[39m\u001b[38;5;124m\"\u001b[39m)\n\u001b[1;32m     53\u001b[0m \u001b[38;5;28;01melse\u001b[39;00m:\n\u001b[0;32m---> 54\u001b[0m     \u001b[38;5;28;01mreturn\u001b[39;00m \u001b[43mf\u001b[49m\u001b[43m(\u001b[49m\u001b[43mclip\u001b[49m\u001b[43m,\u001b[49m\u001b[43m \u001b[49m\u001b[38;5;241;43m*\u001b[39;49m\u001b[43ma\u001b[49m\u001b[43m,\u001b[49m\u001b[43m \u001b[49m\u001b[38;5;241;43m*\u001b[39;49m\u001b[38;5;241;43m*\u001b[39;49m\u001b[43mk\u001b[49m\u001b[43m)\u001b[49m\n",
      "File \u001b[0;32m~/.local/share/virtualenvs/reddit-yt-tts-Dm6P-A76/lib/python3.8/site-packages/moviepy/audio/io/ffmpeg_audiowriter.py:161\u001b[0m, in \u001b[0;36mffmpeg_audiowrite\u001b[0;34m(clip, filename, fps, nbytes, buffersize, codec, bitrate, write_logfile, verbose, ffmpeg_params, logger)\u001b[0m\n\u001b[1;32m    159\u001b[0m logger \u001b[38;5;241m=\u001b[39m proglog\u001b[38;5;241m.\u001b[39mdefault_bar_logger(logger)\n\u001b[1;32m    160\u001b[0m logger(message\u001b[38;5;241m=\u001b[39m\u001b[38;5;124m\"\u001b[39m\u001b[38;5;124mMoviePy - Writing audio in \u001b[39m\u001b[38;5;132;01m%s\u001b[39;00m\u001b[38;5;124m\"\u001b[39m \u001b[38;5;241m%\u001b[39m filename)\n\u001b[0;32m--> 161\u001b[0m writer \u001b[38;5;241m=\u001b[39m \u001b[43mFFMPEG_AudioWriter\u001b[49m\u001b[43m(\u001b[49m\u001b[43mfilename\u001b[49m\u001b[43m,\u001b[49m\u001b[43m \u001b[49m\u001b[43mfps\u001b[49m\u001b[43m,\u001b[49m\u001b[43m \u001b[49m\u001b[43mnbytes\u001b[49m\u001b[43m,\u001b[49m\u001b[43m \u001b[49m\u001b[43mclip\u001b[49m\u001b[38;5;241;43m.\u001b[39;49m\u001b[43mnchannels\u001b[49m\u001b[43m,\u001b[49m\n\u001b[1;32m    162\u001b[0m \u001b[43m                            \u001b[49m\u001b[43mcodec\u001b[49m\u001b[38;5;241;43m=\u001b[39;49m\u001b[43mcodec\u001b[49m\u001b[43m,\u001b[49m\u001b[43m \u001b[49m\u001b[43mbitrate\u001b[49m\u001b[38;5;241;43m=\u001b[39;49m\u001b[43mbitrate\u001b[49m\u001b[43m,\u001b[49m\n\u001b[1;32m    163\u001b[0m \u001b[43m                            \u001b[49m\u001b[43mlogfile\u001b[49m\u001b[38;5;241;43m=\u001b[39;49m\u001b[43mlogfile\u001b[49m\u001b[43m,\u001b[49m\n\u001b[1;32m    164\u001b[0m \u001b[43m                            \u001b[49m\u001b[43mffmpeg_params\u001b[49m\u001b[38;5;241;43m=\u001b[39;49m\u001b[43mffmpeg_params\u001b[49m\u001b[43m)\u001b[49m\n\u001b[1;32m    166\u001b[0m \u001b[38;5;28;01mfor\u001b[39;00m chunk \u001b[38;5;129;01min\u001b[39;00m clip\u001b[38;5;241m.\u001b[39miter_chunks(chunksize\u001b[38;5;241m=\u001b[39mbuffersize,\n\u001b[1;32m    167\u001b[0m                               quantize\u001b[38;5;241m=\u001b[39m\u001b[38;5;28;01mTrue\u001b[39;00m,\n\u001b[1;32m    168\u001b[0m                               nbytes\u001b[38;5;241m=\u001b[39mnbytes, fps\u001b[38;5;241m=\u001b[39mfps,\n\u001b[1;32m    169\u001b[0m                               logger\u001b[38;5;241m=\u001b[39mlogger):\n\u001b[1;32m    170\u001b[0m     writer\u001b[38;5;241m.\u001b[39mwrite_frames(chunk)\n",
      "File \u001b[0;32m~/.local/share/virtualenvs/reddit-yt-tts-Dm6P-A76/lib/python3.8/site-packages/moviepy/audio/io/ffmpeg_audiowriter.py:69\u001b[0m, in \u001b[0;36mFFMPEG_AudioWriter.__init__\u001b[0;34m(self, filename, fps_input, nbytes, nchannels, codec, bitrate, input_video, logfile, ffmpeg_params)\u001b[0m\n\u001b[1;32m     66\u001b[0m \u001b[38;5;28;01mif\u001b[39;00m os\u001b[38;5;241m.\u001b[39mname \u001b[38;5;241m==\u001b[39m \u001b[38;5;124m\"\u001b[39m\u001b[38;5;124mnt\u001b[39m\u001b[38;5;124m\"\u001b[39m:\n\u001b[1;32m     67\u001b[0m     popen_params[\u001b[38;5;124m\"\u001b[39m\u001b[38;5;124mcreationflags\u001b[39m\u001b[38;5;124m\"\u001b[39m] \u001b[38;5;241m=\u001b[39m \u001b[38;5;241m0x08000000\u001b[39m\n\u001b[0;32m---> 69\u001b[0m \u001b[38;5;28mself\u001b[39m\u001b[38;5;241m.\u001b[39mproc \u001b[38;5;241m=\u001b[39m \u001b[43msp\u001b[49m\u001b[38;5;241;43m.\u001b[39;49m\u001b[43mPopen\u001b[49m\u001b[43m(\u001b[49m\u001b[43mcmd\u001b[49m\u001b[43m,\u001b[49m\u001b[43m \u001b[49m\u001b[38;5;241;43m*\u001b[39;49m\u001b[38;5;241;43m*\u001b[39;49m\u001b[43mpopen_params\u001b[49m\u001b[43m)\u001b[49m\n",
      "File \u001b[0;32m/usr/lib/python3.8/subprocess.py:858\u001b[0m, in \u001b[0;36mPopen.__init__\u001b[0;34m(self, args, bufsize, executable, stdin, stdout, stderr, preexec_fn, close_fds, shell, cwd, env, universal_newlines, startupinfo, creationflags, restore_signals, start_new_session, pass_fds, encoding, errors, text)\u001b[0m\n\u001b[1;32m    854\u001b[0m         \u001b[38;5;28;01mif\u001b[39;00m \u001b[38;5;28mself\u001b[39m\u001b[38;5;241m.\u001b[39mtext_mode:\n\u001b[1;32m    855\u001b[0m             \u001b[38;5;28mself\u001b[39m\u001b[38;5;241m.\u001b[39mstderr \u001b[38;5;241m=\u001b[39m io\u001b[38;5;241m.\u001b[39mTextIOWrapper(\u001b[38;5;28mself\u001b[39m\u001b[38;5;241m.\u001b[39mstderr,\n\u001b[1;32m    856\u001b[0m                     encoding\u001b[38;5;241m=\u001b[39mencoding, errors\u001b[38;5;241m=\u001b[39merrors)\n\u001b[0;32m--> 858\u001b[0m     \u001b[38;5;28;43mself\u001b[39;49m\u001b[38;5;241;43m.\u001b[39;49m\u001b[43m_execute_child\u001b[49m\u001b[43m(\u001b[49m\u001b[43margs\u001b[49m\u001b[43m,\u001b[49m\u001b[43m \u001b[49m\u001b[43mexecutable\u001b[49m\u001b[43m,\u001b[49m\u001b[43m \u001b[49m\u001b[43mpreexec_fn\u001b[49m\u001b[43m,\u001b[49m\u001b[43m \u001b[49m\u001b[43mclose_fds\u001b[49m\u001b[43m,\u001b[49m\n\u001b[1;32m    859\u001b[0m \u001b[43m                        \u001b[49m\u001b[43mpass_fds\u001b[49m\u001b[43m,\u001b[49m\u001b[43m \u001b[49m\u001b[43mcwd\u001b[49m\u001b[43m,\u001b[49m\u001b[43m \u001b[49m\u001b[43menv\u001b[49m\u001b[43m,\u001b[49m\n\u001b[1;32m    860\u001b[0m \u001b[43m                        \u001b[49m\u001b[43mstartupinfo\u001b[49m\u001b[43m,\u001b[49m\u001b[43m \u001b[49m\u001b[43mcreationflags\u001b[49m\u001b[43m,\u001b[49m\u001b[43m \u001b[49m\u001b[43mshell\u001b[49m\u001b[43m,\u001b[49m\n\u001b[1;32m    861\u001b[0m \u001b[43m                        \u001b[49m\u001b[43mp2cread\u001b[49m\u001b[43m,\u001b[49m\u001b[43m \u001b[49m\u001b[43mp2cwrite\u001b[49m\u001b[43m,\u001b[49m\n\u001b[1;32m    862\u001b[0m \u001b[43m                        \u001b[49m\u001b[43mc2pread\u001b[49m\u001b[43m,\u001b[49m\u001b[43m \u001b[49m\u001b[43mc2pwrite\u001b[49m\u001b[43m,\u001b[49m\n\u001b[1;32m    863\u001b[0m \u001b[43m                        \u001b[49m\u001b[43merrread\u001b[49m\u001b[43m,\u001b[49m\u001b[43m \u001b[49m\u001b[43merrwrite\u001b[49m\u001b[43m,\u001b[49m\n\u001b[1;32m    864\u001b[0m \u001b[43m                        \u001b[49m\u001b[43mrestore_signals\u001b[49m\u001b[43m,\u001b[49m\u001b[43m \u001b[49m\u001b[43mstart_new_session\u001b[49m\u001b[43m)\u001b[49m\n\u001b[1;32m    865\u001b[0m \u001b[38;5;28;01mexcept\u001b[39;00m:\n\u001b[1;32m    866\u001b[0m     \u001b[38;5;66;03m# Cleanup if the child failed starting.\u001b[39;00m\n\u001b[1;32m    867\u001b[0m     \u001b[38;5;28;01mfor\u001b[39;00m f \u001b[38;5;129;01min\u001b[39;00m \u001b[38;5;28mfilter\u001b[39m(\u001b[38;5;28;01mNone\u001b[39;00m, (\u001b[38;5;28mself\u001b[39m\u001b[38;5;241m.\u001b[39mstdin, \u001b[38;5;28mself\u001b[39m\u001b[38;5;241m.\u001b[39mstdout, \u001b[38;5;28mself\u001b[39m\u001b[38;5;241m.\u001b[39mstderr)):\n",
      "File \u001b[0;32m/usr/lib/python3.8/subprocess.py:1639\u001b[0m, in \u001b[0;36mPopen._execute_child\u001b[0;34m(self, args, executable, preexec_fn, close_fds, pass_fds, cwd, env, startupinfo, creationflags, shell, p2cread, p2cwrite, c2pread, c2pwrite, errread, errwrite, restore_signals, start_new_session)\u001b[0m\n\u001b[1;32m   1637\u001b[0m     fds_to_keep \u001b[38;5;241m=\u001b[39m \u001b[38;5;28mset\u001b[39m(pass_fds)\n\u001b[1;32m   1638\u001b[0m     fds_to_keep\u001b[38;5;241m.\u001b[39madd(errpipe_write)\n\u001b[0;32m-> 1639\u001b[0m     \u001b[38;5;28mself\u001b[39m\u001b[38;5;241m.\u001b[39mpid \u001b[38;5;241m=\u001b[39m \u001b[43m_posixsubprocess\u001b[49m\u001b[38;5;241;43m.\u001b[39;49m\u001b[43mfork_exec\u001b[49m\u001b[43m(\u001b[49m\n\u001b[1;32m   1640\u001b[0m \u001b[43m            \u001b[49m\u001b[43margs\u001b[49m\u001b[43m,\u001b[49m\u001b[43m \u001b[49m\u001b[43mexecutable_list\u001b[49m\u001b[43m,\u001b[49m\n\u001b[1;32m   1641\u001b[0m \u001b[43m            \u001b[49m\u001b[43mclose_fds\u001b[49m\u001b[43m,\u001b[49m\u001b[43m \u001b[49m\u001b[38;5;28;43mtuple\u001b[39;49m\u001b[43m(\u001b[49m\u001b[38;5;28;43msorted\u001b[39;49m\u001b[43m(\u001b[49m\u001b[38;5;28;43mmap\u001b[39;49m\u001b[43m(\u001b[49m\u001b[38;5;28;43mint\u001b[39;49m\u001b[43m,\u001b[49m\u001b[43m \u001b[49m\u001b[43mfds_to_keep\u001b[49m\u001b[43m)\u001b[49m\u001b[43m)\u001b[49m\u001b[43m)\u001b[49m\u001b[43m,\u001b[49m\n\u001b[1;32m   1642\u001b[0m \u001b[43m            \u001b[49m\u001b[43mcwd\u001b[49m\u001b[43m,\u001b[49m\u001b[43m \u001b[49m\u001b[43menv_list\u001b[49m\u001b[43m,\u001b[49m\n\u001b[1;32m   1643\u001b[0m \u001b[43m            \u001b[49m\u001b[43mp2cread\u001b[49m\u001b[43m,\u001b[49m\u001b[43m \u001b[49m\u001b[43mp2cwrite\u001b[49m\u001b[43m,\u001b[49m\u001b[43m \u001b[49m\u001b[43mc2pread\u001b[49m\u001b[43m,\u001b[49m\u001b[43m \u001b[49m\u001b[43mc2pwrite\u001b[49m\u001b[43m,\u001b[49m\n\u001b[1;32m   1644\u001b[0m \u001b[43m            \u001b[49m\u001b[43merrread\u001b[49m\u001b[43m,\u001b[49m\u001b[43m \u001b[49m\u001b[43merrwrite\u001b[49m\u001b[43m,\u001b[49m\n\u001b[1;32m   1645\u001b[0m \u001b[43m            \u001b[49m\u001b[43merrpipe_read\u001b[49m\u001b[43m,\u001b[49m\u001b[43m \u001b[49m\u001b[43merrpipe_write\u001b[49m\u001b[43m,\u001b[49m\n\u001b[1;32m   1646\u001b[0m \u001b[43m            \u001b[49m\u001b[43mrestore_signals\u001b[49m\u001b[43m,\u001b[49m\u001b[43m \u001b[49m\u001b[43mstart_new_session\u001b[49m\u001b[43m,\u001b[49m\u001b[43m \u001b[49m\u001b[43mpreexec_fn\u001b[49m\u001b[43m)\u001b[49m\n\u001b[1;32m   1647\u001b[0m     \u001b[38;5;28mself\u001b[39m\u001b[38;5;241m.\u001b[39m_child_created \u001b[38;5;241m=\u001b[39m \u001b[38;5;28;01mTrue\u001b[39;00m\n\u001b[1;32m   1648\u001b[0m \u001b[38;5;28;01mfinally\u001b[39;00m:\n\u001b[1;32m   1649\u001b[0m     \u001b[38;5;66;03m# be sure the FD is closed no matter what\u001b[39;00m\n",
      "\u001b[0;31mKeyboardInterrupt\u001b[0m: "
     ]
    }
   ],
   "source": [
    "# save threads to clips\n",
    "# vote_div.text\n",
    "thread_ids = list(set(thread_ids))\n",
    "for thread in tqdm(thread_ids):\n",
    "    print(thread)\n",
    "    build_thread_vid(thread)"
   ]
  },
  {
   "cell_type": "code",
   "execution_count": null,
   "id": "c1ee8a27-3263-43a2-a80a-0b4c16a3c575",
   "metadata": {},
   "outputs": [],
   "source": [
    "# save c to "
   ]
  },
  {
   "cell_type": "code",
   "execution_count": 134,
   "id": "d858f26b-c13c-4a83-bd6a-a62ea9fc59bf",
   "metadata": {},
   "outputs": [],
   "source": [
    "videos = glob.glob(f\"{asset_dir}/{submission_title}/*/*.mp4\")"
   ]
  },
  {
   "cell_type": "code",
   "execution_count": 135,
   "id": "63805f33-1f66-4426-8b76-131b7a9ddb1f",
   "metadata": {},
   "outputs": [],
   "source": [
    "all_video_clips = [mpy.VideoFileClip(video) for video in videos]"
   ]
  },
  {
   "cell_type": "code",
   "execution_count": 136,
   "id": "cb8e0145-185a-4cb2-809e-79bb72374e1b",
   "metadata": {},
   "outputs": [],
   "source": [
    "videos_w_sound_corrected = []\n",
    "for clip in all_video_clips:\n",
    "    clip.audio = clip.audio.fx(mpy.afx.audio_normalize)\n",
    "    videos_w_sound_corrected.append(clip)"
   ]
  },
  {
   "cell_type": "code",
   "execution_count": 137,
   "id": "dddfb80f-b508-4237-8391-ab99188cf938",
   "metadata": {},
   "outputs": [],
   "source": [
    "final_video = mpy.concatenate_videoclips(videos_w_sound_corrected,method=\"compose\")"
   ]
  },
  {
   "cell_type": "code",
   "execution_count": 138,
   "id": "d0741c5f-49db-4d3a-aaf0-c5783261f744",
   "metadata": {},
   "outputs": [],
   "source": [
    "#import moviepy.video.fx as vfx\n",
    "#import moviepy.audio.fx as afx\n",
    "bg_music = mpy.AudioFileClip(\"assets/bg-test.mp3\")\n",
    "\n",
    "bg_music = bg_music.fx( mpy.afx.audio_normalize).fx( mpy.afx.volumex, 0.3).fx( mpy.afx.audio_fadein, 1.0)\n",
    "tts_audio = final_video.audio"
   ]
  },
  {
   "cell_type": "code",
   "execution_count": 139,
   "id": "0b5b2b00-0515-4e32-8f90-1ba22a498de2",
   "metadata": {},
   "outputs": [],
   "source": [
    "bgm_w_tts_audio = mpy.CompositeAudioClip([bg_music,tts_audio])"
   ]
  },
  {
   "cell_type": "code",
   "execution_count": 140,
   "id": "00938b60-0568-4a14-b6d2-6266781c0fa1",
   "metadata": {},
   "outputs": [],
   "source": [
    "final_video.audio = bgm_w_tts_audio"
   ]
  },
  {
   "cell_type": "code",
   "execution_count": 141,
   "id": "0f8ec0bb-caae-4f6a-90a9-953218af1f60",
   "metadata": {},
   "outputs": [],
   "source": [
    "final_video.write_videofile(f\"assets/test_final_vid.mp4\",fps=30,logger=None)"
   ]
  },
  {
   "cell_type": "code",
   "execution_count": 142,
   "id": "a5728156-7d49-446e-95ef-395586ce9a55",
   "metadata": {},
   "outputs": [
    {
     "data": {
      "text/plain": [
       "2"
      ]
     },
     "execution_count": 142,
     "metadata": {},
     "output_type": "execute_result"
    }
   ],
   "source": [
    "1+1"
   ]
  },
  {
   "cell_type": "code",
   "execution_count": 87,
   "id": "4fd329b0-056b-4e26-a02a-b2bf1fca4573",
   "metadata": {},
   "outputs": [
    {
     "data": {
      "text/plain": [
       "\u001b[0;31mSignature:\u001b[0m\n",
       "\u001b[0mmpy\u001b[0m\u001b[0;34m.\u001b[0m\u001b[0mconcatenate_videoclips\u001b[0m\u001b[0;34m(\u001b[0m\u001b[0;34m\u001b[0m\n",
       "\u001b[0;34m\u001b[0m    \u001b[0mclips\u001b[0m\u001b[0;34m,\u001b[0m\u001b[0;34m\u001b[0m\n",
       "\u001b[0;34m\u001b[0m    \u001b[0mmethod\u001b[0m\u001b[0;34m=\u001b[0m\u001b[0;34m'chain'\u001b[0m\u001b[0;34m,\u001b[0m\u001b[0;34m\u001b[0m\n",
       "\u001b[0;34m\u001b[0m    \u001b[0mtransition\u001b[0m\u001b[0;34m=\u001b[0m\u001b[0;32mNone\u001b[0m\u001b[0;34m,\u001b[0m\u001b[0;34m\u001b[0m\n",
       "\u001b[0;34m\u001b[0m    \u001b[0mbg_color\u001b[0m\u001b[0;34m=\u001b[0m\u001b[0;32mNone\u001b[0m\u001b[0;34m,\u001b[0m\u001b[0;34m\u001b[0m\n",
       "\u001b[0;34m\u001b[0m    \u001b[0mismask\u001b[0m\u001b[0;34m=\u001b[0m\u001b[0;32mFalse\u001b[0m\u001b[0;34m,\u001b[0m\u001b[0;34m\u001b[0m\n",
       "\u001b[0;34m\u001b[0m    \u001b[0mpadding\u001b[0m\u001b[0;34m=\u001b[0m\u001b[0;36m0\u001b[0m\u001b[0;34m,\u001b[0m\u001b[0;34m\u001b[0m\n",
       "\u001b[0;34m\u001b[0m\u001b[0;34m)\u001b[0m\u001b[0;34m\u001b[0m\u001b[0;34m\u001b[0m\u001b[0m\n",
       "\u001b[0;31mDocstring:\u001b[0m\n",
       "Concatenates several video clips\n",
       "\n",
       "Returns a video clip made by clip by concatenating several video clips.\n",
       "(Concatenated means that they will be played one after another).\n",
       "\n",
       "There are two methods:\n",
       "\n",
       "- method=\"chain\": will produce a clip that simply outputs\n",
       "  the frames of the succesive clips, without any correction if they are\n",
       "  not of the same size of anything. If none of the clips have masks the\n",
       "  resulting clip has no mask, else the mask is a concatenation of masks\n",
       "  (using completely opaque for clips that don't have masks, obviously).\n",
       "  If you have clips of different size and you want to write directly the\n",
       "  result of the concatenation to a file, use the method \"compose\" instead.\n",
       "\n",
       "- method=\"compose\", if the clips do not have the same\n",
       "  resolution, the final resolution will be such that no clip has\n",
       "   to be resized.\n",
       "   As a consequence the final clip has the height of the highest\n",
       "   clip and the width of the widest clip of the list. All the\n",
       "   clips with smaller dimensions will appear centered. The border\n",
       "   will be transparent if mask=True, else it will be of the\n",
       "   color specified by ``bg_color``.\n",
       "\n",
       "The clip with the highest FPS will be the FPS of the result clip.\n",
       "\n",
       "Parameters\n",
       "-----------\n",
       "clips\n",
       "  A list of video clips which must all have their ``duration``\n",
       "  attributes set.\n",
       "method\n",
       "  \"chain\" or \"compose\": see above.\n",
       "transition\n",
       "  A clip that will be played between each two clips of the list.\n",
       "\n",
       "bg_color\n",
       "  Only for method='compose'. Color of the background.\n",
       "  Set to None for a transparent clip\n",
       "\n",
       "padding\n",
       "  Only for method='compose'. Duration during two consecutive clips.\n",
       "  Note that for negative padding, a clip will partly play at the same\n",
       "  time as the clip it follows (negative padding is cool for clips who fade\n",
       "  in on one another). A non-null padding automatically sets the method to\n",
       "  `compose`.\n",
       "\u001b[0;31mFile:\u001b[0m      ~/.local/share/virtualenvs/reddit-yt-tts-Dm6P-A76/lib/python3.8/site-packages/moviepy/video/compositing/concatenate.py\n",
       "\u001b[0;31mType:\u001b[0m      function\n"
      ]
     },
     "metadata": {},
     "output_type": "display_data"
    }
   ],
   "source": [
    "mpy.concatenate_videoclips?"
   ]
  },
  {
   "cell_type": "code",
   "execution_count": null,
   "id": "ff331c15-9a42-4318-956e-1240976b74f5",
   "metadata": {},
   "outputs": [],
   "source": []
  }
 ],
 "metadata": {
  "kernelspec": {
   "display_name": "Python 3 (ipykernel)",
   "language": "python",
   "name": "python3"
  },
  "language_info": {
   "codemirror_mode": {
    "name": "ipython",
    "version": 3
   },
   "file_extension": ".py",
   "mimetype": "text/x-python",
   "name": "python",
   "nbconvert_exporter": "python",
   "pygments_lexer": "ipython3",
   "version": "3.8.10"
  }
 },
 "nbformat": 4,
 "nbformat_minor": 5
}
