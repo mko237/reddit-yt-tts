{
 "cells": [
  {
   "cell_type": "code",
   "execution_count": 123,
   "id": "8c1d4ed9-9753-4e04-ad08-4ce390e544bd",
   "metadata": {},
   "outputs": [],
   "source": [
    "from proxy_chrome_browser import get_chromedriver, build_proxy_extension\n",
    "import moviepy.editor as mpy\n",
    "import glob\n",
    "import os\n",
    "from time import sleep\n",
    "from tqdm import tqdm"
   ]
  },
  {
   "cell_type": "code",
   "execution_count": 124,
   "id": "40247161-0fbe-47f0-80fe-fddbc865037a",
   "metadata": {},
   "outputs": [],
   "source": [
    "br = get_chromedriver(headless=True,path='/home/miko/Downloads/chromedriver-v-108-0-5359-71')"
   ]
  },
  {
   "cell_type": "code",
   "execution_count": 125,
   "id": "9ff6673d-20e9-4abb-b05c-2c8e3d840c92",
   "metadata": {},
   "outputs": [],
   "source": [
    "def find_elm(tag,driver=br,_all=False,_by=\"css\"):\n",
    "    from selenium.webdriver.common.by import By\n",
    "    if _by==\"css\":\n",
    "        _by=By.CSS_SELECTOR\n",
    "    elif _by==\"link_text\":\n",
    "        _by=By.PARTIAL_LINK_TEXT\n",
    "    elif _by==\"link_text_exact\":\n",
    "        _by=By.LINK_TEXT\n",
    "        \n",
    "    try:\n",
    "        if _all:\n",
    "            out = driver.find_elements(by=_by,value=tag)\n",
    "        else:\n",
    "            out = driver.find_element(by=_by,value=tag)\n",
    "    except:\n",
    "        #print('None')\n",
    "        out = None\n",
    "    return out"
   ]
  },
  {
   "cell_type": "code",
   "execution_count": 126,
   "id": "01614665-e18d-468d-ae6a-211c09dec794",
   "metadata": {},
   "outputs": [],
   "source": [
    "def save_screenshot(elm,filename,scrollY=None):\n",
    "    assert filename[-3:] == \"png\", \"filename should end with png\"\n",
    "    scroll_into_view(elm,scrollY)\n",
    "    with open(filename,\"wb\") as f:\n",
    "        f.write(elm.screenshot_as_png)"
   ]
  },
  {
   "cell_type": "code",
   "execution_count": 127,
   "id": "7ef434d9-f05d-4c0f-8e7b-d600badbd720",
   "metadata": {},
   "outputs": [],
   "source": [
    "def scroll_into_view(elm,scrollY=None):\n",
    "     #source: -https://stackoverflow.com/questions/25733877/selenium-how-do-you-check-scroll-position\n",
    "     #loc = elm.location\n",
    "     #current_view_script = \"\"\" var doc = document.documentElement;\n",
    "     #var left = (window.pageXOffset || doc.scrollLeft) - (doc.clientLeft || 0);\n",
    "     #var top = (window.pageYOffset || doc.scrollTop)  - (doc.clientTop || 0);\n",
    "        \n",
    "     #taking screenshot will scroll into view. IF this stops working can use javascript above\n",
    "     elm.screenshot_as_png\n",
    "     sleep(.2)\n",
    "     # scroll a bit to add margin (prevent floating login bar from obscuring elm);\n",
    "     if scrollY:\n",
    "         br.execute_script(f\"window.scrollBy(0,{scrollY})\", \"\")\n",
    "         sleep(.5)\n"
   ]
  },
  {
   "cell_type": "code",
   "execution_count": 128,
   "id": "3e52bfde-3a80-4bde-8e0e-001e9af67ee6",
   "metadata": {},
   "outputs": [],
   "source": [
    "#set to dark theme\n",
    "br.get(\"https://www.reddit.com\")"
   ]
  },
  {
   "cell_type": "code",
   "execution_count": 129,
   "id": "597b18c5-8f0a-47e0-97d3-864bb6af7f87",
   "metadata": {},
   "outputs": [],
   "source": [
    "icon = find_elm(\"button[id='USER_DROPDOWN_ID']\")\n",
    "icon.click()\n",
    "sleep(.5)\n",
    "dark_btn = find_elm(\"button[data-redditstyle='true']\")\n",
    "dark_btn.click()\n",
    "sleep(.5)\n",
    "# if for some reason click isnt working. set it manually\n",
    "#input(\"Confirm darkmode has been set (press enter)\")"
   ]
  },
  {
   "cell_type": "code",
   "execution_count": 222,
   "id": "8415ab86-ed6b-4b38-9b7d-7409e2b9ee58",
   "metadata": {},
   "outputs": [],
   "source": [
    "#post_url = \"https://www.reddit.com/r/AskReddit/comments/ypzsqh/men_of_reddit_what_are_some_less_obvious_red/\"\n",
    "#post_url = \"https://www.reddit.com/r/AskReddit/comments/ycb6hp/whats_a_harsh_reality_that_everybody_needs_to_hear/\"\n",
    "#post_url = \"https://www.reddit.com/r/AskReddit/comments/y5bcsl/nonamericans_what_do_you_think_every_american/\"\n",
    "#post_url =\"https://www.reddit.com/r/AskReddit/comments/ydz1j5/what_is_25_years_too_old_for/\"\n",
    "#post_url = \"https://www.reddit.com/r/AskReddit/comments/y5wxnn/what_is_the_stupidest_thing_a_large_amount_of/?sort=confidence\"\n",
    "#post_url = \"https://www.reddit.com/r/AskReddit/comments/ynpnd5/serious_what_stole_your_joy_why_do_you_not_have/?sort=confid?ence\"\n",
    "#post_url = \"https://www.reddit.com/r/AskReddit/comments/yabrxc/whats_a_subtle_sign_of_low_intelligence/?sort=confidence\"\n",
    "#post_url = \"https://www.reddit.com/r/AskReddit/comments/yuibit/what_job_contributes_nothing_to_society/?sort=confidence\"\n",
    "#post_url = \"https://www.reddit.com/r/AskReddit/comments/yxxs30/who_had_the_biggest_fall_from_grace_in_history/?sort=confidence\"\n",
    "#post_url = \"https://www.reddit.com/r/AskReddit/comments/ym1lxv/reddit_whats_your_most_im_with_the_boomers_on/?sort=confidence\"\n",
    "#post_url = \"https://www.reddit.com/r/AskReddit/comments/ylvk5f/what_was_great_advice_20_years_ago_but_definitely/?sort=confidence\"\n",
    "#post_url = \"https://www.reddit.com/r/AskReddit/comments/ypu67r/whats_a_hill_youre_willing_to_die_on_every_time/?sort=confidence\"\n",
    "#post_url = \"https://www.reddit.com/r/AskReddit/comments/ywemuo/americans_of_reddit_what_is_the_worst_big_city_in/?sort=confidence\"\n",
    "#post_url = \"https://www.reddit.com/r/AskReddit/comments/ym1lxv/reddit_whats_your_most_im_with_the_boomers_on/?sort=confidence\"\n",
    "#post_url = \"https://www.reddit.com/r/AskReddit/comments/z40utz/what_did_the_pandemic_ruin_more_than_we_realise/?sort=confidence\"\n",
    "#post_url = \"https://www.reddit.com/r/AskReddit/comments/z5neg5/what_tv_show_never_had_a_decline_in_quality/?sort=confidence\"\n",
    "#post_url = \"https://www.reddit.com/r/AskReddit/comments/z1l0m4/what_was_the_saddest_fictional_character_death/?sort=confidence\"\n",
    "#post_url = \"https://www.reddit.com/r/AskReddit/comments/z6l6xn/how_much_do_someones_political_views_matter_when/?sort=confidence\"\n",
    "#post_url = \"https://www.reddit.com/r/AskReddit/comments/ykxnob/what_started_as_a_joke_but_people_take_it_way_to/?sort=confidence\"\n",
    "#post_url = \"https://www.reddit.com/r/AskReddit/comments/yvxhc3/whats_the_one_thing_you_would_never_buy_second/?sort=confidence\"\n",
    "#post_url = \"https://www.reddit.com/r/AskReddit/comments/xfcbr4/what_villain_was_terrifying_because_they_were/?sort=confidence\"\n",
    "#post_url = \"https://www.reddit.com/r/AskReddit/comments/vfq7z9/whats_a_modern_day_scam_thats_become_normalized/?sort=confidence\"\n",
    "#post_url = \"https://www.reddit.com/r/AskReddit/comments/vhki66/what_improved_your_life_so_much_you_wished_you/?sort=confidence\"\n",
    "#post_url = \"https://www.reddit.com/r/AskReddit/comments/vjpkye/the_supreme_court_has_overturned_roe_v_wade_how/?sort=confidence\"\n",
    "#post_url = \"https://www.reddit.com/r/AskReddit/comments/z3uzhi/what_ruined_your_thanksgiving_this_year/?sort=confidence\"\n",
    "#post_url = \"https://www.reddit.com/r/AskReddit/comments/z4wbcb/whats_the_best_cartoon_show_of_all_time/?sort=confidence\"\n",
    "#post_url = \"https://www.reddit.com/r/AskReddit/comments/z8ecob/who_is_the_female_vocal_equivalent_of_morgan/?sort=confidence\"\n",
    "#post_url = \"https://www.reddit.com/r/AskReddit/comments/z4pq24/what_celebrity_death_was_the_most_unexpected/?sort=confidence\"\n",
    "#post_url = \"https://www.reddit.com/r/AskReddit/comments/z78r84/if_you_invented_a_car_that_ran_on_stupidity_where/?sort=confidence\"\n",
    "#post_url = \"https://www.reddit.com/r/AskReddit/comments/zfew2z/whats_a_hobby_someone_can_have_that_is_an/?sort=confidence\"\n",
    "#post_url = \"https://www.reddit.com/r/AskReddit/comments/zhp9r1/whats_a_womens_thing_men_should_absolutely_start/?sort=confidence\"\n",
    "#post_url = \"https://www.reddit.com/r/AskReddit/comments/zeuksw/what_should_you_never_do_in_the_united_states/?sort=confidence\"\n",
    "#post_url = \"https://www.reddit.com/r/AskReddit/comments/ze76ah/whats_the_worst_mistake_youve_seen_someone_do_in/?sort=confidence\"\n",
    "#post_url =  \"https://www.reddit.com/r/AskReddit/comments/ziqmsh/what_dark_secret_are_you_hiding_from_everyone/?sort=confidence\"\n",
    "#post_url = \"https://www.reddit.com/r/AskReddit/comments/ziqmsh/what_screams_insecurity_but_most_people_dont/?sort=confidence\"\n",
    "#post_url = \"https://www.reddit.com/r/AskReddit/comments/zk8wn9/not_using_110_how_attractive_are_you/?sort=confidence\"\n",
    "#post_url = \"https://www.reddit.com/r/AskReddit/comments/zlq3aa/those_who_havent_caught_covid_yet_how_have_you/?sort=confidence\"\n",
    "#post_url = \"https://www.reddit.com/r/AskReddit/comments/zo6zuv/if_you_had_the_ability_to_bring_back_a_canceled/?sort=confidence\"\n",
    "#post_url = \"https://www.reddit.com/r/AskReddit/comments/zm4u9z/us_wants_to_ban_tiktok_what_are_your_thoughts/?sort=confidence\"\n",
    "#post_url = \"https://www.reddit.com/r/AskReddit/comments/zd6pxv/whats_something_we_all_just_pretend_no_one_does/?sort=confidence\"\n",
    "#post_url = \"https://www.reddit.com/r/AskReddit/comments/zuzhgo/what_screams_im_a_bad_parent/?sort=confidence\"\n",
    "#post_url = \"https://www.reddit.com/r/AskReddit/comments/zsqivw/what_is_an_american_thing_but_americans_think/?sort=confidence\"\n",
    "#post_url = \"https://www.reddit.com/r/AskReddit/comments/zquyhv/what_was_ruined_by_rich_people/?sort=confidence\"\n",
    "#post_url = \"https://www.reddit.com/r/AskReddit/comments/zpo3so/what_is_so_ridiculously_overpriced_yet_you_still/?sort=confidence\"\n",
    "#post_url = \"https://www.reddit.com/r/AskReddit/comments/zoynqc/what_was_ruined_because_too_many_people_did_it/?sort=confidence\"\n",
    "\n",
    "#post_url = \"https://www.reddit.com/r/AskReddit/comments/zy5kmq/what_fact_are_you_just_tired_of_explaining_to/?sort=confidence\"\n",
    "#post_url = \"https://www.reddit.com/r/AskReddit/comments/zzui88/what_do_we_need_to_stop_teaching_the_children/?sort=confidence\"\n",
    "#post_url = \"https://www.reddit.com/r/AskReddit/comments/103a4x5/whats_a_sound_you_heard_when_you_were_young_that/?sort=confidence\"\n",
    "#post_url = \"https://www.reddit.com/r/AskReddit/comments/1025m0g/people_of_reddit_what_do_you_mis_about_the_covid/?sort=confidence\"\n",
    "#post_url = \"https://www.reddit.com/r/AskReddit/comments/10034fk/what_company_would_you_like_to_go_bankrupt/?sort=confidence\"\n",
    "#post_url = \"https://www.reddit.com/r/AskReddit/comments/zwv8pq/youve_just_won_250_million_and_its_been_deposited/?sort=confidence\"\n",
    "#post_url = \"https://www.reddit.com/r/AskReddit/comments/zuckzx/what_does_europe_have_that_north_america_does_not/?sort=confidence\"\n",
    "#post_url = \"https://www.reddit.com/r/AskReddit/comments/zsl0mj/what_made_you_not_want_to_have_kids/?sort=confidence\"\n",
    "#post_url = \"https://www.reddit.com/r/AskReddit/comments/ztsagt/what_is_something_acceptable_in_women_but_frowned/?sort=confidence\"\n",
    "#post_url = \"https://www.reddit.com/r/AskReddit/comments/zi7edc/whats_one_of_lifes_biggest_traps_that_people_fall/?sort=confidence\"\n",
    "#post_url = \"https://www.reddit.com/r/AskReddit/comments/zppkqv/what_joke_is_starting_to_get_old_now/?sort=confidence\"\n",
    "\n",
    "#post_url = \"https://www.reddit.com/r/AskReddit/comments/zshbwg/if_you_had_the_power_to_shut_down_a_company_for/?sort=confidence\""
   ]
  },
  {
   "cell_type": "code",
   "execution_count": 223,
   "id": "04f0e4af-f63b-44f0-b405-4d3c94151fb2",
   "metadata": {},
   "outputs": [],
   "source": [
    "br.get(post_url)"
   ]
  },
  {
   "cell_type": "code",
   "execution_count": 224,
   "id": "fc757993-08c7-41ea-b828-7d37ef0db133",
   "metadata": {},
   "outputs": [],
   "source": [
    "#br.switch_to.active_element.text"
   ]
  },
  {
   "cell_type": "code",
   "execution_count": 225,
   "id": "ab412758-6761-4237-a2a0-8812a577c3c9",
   "metadata": {},
   "outputs": [],
   "source": [
    "sleep(10)"
   ]
  },
  {
   "cell_type": "code",
   "execution_count": 226,
   "id": "e6269d65-cbae-4ed4-81ea-e0e45d85f396",
   "metadata": {},
   "outputs": [
    {
     "name": "stdout",
     "output_type": "stream",
     "text": [
      "getting more replies\n",
      "getting more replies\n",
      "getting more replies\n",
      "getting more replies\n",
      "getting more replies\n",
      "getting more replies\n"
     ]
    }
   ],
   "source": [
    "# expand replies\n",
    "num_replies_threshold = 90\n",
    "get_replies = True\n",
    "num_total_loops = 5\n",
    "current_loop_num = 0\n",
    "clicked_links = []\n",
    "while get_replies:\n",
    "    more_replies_divs = find_elm(\"div[id^='moreComments']\",_all=True)\n",
    "    expandable_divs = []\n",
    "    for div in more_replies_divs:\n",
    "        more_replies_link = find_elm(\"p\",driver=div)\n",
    "        #p = br.execute_script(\"return arguments[0].parentNode;\",more_replies_link)\n",
    "        if not more_replies_link:\n",
    "            continue\n",
    "        if more_replies_link.text == '' or 'loading..' in more_replies_link.text:\n",
    "            continue\n",
    "        num_replies = int(more_replies_link.text.split()[0].replace(\",\",\"\"))\n",
    "        if num_replies >= num_replies_threshold:\n",
    "            if more_replies_link not in clicked_links:\n",
    "                expandable_divs.append(more_replies_link)\n",
    "            else:\n",
    "                continue\n",
    "    for div in expandable_divs:\n",
    "        #link_elm = find_elm(\"div[data-testid^='search-scope-pill-text']\")\n",
    "        try:\n",
    "            scroll_into_view(more_replies_link)\n",
    "            div.click()\n",
    "            sleep(1)\n",
    "        except:\n",
    "            continue  \n",
    "    if len(expandable_divs) == 0:\n",
    "        get_replies = False\n",
    "    if current_loop_num >= num_total_loops:\n",
    "        get_replies = False\n",
    "    else:\n",
    "        current_loop_num += 1\n",
    "    print(\"getting more replies\")\n",
    "    #todo: find a better stopping condition"
   ]
  },
  {
   "cell_type": "code",
   "execution_count": 227,
   "id": "32f0fd58-4a9f-499d-b634-8931f05383b4",
   "metadata": {},
   "outputs": [],
   "source": [
    "# get comments\n",
    "comments = find_elm(\"div[class*='Comment']\",_all=True)"
   ]
  },
  {
   "cell_type": "code",
   "execution_count": 228,
   "id": "23ca09c0-43ed-4dbe-92de-ee5e7081c37e",
   "metadata": {},
   "outputs": [],
   "source": [
    "#prepend original post to comments\n",
    "post = [find_elm(\"div[data-test-id='post-content']\"),]\n",
    "post.extend(comments)\n",
    "comments = post"
   ]
  },
  {
   "cell_type": "code",
   "execution_count": 229,
   "id": "2e20c98a-c57d-4aa2-a266-508b509a4b26",
   "metadata": {},
   "outputs": [
    {
     "data": {
      "text/plain": [
       "401"
      ]
     },
     "execution_count": 229,
     "metadata": {},
     "output_type": "execute_result"
    }
   ],
   "source": [
    "len(comments)"
   ]
  },
  {
   "cell_type": "code",
   "execution_count": 230,
   "id": "da3b1d00-af79-4d32-8e51-b8c2737bbfea",
   "metadata": {},
   "outputs": [],
   "source": [
    "submission_title = post_url.split(\"/\")[-2]"
   ]
  },
  {
   "cell_type": "code",
   "execution_count": 231,
   "id": "b5d26d65-3b5b-4674-be22-b0b9ae3de585",
   "metadata": {},
   "outputs": [],
   "source": [
    "#asset_dir=\"assets/demo_png_2_vid\"\n",
    "asset_dir=\"/mnt/n/data/reddit-yt-tts/queued\"\n",
    "completed_dir=\"/mnt/n/data/reddit-yt-tts/completed\"\n",
    "#thread_ids = []"
   ]
  },
  {
   "cell_type": "code",
   "execution_count": 232,
   "id": "33a42f0e-e400-4543-b465-1a5685261901",
   "metadata": {},
   "outputs": [
    {
     "data": {
      "text/plain": [
       "'what_joke_is_starting_to_get_old_now'"
      ]
     },
     "execution_count": 232,
     "metadata": {},
     "output_type": "execute_result"
    }
   ],
   "source": [
    "submission_title"
   ]
  },
  {
   "cell_type": "code",
   "execution_count": 233,
   "id": "dbde7aeb-c77b-492f-9845-188aefe1c01a",
   "metadata": {},
   "outputs": [],
   "source": [
    "def save_comment_text(filename,comment,selector='p'):\n",
    "    comment_text = \" \".join([x.text for x in find_elm(selector,driver=comment,_all=True)])\n",
    "    with open(filename,\"w\") as f:\n",
    "        f.write(comment_text)"
   ]
  },
  {
   "cell_type": "code",
   "execution_count": 234,
   "id": "ab154d47-3f04-40e4-b00e-d314053a3bdb",
   "metadata": {},
   "outputs": [
    {
     "name": "stderr",
     "output_type": "stream",
     "text": [
      "100%|███████████████████████████████████████████████████████████████████████████████████████████████████████████████████████████████████████████████████████████████████████████████████████████████████████████████████████████████████████████| 401/401 [03:22<00:00,  1.98it/s]\n"
     ]
    }
   ],
   "source": [
    "#save threaded comment screenshot as png to directory\n",
    "vote_count_threshold = 450\n",
    "thread_count = 0\n",
    "parent_comment_stack = [dict(comment=comments[0],saved=True)]\n",
    "prev_comment_lvl = 1\n",
    "prev_comment = comments[0]\n",
    "prev_comment_id = -1\n",
    "i = 0\n",
    "for comment in tqdm(comments):\n",
    "    # filter deleted comments\n",
    "    if \"Comment deleted by user\" in comment.text:\n",
    "        continue\n",
    "    \n",
    "    # some comments arnt expanded, skipping\n",
    "    if len(comment.text.split(\"\\n\")) <= 4:\n",
    "           continue\n",
    "           \n",
    "    #filter highly voted comments\n",
    "    vote_div = find_elm(\"div[id^='vote-arrows']\",driver=comment)\n",
    "    if not vote_div or vote_div.text == '' or vote_div.text == \"Vote\":\n",
    "        continue\n",
    "        \n",
    "    multiply_1k = 'k' in vote_div.text\n",
    "    if multiply_1k:\n",
    "        vote_count = float(vote_div.text.replace(\"k\",\"\")) * 1000\n",
    "    else:\n",
    "        vote_count = int(vote_div.text)\n",
    "    \n",
    "    if i == 0:\n",
    "        comment_lvl = 1\n",
    "    else:\n",
    "        comment_lvl = find_elm(\"span\",comment).text\n",
    "        comment_lvl = int(comment_lvl.lower().replace(\"level\",\"\").strip())\n",
    "\n",
    "    #if \"1\" in comment_lvl:\n",
    "    if comment_lvl == 1:\n",
    "        thread_count += 1\n",
    "        user = comment.text.split(\"\\n\")[1]\n",
    "        vote_count_txt = vote_div.text.replace(\".\",\"_\")\n",
    "        thread_id = f\"{thread_count:04}-{user}-{vote_count_txt}\"\n",
    "        \n",
    "        comment_id=0\n",
    "    else:\n",
    "        comment_id+=1\n",
    "        \n",
    "    # Save parent comments even if threshold is not met\n",
    "    if comment_lvl > prev_comment_lvl:\n",
    "        # entering a nested thread, mark new parent...\n",
    "        parent_comment_stack.append(dict(comment=prev_comment,comment_id=prev_comment_id,saved=False))\n",
    "    elif comment_lvl < prev_comment_lvl:\n",
    "        # leaving a nested thread, remove previous parent\n",
    "        parent_comment_stack = parent_comment_stack[:-1]\n",
    "        \n",
    "    \n",
    "    # Check whether comment should be saved\n",
    "    save_comment = False\n",
    "    if vote_count >= vote_count_threshold:\n",
    "        save_comment = True\n",
    "    \n",
    "    #save parent comment\n",
    "    parent_comment = parent_comment_stack[-1]\n",
    "    if save_comment and not parent_comment[\"saved\"]:\n",
    "        #todo refactor to fn\n",
    "        folder = f\"{asset_dir}/{submission_title}/{thread_id}\"\n",
    "        if not os.path.exists(folder):\n",
    "            os.makedirs(folder)\n",
    "        save_screenshot(parent_comment['comment'],f\"{folder}/{parent_comment['comment_id']:04}.png\")\n",
    "        save_comment_text(filename=f\"{folder}/{parent_comment['comment_id']:04}.txt\",comment=parent_comment['comment'])\n",
    "        parent_comment[\"saved\"] = True\n",
    "        \n",
    "    #Save comment\n",
    "    if save_comment:\n",
    "        #thread_ids.append(thread_id)\n",
    "        folder = f\"{asset_dir}/{submission_title}/{thread_id}\"\n",
    "        if not os.path.exists(folder):\n",
    "            os.makedirs(folder)\n",
    "        save_screenshot(comment,f\"{folder}/{comment_id:04}.png\")\n",
    "        if i == 0:\n",
    "            save_screenshot(comment,f\"{folder}/{comment_id:04}.png\",scrollY=-55)\n",
    "            save_comment_text(filename=f\"{folder}/{comment_id:04}.txt\",comment=comment,selector='h1')\n",
    "        else:\n",
    "            save_screenshot(comment,f\"{folder}/{comment_id:04}.png\")\n",
    "            save_comment_text(filename=f\"{folder}/{comment_id:04}.txt\",comment=comment)\n",
    "    \n",
    "    # init vars for next iteration\n",
    "    prev_comment_lvl = comment_lvl\n",
    "    prev_comment = comment\n",
    "    prev_comment_id = comment_id\n",
    "    i+=1"
   ]
  },
  {
   "cell_type": "code",
   "execution_count": 235,
   "id": "da7f0383-8605-4a22-9580-ef061f735e62",
   "metadata": {},
   "outputs": [],
   "source": [
    "#save_screenshot(commeants[1],f\"{asset_dir}/test.png\")"
   ]
  },
  {
   "cell_type": "code",
   "execution_count": 252,
   "id": "9afd90ed-8102-40e0-aa6a-cbb0318a7e4c",
   "metadata": {},
   "outputs": [
    {
     "name": "stdin",
     "output_type": "stream",
     "text": [
      "Execute TTS at this point (on windows GPU) then run below...(press enter) \n"
     ]
    },
    {
     "data": {
      "text/plain": [
       "''"
      ]
     },
     "execution_count": 252,
     "metadata": {},
     "output_type": "execute_result"
    }
   ],
   "source": [
    "# Execute TTS at this point (on windows GPU) then run below\n",
    "input(\"Execute TTS at this point (on windows GPU) then run below...(press enter)\")"
   ]
  },
  {
   "cell_type": "code",
   "execution_count": 290,
   "id": "a0418da4-d593-41ce-9467-82bb59827b89",
   "metadata": {},
   "outputs": [
    {
     "data": {
      "text/plain": [
       "['what_do_we_need_to_stop_teaching_the_children',\n",
       " 'what_fact_are_you_just_tired_of_explaining_to',\n",
       " 'what_is_something_acceptable_in_women_but_frowned',\n",
       " 'if_you_had_the_power_to_shut_down_a_company_for',\n",
       " 'what_joke_is_starting_to_get_old_now',\n",
       " 'youve_just_won_250_million_and_its_been_deposited',\n",
       " 'whats_one_of_lifes_biggest_traps_that_people_fall',\n",
       " 'what_made_you_not_want_to_have_kids',\n",
       " 'whats_a_sound_you_heard_when_you_were_young_that',\n",
       " 'what_company_would_you_like_to_go_bankrupt',\n",
       " 'people_of_reddit_what_do_you_mis_about_the_covid']"
      ]
     },
     "execution_count": 290,
     "metadata": {},
     "output_type": "execute_result"
    }
   ],
   "source": [
    "submission_titles = [x.split(\"/\")[-1] for x in glob.glob(f\"{asset_dir}/*\")]\n",
    "submission_titles"
   ]
  },
  {
   "cell_type": "code",
   "execution_count": 291,
   "id": "ef6348d0-0ade-4067-95e3-3efb51c28800",
   "metadata": {},
   "outputs": [],
   "source": [
    "post_urls = [\"https://www.reddit.com/r/AskReddit/comments/zy5kmq/what_fact_are_you_just_tired_of_explaining_to/?sort=confidence\",\n",
    "\"https://www.reddit.com/r/AskReddit/comments/zzui88/what_do_we_need_to_stop_teaching_the_children/?sort=confidence\",\n",
    "\"https://www.reddit.com/r/AskReddit/comments/103a4x5/whats_a_sound_you_heard_when_you_were_young_that/?sort=confidence\",\n",
    "\"https://www.reddit.com/r/AskReddit/comments/1025m0g/people_of_reddit_what_do_you_mis_about_the_covid/?sort=confidence\",\n",
    "\"https://www.reddit.com/r/AskReddit/comments/10034fk/what_company_would_you_like_to_go_bankrupt/?sort=confidence\",\n",
    "\"https://www.reddit.com/r/AskReddit/comments/zwv8pq/youve_just_won_250_million_and_its_been_deposited/?sort=confidence\",\n",
    "\"https://www.reddit.com/r/AskReddit/comments/zuckzx/what_does_europe_have_that_north_america_does_not/?sort=confidence\",\n",
    "\"https://www.reddit.com/r/AskReddit/comments/zsl0mj/what_made_you_not_want_to_have_kids/?sort=confidence\",\n",
    "\"https://www.reddit.com/r/AskReddit/comments/ztsagt/what_is_something_acceptable_in_women_but_frowned/?sort=confidence\",\n",
    "\"https://www.reddit.com/r/AskReddit/comments/zi7edc/whats_one_of_lifes_biggest_traps_that_people_fall/?sort=confidence\",\n",
    "\"https://www.reddit.com/r/AskReddit/comments/zppkqv/what_joke_is_starting_to_get_old_now/?sort=confidence\"]"
   ]
  },
  {
   "cell_type": "code",
   "execution_count": 293,
   "id": "75afba58-5426-454f-84dd-7f13859482b0",
   "metadata": {},
   "outputs": [
    {
     "name": "stderr",
     "output_type": "stream",
     "text": [
      "  0%|                                                                                                                                                                                                                                                      | 0/41 [00:00<?, ?it/s]"
     ]
    },
    {
     "name": "stdout",
     "output_type": "stream",
     "text": [
      "0001-Posted by-23_3k\n"
     ]
    },
    {
     "name": "stderr",
     "output_type": "stream",
     "text": [
      "  2%|█████▊                                                                                                                                                                                                                                        | 1/41 [00:02<01:40,  2.52s/it]"
     ]
    },
    {
     "name": "stdout",
     "output_type": "stream",
     "text": [
      "0002-neuroboy-7_4k\n"
     ]
    },
    {
     "name": "stderr",
     "output_type": "stream",
     "text": [
      "  2%|█████▊                                                                                                                                                                                                                                        | 1/41 [00:06<04:25,  6.64s/it]\n",
      "\n",
      "KeyboardInterrupt\n",
      "\n"
     ]
    }
   ],
   "source": [
    "for submission_title in submission_titles:\n",
    "    print(f\"Processing {submission_title} ...\")\n",
    "    post_url = list(filter(lambda x: submission_title in x,post_urls))[0] #index errors due to missing post_url \n",
    "\n",
    "    thread_ids = [x.split(\"/\")[-1] for x in glob.glob(f\"{asset_dir}/{submission_title}/*\")]\n",
    "\n",
    "    def build_thread_vid(thread_id,bg_img=\"assets/Qv79akqGQt0.png\"):\n",
    "        images = glob.glob(f\"{asset_dir}/{submission_title}/{thread_id}/*.png\")\n",
    "        images = sorted(images)\n",
    "        audio_file_dir = f\"{completed_dir}/{submission_title}/{thread_id}\"\n",
    "        # https://zulko.github.io/moviepy/examples/examples.html\n",
    "        clips = []\n",
    "\n",
    "        audio_clips = []\n",
    "        total_duration = 0\n",
    "        transition_duration = 0\n",
    "\n",
    "        for i,image in enumerate(images):\n",
    "\n",
    "            image_file = image.split(\"/\")[-1]\n",
    "            audio_file = image_file.replace(\".png\",\".wav\")\n",
    "            try:\n",
    "                audio_clip = mpy.AudioFileClip(f\"{audio_file_dir}/{audio_file}\").set_start(total_duration)\n",
    "            except OSError as e:\n",
    "                print(f\"audio file {audio_file_dir}/{audio_file} not found\")\n",
    "                continue\n",
    "            audio_clips.append(audio_clip)\n",
    "            audio_duration = audio_clip.duration\n",
    "\n",
    "            clip = mpy.ImageClip(image).set_duration(audio_duration).set_start(total_duration).set_position((\"center\", \"center\"))\n",
    "\n",
    "            bg_clip = mpy.ImageClip(bg_img).set_duration(audio_duration).set_start(total_duration)\n",
    "            if clip.size[0] > bg_clip.size[0] * .9:\n",
    "                clip = clip.resize((bg_clip.size[0]*.9,clip.size[1]*.9))\n",
    "\n",
    "            if clip.size[1] > bg_clip.size[1] * .9:\n",
    "                clip = clip.resize((clip.size[0]*.9,bg_clip.size[1]*.9))\n",
    "            #clip = clip.set_start(5) # TODO: change duration based on audio\n",
    "            #clip = clip.resize((1080,1920)) #TODO add tts audio\n",
    "            clips.append(bg_clip)\n",
    "            clips.append(clip)\n",
    "\n",
    "            total_duration += audio_duration + transition_duration\n",
    "\n",
    "        if len(clips) > 0 :\n",
    "            final_audio_clip = mpy.CompositeAudioClip(audio_clips)\n",
    "            final_clip = mpy.CompositeVideoClip(clips)\n",
    "            final_clip.audio = final_audio_clip\n",
    "            final_clip.write_videofile(f\"{asset_dir}/{submission_title}/{thread_id}/thread_clip.mp4\",fps=30,logger=None)\n",
    "\n",
    "\n",
    "    #import moviepy.video.fx as vfx\n",
    "    def build_intro_vid(bg_img):\n",
    "        #intro\n",
    "        intro_duration = 4   \n",
    "        bg_clip = mpy.ImageClip(bg_img).set_duration(intro_duration)\n",
    "        bg_clip = mpy.vfx.fadein(bg_clip,intro_duration-1,[0,0,0])\n",
    "        bg_clip.write_videofile(f\"{asset_dir}/{submission_title}/intro.mp4\",fps=30,logger=None)\n",
    "\n",
    "    def build_outro_vid(bg_img):\n",
    "        #outro\n",
    "        outro_duration = 4   \n",
    "        bg_clip = mpy.ImageClip(bg_img).set_duration(outro_duration)\n",
    "        bg_clip = mpy.vfx.fadeout(bg_clip,outro_duration-1,[0,0,0])\n",
    "        bg_clip.write_videofile(f\"{asset_dir}/{submission_title}/outro.mp4\",fps=30,logger=None)\n",
    "\n",
    "    thread_ids = sorted(list(set(thread_ids)))\n",
    "\n",
    "    f\"{asset_dir}/{submission_title}/{thread_ids[0]}\"\n",
    "\n",
    "    bg_img=\"assets/bg_images/Qv79akqGQt0.png\"\n",
    "\n",
    "    # save threads to clips\n",
    "    # vote_div.text\n",
    "\n",
    "    thread_ids = sorted(list(set(thread_ids)))\n",
    "    for thread in tqdm(thread_ids):\n",
    "        print(thread)\n",
    "        build_thread_vid(thread,bg_img)\n",
    "\n",
    "\n",
    "    build_intro_vid(bg_img)\n",
    "    build_outro_vid(bg_img)\n",
    "\n",
    "    # save c to \n",
    "\n",
    "    videos = glob.glob(f\"{asset_dir}/{submission_title}/*/*.mp4\")\n",
    "    videos = sorted(list(set(videos)))\n",
    "\n",
    "    #prepend intro\n",
    "    intro = glob.glob(f\"{asset_dir}/{submission_title}/intro.mp4\")\n",
    "    videos = intro + videos\n",
    "\n",
    "    #append outro\n",
    "    outro = glob.glob(f\"{asset_dir}/{submission_title}/outro.mp4\")\n",
    "    videos = videos + outro\n",
    "\n",
    "\n",
    "\n",
    "    #videos\n",
    "\n",
    "    all_video_clips = [mpy.VideoFileClip(video) for video in videos]\n",
    "\n",
    "    videos_w_sound_corrected = []\n",
    "    for clip in all_video_clips:\n",
    "        if clip.audio:\n",
    "            clip.audio = clip.audio.fx(mpy.afx.audio_normalize)\n",
    "        videos_w_sound_corrected.append(clip)\n",
    "\n",
    "\n",
    "    transition = mpy.VideoFileClip(\"assets/tvstatic-180-720.mp4\")\n",
    "\n",
    "    transition2 = mpy.VideoFileClip(\"assets/free-vhs-overlay-1080-720.mp4\")\n",
    "\n",
    "    transition2.audio = transition.audio\n",
    "    transition2 = transition2.set_duration(.7)\n",
    "    #transition = transition.resize(1080,720) resizing crashes kernal reesizing \n",
    "    #using ffmpeg on cli instead:  https://trac.ffmpeg.org/wiki/Scaling\n",
    "\n",
    "    #split bg music into parts: https://unix.stackexchange.com/questions/280767/how-do-i-split-an-audio-file-into-multiple\n",
    "    #ffmpeg -i somefile.mp3 -f segment -segment_time 3 -c copy out%03d.mp3\n",
    "\n",
    "\n",
    "    final_video = mpy.concatenate_videoclips(videos_w_sound_corrected,method=\"compose\",transition=transition2)\n",
    "\n",
    "    def get_audio(v_duration):\n",
    "        import random\n",
    "        get_audio = True\n",
    "        sel_file_clips = []\n",
    "        sel_file_names = []\n",
    "        while get_audio:\n",
    "\n",
    "            audio_files = glob.glob(\"assets/bg_music/*.opus\")\n",
    "\n",
    "            sel_file = random.choice(audio_files)\n",
    "\n",
    "            sel_file_clips.append(mpy.AudioFileClip(sel_file))\n",
    "            sel_file_names.append(sel_file)\n",
    "\n",
    "            all_duration = [ x.duration for x in sel_file_clips]\n",
    "\n",
    "            total_duration = 0\n",
    "\n",
    "            for duration in all_duration:\n",
    "                total_duration += duration\n",
    "\n",
    "            if total_duration >= v_duration:\n",
    "                get_audio = False\n",
    "\n",
    "        out_audio = mpy.concatenate_audioclips(sel_file_clips).set_duration(v_duration)\n",
    "        return out_audio, sel_file_names \n",
    "\n",
    "\n",
    "    #import moviepy.video.fx as vfx\n",
    "    #import moviepy.audio.fx as afx\n",
    "    bg_music,bg_music_files = get_audio(final_video.duration)\n",
    "\n",
    "    bg_music = bg_music.fx( mpy.afx.audio_normalize).fx( mpy.afx.volumex, 0.3).fx( mpy.afx.audio_fadein, 1.0)\n",
    "    tts_audio = final_video.audio\n",
    "\n",
    "    bgm_w_tts_audio = mpy.CompositeAudioClip([bg_music,tts_audio])\n",
    "\n",
    "    final_video.audio = bgm_w_tts_audio\n",
    "\n",
    "    final_video.write_videofile(f\"assets/final_videos/{submission_title}.mp4\",fps=30,logger=None)\n",
    "\n",
    "    # Save video credits\n",
    "    def check_wildcard(file,credit):\n",
    "        prefix = credit[\"filename\"].split(\".*\")[0]\n",
    "        return prefix in file\n",
    "\n",
    "    def get_audio_credits(audio_files):\n",
    "        import yaml\n",
    "        with open(\"assets/bg_music/asset_credits.yml\",\"r\") as f:\n",
    "            credits = yaml.load(f,yaml.FullLoader)\n",
    "        active_credits = []\n",
    "        for credit in credits[\"assets\"]:\n",
    "            for file in audio_files:\n",
    "                if \".*\" in credit[\"filename\"] and check_wildcard(file,credit):\n",
    "                    active_credits.append(credit)\n",
    "                elif credit[\"filename\"] == file:\n",
    "                    active_credits.append(credit)\n",
    "        return active_credits\n",
    "\n",
    "    credits = get_audio_credits(bg_music_files)\n",
    "    all_credit_texts = []\n",
    "    for credit in credits:\n",
    "        credit_text = f\"\"\"\n",
    "        - {credit['artist']} - {credit['title']} \n",
    "        - Provided by Lofi Girl\n",
    "        - Watch: {credit['link']}\n",
    "        - Listen: {credit['spotify']}\n",
    "        \"\"\"\n",
    "        all_credit_texts.append(credit_text)\n",
    "    audio_credits = \"--------\\n\".join(set(all_credit_texts))\n",
    "    #print(audio_credits)\n",
    "\n",
    "    with open(f\"assets/final_video_credits/{submission_title}.txt\",\"w\") as f:\n",
    "        f.write(audio_credits)\n",
    "\n",
    "    glob.glob(f\"{asset_dir}/../archive_text/{submission_title}/*\")\n",
    "\n",
    "    from make_thumbnail import make_thumbnail_img\n",
    "    prompt_file = glob.glob(f\"{asset_dir}/../archive_text/{submission_title}/0001*/0000.txt\")[0]\n",
    "\n",
    "    with open(prompt_file,\"r\",encoding=\"latin1\") as f:\n",
    "        prompt_text = f.read()\n",
    "    #prompt_text = \"What did the pandemic ruin more than we realise?\"    \n",
    "    make_thumbnail_img(prompt_text,f\"assets/final_video_thumbnails/{submission_title}.png\",font=\"assets/fonts/limejuice/Limejuice.ttf\")\n",
    "\n",
    "    prompt_text\n",
    "\n",
    "    import json\n",
    "\n",
    "    metadata = dict(prompt_text=prompt_text\n",
    "                    ,submission_title=submission_title\n",
    "                    ,video_file=f\"assets/final_videos/{submission_title}.mp4\"\n",
    "                    ,credits_file=f\"assets/final_video_credits/{submission_title}.txt\"\n",
    "                   ,thumbnail=f\"assets/final_video_thumbnails/{submission_title}.png\"\n",
    "                   ,post_url=post_url)\n",
    "\n",
    "    with open(f\"assets/final_video_metadata/{submission_title}.json\",\"w\") as f:\n",
    "        json.dump(metadata,f)\n",
    "\n",
    "\n",
    "    print(f\"done!...info:\\n prompt_text: {prompt_text}\\n submission_title: {submission_title} \\n video_file: assets/final_videos/{submission_title}.mp4 \\n credits_file: assets/final_video_credits/{submission_title}.txt\\n thumbnail: assets/final_video_thumbnails/{submission_title}.png \\n post: {post_url}\")"
   ]
  },
  {
   "cell_type": "code",
   "execution_count": null,
   "id": "f2a92350-5835-4664-a929-0b17320633a7",
   "metadata": {},
   "outputs": [],
   "source": []
  },
  {
   "cell_type": "code",
   "execution_count": null,
   "id": "f2cc5c8f-d547-45f4-b6e9-29a5245b574f",
   "metadata": {},
   "outputs": [],
   "source": []
  },
  {
   "cell_type": "code",
   "execution_count": null,
   "id": "decfec58-bbe7-4108-bef8-626759a06363",
   "metadata": {},
   "outputs": [],
   "source": []
  },
  {
   "cell_type": "code",
   "execution_count": null,
   "id": "1c8d6db9-15db-4c35-a5d0-32297c75b917",
   "metadata": {},
   "outputs": [],
   "source": []
  },
  {
   "cell_type": "code",
   "execution_count": null,
   "id": "dec9a5a0-af50-47f3-8319-59287837a97e",
   "metadata": {},
   "outputs": [],
   "source": []
  }
 ],
 "metadata": {
  "kernelspec": {
   "display_name": "Python 3 (ipykernel)",
   "language": "python",
   "name": "python3"
  },
  "language_info": {
   "codemirror_mode": {
    "name": "ipython",
    "version": 3
   },
   "file_extension": ".py",
   "mimetype": "text/x-python",
   "name": "python",
   "nbconvert_exporter": "python",
   "pygments_lexer": "ipython3",
   "version": "3.8.10"
  }
 },
 "nbformat": 4,
 "nbformat_minor": 5
}
