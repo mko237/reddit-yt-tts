{
 "cells": [
  {
   "cell_type": "code",
   "execution_count": 1,
   "id": "8c1d4ed9-9753-4e04-ad08-4ce390e544bd",
   "metadata": {},
   "outputs": [],
   "source": [
    "from proxy_chrome_browser import get_chromedriver, build_proxy_extension\n",
    "import moviepy.editor as mpy\n",
    "import glob\n",
    "import os\n",
    "from time import sleep\n",
    "from tqdm import tqdm"
   ]
  },
  {
   "cell_type": "code",
   "execution_count": 2,
   "id": "40247161-0fbe-47f0-80fe-fddbc865037a",
   "metadata": {},
   "outputs": [],
   "source": [
    "br = get_chromedriver(headless=True,path='/home/miko/Downloads/chromedriver-v-106-0-5249-61')"
   ]
  },
  {
   "cell_type": "code",
   "execution_count": 3,
   "id": "9ff6673d-20e9-4abb-b05c-2c8e3d840c92",
   "metadata": {},
   "outputs": [],
   "source": [
    "def find_elm(tag,driver=br,_all=False,_by=\"css\"):\n",
    "    from selenium.webdriver.common.by import By\n",
    "    if _by==\"css\":\n",
    "        _by=By.CSS_SELECTOR\n",
    "    elif _by==\"link_text\":\n",
    "        _by=By.PARTIAL_LINK_TEXT\n",
    "    elif _by==\"link_text_exact\":\n",
    "        _by=By.LINK_TEXT\n",
    "        \n",
    "    try:\n",
    "        if _all:\n",
    "            out = driver.find_elements(by=_by,value=tag)\n",
    "        else:\n",
    "            out = driver.find_element(by=_by,value=tag)\n",
    "    except:\n",
    "        #print('None')\n",
    "        out = None\n",
    "    return out"
   ]
  },
  {
   "cell_type": "code",
   "execution_count": 4,
   "id": "01614665-e18d-468d-ae6a-211c09dec794",
   "metadata": {},
   "outputs": [],
   "source": [
    "def save_screenshot(elm,filename,scrollY=None):\n",
    "    assert filename[-3:] == \"png\", \"filename should end with png\"\n",
    "    scroll_into_view(elm,scrollY)\n",
    "    with open(filename,\"wb\") as f:\n",
    "        f.write(elm.screenshot_as_png)"
   ]
  },
  {
   "cell_type": "code",
   "execution_count": 5,
   "id": "7ef434d9-f05d-4c0f-8e7b-d600badbd720",
   "metadata": {},
   "outputs": [],
   "source": [
    "def scroll_into_view(elm,scrollY=None):\n",
    "     #source: -https://stackoverflow.com/questions/25733877/selenium-how-do-you-check-scroll-position\n",
    "     #loc = elm.location\n",
    "     #current_view_script = \"\"\" var doc = document.documentElement;\n",
    "     #var left = (window.pageXOffset || doc.scrollLeft) - (doc.clientLeft || 0);\n",
    "     #var top = (window.pageYOffset || doc.scrollTop)  - (doc.clientTop || 0);\n",
    "        \n",
    "     #taking screenshot will scroll into view. IF this stops working can use javascript above\n",
    "     elm.screenshot_as_png\n",
    "     sleep(.2)\n",
    "     # scroll a bit to add margin (prevent floating login bar from obscuring elm);\n",
    "     if scrollY:\n",
    "         br.execute_script(f\"window.scrollBy(0,{scrollY})\", \"\")\n",
    "         sleep(.5)\n"
   ]
  },
  {
   "cell_type": "code",
   "execution_count": 6,
   "id": "3e52bfde-3a80-4bde-8e0e-001e9af67ee6",
   "metadata": {},
   "outputs": [],
   "source": [
    "#set to dark theme\n",
    "br.get(\"https://www.reddit.com\")"
   ]
  },
  {
   "cell_type": "code",
   "execution_count": 7,
   "id": "597b18c5-8f0a-47e0-97d3-864bb6af7f87",
   "metadata": {},
   "outputs": [],
   "source": [
    "\n",
    "icon = find_elm(\"button[id='USER_DROPDOWN_ID']\")\n",
    "icon.click()\n",
    "sleep(.5)\n",
    "dark_btn = find_elm(\"button[data-redditstyle='true']\")\n",
    "dark_btn.click()\n",
    "sleep(.5)\n",
    "# if for some reason click isnt working. set it manually\n",
    "#input(\"Confirm darkmode has been set (press enter)\")"
   ]
  },
  {
   "cell_type": "code",
   "execution_count": 8,
   "id": "8415ab86-ed6b-4b38-9b7d-7409e2b9ee58",
   "metadata": {},
   "outputs": [],
   "source": [
    "#post_url = \"https://www.reddit.com/r/AskReddit/comments/ypzsqh/men_of_reddit_what_are_some_less_obvious_red/\"\n",
    "#post_url = \"https://www.reddit.com/r/AskReddit/comments/ycb6hp/whats_a_harsh_reality_that_everybody_needs_to_hear/\"\n",
    "#post_url = \"https://www.reddit.com/r/AskReddit/comments/y5bcsl/nonamericans_what_do_you_think_every_american/\"\n",
    "#post_url =\"https://www.reddit.com/r/AskReddit/comments/ydz1j5/what_is_25_years_too_old_for/\"\n",
    "#post_url = \"https://www.reddit.com/r/AskReddit/comments/y5wxnn/what_is_the_stupidest_thing_a_large_amount_of/?sort=confidence\"\n",
    "#post_url = \"https://www.reddit.com/r/AskReddit/comments/ynpnd5/serious_what_stole_your_joy_why_do_you_not_have/?sort=confidence\"\n",
    "#post_url = \"https://www.reddit.com/r/AskReddit/comments/yabrxc/whats_a_subtle_sign_of_low_intelligence/?sort=confidence\"\n",
    "post_url = \"https://www.reddit.com/r/AskReddit/comments/yuibit/what_job_contributes_nothing_to_society/?sort=confidence\""
   ]
  },
  {
   "cell_type": "code",
   "execution_count": 9,
   "id": "04f0e4af-f63b-44f0-b405-4d3c94151fb2",
   "metadata": {},
   "outputs": [],
   "source": [
    "br.get(post_url)"
   ]
  },
  {
   "cell_type": "code",
   "execution_count": 10,
   "id": "fc757993-08c7-41ea-b828-7d37ef0db133",
   "metadata": {},
   "outputs": [],
   "source": [
    "#br.switch_to.active_element.text"
   ]
  },
  {
   "cell_type": "code",
   "execution_count": 11,
   "id": "ab412758-6761-4237-a2a0-8812a577c3c9",
   "metadata": {},
   "outputs": [],
   "source": [
    "sleep(10)"
   ]
  },
  {
   "cell_type": "code",
   "execution_count": 12,
   "id": "e6269d65-cbae-4ed4-81ea-e0e45d85f396",
   "metadata": {},
   "outputs": [
    {
     "name": "stdout",
     "output_type": "stream",
     "text": [
      "getting more replies\n",
      "getting more replies\n",
      "getting more replies\n",
      "getting more replies\n",
      "getting more replies\n",
      "getting more replies\n"
     ]
    }
   ],
   "source": [
    "# expand replies\n",
    "num_replies_threshold = 90\n",
    "get_replies = True\n",
    "num_total_loops = 5\n",
    "current_loop_num = 0\n",
    "clicked_links = []\n",
    "while get_replies:\n",
    "    more_replies_divs = find_elm(\"div[id^='moreComments']\",_all=True)\n",
    "    expandable_divs = []\n",
    "    for div in more_replies_divs:\n",
    "        more_replies_link = find_elm(\"p\",driver=div)\n",
    "        #p = br.execute_script(\"return arguments[0].parentNode;\",more_replies_link)\n",
    "        if not more_replies_link:\n",
    "            continue\n",
    "        if more_replies_link.text == '' or 'loading..' in more_replies_link.text:\n",
    "            continue\n",
    "        num_replies = int(more_replies_link.text.split()[0].replace(\",\",\"\"))\n",
    "        if num_replies >= num_replies_threshold:\n",
    "            if more_replies_link not in clicked_links:\n",
    "                expandable_divs.append(more_replies_link)\n",
    "            else:\n",
    "                continue\n",
    "    for div in expandable_divs:\n",
    "        #link_elm = find_elm(\"div[data-testid^='search-scope-pill-text']\")\n",
    "        try:\n",
    "            scroll_into_view(more_replies_link)\n",
    "            div.click()\n",
    "            sleep(1)\n",
    "        except:\n",
    "            continue  \n",
    "    if len(expandable_divs) == 0:\n",
    "        get_replies = False\n",
    "    if current_loop_num >= num_total_loops:\n",
    "        get_replies = False\n",
    "    else:\n",
    "        current_loop_num += 1\n",
    "    print(\"getting more replies\")\n",
    "    #todo: find a better stopping condition"
   ]
  },
  {
   "cell_type": "code",
   "execution_count": 13,
   "id": "32f0fd58-4a9f-499d-b634-8931f05383b4",
   "metadata": {},
   "outputs": [],
   "source": [
    "# get comments\n",
    "comments = find_elm(\"div[class*='Comment']\",_all=True)"
   ]
  },
  {
   "cell_type": "code",
   "execution_count": 14,
   "id": "23ca09c0-43ed-4dbe-92de-ee5e7081c37e",
   "metadata": {},
   "outputs": [],
   "source": [
    "#prepend original post to comments\n",
    "post = [find_elm(\"div[data-test-id='post-content']\"),]\n",
    "post.extend(comments)\n",
    "comments = post"
   ]
  },
  {
   "cell_type": "code",
   "execution_count": 15,
   "id": "2e20c98a-c57d-4aa2-a266-508b509a4b26",
   "metadata": {},
   "outputs": [
    {
     "data": {
      "text/plain": [
       "464"
      ]
     },
     "execution_count": 15,
     "metadata": {},
     "output_type": "execute_result"
    }
   ],
   "source": [
    "len(comments)"
   ]
  },
  {
   "cell_type": "code",
   "execution_count": 16,
   "id": "b5d26d65-3b5b-4674-be22-b0b9ae3de585",
   "metadata": {},
   "outputs": [],
   "source": [
    "submission_title = post_url.split(\"/\")[-2]\n",
    "#asset_dir=\"assets/demo_png_2_vid\"\n",
    "asset_dir=\"/mnt/n/data/reddit-yt-tts/queued\"\n",
    "completed_dir=\"/mnt/n/data/reddit-yt-tts/completed\"\n",
    "#thread_ids = []"
   ]
  },
  {
   "cell_type": "code",
   "execution_count": 17,
   "id": "33a42f0e-e400-4543-b465-1a5685261901",
   "metadata": {},
   "outputs": [
    {
     "data": {
      "text/plain": [
       "'what_job_contributes_nothing_to_society'"
      ]
     },
     "execution_count": 17,
     "metadata": {},
     "output_type": "execute_result"
    }
   ],
   "source": [
    "submission_title"
   ]
  },
  {
   "cell_type": "code",
   "execution_count": 18,
   "id": "dbde7aeb-c77b-492f-9845-188aefe1c01a",
   "metadata": {},
   "outputs": [],
   "source": [
    "def save_comment_text(filename,comment,selector='p'):\n",
    "    comment_text = \" \".join([x.text for x in find_elm(selector,driver=comment,_all=True)])\n",
    "    with open(filename,\"w\") as f:\n",
    "        f.write(comment_text)"
   ]
  },
  {
   "cell_type": "code",
   "execution_count": 19,
   "id": "ab154d47-3f04-40e4-b00e-d314053a3bdb",
   "metadata": {},
   "outputs": [
    {
     "name": "stderr",
     "output_type": "stream",
     "text": [
      "100%|█████████████████████████████████████████| 464/464 [03:27<00:00,  2.24it/s]\n"
     ]
    }
   ],
   "source": [
    "#save threaded comment screenshot as png to directory\n",
    "vote_count_threshold = 450\n",
    "thread_count = 0\n",
    "parent_comment_stack = [dict(comment=comments[0],saved=True)]\n",
    "prev_comment_lvl = 1\n",
    "prev_comment = comments[0]\n",
    "prev_comment_id = -1\n",
    "i = 0\n",
    "for comment in tqdm(comments):\n",
    "    # filter deleted comments\n",
    "    if \"Comment deleted by user\" in comment.text:\n",
    "        continue\n",
    "    \n",
    "    # some comments arnt expanded, skipping\n",
    "    if len(comment.text.split(\"\\n\")) <= 4:\n",
    "           continue\n",
    "           \n",
    "    #filter highly voted comments\n",
    "    vote_div = find_elm(\"div[id^='vote-arrows']\",driver=comment)\n",
    "    if not vote_div or vote_div.text == '' or vote_div.text == \"Vote\":\n",
    "        continue\n",
    "        \n",
    "    multiply_1k = 'k' in vote_div.text\n",
    "    if multiply_1k:\n",
    "        vote_count = float(vote_div.text.replace(\"k\",\"\")) * 1000\n",
    "    else:\n",
    "        vote_count = int(vote_div.text)\n",
    "    \n",
    "    if i == 0:\n",
    "        comment_lvl = 1\n",
    "    else:\n",
    "        comment_lvl = find_elm(\"span\",comment).text\n",
    "        comment_lvl = int(comment_lvl.lower().replace(\"level\",\"\").strip())\n",
    "\n",
    "    #if \"1\" in comment_lvl:\n",
    "    if comment_lvl == 1:\n",
    "        thread_count += 1\n",
    "        user = comment.text.split(\"\\n\")[1]\n",
    "        vote_count_txt = vote_div.text.replace(\".\",\"_\")\n",
    "        thread_id = f\"{thread_count:04}-{user}-{vote_count_txt}\"\n",
    "        \n",
    "        comment_id=0\n",
    "    else:\n",
    "        comment_id+=1\n",
    "        \n",
    "    # Save parent comments even if threshold is not met\n",
    "    if comment_lvl > prev_comment_lvl:\n",
    "        # entering a nested thread, mark new parent...\n",
    "        parent_comment_stack.append(dict(comment=prev_comment,comment_id=prev_comment_id,saved=False))\n",
    "    elif comment_lvl < prev_comment_lvl:\n",
    "        # leaving a nested thread, remove previous parent\n",
    "        parent_comment_stack = parent_comment_stack[:-1]\n",
    "        \n",
    "    \n",
    "    # Check whether comment should be saved\n",
    "    save_comment = False\n",
    "    if vote_count >= vote_count_threshold:\n",
    "        save_comment = True\n",
    "    \n",
    "    #save parent comment\n",
    "    parent_comment = parent_comment_stack[-1]\n",
    "    if save_comment and not parent_comment[\"saved\"]:\n",
    "        #todo refactor to fn\n",
    "        folder = f\"{asset_dir}/{submission_title}/{thread_id}\"\n",
    "        if not os.path.exists(folder):\n",
    "            os.makedirs(folder)\n",
    "        save_screenshot(parent_comment['comment'],f\"{folder}/{parent_comment['comment_id']:04}.png\")\n",
    "        save_comment_text(filename=f\"{folder}/{parent_comment['comment_id']:04}.txt\",comment=parent_comment['comment'])\n",
    "        parent_comment[\"saved\"] = True\n",
    "        \n",
    "    #Save comment\n",
    "    if save_comment:\n",
    "        #thread_ids.append(thread_id)\n",
    "        folder = f\"{asset_dir}/{submission_title}/{thread_id}\"\n",
    "        if not os.path.exists(folder):\n",
    "            os.makedirs(folder)\n",
    "        save_screenshot(comment,f\"{folder}/{comment_id:04}.png\")\n",
    "        if i == 0:\n",
    "            save_screenshot(comment,f\"{folder}/{comment_id:04}.png\",scrollY=-55)\n",
    "            save_comment_text(filename=f\"{folder}/{comment_id:04}.txt\",comment=comment,selector='h1')\n",
    "        else:\n",
    "            save_screenshot(comment,f\"{folder}/{comment_id:04}.png\")\n",
    "            save_comment_text(filename=f\"{folder}/{comment_id:04}.txt\",comment=comment)\n",
    "    \n",
    "    # init vars for next iteration\n",
    "    prev_comment_lvl = comment_lvl\n",
    "    prev_comment = comment\n",
    "    prev_comment_id = comment_id\n",
    "    i+=1"
   ]
  },
  {
   "cell_type": "code",
   "execution_count": 20,
   "id": "da7f0383-8605-4a22-9580-ef061f735e62",
   "metadata": {},
   "outputs": [],
   "source": [
    "#save_screenshot(commeants[1],f\"{asset_dir}/test.png\")"
   ]
  },
  {
   "cell_type": "code",
   "execution_count": 118,
   "id": "45f82611-ca8a-4537-818b-f574d722a753",
   "metadata": {},
   "outputs": [],
   "source": [
    "#submission_title = \"what_is_the_stupidest_thing_a_large_amount_of\"\n",
    "#submission_title = \"nonamericans_what_do_you_think_every_american\"\n",
    "#submission_title = \"whats_a_harsh_reality_that_everybody_needs_to_hear\"\n",
    "#submission_title = \"what_is_25_years_too_old_for\"\n",
    "submission_title = \"reddit_whats_your_most_im_with_the_boomers_on\""
   ]
  },
  {
   "cell_type": "code",
   "execution_count": 119,
   "id": "3b08755e-2c97-4949-975b-5735592fded8",
   "metadata": {},
   "outputs": [
    {
     "data": {
      "text/plain": [
       "'reddit_whats_your_most_im_with_the_boomers_on'"
      ]
     },
     "execution_count": 119,
     "metadata": {},
     "output_type": "execute_result"
    }
   ],
   "source": [
    "submission_title"
   ]
  },
  {
   "cell_type": "code",
   "execution_count": 120,
   "id": "465f9c2c-2c2f-4673-adcd-726e86123388",
   "metadata": {},
   "outputs": [],
   "source": [
    "thread_ids = [x.split(\"/\")[-1] for x in glob.glob(f\"{asset_dir}/{submission_title}/*\")]"
   ]
  },
  {
   "cell_type": "code",
   "execution_count": 121,
   "id": "a19b34e2-1ea6-41b0-b577-c89a04fed916",
   "metadata": {},
   "outputs": [],
   "source": [
    "def build_thread_vid(thread_id,bg_img=\"assets/Qv79akqGQt0.png\"):\n",
    "    images = glob.glob(f\"{asset_dir}/{submission_title}/{thread_id}/*.png\")\n",
    "    images = sorted(images)\n",
    "    audio_file_dir = f\"{completed_dir}/{submission_title}/{thread_id}\"\n",
    "    # https://zulko.github.io/moviepy/examples/examples.html\n",
    "    clips = []\n",
    "    audio_clips = []\n",
    "    total_duration = 0\n",
    "    transition_duration = 0\n",
    "    \n",
    "    for i,image in enumerate(images):\n",
    "      \n",
    "        image_file = image.split(\"/\")[-1]\n",
    "        audio_file = image_file.replace(\".png\",\".wav\")\n",
    "        try:\n",
    "            audio_clip = mpy.AudioFileClip(f\"{audio_file_dir}/{audio_file}\").set_start(total_duration)\n",
    "        except OSError as e:\n",
    "            print(f\"audio file {audio_file_dir}/{audio_file} not found\")\n",
    "            continue\n",
    "        audio_clips.append(audio_clip)\n",
    "        audio_duration = audio_clip.duration\n",
    "        \n",
    "        clip = mpy.ImageClip(image).set_duration(audio_duration).set_start(total_duration).set_position((\"center\", \"center\"))\n",
    "        \n",
    "        bg_clip = mpy.ImageClip(bg_img).set_duration(audio_duration).set_start(total_duration)\n",
    "        if clip.size[0] > bg_clip.size[0] * .9:\n",
    "            clip = clip.resize((bg_clip.size[0]*.9,clip.size[1]*.9))\n",
    "            \n",
    "        if clip.size[1] > bg_clip.size[1] * .9:\n",
    "            clip = clip.resize((clip.size[0]*.9,bg_clip.size[1]*.9))\n",
    "        #clip = clip.set_start(5) # TODO: change duration based on audio\n",
    "        #clip = clip.resize((1080,1920)) #TODO add tts audio\n",
    "        clips.append(bg_clip)\n",
    "        clips.append(clip)\n",
    "        \n",
    "        total_duration += audio_duration + transition_duration\n",
    "  \n",
    "    if len(clips) > 0 :\n",
    "        final_audio_clip = mpy.CompositeAudioClip(audio_clips)\n",
    "        final_clip = mpy.CompositeVideoClip(clips)\n",
    "        final_clip.audio = final_audio_clip\n",
    "        final_clip.write_videofile(f\"{asset_dir}/{submission_title}/{thread_id}/thread_clip.mp4\",fps=30,logger=None)\n",
    "    "
   ]
  },
  {
   "cell_type": "code",
   "execution_count": 122,
   "id": "cf98180b-2ae1-456b-81af-4136ddd07886",
   "metadata": {},
   "outputs": [],
   "source": [
    "#import moviepy.video.fx as vfx\n",
    "def build_intro_vid(bg_img):\n",
    "    #intro\n",
    "    intro_duration = 4   \n",
    "    bg_clip = mpy.ImageClip(bg_img).set_duration(intro_duration)\n",
    "    bg_clip = mpy.vfx.fadein(bg_clip,intro_duration-1,[0,0,0])\n",
    "    bg_clip.write_videofile(f\"{asset_dir}/{submission_title}/intro.mp4\",fps=30,logger=None)\n",
    "    \n",
    "def build_outro_vid(bg_img):\n",
    "    #outro\n",
    "    outro_duration = 4   \n",
    "    bg_clip = mpy.ImageClip(bg_img).set_duration(outro_duration)\n",
    "    bg_clip = mpy.vfx.fadeout(bg_clip,outro_duration-1,[0,0,0])\n",
    "    bg_clip.write_videofile(f\"{asset_dir}/{submission_title}/outro.mp4\",fps=30,logger=None)"
   ]
  },
  {
   "cell_type": "code",
   "execution_count": 123,
   "id": "6cbfcf71-aef4-49ca-af2c-25eda6fec34d",
   "metadata": {},
   "outputs": [],
   "source": [
    "thread_ids = sorted(list(set(thread_ids)))"
   ]
  },
  {
   "cell_type": "code",
   "execution_count": 124,
   "id": "f3bc46c8-428c-408a-87c3-845fc1301170",
   "metadata": {},
   "outputs": [
    {
     "ename": "IndexError",
     "evalue": "list index out of range",
     "output_type": "error",
     "traceback": [
      "\u001b[0;31m---------------------------------------------------------------------------\u001b[0m",
      "\u001b[0;31mIndexError\u001b[0m                                Traceback (most recent call last)",
      "Cell \u001b[0;32mIn [124], line 1\u001b[0m\n\u001b[0;32m----> 1\u001b[0m \u001b[38;5;124mf\u001b[39m\u001b[38;5;124m\"\u001b[39m\u001b[38;5;132;01m{\u001b[39;00masset_dir\u001b[38;5;132;01m}\u001b[39;00m\u001b[38;5;124m/\u001b[39m\u001b[38;5;132;01m{\u001b[39;00msubmission_title\u001b[38;5;132;01m}\u001b[39;00m\u001b[38;5;124m/\u001b[39m\u001b[38;5;132;01m{\u001b[39;00mthread_ids[\u001b[38;5;241m0\u001b[39m]\u001b[38;5;132;01m}\u001b[39;00m\u001b[38;5;124m\"\u001b[39m\n",
      "\u001b[0;31mIndexError\u001b[0m: list index out of range"
     ]
    }
   ],
   "source": [
    "f\"{asset_dir}/{submission_title}/{thread_ids[0]}\""
   ]
  },
  {
   "cell_type": "code",
   "execution_count": 125,
   "id": "9afd90ed-8102-40e0-aa6a-cbb0318a7e4c",
   "metadata": {},
   "outputs": [
    {
     "name": "stdin",
     "output_type": "stream",
     "text": [
      "Execute TTS at this point (on windows GPU) then run below...(press enter) \n"
     ]
    },
    {
     "data": {
      "text/plain": [
       "''"
      ]
     },
     "execution_count": 125,
     "metadata": {},
     "output_type": "execute_result"
    }
   ],
   "source": [
    "# Execute TTS at this point (on windows GPU) then run below\n",
    "input(\"Execute TTS at this point (on windows GPU) then run below...(press enter)\")"
   ]
  },
  {
   "cell_type": "code",
   "execution_count": 126,
   "id": "3544b168-2a36-4b4c-9e23-c7d77a2f932c",
   "metadata": {},
   "outputs": [],
   "source": [
    "bg_img=\"assets/bg_images/Qv79akqGQt0.png\""
   ]
  },
  {
   "cell_type": "code",
   "execution_count": 127,
   "id": "b30038f5-49df-4047-bb1e-b6998aa2f718",
   "metadata": {},
   "outputs": [
    {
     "name": "stderr",
     "output_type": "stream",
     "text": [
      "0it [00:00, ?it/s]\n"
     ]
    }
   ],
   "source": [
    "# save threads to clips\n",
    "# vote_div.text\n",
    "\n",
    "thread_ids = sorted(list(set(thread_ids)))\n",
    "for thread in tqdm(thread_ids):\n",
    "    print(thread)\n",
    "    build_thread_vid(thread,bg_img)\n"
   ]
  },
  {
   "cell_type": "code",
   "execution_count": 128,
   "id": "c48f8c3b-b640-42dc-926e-b2c19709039f",
   "metadata": {},
   "outputs": [
    {
     "ename": "OSError",
     "evalue": "[Errno 32] Broken pipe\n\nMoviePy error: FFMPEG encountered the following error while writing file /mnt/n/data/reddit-yt-tts/queued/reddit_whats_your_most_im_with_the_boomers_on/intro.mp4:\n\n b'/mnt/n/data/reddit-yt-tts/queued/reddit_whats_your_most_im_with_the_boomers_on/intro.mp4: No such file or directory\\n'",
     "output_type": "error",
     "traceback": [
      "\u001b[0;31m---------------------------------------------------------------------------\u001b[0m",
      "\u001b[0;31mBrokenPipeError\u001b[0m                           Traceback (most recent call last)",
      "File \u001b[0;32m~/.local/share/virtualenvs/reddit-yt-tts-Dm6P-A76/lib/python3.8/site-packages/moviepy/video/io/ffmpeg_writer.py:136\u001b[0m, in \u001b[0;36mFFMPEG_VideoWriter.write_frame\u001b[0;34m(self, img_array)\u001b[0m\n\u001b[1;32m    135\u001b[0m \u001b[38;5;28;01mif\u001b[39;00m PY3:\n\u001b[0;32m--> 136\u001b[0m    \u001b[38;5;28;43mself\u001b[39;49m\u001b[38;5;241;43m.\u001b[39;49m\u001b[43mproc\u001b[49m\u001b[38;5;241;43m.\u001b[39;49m\u001b[43mstdin\u001b[49m\u001b[38;5;241;43m.\u001b[39;49m\u001b[43mwrite\u001b[49m\u001b[43m(\u001b[49m\u001b[43mimg_array\u001b[49m\u001b[38;5;241;43m.\u001b[39;49m\u001b[43mtobytes\u001b[49m\u001b[43m(\u001b[49m\u001b[43m)\u001b[49m\u001b[43m)\u001b[49m\n\u001b[1;32m    137\u001b[0m \u001b[38;5;28;01melse\u001b[39;00m:\n",
      "\u001b[0;31mBrokenPipeError\u001b[0m: [Errno 32] Broken pipe",
      "\nDuring handling of the above exception, another exception occurred:\n",
      "\u001b[0;31mOSError\u001b[0m                                   Traceback (most recent call last)",
      "Cell \u001b[0;32mIn [128], line 1\u001b[0m\n\u001b[0;32m----> 1\u001b[0m \u001b[43mbuild_intro_vid\u001b[49m\u001b[43m(\u001b[49m\u001b[43mbg_img\u001b[49m\u001b[43m)\u001b[49m\n\u001b[1;32m      2\u001b[0m build_outro_vid(bg_img)\n",
      "Cell \u001b[0;32mIn [122], line 7\u001b[0m, in \u001b[0;36mbuild_intro_vid\u001b[0;34m(bg_img)\u001b[0m\n\u001b[1;32m      5\u001b[0m bg_clip \u001b[38;5;241m=\u001b[39m mpy\u001b[38;5;241m.\u001b[39mImageClip(bg_img)\u001b[38;5;241m.\u001b[39mset_duration(intro_duration)\n\u001b[1;32m      6\u001b[0m bg_clip \u001b[38;5;241m=\u001b[39m mpy\u001b[38;5;241m.\u001b[39mvfx\u001b[38;5;241m.\u001b[39mfadein(bg_clip,intro_duration\u001b[38;5;241m-\u001b[39m\u001b[38;5;241m1\u001b[39m,[\u001b[38;5;241m0\u001b[39m,\u001b[38;5;241m0\u001b[39m,\u001b[38;5;241m0\u001b[39m])\n\u001b[0;32m----> 7\u001b[0m \u001b[43mbg_clip\u001b[49m\u001b[38;5;241;43m.\u001b[39;49m\u001b[43mwrite_videofile\u001b[49m\u001b[43m(\u001b[49m\u001b[38;5;124;43mf\u001b[39;49m\u001b[38;5;124;43m\"\u001b[39;49m\u001b[38;5;132;43;01m{\u001b[39;49;00m\u001b[43masset_dir\u001b[49m\u001b[38;5;132;43;01m}\u001b[39;49;00m\u001b[38;5;124;43m/\u001b[39;49m\u001b[38;5;132;43;01m{\u001b[39;49;00m\u001b[43msubmission_title\u001b[49m\u001b[38;5;132;43;01m}\u001b[39;49;00m\u001b[38;5;124;43m/intro.mp4\u001b[39;49m\u001b[38;5;124;43m\"\u001b[39;49m\u001b[43m,\u001b[49m\u001b[43mfps\u001b[49m\u001b[38;5;241;43m=\u001b[39;49m\u001b[38;5;241;43m30\u001b[39;49m\u001b[43m,\u001b[49m\u001b[43mlogger\u001b[49m\u001b[38;5;241;43m=\u001b[39;49m\u001b[38;5;28;43;01mNone\u001b[39;49;00m\u001b[43m)\u001b[49m\n",
      "File \u001b[0;32m<decorator-gen-73>:2\u001b[0m, in \u001b[0;36mwrite_videofile\u001b[0;34m(self, filename, fps, codec, bitrate, audio, audio_fps, preset, audio_nbytes, audio_codec, audio_bitrate, audio_bufsize, temp_audiofile, rewrite_audio, remove_temp, write_logfile, verbose, threads, ffmpeg_params, logger)\u001b[0m\n",
      "File \u001b[0;32m~/.local/share/virtualenvs/reddit-yt-tts-Dm6P-A76/lib/python3.8/site-packages/moviepy/decorators.py:54\u001b[0m, in \u001b[0;36mrequires_duration\u001b[0;34m(f, clip, *a, **k)\u001b[0m\n\u001b[1;32m     52\u001b[0m     \u001b[38;5;28;01mraise\u001b[39;00m \u001b[38;5;167;01mValueError\u001b[39;00m(\u001b[38;5;124m\"\u001b[39m\u001b[38;5;124mAttribute \u001b[39m\u001b[38;5;124m'\u001b[39m\u001b[38;5;124mduration\u001b[39m\u001b[38;5;124m'\u001b[39m\u001b[38;5;124m not set\u001b[39m\u001b[38;5;124m\"\u001b[39m)\n\u001b[1;32m     53\u001b[0m \u001b[38;5;28;01melse\u001b[39;00m:\n\u001b[0;32m---> 54\u001b[0m     \u001b[38;5;28;01mreturn\u001b[39;00m \u001b[43mf\u001b[49m\u001b[43m(\u001b[49m\u001b[43mclip\u001b[49m\u001b[43m,\u001b[49m\u001b[43m \u001b[49m\u001b[38;5;241;43m*\u001b[39;49m\u001b[43ma\u001b[49m\u001b[43m,\u001b[49m\u001b[43m \u001b[49m\u001b[38;5;241;43m*\u001b[39;49m\u001b[38;5;241;43m*\u001b[39;49m\u001b[43mk\u001b[49m\u001b[43m)\u001b[49m\n",
      "File \u001b[0;32m<decorator-gen-72>:2\u001b[0m, in \u001b[0;36mwrite_videofile\u001b[0;34m(self, filename, fps, codec, bitrate, audio, audio_fps, preset, audio_nbytes, audio_codec, audio_bitrate, audio_bufsize, temp_audiofile, rewrite_audio, remove_temp, write_logfile, verbose, threads, ffmpeg_params, logger)\u001b[0m\n",
      "File \u001b[0;32m~/.local/share/virtualenvs/reddit-yt-tts-Dm6P-A76/lib/python3.8/site-packages/moviepy/decorators.py:135\u001b[0m, in \u001b[0;36muse_clip_fps_by_default\u001b[0;34m(f, clip, *a, **k)\u001b[0m\n\u001b[1;32m    130\u001b[0m new_a \u001b[38;5;241m=\u001b[39m [fun(arg) \u001b[38;5;28;01mif\u001b[39;00m (name\u001b[38;5;241m==\u001b[39m\u001b[38;5;124m'\u001b[39m\u001b[38;5;124mfps\u001b[39m\u001b[38;5;124m'\u001b[39m) \u001b[38;5;28;01melse\u001b[39;00m arg\n\u001b[1;32m    131\u001b[0m          \u001b[38;5;28;01mfor\u001b[39;00m (arg, name) \u001b[38;5;129;01min\u001b[39;00m \u001b[38;5;28mzip\u001b[39m(a, names)]\n\u001b[1;32m    132\u001b[0m new_kw \u001b[38;5;241m=\u001b[39m {k: fun(v) \u001b[38;5;28;01mif\u001b[39;00m k\u001b[38;5;241m==\u001b[39m\u001b[38;5;124m'\u001b[39m\u001b[38;5;124mfps\u001b[39m\u001b[38;5;124m'\u001b[39m \u001b[38;5;28;01melse\u001b[39;00m v\n\u001b[1;32m    133\u001b[0m          \u001b[38;5;28;01mfor\u001b[39;00m (k,v) \u001b[38;5;129;01min\u001b[39;00m k\u001b[38;5;241m.\u001b[39mitems()}\n\u001b[0;32m--> 135\u001b[0m \u001b[38;5;28;01mreturn\u001b[39;00m \u001b[43mf\u001b[49m\u001b[43m(\u001b[49m\u001b[43mclip\u001b[49m\u001b[43m,\u001b[49m\u001b[43m \u001b[49m\u001b[38;5;241;43m*\u001b[39;49m\u001b[43mnew_a\u001b[49m\u001b[43m,\u001b[49m\u001b[43m \u001b[49m\u001b[38;5;241;43m*\u001b[39;49m\u001b[38;5;241;43m*\u001b[39;49m\u001b[43mnew_kw\u001b[49m\u001b[43m)\u001b[49m\n",
      "File \u001b[0;32m<decorator-gen-71>:2\u001b[0m, in \u001b[0;36mwrite_videofile\u001b[0;34m(self, filename, fps, codec, bitrate, audio, audio_fps, preset, audio_nbytes, audio_codec, audio_bitrate, audio_bufsize, temp_audiofile, rewrite_audio, remove_temp, write_logfile, verbose, threads, ffmpeg_params, logger)\u001b[0m\n",
      "File \u001b[0;32m~/.local/share/virtualenvs/reddit-yt-tts-Dm6P-A76/lib/python3.8/site-packages/moviepy/decorators.py:22\u001b[0m, in \u001b[0;36mconvert_masks_to_RGB\u001b[0;34m(f, clip, *a, **k)\u001b[0m\n\u001b[1;32m     20\u001b[0m \u001b[38;5;28;01mif\u001b[39;00m clip\u001b[38;5;241m.\u001b[39mismask:\n\u001b[1;32m     21\u001b[0m     clip \u001b[38;5;241m=\u001b[39m clip\u001b[38;5;241m.\u001b[39mto_RGB()\n\u001b[0;32m---> 22\u001b[0m \u001b[38;5;28;01mreturn\u001b[39;00m \u001b[43mf\u001b[49m\u001b[43m(\u001b[49m\u001b[43mclip\u001b[49m\u001b[43m,\u001b[49m\u001b[43m \u001b[49m\u001b[38;5;241;43m*\u001b[39;49m\u001b[43ma\u001b[49m\u001b[43m,\u001b[49m\u001b[43m \u001b[49m\u001b[38;5;241;43m*\u001b[39;49m\u001b[38;5;241;43m*\u001b[39;49m\u001b[43mk\u001b[49m\u001b[43m)\u001b[49m\n",
      "File \u001b[0;32m~/.local/share/virtualenvs/reddit-yt-tts-Dm6P-A76/lib/python3.8/site-packages/moviepy/video/VideoClip.py:300\u001b[0m, in \u001b[0;36mVideoClip.write_videofile\u001b[0;34m(self, filename, fps, codec, bitrate, audio, audio_fps, preset, audio_nbytes, audio_codec, audio_bitrate, audio_bufsize, temp_audiofile, rewrite_audio, remove_temp, write_logfile, verbose, threads, ffmpeg_params, logger)\u001b[0m\n\u001b[1;32m    292\u001b[0m \u001b[38;5;28;01mif\u001b[39;00m make_audio:\n\u001b[1;32m    293\u001b[0m     \u001b[38;5;28mself\u001b[39m\u001b[38;5;241m.\u001b[39maudio\u001b[38;5;241m.\u001b[39mwrite_audiofile(audiofile, audio_fps,\n\u001b[1;32m    294\u001b[0m                                audio_nbytes, audio_bufsize,\n\u001b[1;32m    295\u001b[0m                                audio_codec, bitrate\u001b[38;5;241m=\u001b[39maudio_bitrate,\n\u001b[1;32m    296\u001b[0m                                write_logfile\u001b[38;5;241m=\u001b[39mwrite_logfile,\n\u001b[1;32m    297\u001b[0m                                verbose\u001b[38;5;241m=\u001b[39mverbose,\n\u001b[1;32m    298\u001b[0m                                logger\u001b[38;5;241m=\u001b[39mlogger)\n\u001b[0;32m--> 300\u001b[0m \u001b[43mffmpeg_write_video\u001b[49m\u001b[43m(\u001b[49m\u001b[38;5;28;43mself\u001b[39;49m\u001b[43m,\u001b[49m\u001b[43m \u001b[49m\u001b[43mfilename\u001b[49m\u001b[43m,\u001b[49m\u001b[43m \u001b[49m\u001b[43mfps\u001b[49m\u001b[43m,\u001b[49m\u001b[43m \u001b[49m\u001b[43mcodec\u001b[49m\u001b[43m,\u001b[49m\n\u001b[1;32m    301\u001b[0m \u001b[43m                   \u001b[49m\u001b[43mbitrate\u001b[49m\u001b[38;5;241;43m=\u001b[39;49m\u001b[43mbitrate\u001b[49m\u001b[43m,\u001b[49m\n\u001b[1;32m    302\u001b[0m \u001b[43m                   \u001b[49m\u001b[43mpreset\u001b[49m\u001b[38;5;241;43m=\u001b[39;49m\u001b[43mpreset\u001b[49m\u001b[43m,\u001b[49m\n\u001b[1;32m    303\u001b[0m \u001b[43m                   \u001b[49m\u001b[43mwrite_logfile\u001b[49m\u001b[38;5;241;43m=\u001b[39;49m\u001b[43mwrite_logfile\u001b[49m\u001b[43m,\u001b[49m\n\u001b[1;32m    304\u001b[0m \u001b[43m                   \u001b[49m\u001b[43maudiofile\u001b[49m\u001b[38;5;241;43m=\u001b[39;49m\u001b[43maudiofile\u001b[49m\u001b[43m,\u001b[49m\n\u001b[1;32m    305\u001b[0m \u001b[43m                   \u001b[49m\u001b[43mverbose\u001b[49m\u001b[38;5;241;43m=\u001b[39;49m\u001b[43mverbose\u001b[49m\u001b[43m,\u001b[49m\u001b[43m \u001b[49m\u001b[43mthreads\u001b[49m\u001b[38;5;241;43m=\u001b[39;49m\u001b[43mthreads\u001b[49m\u001b[43m,\u001b[49m\n\u001b[1;32m    306\u001b[0m \u001b[43m                   \u001b[49m\u001b[43mffmpeg_params\u001b[49m\u001b[38;5;241;43m=\u001b[39;49m\u001b[43mffmpeg_params\u001b[49m\u001b[43m,\u001b[49m\n\u001b[1;32m    307\u001b[0m \u001b[43m                   \u001b[49m\u001b[43mlogger\u001b[49m\u001b[38;5;241;43m=\u001b[39;49m\u001b[43mlogger\u001b[49m\u001b[43m)\u001b[49m\n\u001b[1;32m    309\u001b[0m \u001b[38;5;28;01mif\u001b[39;00m remove_temp \u001b[38;5;129;01mand\u001b[39;00m make_audio:\n\u001b[1;32m    310\u001b[0m     \u001b[38;5;28;01mif\u001b[39;00m os\u001b[38;5;241m.\u001b[39mpath\u001b[38;5;241m.\u001b[39mexists(audiofile):\n",
      "File \u001b[0;32m~/.local/share/virtualenvs/reddit-yt-tts-Dm6P-A76/lib/python3.8/site-packages/moviepy/video/io/ffmpeg_writer.py:228\u001b[0m, in \u001b[0;36mffmpeg_write_video\u001b[0;34m(clip, filename, fps, codec, bitrate, preset, withmask, write_logfile, audiofile, verbose, threads, ffmpeg_params, logger)\u001b[0m\n\u001b[1;32m    225\u001b[0m                 mask \u001b[38;5;241m=\u001b[39m mask\u001b[38;5;241m.\u001b[39mastype(\u001b[38;5;124m\"\u001b[39m\u001b[38;5;124muint8\u001b[39m\u001b[38;5;124m\"\u001b[39m)\n\u001b[1;32m    226\u001b[0m             frame \u001b[38;5;241m=\u001b[39m np\u001b[38;5;241m.\u001b[39mdstack([frame,mask])\n\u001b[0;32m--> 228\u001b[0m         \u001b[43mwriter\u001b[49m\u001b[38;5;241;43m.\u001b[39;49m\u001b[43mwrite_frame\u001b[49m\u001b[43m(\u001b[49m\u001b[43mframe\u001b[49m\u001b[43m)\u001b[49m\n\u001b[1;32m    230\u001b[0m \u001b[38;5;28;01mif\u001b[39;00m write_logfile:\n\u001b[1;32m    231\u001b[0m     logfile\u001b[38;5;241m.\u001b[39mclose()\n",
      "File \u001b[0;32m~/.local/share/virtualenvs/reddit-yt-tts-Dm6P-A76/lib/python3.8/site-packages/moviepy/video/io/ffmpeg_writer.py:180\u001b[0m, in \u001b[0;36mFFMPEG_VideoWriter.write_frame\u001b[0;34m(self, img_array)\u001b[0m\n\u001b[1;32m    174\u001b[0m \u001b[38;5;28;01melif\u001b[39;00m \u001b[38;5;124mb\u001b[39m\u001b[38;5;124m\"\u001b[39m\u001b[38;5;124mInvalid encoder type\u001b[39m\u001b[38;5;124m\"\u001b[39m \u001b[38;5;129;01min\u001b[39;00m ffmpeg_error:\n\u001b[1;32m    176\u001b[0m     error \u001b[38;5;241m=\u001b[39m error \u001b[38;5;241m+\u001b[39m (\u001b[38;5;124m\"\u001b[39m\u001b[38;5;130;01m\\n\u001b[39;00m\u001b[38;5;130;01m\\n\u001b[39;00m\u001b[38;5;124mThe video export failed because the codec \u001b[39m\u001b[38;5;124m\"\u001b[39m\n\u001b[1;32m    177\u001b[0m       \u001b[38;5;124m\"\u001b[39m\u001b[38;5;124mor file extension you provided is not a video\u001b[39m\u001b[38;5;124m\"\u001b[39m)\n\u001b[0;32m--> 180\u001b[0m \u001b[38;5;28;01mraise\u001b[39;00m \u001b[38;5;167;01mIOError\u001b[39;00m(error)\n",
      "\u001b[0;31mOSError\u001b[0m: [Errno 32] Broken pipe\n\nMoviePy error: FFMPEG encountered the following error while writing file /mnt/n/data/reddit-yt-tts/queued/reddit_whats_your_most_im_with_the_boomers_on/intro.mp4:\n\n b'/mnt/n/data/reddit-yt-tts/queued/reddit_whats_your_most_im_with_the_boomers_on/intro.mp4: No such file or directory\\n'"
     ]
    }
   ],
   "source": [
    "build_intro_vid(bg_img)\n",
    "build_outro_vid(bg_img)"
   ]
  },
  {
   "cell_type": "code",
   "execution_count": null,
   "id": "c1ee8a27-3263-43a2-a80a-0b4c16a3c575",
   "metadata": {},
   "outputs": [],
   "source": [
    "# save c to "
   ]
  },
  {
   "cell_type": "code",
   "execution_count": 129,
   "id": "d858f26b-c13c-4a83-bd6a-a62ea9fc59bf",
   "metadata": {},
   "outputs": [],
   "source": [
    "videos = glob.glob(f\"{asset_dir}/{submission_title}/*/*.mp4\")\n",
    "videos = sorted(list(set(videos)))"
   ]
  },
  {
   "cell_type": "code",
   "execution_count": 130,
   "id": "feb07e9f-0731-424b-bfe1-22080a278350",
   "metadata": {},
   "outputs": [],
   "source": [
    "#prepend intro\n",
    "intro = glob.glob(f\"{asset_dir}/{submission_title}/intro.mp4\")\n",
    "videos = intro + videos\n",
    "\n",
    "#append outro\n",
    "outro = glob.glob(f\"{asset_dir}/{submission_title}/outro.mp4\")\n",
    "videos = videos + outro\n",
    "\n"
   ]
  },
  {
   "cell_type": "code",
   "execution_count": 131,
   "id": "2986bfa8-598f-47c8-b13f-40e098ba2948",
   "metadata": {},
   "outputs": [
    {
     "data": {
      "text/plain": [
       "[]"
      ]
     },
     "execution_count": 131,
     "metadata": {},
     "output_type": "execute_result"
    }
   ],
   "source": [
    "videos"
   ]
  },
  {
   "cell_type": "code",
   "execution_count": 132,
   "id": "63805f33-1f66-4426-8b76-131b7a9ddb1f",
   "metadata": {},
   "outputs": [],
   "source": [
    "all_video_clips = [mpy.VideoFileClip(video) for video in videos]"
   ]
  },
  {
   "cell_type": "code",
   "execution_count": 133,
   "id": "cb8e0145-185a-4cb2-809e-79bb72374e1b",
   "metadata": {},
   "outputs": [],
   "source": [
    "videos_w_sound_corrected = []\n",
    "for clip in all_video_clips:\n",
    "    if clip.audio:\n",
    "        clip.audio = clip.audio.fx(mpy.afx.audio_normalize)\n",
    "    videos_w_sound_corrected.append(clip)\n",
    "        "
   ]
  },
  {
   "cell_type": "code",
   "execution_count": 134,
   "id": "725432e1-bd29-4bc7-912f-e8501847c466",
   "metadata": {},
   "outputs": [],
   "source": [
    "transition = mpy.VideoFileClip(\"assets/tvstatic-180-720.mp4\")"
   ]
  },
  {
   "cell_type": "code",
   "execution_count": 135,
   "id": "7c85e8e2-48a2-4810-a5d9-4a066099f805",
   "metadata": {},
   "outputs": [],
   "source": [
    "transition2 = mpy.VideoFileClip(\"assets/free-vhs-overlay-1080-720.mp4\")"
   ]
  },
  {
   "cell_type": "code",
   "execution_count": 136,
   "id": "752b4817-a0ab-403e-8af7-81ed4514373c",
   "metadata": {},
   "outputs": [],
   "source": [
    "transition2.audio = transition.audio\n",
    "transition2 = transition2.set_duration(.7)\n",
    "#transition = transition.resize(1080,720) resizing crashes kernal reesizing \n",
    "#using ffmpeg on cli instead:  https://trac.ffmpeg.org/wiki/Scaling\n",
    "\n",
    "#split bg music into parts: https://unix.stackexchange.com/questions/280767/how-do-i-split-an-audio-file-into-multiple\n",
    "#ffmpeg -i somefile.mp3 -f segment -segment_time 3 -c copy out%03d.mp3\n"
   ]
  },
  {
   "cell_type": "code",
   "execution_count": 137,
   "id": "dddfb80f-b508-4237-8391-ab99188cf938",
   "metadata": {},
   "outputs": [
    {
     "ename": "TypeError",
     "evalue": "reduce() of empty sequence with no initial value",
     "output_type": "error",
     "traceback": [
      "\u001b[0;31m---------------------------------------------------------------------------\u001b[0m",
      "\u001b[0;31mTypeError\u001b[0m                                 Traceback (most recent call last)",
      "Cell \u001b[0;32mIn [137], line 1\u001b[0m\n\u001b[0;32m----> 1\u001b[0m final_video \u001b[38;5;241m=\u001b[39m \u001b[43mmpy\u001b[49m\u001b[38;5;241;43m.\u001b[39;49m\u001b[43mconcatenate_videoclips\u001b[49m\u001b[43m(\u001b[49m\u001b[43mvideos_w_sound_corrected\u001b[49m\u001b[43m,\u001b[49m\u001b[43mmethod\u001b[49m\u001b[38;5;241;43m=\u001b[39;49m\u001b[38;5;124;43m\"\u001b[39;49m\u001b[38;5;124;43mcompose\u001b[39;49m\u001b[38;5;124;43m\"\u001b[39;49m\u001b[43m,\u001b[49m\u001b[43mtransition\u001b[49m\u001b[38;5;241;43m=\u001b[39;49m\u001b[43mtransition2\u001b[49m\u001b[43m)\u001b[49m\n",
      "File \u001b[0;32m~/.local/share/virtualenvs/reddit-yt-tts-Dm6P-A76/lib/python3.8/site-packages/moviepy/video/compositing/concatenate.py:68\u001b[0m, in \u001b[0;36mconcatenate_videoclips\u001b[0;34m(clips, method, transition, bg_color, ismask, padding)\u001b[0m\n\u001b[1;32m     66\u001b[0m \u001b[38;5;28;01mif\u001b[39;00m transition \u001b[38;5;129;01mis\u001b[39;00m \u001b[38;5;129;01mnot\u001b[39;00m \u001b[38;5;28;01mNone\u001b[39;00m:\n\u001b[1;32m     67\u001b[0m     l \u001b[38;5;241m=\u001b[39m [[v, transition] \u001b[38;5;28;01mfor\u001b[39;00m v \u001b[38;5;129;01min\u001b[39;00m clips[:\u001b[38;5;241m-\u001b[39m\u001b[38;5;241m1\u001b[39m]]\n\u001b[0;32m---> 68\u001b[0m     clips \u001b[38;5;241m=\u001b[39m \u001b[43mreduce\u001b[49m\u001b[43m(\u001b[49m\u001b[38;5;28;43;01mlambda\u001b[39;49;00m\u001b[43m \u001b[49m\u001b[43mx\u001b[49m\u001b[43m,\u001b[49m\u001b[43m \u001b[49m\u001b[43my\u001b[49m\u001b[43m:\u001b[49m\u001b[43m \u001b[49m\u001b[43mx\u001b[49m\u001b[43m \u001b[49m\u001b[38;5;241;43m+\u001b[39;49m\u001b[43m \u001b[49m\u001b[43my\u001b[49m\u001b[43m,\u001b[49m\u001b[43m \u001b[49m\u001b[43ml\u001b[49m\u001b[43m)\u001b[49m \u001b[38;5;241m+\u001b[39m [clips[\u001b[38;5;241m-\u001b[39m\u001b[38;5;241m1\u001b[39m]]\n\u001b[1;32m     69\u001b[0m     transition \u001b[38;5;241m=\u001b[39m \u001b[38;5;28;01mNone\u001b[39;00m\n\u001b[1;32m     71\u001b[0m tt \u001b[38;5;241m=\u001b[39m np\u001b[38;5;241m.\u001b[39mcumsum([\u001b[38;5;241m0\u001b[39m] \u001b[38;5;241m+\u001b[39m [c\u001b[38;5;241m.\u001b[39mduration \u001b[38;5;28;01mfor\u001b[39;00m c \u001b[38;5;129;01min\u001b[39;00m clips])\n",
      "\u001b[0;31mTypeError\u001b[0m: reduce() of empty sequence with no initial value"
     ]
    }
   ],
   "source": [
    "final_video = mpy.concatenate_videoclips(videos_w_sound_corrected,method=\"compose\",transition=transition2)"
   ]
  },
  {
   "cell_type": "code",
   "execution_count": null,
   "id": "055d65ba-7dba-4c5c-909a-92321b951233",
   "metadata": {},
   "outputs": [],
   "source": [
    "def get_audio(v_duration):\n",
    "    import random\n",
    "    get_audio = True\n",
    "    sel_file_clips = []\n",
    "    sel_file_names = []\n",
    "    while get_audio:\n",
    "        \n",
    "        audio_files = glob.glob(\"assets/bg_music/*.opus\")\n",
    "        \n",
    "        sel_file = random.choice(audio_files)\n",
    "        \n",
    "        sel_file_clips.append(mpy.AudioFileClip(sel_file))\n",
    "        sel_file_names.append(sel_file)\n",
    "        \n",
    "        all_duration = [ x.duration for x in sel_file_clips]\n",
    "        \n",
    "        total_duration = 0\n",
    "        \n",
    "        for duration in all_duration:\n",
    "            total_duration += duration\n",
    "        \n",
    "        if total_duration >= v_duration:\n",
    "            get_audio = False\n",
    "    \n",
    "    out_audio = mpy.concatenate_audioclips(sel_file_clips).set_duration(v_duration)\n",
    "    return out_audio, sel_file_names \n",
    "        "
   ]
  },
  {
   "cell_type": "code",
   "execution_count": 138,
   "id": "d0741c5f-49db-4d3a-aaf0-c5783261f744",
   "metadata": {},
   "outputs": [],
   "source": [
    "#import moviepy.video.fx as vfx\n",
    "#import moviepy.audio.fx as afx\n",
    "bg_music,bg_music_files = get_audio(final_video.duration)\n",
    "\n",
    "bg_music = bg_music.fx( mpy.afx.audio_normalize).fx( mpy.afx.volumex, 0.3).fx( mpy.afx.audio_fadein, 1.0)\n",
    "tts_audio = final_video.audio"
   ]
  },
  {
   "cell_type": "code",
   "execution_count": 139,
   "id": "0b5b2b00-0515-4e32-8f90-1ba22a498de2",
   "metadata": {},
   "outputs": [],
   "source": [
    "bgm_w_tts_audio = mpy.CompositeAudioClip([bg_music,tts_audio])"
   ]
  },
  {
   "cell_type": "code",
   "execution_count": 140,
   "id": "00938b60-0568-4a14-b6d2-6266781c0fa1",
   "metadata": {},
   "outputs": [],
   "source": [
    "final_video.audio = bgm_w_tts_audio"
   ]
  },
  {
   "cell_type": "code",
   "execution_count": 141,
   "id": "0f8ec0bb-caae-4f6a-90a9-953218af1f60",
   "metadata": {},
   "outputs": [],
   "source": [
    "final_video.write_videofile(f\"assets/final_videos/{submission_title}.mp4\",fps=30,logger=None)"
   ]
  },
  {
   "cell_type": "code",
   "execution_count": 142,
   "id": "4da26926-c688-45e3-bcc0-82fba5f1874f",
   "metadata": {},
   "outputs": [],
   "source": [
    "# Save video credits\n",
    "def check_wildcard(file,credit):\n",
    "    prefix = credit[\"filename\"].split(\".*\")[0]\n",
    "    return prefix in file\n",
    "        \n",
    "def get_audio_credits(audio_files):\n",
    "    import yaml\n",
    "    with open(\"assets/bg_music/asset_credits.yml\",\"r\") as f:\n",
    "        credits = yaml.load(f,yaml.FullLoader)\n",
    "    active_credits = []\n",
    "    for credit in credits[\"assets\"]:\n",
    "        for file in audio_files:\n",
    "            if \".*\" in credit[\"filename\"] and check_wildcard(file,credit):\n",
    "                active_credits.append(credit)\n",
    "            elif credit[\"filename\"] == file:\n",
    "                active_credits.append(credit)\n",
    "    return active_credits"
   ]
  },
  {
   "cell_type": "code",
   "execution_count": 143,
   "id": "5f067927-31e6-4cf6-98a4-e0299c1f9206",
   "metadata": {},
   "outputs": [],
   "source": [
    "credits = get_audio_credits(bg_music_files)\n",
    "all_credit_texts = []\n",
    "for credit in credits:\n",
    "    credit_text = f\"\"\"\n",
    "    - {credit['artist']} - {credit['title']} \n",
    "    - Provided by Lofi Girl\n",
    "    - Watch: {credit['link']}\n",
    "    - Listen: {credit['spotify']}\n",
    "    \"\"\"\n",
    "    all_credit_texts.append(credit_text)\n",
    "audio_credits = \"--------\\n\".join(set(all_credit_texts))\n",
    "#print(audio_credits)"
   ]
  },
  {
   "cell_type": "code",
   "execution_count": 144,
   "id": "06456e26-7c59-4b3d-b4ea-c914513c0649",
   "metadata": {},
   "outputs": [],
   "source": [
    "with open(f\"assets/final_video_credits/{submission_title}.txt\",\"w\") as f:\n",
    "    f.write(audio_credits)"
   ]
  },
  {
   "cell_type": "code",
   "execution_count": 145,
   "id": "b9654e5d-73dc-4dab-b9fd-891981cab3bb",
   "metadata": {},
   "outputs": [
    {
     "ename": "IndexError",
     "evalue": "list index out of range",
     "output_type": "error",
     "traceback": [
      "\u001b[0;31m---------------------------------------------------------------------------\u001b[0m",
      "\u001b[0;31mIndexError\u001b[0m                                Traceback (most recent call last)",
      "Cell \u001b[0;32mIn [145], line 2\u001b[0m\n\u001b[1;32m      1\u001b[0m \u001b[38;5;28;01mfrom\u001b[39;00m \u001b[38;5;21;01mmake_thumbnail\u001b[39;00m \u001b[38;5;28;01mimport\u001b[39;00m make_thumbnail_img\n\u001b[0;32m----> 2\u001b[0m prompt_file \u001b[38;5;241m=\u001b[39m \u001b[43mglob\u001b[49m\u001b[38;5;241;43m.\u001b[39;49m\u001b[43mglob\u001b[49m\u001b[43m(\u001b[49m\u001b[38;5;124;43mf\u001b[39;49m\u001b[38;5;124;43m\"\u001b[39;49m\u001b[38;5;132;43;01m{\u001b[39;49;00m\u001b[43masset_dir\u001b[49m\u001b[38;5;132;43;01m}\u001b[39;49;00m\u001b[38;5;124;43m/../archive_text/\u001b[39;49m\u001b[38;5;132;43;01m{\u001b[39;49;00m\u001b[43msubmission_title\u001b[49m\u001b[38;5;132;43;01m}\u001b[39;49;00m\u001b[38;5;124;43m/0001*/0000.txt\u001b[39;49m\u001b[38;5;124;43m\"\u001b[39;49m\u001b[43m)\u001b[49m\u001b[43m[\u001b[49m\u001b[38;5;241;43m0\u001b[39;49m\u001b[43m]\u001b[49m\n\u001b[1;32m      4\u001b[0m \u001b[38;5;28;01mwith\u001b[39;00m \u001b[38;5;28mopen\u001b[39m(prompt_file,\u001b[38;5;124m\"\u001b[39m\u001b[38;5;124mr\u001b[39m\u001b[38;5;124m\"\u001b[39m) \u001b[38;5;28;01mas\u001b[39;00m f:\n\u001b[1;32m      5\u001b[0m     prompt_text \u001b[38;5;241m=\u001b[39m f\u001b[38;5;241m.\u001b[39mread()\n",
      "\u001b[0;31mIndexError\u001b[0m: list index out of range"
     ]
    }
   ],
   "source": [
    "from make_thumbnail import make_thumbnail_img\n",
    "prompt_file = glob.glob(f\"{asset_dir}/../archive_text/{submission_title}/0001*/0000.txt\")[0]\n",
    "\n",
    "with open(prompt_file,\"r\") as f:\n",
    "    prompt_text = f.read()\n",
    "    \n",
    "make_thumbnail_img(prompt_text,f\"assets/final_video_thumbnails/{submission_title}.png\",font=\"assets/fonts/limejuice/Limejuice.ttf\")"
   ]
  },
  {
   "cell_type": "code",
   "execution_count": null,
   "id": "68d49648-04cb-4e74-bfa2-27d3d9672e41",
   "metadata": {},
   "outputs": [],
   "source": [
    "import json\n",
    "\n",
    "metadata = dict(prompt_text=prompt_text\n",
    "                ,submission_title=submission_title\n",
    "                ,video_file=f\"assets/final_videos/{submission_title}.mp4\"\n",
    "                ,credits_file=f\"assets/final_video_credits/{submission_title}.txt\"\n",
    "               ,thumbnail=f\"assets/final_video_thumbnails/{submission_title}.png\"\n",
    "               ,post_url=post_url)\n",
    "\n",
    "with open(f\"assets/final_video_metadata/{submission_title}.json\",\"w\") as f:\n",
    "    json.dump(metadata,f)\n"
   ]
  },
  {
   "cell_type": "code",
   "execution_count": null,
   "id": "a5728156-7d49-446e-95ef-395586ce9a55",
   "metadata": {},
   "outputs": [],
   "source": [
    "print(f\"done!...info:\\n prompt_text: {prompt_text}\\n submission_title: {submission_title} \\n video_file: assets/final_videos/{submission_title}.mp4 \\n credits_file: assets/final_video_credits/{submission_title}.txt\\n thumbnail: assets/final_video_thumbnails/{submission_title}.png \\n post: {post_url}\")"
   ]
  },
  {
   "cell_type": "code",
   "execution_count": null,
   "id": "a728b88d-7257-4d72-80aa-e357914ee6b3",
   "metadata": {},
   "outputs": [],
   "source": []
  },
  {
   "cell_type": "code",
   "execution_count": null,
   "id": "f2a92350-5835-4664-a929-0b17320633a7",
   "metadata": {},
   "outputs": [],
   "source": []
  }
 ],
 "metadata": {
  "kernelspec": {
   "display_name": "Python 3 (ipykernel)",
   "language": "python",
   "name": "python3"
  },
  "language_info": {
   "codemirror_mode": {
    "name": "ipython",
    "version": 3
   },
   "file_extension": ".py",
   "mimetype": "text/x-python",
   "name": "python",
   "nbconvert_exporter": "python",
   "pygments_lexer": "ipython3",
   "version": "3.8.10"
  }
 },
 "nbformat": 4,
 "nbformat_minor": 5
}
