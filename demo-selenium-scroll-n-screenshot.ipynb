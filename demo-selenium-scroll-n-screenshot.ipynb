{
 "cells": [
  {
   "cell_type": "code",
   "execution_count": 1,
   "id": "ca5278a8-1e8e-4371-99e4-a6ddab0f048f",
   "metadata": {},
   "outputs": [],
   "source": [
    "from proxy_chrome_browser import get_chromedriver, build_proxy_extension"
   ]
  },
  {
   "cell_type": "code",
   "execution_count": 2,
   "id": "0c46d66d-a637-483f-854e-fb7d951bcab0",
   "metadata": {},
   "outputs": [
    {
     "ename": "TypeError",
     "evalue": "WebDriver.__init__() got multiple values for argument 'options'",
     "output_type": "error",
     "traceback": [
      "\u001b[0;31m---------------------------------------------------------------------------\u001b[0m",
      "\u001b[0;31mTypeError\u001b[0m                                 Traceback (most recent call last)",
      "Cell \u001b[0;32mIn[2], line 1\u001b[0m\n\u001b[0;32m----> 1\u001b[0m br \u001b[38;5;241m=\u001b[39m \u001b[43mget_chromedriver\u001b[49m\u001b[43m(\u001b[49m\u001b[43mheadless\u001b[49m\u001b[38;5;241;43m=\u001b[39;49m\u001b[38;5;28;43;01mTrue\u001b[39;49;00m\u001b[43m,\u001b[49m\u001b[43mpath\u001b[49m\u001b[38;5;241;43m=\u001b[39;49m\u001b[38;5;124;43m'\u001b[39;49m\u001b[38;5;124;43m/home/miko/Downloads/chromedriver-v-106-0-5249-61\u001b[39;49m\u001b[38;5;124;43m'\u001b[39;49m\u001b[43m)\u001b[49m\n",
      "File \u001b[0;32m~/Documents/reddit-yt-tts/proxy_chrome_browser.py:80\u001b[0m, in \u001b[0;36mget_chromedriver\u001b[0;34m(proxy_file, headless, path)\u001b[0m\n\u001b[1;32m     78\u001b[0m     chrome_options\u001b[38;5;241m.\u001b[39madd_argument(\u001b[38;5;124m'\u001b[39m\u001b[38;5;124m--no-sandbox\u001b[39m\u001b[38;5;124m'\u001b[39m)\n\u001b[1;32m     79\u001b[0m     chrome_options\u001b[38;5;241m.\u001b[39madd_argument(\u001b[38;5;124m'\u001b[39m\u001b[38;5;124m--disable-dev-shm-usage\u001b[39m\u001b[38;5;124m'\u001b[39m)    \n\u001b[0;32m---> 80\u001b[0m driver \u001b[38;5;241m=\u001b[39m \u001b[43mwebdriver\u001b[49m\u001b[38;5;241;43m.\u001b[39;49m\u001b[43mChrome\u001b[49m\u001b[43m(\u001b[49m\n\u001b[1;32m     81\u001b[0m \u001b[43m    \u001b[49m\u001b[43mos\u001b[49m\u001b[38;5;241;43m.\u001b[39;49m\u001b[43mpath\u001b[49m\u001b[38;5;241;43m.\u001b[39;49m\u001b[43mjoin\u001b[49m\u001b[43m(\u001b[49m\u001b[43mpath\u001b[49m\u001b[43m,\u001b[49m\u001b[43m \u001b[49m\u001b[38;5;124;43m'\u001b[39;49m\u001b[38;5;124;43mchromedriver\u001b[39;49m\u001b[38;5;124;43m'\u001b[39;49m\u001b[43m)\u001b[49m\u001b[43m,\u001b[49m\n\u001b[1;32m     82\u001b[0m \u001b[43m    \u001b[49m\u001b[43moptions\u001b[49m\u001b[38;5;241;43m=\u001b[39;49m\u001b[43mchrome_options\u001b[49m\u001b[43m)\u001b[49m\n\u001b[1;32m     84\u001b[0m \u001b[38;5;28;01mreturn\u001b[39;00m driver\n",
      "\u001b[0;31mTypeError\u001b[0m: WebDriver.__init__() got multiple values for argument 'options'"
     ]
    }
   ],
   "source": [
    "br = get_chromedriver(headless=True,path='/home/miko/Downloads/chromedriver-v-106-0-5249-61')"
   ]
  },
  {
   "cell_type": "code",
   "execution_count": 30,
   "id": "4cf428be-7997-41d4-b0a5-a95534c74873",
   "metadata": {},
   "outputs": [],
   "source": [
    "br.get(\"https://reddit.com\")"
   ]
  },
  {
   "cell_type": "code",
   "execution_count": 31,
   "id": "0b9a33e4-0d81-4d53-8911-a06f7b256857",
   "metadata": {},
   "outputs": [],
   "source": [
    "#sample post:\n",
    "post_url = \"https://www.reddit.com/r/AskReddit/comments/ygv57q/what_movie_is_a_1010/\""
   ]
  },
  {
   "cell_type": "code",
   "execution_count": 32,
   "id": "f3997ed1-d055-4983-aaa0-c031c07d817d",
   "metadata": {},
   "outputs": [],
   "source": [
    "br.get(post_url)"
   ]
  },
  {
   "cell_type": "code",
   "execution_count": 35,
   "id": "56598f8b-511b-4b63-a52d-920a004c8aa9",
   "metadata": {},
   "outputs": [],
   "source": [
    "br.execute_script(\"window.scrollBy(0,250)\", \"\")"
   ]
  },
  {
   "cell_type": "code",
   "execution_count": 36,
   "id": "dd7ce4d2-c14b-4fb7-b8aa-bd53ef41d6cd",
   "metadata": {},
   "outputs": [],
   "source": [
    "def find_css(tag,driver=br,_all=False):\n",
    "    from selenium.webdriver.common.by import By\n",
    "    try:\n",
    "        if _all:\n",
    "            out = driver.find_elements(by=By.CSS_SELECTOR,value=tag)\n",
    "            \n",
    "        else:\n",
    "            out = driver.find_element(by=By.CSS_SELECTOR,value=tag)\n",
    "    except:\n",
    "        #print('None')\n",
    "        out = None\n",
    "    return out"
   ]
  },
  {
   "cell_type": "code",
   "execution_count": 37,
   "id": "3d227fc8-50ee-4360-8df1-a38c9ad06b8c",
   "metadata": {},
   "outputs": [],
   "source": [
    "# # mighthave to switch frames for comments.nvm disregard\n",
    "# iframes = find_css(\"iframe\",_all=True)\n",
    "# br.switch_to.frame(iframes[0])"
   ]
  },
  {
   "cell_type": "code",
   "execution_count": 38,
   "id": "1784eed6-db4c-4b95-996b-c2a6e952f1bf",
   "metadata": {},
   "outputs": [],
   "source": [
    "comments = find_css(\"div[class*='Comment']\",_all=True)"
   ]
  },
  {
   "cell_type": "code",
   "execution_count": 39,
   "id": "2f481774-0e50-4fa4-8468-566f29f14fa1",
   "metadata": {},
   "outputs": [
    {
     "data": {
      "text/plain": [
       "200"
      ]
     },
     "execution_count": 39,
     "metadata": {},
     "output_type": "execute_result"
    }
   ],
   "source": [
    "len(comments)"
   ]
  },
  {
   "cell_type": "code",
   "execution_count": 40,
   "id": "5ebdd375-40d0-4f58-99aa-e9e1dae26878",
   "metadata": {},
   "outputs": [
    {
     "name": "stdout",
     "output_type": "stream",
     "text": [
      "level 2\n",
      "necromax13\n",
      "·\n",
      "12 hr. ago\n",
      "I can explain:\n",
      "Because it's a once in a lifetime film, made with amateur actors, about once in a century memoirs written by a guy that never wrote anything again.\n",
      "It bounces seamlessly between a comedy, a crime drama, art house, biopic, documentary (!!!!), and a quirky romance movie.\n",
      "Its gritty, grimey, kinda horrifying, yet hilarious, uplifting, and a riot to watch.\n",
      "Also the cinematography at times reaches a fever inducing pace, or cleverly conveys some other contextual message, or plainly is just brilliant with shots and production design coming together (the scene about the apartment is a standout).\n",
      "Perfect film.\n",
      "1.4k\n",
      "Reply\n",
      "Share\n",
      "Report\n",
      "Save\n",
      "Follow\n"
     ]
    }
   ],
   "source": [
    "print(comments[1].text)"
   ]
  },
  {
   "cell_type": "code",
   "execution_count": 92,
   "id": "e73e3c1f-cc77-4128-b449-0d8d37c03507",
   "metadata": {},
   "outputs": [],
   "source": [
    "with open(\"test.png\",\"wb\") as f:\n",
    "    f.write(comments[1].screenshot_as_png)\n"
   ]
  },
  {
   "cell_type": "code",
   "execution_count": 41,
   "id": "9f7d7c3c-bc56-4cbc-98e0-c8b04c527e6d",
   "metadata": {},
   "outputs": [],
   "source": [
    "br.execute_script(\"window.scrollBy(0,250)\", \"\")"
   ]
  },
  {
   "cell_type": "code",
   "execution_count": 42,
   "id": "68d9b0db-bed3-4396-b66a-19e924e8ecbd",
   "metadata": {},
   "outputs": [],
   "source": [
    "i = 0\n",
    "while i <= 1000:\n",
    "    br.execute_script(\"window.scrollBy(0,1)\", \"\")\n",
    "    with open(f\"assets/demos/test-full-{i:04}.png\",\"wb\") as f:\n",
    "        f.write(find_css(\"div[id*='2x-container']\").screenshot_as_png)\n",
    "    i += 1"
   ]
  },
  {
   "cell_type": "code",
   "execution_count": 10,
   "id": "646ec018-1493-4258-a516-c3adb59aef1b",
   "metadata": {},
   "outputs": [],
   "source": [
    "#!rm assets/demos/*"
   ]
  },
  {
   "cell_type": "code",
   "execution_count": null,
   "id": "6a17233e-1e67-4b58-bfe4-bdfb1833f747",
   "metadata": {},
   "outputs": [],
   "source": []
  }
 ],
 "metadata": {
  "kernelspec": {
   "display_name": "Python 3 (ipykernel)",
   "language": "python",
   "name": "python3"
  },
  "language_info": {
   "codemirror_mode": {
    "name": "ipython",
    "version": 3
   },
   "file_extension": ".py",
   "mimetype": "text/x-python",
   "name": "python",
   "nbconvert_exporter": "python",
   "pygments_lexer": "ipython3",
   "version": "3.12.3"
  }
 },
 "nbformat": 4,
 "nbformat_minor": 5
}
