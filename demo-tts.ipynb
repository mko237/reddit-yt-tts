{
 "cells": [
  {
   "cell_type": "code",
   "execution_count": 1,
   "id": "1472d342-ce68-4780-a614-a52b9ef86674",
   "metadata": {},
   "outputs": [],
   "source": [
    "#! sudo apt install espeak\n",
    "#!sudo apt install libcairo2-dev\n"
   ]
  },
  {
   "cell_type": "code",
   "execution_count": 2,
   "id": "b98bd4f5-860f-4805-b517-dd2314d94bf5",
   "metadata": {},
   "outputs": [],
   "source": [
    "# import sys\n",
    "# sys.path.append(\"nix-tts\")"
   ]
  },
  {
   "cell_type": "code",
   "execution_count": 3,
   "id": "2a2086f8-fe8c-423a-8716-175125e0545e",
   "metadata": {},
   "outputs": [],
   "source": [
    "# from nix.models.TTS import NixTTSInference\n",
    "# from IPython.display import Audio\n",
    "\n",
    "# # Initiate Nix-TTS\n",
    "# nix = NixTTSInference(model_dir = \"/home/miko/Downloads/nix-ljspeech-stochastic-v0.1\")\n",
    "# # Tokenize input text\n",
    "# tts_text = \"\"\"Select your preferences and run the install command. Stable represents the most currently tested and supported version of PyTorch. This should be suitable for many users. Preview is available if you want the latest, not fully tested and supported, builds that are generated nightly. Please ensure that you have met the prerequisites below (e.g., numpy), depending on your package manager. Anaconda is our \"\"\"\n",
    "\n",
    "# c, c_length, phoneme = nix.tokenize(tts_text)\n",
    "# # Convert text to raw speech\n",
    "# xw = nix.vocalize(c, c_length)\n",
    "\n",
    "# # Listen to the generated speech\n",
    "# Audio(xw[0,0], rate = 22050)"
   ]
  },
  {
   "cell_type": "code",
   "execution_count": 4,
   "id": "04ff7f18-36ce-4aff-930c-80bc0ab7ffa5",
   "metadata": {},
   "outputs": [],
   "source": [
    "# with open(\"assets/demo_png_2_vid/would_you_support_a_mandatory_retirement_age_of/Askmyrkr-1_7k/0001.txt\",\"r\") as f:\n",
    "#     reddit_txt = f.read()"
   ]
  },
  {
   "cell_type": "code",
   "execution_count": 5,
   "id": "6f829bdb-bbee-4b38-adcb-5e682c0e2603",
   "metadata": {},
   "outputs": [],
   "source": [
    "# nix = NixTTSInference(model_dir = \"/home/miko/Downloads/nix-ljspeech-stochastic-v0.1\")\n",
    "# # Tokenize input text\n",
    "# c, c_length, phoneme = nix.tokenize(reddit_txt)\n",
    "# # Convert text to raw speech\n",
    "# xw = nix.vocalize(c, c_length)\n",
    "\n",
    "# # Listen to the generated speech\n",
    "# Audio(xw[0,0], rate = 22050)"
   ]
  },
  {
   "cell_type": "code",
   "execution_count": 6,
   "id": "04354828-297e-4d79-bd51-65d6d96fcb7e",
   "metadata": {},
   "outputs": [],
   "source": [
    "# reddit_txt"
   ]
  },
  {
   "cell_type": "code",
   "execution_count": 7,
   "id": "f2ae13b9-5a4f-4364-b321-ec794b25c058",
   "metadata": {},
   "outputs": [],
   "source": [
    "# import yaml"
   ]
  },
  {
   "cell_type": "code",
   "execution_count": 8,
   "id": "2ea098b0-c396-41e1-a4f9-c45d1be3a065",
   "metadata": {},
   "outputs": [],
   "source": [
    "# yaml.dump"
   ]
  },
  {
   "cell_type": "code",
   "execution_count": 9,
   "id": "258a7a53-a659-4786-bda8-a5f8f43ba1c2",
   "metadata": {},
   "outputs": [],
   "source": [
    "# from tortoise.api import TextToSpeech, MODELS_DIR\n",
    "# from tortoise.utils.audio import load_voices\n",
    "# from utils.text import split_and_recombine_text\n",
    "# import torch\n",
    "# import torchaudio\n",
    "# import glob,os"
   ]
  },
  {
   "cell_type": "code",
   "execution_count": 10,
   "id": "8c5210b2-5a08-48a8-81ad-fcd288c4f129",
   "metadata": {},
   "outputs": [],
   "source": [
    "\n",
    "\n",
    "# tts = TextToSpeech(models_dir=MODELS_DIR)\n",
    "\n",
    "# #linux below\n",
    "# #available_voices = [x.split(\"/\")[-1] for x in glob.glob(\"tortoise-tts/tortoise/voices/*\")]\n",
    "# #windows below\n",
    "# available_voices = [x.split(\"\\\\\")[-1] for x in glob.glob(\"tortoise-tts/tortoise/voices/*\")]\n",
    "# #selected_voices = [available_voices[0]]\n",
    "# selected_voices = available_voices\n",
    "# tts_text =\"\"\"Select your preferences and run the install command. Stable represents the most currently tested and supported version of PyTorch. This should be suitable for many users. Preview is available if you want the latest, not fully tested and supported, builds that are generated nightly. Please ensure that you have met the prerequisites below (e.g., numpy), depending on your package manager. Anaconda is our \"\"\"\n",
    "# output_path = \"assets/demo_trts\"\n",
    "# os.makedirs(output_path, exist_ok=True)\n",
    "# candidates=1\n",
    "# cvvp_amount=0\n",
    "# seed=None\n",
    "# preset='fast' #standard\n",
    "# selected_voices=[\"train_empire&applejack\"]\n",
    "# for k, selected_voice in enumerate(selected_voices):\n",
    "#     if '&' in selected_voice:\n",
    "#         voice_sel = selected_voice.split('&')\n",
    "#     else:\n",
    "#         voice_sel = [selected_voice]\n",
    "#     voice_samples, conditioning_latents = load_voices(voice_sel)\n",
    "\n",
    "#     gen, dbg_state = tts.tts_with_preset(tts_text, k=candidates, voice_samples=voice_samples, conditioning_latents=conditioning_latents,\n",
    "#                               preset=preset, use_deterministic_seed=seed, return_deterministic_state=True, cvvp_amount=cvvp_amount)\n",
    "#     if isinstance(gen, list):\n",
    "#         for j, g in enumerate(gen):\n",
    "#             torchaudio.save(os.path.join(output_path, f'{selected_voice}_{k}_{j}_{len(tts_text)}.wav'), g.squeeze(0).cpu(), 24000)\n",
    "#     else:\n",
    "#         torchaudio.save(os.path.join(output_path, f'{selected_voice}_{k}_{len(tts_text)}.wav'), gen.squeeze(0).cpu(), 24000)"
   ]
  },
  {
   "cell_type": "code",
   "execution_count": 11,
   "id": "b6d8559b-ff71-439d-998e-7f87a7f68917",
   "metadata": {},
   "outputs": [],
   "source": [
    "# from IPython.display import Audio"
   ]
  },
  {
   "cell_type": "code",
   "execution_count": 12,
   "id": "50cdf2ac-03b8-48c5-b6ca-85678a166b8a",
   "metadata": {},
   "outputs": [],
   "source": [
    "# Audio(filename=\"assets/demo_trts/angie_0_405.wav\")"
   ]
  },
  {
   "cell_type": "code",
   "execution_count": 3,
   "id": "8a869340-55e0-4ed2-abb7-6b772a8b1e15",
   "metadata": {},
   "outputs": [
    {
     "name": "stderr",
     "output_type": "stream",
     "text": [
      "C:\\Users\\mko23\\.virtualenvs\\reddit-yt-tts-iR6L085J\\lib\\site-packages\\tqdm\\auto.py:22: TqdmWarning: IProgress not found. Please update jupyter and ipywidgets. See https://ipywidgets.readthedocs.io/en/stable/user_install.html\n",
      "  from .autonotebook import tqdm as notebook_tqdm\n"
     ]
    }
   ],
   "source": [
    "# demo processing reddit texts\n",
    "from tortoise.api import TextToSpeech, MODELS_DIR\n",
    "from tortoise.utils.audio import load_voices\n",
    "from tortoise.utils.text import split_and_recombine_text\n",
    "import torch\n",
    "import torchaudio\n",
    "import glob,os\n",
    "import time\n",
    "import re\n",
    "from tqdm import tqdm"
   ]
  },
  {
   "cell_type": "code",
   "execution_count": 5,
   "id": "8ba2f45b-d192-406a-974c-4fd3ee1caaba",
   "metadata": {},
   "outputs": [],
   "source": [
    "from tts_job_opt import TTSOPT"
   ]
  },
  {
   "cell_type": "code",
   "execution_count": 14,
   "id": "6e24689a-4388-4c8f-a13f-8b4a40fbcc8e",
   "metadata": {},
   "outputs": [],
   "source": [
    "def exec_tts(tts_text,output_path,selected_voice=\"train_empire\"):\n",
    "    \n",
    "    candidates=1\n",
    "    cvvp_amount=0\n",
    "    seed=None\n",
    "    preset= 'fast' #'standard' #'fast' #standard\n",
    "    \n",
    "    texts = split_and_recombine_text(tts_text)\n",
    "    \n",
    "    if '&' in selected_voice:\n",
    "        voice_sel = selected_voice.split('&')\n",
    "    else:\n",
    "        voice_sel = [selected_voice]\n",
    "    voice_samples, conditioning_latents = load_voices(voice_sel)\n",
    "\n",
    "    all_parts = []\n",
    "    for j, text in enumerate(texts):\n",
    "        gen, dbg_state = tts.tts_with_preset(text, k=candidates, voice_samples=voice_samples, conditioning_latents=conditioning_latents,\n",
    "                              preset=preset, use_deterministic_seed=seed, return_deterministic_state=True, cvvp_amount=cvvp_amount,verbose=False)\n",
    "        gen = gen.squeeze(0).cpu()\n",
    "        all_parts.append(gen)\n",
    "        \n",
    "    full_audio = torch.cat(all_parts, dim=-1)\n",
    "    torchaudio.save(os.path.join(output_path), full_audio, 24000)"
   ]
  },
  {
   "cell_type": "code",
   "execution_count": 16,
   "id": "64498a93-8bdd-4d6c-8a1f-63dba416e01c",
   "metadata": {},
   "outputs": [
    {
     "name": "stdout",
     "output_type": "stream",
     "text": [
      "has_anyone_ever_been_to_a_wedding_where_someone\n"
     ]
    },
    {
     "name": "stderr",
     "output_type": "stream",
     "text": [
      " 61%|█████████████████████████████████████████████████▊                                | 34/56 [00:00<00:00, 75.26it/s]\n"
     ]
    },
    {
     "name": "stdout",
     "output_type": "stream",
     "text": [
      "people_who_get_in_their_cars_but_then_take_ages\n"
     ]
    },
    {
     "name": "stderr",
     "output_type": "stream",
     "text": [
      "100%|█████████████████████████████████████████████████████████████████████████████████| 17/17 [00:00<00:00, 293.87it/s]\n"
     ]
    },
    {
     "name": "stdout",
     "output_type": "stream",
     "text": [
      "people_who_wake_up_at_5am_daily_why\n"
     ]
    },
    {
     "name": "stderr",
     "output_type": "stream",
     "text": [
      "100%|█████████████████████████████████████████████████████████████████████████████████| 18/18 [00:00<00:00, 419.72it/s]\n"
     ]
    },
    {
     "name": "stdout",
     "output_type": "stream",
     "text": [
      "to_you_redditors_aged_50_whats_something_you\n"
     ]
    },
    {
     "name": "stderr",
     "output_type": "stream",
     "text": [
      "100%|█████████████████████████████████████████████████████████████████████████████████| 34/34 [00:00<00:00, 415.74it/s]\n"
     ]
    },
    {
     "name": "stdout",
     "output_type": "stream",
     "text": [
      "whats_something_popular_that_you_refuse_to_get\n"
     ]
    },
    {
     "name": "stderr",
     "output_type": "stream",
     "text": [
      " 83%|███████████████████████████████████████████████████████████████████▏             | 34/41 [00:00<00:00, 401.06it/s]\n"
     ]
    },
    {
     "name": "stdout",
     "output_type": "stream",
     "text": [
      "what_is_just_not_the_flex_that_people_think_it_is\n"
     ]
    },
    {
     "name": "stderr",
     "output_type": "stream",
     "text": [
      " 81%|█████████████████████████████████████████████████████████████████▌               | 34/42 [00:00<00:00, 299.04it/s]\n"
     ]
    },
    {
     "name": "stdout",
     "output_type": "stream",
     "text": [
      "what_television_series_had_the_biggest_bullshit\n"
     ]
    },
    {
     "name": "stderr",
     "output_type": "stream",
     "text": [
      " 68%|███████████████████████████████████████████████████████                          | 34/50 [00:00<00:00, 391.85it/s]\n"
     ]
    },
    {
     "name": "stdout",
     "output_type": "stream",
     "text": [
      "what_was_normal_2030_years_ago_but_is_considered\n"
     ]
    },
    {
     "name": "stderr",
     "output_type": "stream",
     "text": [
      " 77%|███████████████████████████████████████████████████████████████▎                  | 34/44 [45:13<13:17, 79.80s/it]\n"
     ]
    }
   ],
   "source": [
    "completed_dir = \"N:/data/reddit-yt-tts/completed\"\n",
    "archive_text_dir = \"N:/data/reddit-yt-tts/archive_text\"\n",
    "queue_dir = \"N:/data/reddit-yt-tts/queued\"\n",
    "post_dir = os.listdir(queue_dir)\n",
    "\n",
    "tts = TextToSpeech(models_dir=MODELS_DIR)\n",
    "\n",
    "start_time = time.time()\n",
    "\n",
    "skip_posts = [\"what_famous_person_didnt_deserve_all_the_hate\"]\n",
    "for post in post_dir:\n",
    "    print(post)\n",
    "    if post in skip_posts:\n",
    "        continue\n",
    "    thread_dir = os.listdir(f\"{queue_dir}/{post}\")\n",
    "    i = 0\n",
    "    cmt_threshold = 35\n",
    "    for thread in tqdm(thread_dir):\n",
    "        if \".mp4\" in thread:\n",
    "            continue\n",
    "        \n",
    "        text_files = [x for x in os.listdir(f\"{queue_dir}/{post}/{thread}\") if x[-3:] == \"txt\" ]\n",
    "        for text_file in text_files:\n",
    "           \n",
    "            # read in text file\n",
    "            text_path = f\"{queue_dir}/{post}/{thread}/{text_file}\"\n",
    "            with open(text_path,\"r\",encoding=\"utf8\") as f:\n",
    "                tts_text = f.read()\n",
    "                #remove emojis https://stackoverflow.com/questions/33404752/removing-emojis-from-a-string-in-python\n",
    "                emoji_pattern = re.compile(\"[\"\n",
    "                                                         u\"\\U0001F600-\\U0001F64F\"  # emoticons\n",
    "                                        u\"\\U0001F300-\\U0001F5FF\"  # symbols & pictographs\n",
    "                                        u\"\\U0001F680-\\U0001F6FF\"  # transport & map symbols\n",
    "                                        u\"\\U0001F1E0-\\U0001F1FF\"  # flags (iOS)\n",
    "                                        u\"\\U00002500-\\U00002BEF\"  # chinese char\n",
    "                                        u\"\\U00002702-\\U000027B0\"\n",
    "                                        u\"\\U00002702-\\U000027B0\"\n",
    "                                        u\"\\U000024C2-\\U0001F251\"\n",
    "                                        u\"\\U0001f926-\\U0001f937\"\n",
    "                                        u\"\\U00010000-\\U0010ffff\"\n",
    "                                        u\"\\u2640-\\u2642\" \n",
    "                                        u\"\\u2600-\\u2B55\"\n",
    "                                        u\"\\u200d\"\n",
    "                                        u\"\\u23cf\"\n",
    "                                        u\"\\u23e9\"\n",
    "                                        u\"\\u231a\"\n",
    "                                        u\"\\ufe0f\"  # dingbats\n",
    "                                        u\"\\u3030\"\n",
    "                                               \"]+\", flags=re.UNICODE)\n",
    "                tts_text = emoji_pattern.sub(r'', tts_text)\n",
    "                tts_text = tts_text.strip()\n",
    "                tts_text = tts_text.replace(\"“\",\"\").replace(\"”\",\"\").replace(\"―\",\"\")\n",
    "                tts_text = tts_text.replace(\"☠️\",\"\")\n",
    "                tts_text = tts_text.replace(\"[\",\"\")\n",
    "                tts_text = tts_text.replace(\"]\",\"\")\n",
    "                tts_text = tts_text.replace(\"/\",\"\")\n",
    "                tts_text = tts_text.replace(\"%\",\" percent \")\n",
    "\n",
    "            # save audio tts\n",
    "            wav_file = text_file.replace(\"txt\",\"wav\")    \n",
    "            output_dir = f\"{completed_dir}/{post}/{thread}\"\n",
    "            os.makedirs(output_dir, exist_ok=True)\n",
    "            output_path = f\"{output_dir}/{wav_file}\"\n",
    "            exec_tts(tts_text,output_path)\n",
    "\n",
    "            # archive text file incase reprocessing needed\n",
    "            archive_dir = f\"{archive_text_dir}/{post}/{thread}\"\n",
    "            os.makedirs(archive_dir, exist_ok=True)\n",
    "            archive_path = f\"{archive_dir}/{text_file}\"\n",
    "            with open(archive_path,\"w\",encoding=\"utf8\") as f:\n",
    "                f.write(tts_text)\n",
    "\n",
    "            # remove processed text file (prevent uneeded reprocessing)\n",
    "            os.remove(text_path)\n",
    "            \n",
    "        i+=1\n",
    "        if i >= cmt_threshold:\n",
    "            break\n",
    "end_time = time.time()\n",
    "#print(f\"Done Processing took: {(end_time-start_time)/60} mins\")"
   ]
  },
  {
   "cell_type": "code",
   "execution_count": 17,
   "id": "f4748bd3-7456-40f5-8d56-149fdd1a1d4c",
   "metadata": {},
   "outputs": [
    {
     "name": "stdout",
     "output_type": "stream",
     "text": [
      "Done Processing took: 45.23986907402674 mins\n"
     ]
    }
   ],
   "source": [
    "print(f\"Done Processing took: {(end_time-start_time)/60} mins\")"
   ]
  },
  {
   "cell_type": "code",
   "execution_count": null,
   "id": "dcc78ef4-804f-4907-8f68-73a6706b7800",
   "metadata": {},
   "outputs": [],
   "source": [
    "tts_text.replace(\"%\",\" percent \").replace(\"$\",\"\").replace(\":\",\"\").replace(\"'\",\"\").replace(\"-\",\"\")"
   ]
  },
  {
   "cell_type": "code",
   "execution_count": null,
   "id": "e0efe0a5-3ecb-48b0-adff-0d311b8e6296",
   "metadata": {},
   "outputs": [],
   "source": [
    "import inspect\n",
    "help(tts.tts_with_preset)"
   ]
  },
  {
   "cell_type": "code",
   "execution_count": null,
   "id": "18686a1a-455f-47f4-bdfb-349a6312c652",
   "metadata": {},
   "outputs": [],
   "source": [
    "import os\n",
    "queue_dir = \"N:/data/reddit-yt-tts/queued\"\n",
    "post = \"whats_a_story_where_the_bad_guys_are_actually\"\n",
    "thread_dir = os.listdir(f\"{queue_dir}/{post}\")"
   ]
  },
  {
   "cell_type": "code",
   "execution_count": null,
   "id": "2ec63f39-fe3b-45f9-8042-18f335e1ab9f",
   "metadata": {},
   "outputs": [],
   "source": [
    "thread_dir"
   ]
  },
  {
   "cell_type": "code",
   "execution_count": null,
   "id": "54ba4d04-927b-46d4-8f85-b050523e5fd9",
   "metadata": {},
   "outputs": [],
   "source": []
  }
 ],
 "metadata": {
  "kernelspec": {
   "display_name": "Python 3 (ipykernel)",
   "language": "python",
   "name": "python3"
  },
  "language_info": {
   "codemirror_mode": {
    "name": "ipython",
    "version": 3
   },
   "file_extension": ".py",
   "mimetype": "text/x-python",
   "name": "python",
   "nbconvert_exporter": "python",
   "pygments_lexer": "ipython3",
   "version": "3.8.10"
  }
 },
 "nbformat": 4,
 "nbformat_minor": 5
}
