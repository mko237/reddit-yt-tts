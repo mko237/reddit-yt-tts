{
 "cells": [
  {
   "cell_type": "code",
   "execution_count": 6,
   "id": "30093cfd-b94b-444a-a091-99bea3114817",
   "metadata": {},
   "outputs": [
    {
     "name": "stdout",
     "output_type": "stream",
     "text": [
      "\u001b[32m\u001b[1mInstalling oauth2client...\u001b[0m\n",
      "\u001b[K\u001b[1mAdding\u001b[0m \u001b[32m\u001b[1moauth2client\u001b[0m \u001b[1mto Pipfile's\u001b[0m \u001b[33m\u001b[1m[packages]\u001b[0m\u001b[1m...\u001b[0m\n",
      "\u001b[K\u001b[?25h✔ Installation Succeeded\u001b[0m \n",
      "\u001b[33m\u001b[1mPipfile.lock (5ea6a3) out of date, updating to (cda3a9)...\u001b[0m\n",
      "Locking\u001b[0m \u001b[33m[dev-packages]\u001b[0m dependencies...\u001b[0m\n",
      "Locking\u001b[0m \u001b[33m[packages]\u001b[0m dependencies...\u001b[0m\n",
      "\u001b[KBuilding requirements...\n",
      "\u001b[KResolving dependencies...\n",
      "\u001b[K\u001b[?25h\u001b[32m\u001b[22m✔ Success!\u001b[39m\u001b[22m\u001b[0m \n",
      "\u001b[1mUpdated Pipfile.lock (cda3a9)!\u001b[0m\n",
      "\u001b[1mInstalling dependencies from Pipfile.lock (cda3a9)...\u001b[0m\n",
      "  🐍   \u001b[1m▉\u001b[0m\u001b[1m▉\u001b[0m\u001b[1m▉\u001b[0m\u001b[1m▉\u001b[0m\u001b[1m▉\u001b[0m\u001b[1m▉\u001b[0m\u001b[1m▉\u001b[0m\u001b[1m▉\u001b[0m\u001b[1m▉\u001b[0m\u001b[1m▉\u001b[0m\u001b[1m▉\u001b[0m\u001b[1m▉\u001b[0m\u001b[1m▉\u001b[0m\u001b[1m▉\u001b[0m\u001b[1m▉\u001b[0m\u001b[1m▉\u001b[0m\u001b[1m▉\u001b[0m\u001b[1m▉\u001b[0m\u001b[1m▉\u001b[0m\u001b[1m▉\u001b[0m\u001b[1m▉\u001b[0m\u001b[1m▉\u001b[0m\u001b[1m▉\u001b[0m\u001b[1m▉\u001b[0m\u001b[1m▉\u001b[0m\u001b[1m▉\u001b[0m\u001b[1m▉\u001b[0m\u001b[1m▉\u001b[0m\u001b[1m▉\u001b[0m\u001b[1m▉\u001b[0m\u001b[1m▉\u001b[0m\u001b[1m▉\u001b[0m 0/0 — \u001b[30m00:00:00\u001b[0m\n",
      "\u001b[0m"
     ]
    }
   ],
   "source": [
    "!pipenv install oauth2client"
   ]
  },
  {
   "cell_type": "code",
   "execution_count": null,
   "id": "f23e601c-62d4-4672-b1b6-1aa0d68939fd",
   "metadata": {},
   "outputs": [],
   "source": [
    "#from https://www.youtube.com/watch?v=5_4vvSSFoY8 & https://github.com/sidpalas/devops-directive-hello-world/blob/master/upload_video.py"
   ]
  },
  {
   "cell_type": "code",
   "execution_count": 6,
   "id": "65b82582-2a8b-434b-8303-f85b61a9876b",
   "metadata": {},
   "outputs": [],
   "source": [
    "from upload_youtube import get_authenticated_service, initialize_upload\n",
    "from apiclient.errors import HttpError"
   ]
  },
  {
   "cell_type": "code",
   "execution_count": 3,
   "id": "a18c5880-3233-4383-a8b6-04ddc069fc23",
   "metadata": {},
   "outputs": [],
   "source": [
    "# argparser.add_argument(\"--file\", required=True, help=\"Video file to upload\")\n",
    "# argparser.add_argument(\"--title\", help=\"Video title\", default=\"Test Title\")\n",
    "# argparser.add_argument(\"--description\", help=\"Video description\",\n",
    "# default=\"Test Description\")\n",
    "# argparser.add_argument(\"--category\", default=\"22\",\n",
    "# help=\"Numeric video category. \" +\n",
    "#   \"See https://developers.google.com/youtube/v3/docs/videoCategories/list\")\n",
    "# argparser.add_argument(\"--keywords\", help=\"Video keywords, comma separated\",\n",
    "# default=\"\")\n",
    "# argparser.add_argument(\"--privacyStatus\", choices=VALID_PRIVACY_STATUSES,\n",
    "# default=VALID_PRIVACY_STATUSES[0], help=\"Video privacy status.\")\n",
    "# args = argparser.parse_args()\n"
   ]
  },
  {
   "cell_type": "code",
   "execution_count": null,
   "id": "005d6e93-0ad7-4ab5-8f93-9692f602189f",
   "metadata": {},
   "outputs": [],
   "source": [
    "# for first time setup need to create a client_secrets.json file and populate with client_id and seceret from googld console:\n",
    "#https://developers.google.com/youtube/v3/guides/uploading_a_video"
   ]
  },
  {
   "cell_type": "code",
   "execution_count": 2,
   "id": "06df355f-eb07-4a05-820b-ad9a84207891",
   "metadata": {},
   "outputs": [],
   "source": [
    "from oauth2client.tools import argparser"
   ]
  },
  {
   "cell_type": "code",
   "execution_count": 17,
   "id": "edb9eb40-7d95-4775-8e63-fc23b24cbb8b",
   "metadata": {},
   "outputs": [
    {
     "name": "stdout",
     "output_type": "stream",
     "text": [
      "details:\n",
      "    video_file: assets/final_videos/what_is_the_stupidest_thing_a_large_amount_of.mp4\n",
      "    thumbnail_file: assets/final_video_thumbnails/what_is_the_stupidest_thing_a_large_amount_of.png\n",
      "    title: What is the stupidest thing a large amount of people believe in? (r/AskReddit)\n",
      "\n",
      "description:\n",
      "======================== \n",
      "\n",
      "ChillVibeThreads Like & Subscribe!\n",
      "\n",
      "\n",
      "Stories from reddit. This time we're listening to: \n",
      "\n",
      "   \"What is the stupidest thing a large amount of people believe in? (r/AskReddit)\"\n",
      "\n",
      "link to reddit: https://www.reddit.com/r/AskReddit/comments/y5wxnn/what_is_the_stupidest_thing_a_large_amount_of/\n",
      "\n",
      "\n",
      "Music Credits:\n",
      "\n",
      "    - Various Artists - Best of lofi hip hop 2021 ✨ - beats to relax/study to \n",
      "    - Provided by Lofi Girl\n",
      "    - Watch: https://www.youtube.com/watch?v=n61ULEU7CO0&list=PL6NdkXsPL07KN01gH2vucrHCEyyNmVEx4\n",
      "    - Listen: https://fanlink.to/BestofLofi2021\n",
      "    \n",
      "\n",
      "========================\n",
      " \n",
      " \n"
     ]
    }
   ],
   "source": [
    "post_url = \"https://www.reddit.com/r/AskReddit/comments/y5wxnn/what_is_the_stupidest_thing_a_large_amount_of/\"\n",
    "video_title = \"What is the stupidest thing a large amount of people believe in? (r/AskReddit)\"\n",
    "submission_title = \"what_is_the_stupidest_thing_a_large_amount_of\"\n",
    "\n",
    "with open(f\"assets/final_video_credits/{submission_title}.txt\",\"r\") as f:\n",
    "    audio_credits = f.read()\n",
    "description = f\"\"\"\n",
    "ChillVibeThreads Like & Subscribe!\n",
    "\n",
    "\n",
    "Stories from reddit. This time we're listening to: \n",
    "\n",
    "   \"{video_title}\"\n",
    "\n",
    "link to reddit: {post_url}\n",
    "\n",
    "\n",
    "Music Credits:\n",
    "{audio_credits}\n",
    "\"\"\"\n",
    "\n",
    "video_file = \"assets/final_videos/what_is_the_stupidest_thing_a_large_amount_of.mp4\"\n",
    "thumbnail_file = \"assets/final_video_thumbnails/what_is_the_stupidest_thing_a_large_amount_of.png\"\n",
    "\n",
    "print(f\"\"\"details:\n",
    "    video_file: {video_file}\n",
    "    thumbnail_file: {thumbnail_file}\n",
    "    title: {video_title}\n",
    "\n",
    "description:\n",
    "======================== \n",
    "{description}\n",
    "========================\n",
    " \n",
    " \"\"\")"
   ]
  },
  {
   "cell_type": "code",
   "execution_count": 8,
   "id": "768a9013-3098-423e-9e4e-762ef853d798",
   "metadata": {},
   "outputs": [],
   "source": [
    "#VALID_PRIVACY_STATUSES = (\"public\", \"private\", \"unlisted\")\n",
    "VALID_PRIVACY_STATUSES = [\"private\"] \n",
    "args=argparser.parse_args(args=[])\n",
    "args.file=video_fi\n",
    "args.title=video_title\n",
    "args.description=description\n",
    "args.category=22\n",
    "args.keywords=\"listenable,chill\"\n",
    "args.privacyStatus=VALID_PRIVACY_STATUSES[0]\n",
    "args.ogging_level=\"info\""
   ]
  },
  {
   "cell_type": "code",
   "execution_count": 13,
   "id": "0b70b9c9-fdac-45b1-80e5-b31742720490",
   "metadata": {},
   "outputs": [],
   "source": [
    "yt_client = get_authenticated_service(args)"
   ]
  },
  {
   "cell_type": "code",
   "execution_count": 14,
   "id": "c532c8e7-53de-48da-9afc-a102b033102b",
   "metadata": {},
   "outputs": [
    {
     "name": "stdout",
     "output_type": "stream",
     "text": [
      "Uploading file...\n",
      "Video id 'l85KxHlG9wk' was successfully uploaded.\n"
     ]
    }
   ],
   "source": [
    "try:\n",
    "    initialize_upload(yt_client, args)\n",
    "except HttpError as e:\n",
    "    print(\"An HTTP error %d occurred:\\n%s\" % (e.resp.status, e.content))"
   ]
  },
  {
   "cell_type": "code",
   "execution_count": null,
   "id": "5eb283d6-960c-4bf8-b847-921128b63bb0",
   "metadata": {},
   "outputs": [],
   "source": []
  }
 ],
 "metadata": {
  "kernelspec": {
   "display_name": "Python 3 (ipykernel)",
   "language": "python",
   "name": "python3"
  },
  "language_info": {
   "codemirror_mode": {
    "name": "ipython",
    "version": 3
   },
   "file_extension": ".py",
   "mimetype": "text/x-python",
   "name": "python",
   "nbconvert_exporter": "python",
   "pygments_lexer": "ipython3",
   "version": "3.8.10"
  }
 },
 "nbformat": 4,
 "nbformat_minor": 5
}
